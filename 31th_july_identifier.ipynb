{
 "cells": [
  {
   "cell_type": "markdown",
   "id": "1badf56e-d8ee-42c6-ba97-c62e0449b702",
   "metadata": {},
   "source": [
    "## identifier"
   ]
  },
  {
   "cell_type": "code",
   "execution_count": 1,
   "id": "47204f94-92fc-49fe-831e-5a258de36527",
   "metadata": {},
   "outputs": [],
   "source": [
    "import sys\n",
    "import keyword\n",
    "import operator\n",
    "from datetime import datetime\n",
    "import os"
   ]
  },
  {
   "cell_type": "code",
   "execution_count": 2,
   "id": "2006b5dd-3c1b-415e-999c-d689d7f74f19",
   "metadata": {},
   "outputs": [
    {
     "name": "stdout",
     "output_type": "stream",
     "text": [
      "['False', 'None', 'True', 'and', 'as', 'assert', 'async', 'await', 'break', 'class', 'continue', 'def', 'del', 'elif', 'else', 'except', 'finally', 'for', 'from', 'global', 'if', 'import', 'in', 'is', 'lambda', 'nonlocal', 'not', 'or', 'pass', 'raise', 'return', 'try', 'while', 'with', 'yield']\n"
     ]
    }
   ],
   "source": [
    "print(keyword.kwlist)"
   ]
  },
  {
   "cell_type": "code",
   "execution_count": 3,
   "id": "35a5370e-256b-4050-94dd-229b616a116e",
   "metadata": {},
   "outputs": [
    {
     "data": {
      "text/plain": [
       "35"
      ]
     },
     "execution_count": 3,
     "metadata": {},
     "output_type": "execute_result"
    }
   ],
   "source": [
    "len(keyword.kwlist)"
   ]
  },
  {
   "cell_type": "code",
   "execution_count": 4,
   "id": "35f41417-9a6c-49f0-ad74-6874e729f5cb",
   "metadata": {},
   "outputs": [
    {
     "ename": "SyntaxError",
     "evalue": "invalid decimal literal (3279367346.py, line 1)",
     "output_type": "error",
     "traceback": [
      "\u001b[1;36m  Cell \u001b[1;32mIn[4], line 1\u001b[1;36m\u001b[0m\n\u001b[1;33m    1vr=10\u001b[0m\n\u001b[1;37m    ^\u001b[0m\n\u001b[1;31mSyntaxError\u001b[0m\u001b[1;31m:\u001b[0m invalid decimal literal\n"
     ]
    }
   ],
   "source": [
    "1vr=10\n"
   ]
  },
  {
   "cell_type": "code",
   "execution_count": 5,
   "id": "66ce3bfd-5b6f-4dfa-9038-16caf0c9571e",
   "metadata": {},
   "outputs": [
    {
     "ename": "NameError",
     "evalue": "name 'val2' is not defined",
     "output_type": "error",
     "traceback": [
      "\u001b[1;31m---------------------------------------------------------------------------\u001b[0m",
      "\u001b[1;31mNameError\u001b[0m                                 Traceback (most recent call last)",
      "Cell \u001b[1;32mIn[5], line 1\u001b[0m\n\u001b[1;32m----> 1\u001b[0m val2\u001b[38;5;241m@\u001b[39m\u001b[38;5;241m=\u001b[39m\u001b[38;5;241m90\u001b[39m\n",
      "\u001b[1;31mNameError\u001b[0m: name 'val2' is not defined"
     ]
    }
   ],
   "source": [
    "val2@=90"
   ]
  },
  {
   "cell_type": "code",
   "execution_count": null,
   "id": "10fc7e45-730c-40bd-8b3f-04a4301a1c0b",
   "metadata": {},
   "outputs": [],
   "source": [
    "import=124# Keywords can't be used as identifiers"
   ]
  },
  {
   "cell_type": "code",
   "execution_count": 6,
   "id": "e228e286-5f64-4363-afcd-bdd46dd22d94",
   "metadata": {},
   "outputs": [],
   "source": [
    "\"\"\"\n",
    "Correct way of defining an identifier\n",
    "(Identifiers can be a combination of letters in lowercase (a to z) or uppercase\n",
    "\"\"\"\n",
    "val2 = 10"
   ]
  },
  {
   "cell_type": "code",
   "execution_count": 7,
   "id": "22b90ec5-ab47-4383-9edc-d37784bfc268",
   "metadata": {},
   "outputs": [],
   "source": [
    "val_ = 99"
   ]
  },
  {
   "cell_type": "markdown",
   "id": "7714281f-c44b-48f8-9c39-ee99d92049a2",
   "metadata": {},
   "source": [
    "# Comments in Python"
   ]
  },
  {
   "cell_type": "code",
   "execution_count": 8,
   "id": "6a0b80af-9a1b-414d-bcf7-cb79aed00735",
   "metadata": {},
   "outputs": [],
   "source": [
    "var =10"
   ]
  },
  {
   "cell_type": "code",
   "execution_count": null,
   "id": "5016cd7b-41e4-4b44-a610-21c71e948ce3",
   "metadata": {},
   "outputs": [],
   "source": []
  },
  {
   "cell_type": "code",
   "execution_count": null,
   "id": "4baf8111-2dd0-49b5-98f6-bff543004aa9",
   "metadata": {},
   "outputs": [],
   "source": [
    "# Multiple\n",
    "# line\n",
    "# comment\n",
    "val1 = 10\n"
   ]
  },
  {
   "cell_type": "code",
   "execution_count": 9,
   "id": "370e99ab-9b3b-4e0c-a013-d9e12daf11d4",
   "metadata": {},
   "outputs": [],
   "source": [
    "'''\n",
    "Multiple\n",
    "line\n",
    "comment\n",
    "'''\n",
    "val1 = 10\n"
   ]
  },
  {
   "cell_type": "markdown",
   "id": "2391f26d-c864-4820-82c0-d2dd755eb2fe",
   "metadata": {},
   "source": [
    "# Statements\n",
    "###### Instructions that a Python interpreter can execute.\n"
   ]
  },
  {
   "cell_type": "code",
   "execution_count": 15,
   "id": "b626f94b-ab1d-4361-b165-2432a1b2e7b2",
   "metadata": {},
   "outputs": [
    {
     "data": {
      "text/plain": [
       "(67, int, '0x7ffbf7bbbbe8')"
      ]
     },
     "execution_count": 15,
     "metadata": {},
     "output_type": "execute_result"
    }
   ],
   "source": [
    "a =67 # creates an integer object with value 20 and assigns the variable p to p\n",
    "q = 67 # Create new reference q which will point to value 20. p & q will be poi\n",
    "r = q # variable r will also point to the same location where p & q are pointin\n",
    "a , type(a), hex(id(a)) # Variable a is pointing to memory location '0x7ffbf7bbbbe8'\n"
   ]
  },
  {
   "cell_type": "code",
   "execution_count": 16,
   "id": "2907ab07-0268-4320-a6b7-5e32302f03fe",
   "metadata": {},
   "outputs": [
    {
     "data": {
      "text/plain": [
       "(int, '0x7ffbf7bbbbe8')"
      ]
     },
     "execution_count": 16,
     "metadata": {},
     "output_type": "execute_result"
    }
   ],
   "source": [
    "type(q), hex(id(q))"
   ]
  },
  {
   "cell_type": "code",
   "execution_count": 17,
   "id": "0b7e304a-80e7-4ae3-9c06-71a02b5ecee7",
   "metadata": {},
   "outputs": [
    {
     "data": {
      "text/plain": [
       "(67, int, '0x7ffbf7bbbbe8')"
      ]
     },
     "execution_count": 17,
     "metadata": {},
     "output_type": "execute_result"
    }
   ],
   "source": [
    "r , type(r), hex(id(r))\n"
   ]
  },
  {
   "cell_type": "code",
   "execution_count": 18,
   "id": "dd5de7a3-6134-426f-bba9-817853884ac1",
   "metadata": {},
   "outputs": [
    {
     "data": {
      "text/plain": [
       "112"
      ]
     },
     "execution_count": 18,
     "metadata": {},
     "output_type": "execute_result"
    }
   ],
   "source": [
    "x=45\n",
    "x=x+67\n",
    "x # value overwriting"
   ]
  },
  {
   "cell_type": "markdown",
   "id": "9b04c84e-bf06-4da0-bfe8-e6bd99235e67",
   "metadata": {},
   "source": [
    "### variable assignment"
   ]
  },
  {
   "cell_type": "code",
   "execution_count": 19,
   "id": "e0a72b3e-ba66-4622-a620-53c686f57224",
   "metadata": {},
   "outputs": [
    {
     "name": "stdout",
     "output_type": "stream",
     "text": [
      "20\n",
      "3.4\n",
      "suprvat das\n"
     ]
    }
   ],
   "source": [
    "intv=20\n",
    "floatv=3.4\n",
    "strv='suprvat das'\n",
    "print(intv)\n",
    "print(floatv)\n",
    "print(strv)"
   ]
  },
  {
   "cell_type": "markdown",
   "id": "6439c9e9-6f3e-40a7-8baa-ee121bd56824",
   "metadata": {},
   "source": [
    "### multiple assignment"
   ]
  },
  {
   "cell_type": "code",
   "execution_count": 21,
   "id": "ff4b9f57-007d-4310-b762-34a06194ddfc",
   "metadata": {},
   "outputs": [
    {
     "name": "stdout",
     "output_type": "stream",
     "text": [
      "12\n",
      "3.5\n",
      "hello naresh it\n"
     ]
    }
   ],
   "source": [
    "int1 , float1 , str1 = 12,3.5,\"hello naresh it\" \n",
    "print(int1)\n",
    "print(float1)\n",
    "print(str1)"
   ]
  },
  {
   "cell_type": "code",
   "execution_count": 22,
   "id": "0f324d39-9645-4a06-9ce2-44d8f5e3eed5",
   "metadata": {},
   "outputs": [
    {
     "name": "stdout",
     "output_type": "stream",
     "text": [
      "4 4 4 4\n"
     ]
    }
   ],
   "source": [
    "p1 = p2 = p3 = p4 = 4\n",
    "print(p1,p2,p3,p4)\n"
   ]
  },
  {
   "cell_type": "markdown",
   "id": "055e38d9-4f16-4fea-8387-7c6b234dd145",
   "metadata": {},
   "source": [
    "### datatypes\n",
    "#### numeric"
   ]
  },
  {
   "cell_type": "code",
   "execution_count": 23,
   "id": "aca64d7b-fdda-4574-8228-2d74e9b1870a",
   "metadata": {},
   "outputs": [
    {
     "name": "stdout",
     "output_type": "stream",
     "text": [
      "10\n",
      "<class 'int'>\n",
      "28\n",
      "10  is Integer? True\n"
     ]
    }
   ],
   "source": [
    "val1 = 10 \n",
    "print(val1)\n",
    "print(type(val1)) \n",
    "print(sys.getsizeof(val1)) \n",
    "print(val1, \" is Integer?\", isinstance(val1, int)) "
   ]
  },
  {
   "cell_type": "code",
   "execution_count": 24,
   "id": "0d9a7bd9-49c6-4dc0-9f7f-6e1a5bd85010",
   "metadata": {},
   "outputs": [
    {
     "name": "stdout",
     "output_type": "stream",
     "text": [
      "92.78\n",
      "<class 'float'>\n",
      "24\n",
      "92.78  is float? True\n"
     ]
    }
   ],
   "source": [
    "val2 = 92.78 \n",
    "print(val2)\n",
    "print(type(val2)) \n",
    "print(sys.getsizeof(val2)) # size of float object in bytes\n",
    "print(val2, \" is float?\", isinstance(val2, float)) "
   ]
  },
  {
   "cell_type": "code",
   "execution_count": 25,
   "id": "d3ca2407-b7a0-4a92-8efc-109ea226f412",
   "metadata": {},
   "outputs": [
    {
     "name": "stdout",
     "output_type": "stream",
     "text": [
      "(25+10j)\n",
      "<class 'complex'>\n",
      "32\n",
      "(25+10j)  is complex? True\n"
     ]
    }
   ],
   "source": [
    "val3 = 25 + 10j \n",
    "print(val3)\n",
    "print(type(val3)) \n",
    "print(sys.getsizeof(val3)) # size of float object in bytes\n",
    "print(val3, \" is complex?\", isinstance(val3, complex)) "
   ]
  },
  {
   "cell_type": "code",
   "execution_count": 26,
   "id": "accdcef1-4e82-4199-ab39-1f061311c3a2",
   "metadata": {},
   "outputs": [
    {
     "data": {
      "text/plain": [
       "28"
      ]
     },
     "execution_count": 26,
     "metadata": {},
     "output_type": "execute_result"
    }
   ],
   "source": [
    "sys.getsizeof(int())"
   ]
  },
  {
   "cell_type": "code",
   "execution_count": 27,
   "id": "c0e455a4-9d30-41b6-b16d-83a741f7d853",
   "metadata": {},
   "outputs": [
    {
     "data": {
      "text/plain": [
       "24"
      ]
     },
     "execution_count": 27,
     "metadata": {},
     "output_type": "execute_result"
    }
   ],
   "source": [
    "sys.getsizeof(float()) "
   ]
  },
  {
   "cell_type": "code",
   "execution_count": 28,
   "id": "1b5c054d-d5ef-4ba2-8ea4-29d5f316a572",
   "metadata": {},
   "outputs": [
    {
     "data": {
      "text/plain": [
       "32"
      ]
     },
     "execution_count": 28,
     "metadata": {},
     "output_type": "execute_result"
    }
   ],
   "source": [
    "sys.getsizeof(complex()) "
   ]
  },
  {
   "cell_type": "markdown",
   "id": "39afe4c3-0e0e-4a2e-be89-2bfdac403f1c",
   "metadata": {},
   "source": [
    "## BOOLEAN"
   ]
  },
  {
   "cell_type": "code",
   "execution_count": 29,
   "id": "82266096-21af-43cf-bd93-f1ff3bf7abc3",
   "metadata": {},
   "outputs": [],
   "source": [
    "bool1=True"
   ]
  },
  {
   "cell_type": "code",
   "execution_count": 30,
   "id": "a893127b-fa82-4447-bc7e-6f959ec04233",
   "metadata": {},
   "outputs": [],
   "source": [
    "bool2=False"
   ]
  },
  {
   "cell_type": "code",
   "execution_count": 34,
   "id": "8ececbfe-44c5-4eda-8aff-06cd75c3c812",
   "metadata": {},
   "outputs": [
    {
     "name": "stdout",
     "output_type": "stream",
     "text": [
      "datatype of bool1 <class 'bool'> and data type of bool2 <class 'bool'>\n"
     ]
    }
   ],
   "source": [
    "print(f'datatype of bool1 {type(bool1)}',end=' ')\n",
    "print(f'and data type of bool2 {type(bool2)}')\n",
    "\n"
   ]
  },
  {
   "cell_type": "code",
   "execution_count": 35,
   "id": "c513ef4d-1e84-42f0-b5fd-3e9029d9d2e2",
   "metadata": {},
   "outputs": [
    {
     "data": {
      "text/plain": [
       "True"
      ]
     },
     "execution_count": 35,
     "metadata": {},
     "output_type": "execute_result"
    }
   ],
   "source": [
    "isinstance(bool1, bool)\n"
   ]
  },
  {
   "cell_type": "code",
   "execution_count": 36,
   "id": "b8aa8541-362f-48d3-80d3-b86546618328",
   "metadata": {},
   "outputs": [
    {
     "data": {
      "text/plain": [
       "False"
      ]
     },
     "execution_count": 36,
     "metadata": {},
     "output_type": "execute_result"
    }
   ],
   "source": [
    "bool(0)"
   ]
  },
  {
   "cell_type": "code",
   "execution_count": 37,
   "id": "1c7b3f88-228d-4e3d-9a6b-2a920cd79e17",
   "metadata": {},
   "outputs": [
    {
     "data": {
      "text/plain": [
       "True"
      ]
     },
     "execution_count": 37,
     "metadata": {},
     "output_type": "execute_result"
    }
   ],
   "source": [
    "bool(1)"
   ]
  },
  {
   "cell_type": "code",
   "execution_count": 38,
   "id": "2a6f4afb-1db4-4146-9263-bb73f8dbd8c4",
   "metadata": {},
   "outputs": [
    {
     "data": {
      "text/plain": [
       "False"
      ]
     },
     "execution_count": 38,
     "metadata": {},
     "output_type": "execute_result"
    }
   ],
   "source": [
    "bool(None)"
   ]
  },
  {
   "cell_type": "code",
   "execution_count": 39,
   "id": "2d0efa2e-03b9-4a41-8ed5-d5505a96f6c5",
   "metadata": {},
   "outputs": [
    {
     "data": {
      "text/plain": [
       "False"
      ]
     },
     "execution_count": 39,
     "metadata": {},
     "output_type": "execute_result"
    }
   ],
   "source": [
    "bool (False)"
   ]
  },
  {
   "cell_type": "markdown",
   "id": "a3a125b1-2f11-469f-ac98-2ecb85275304",
   "metadata": {},
   "source": [
    "### string creation"
   ]
  },
  {
   "cell_type": "code",
   "execution_count": 40,
   "id": "1d0d8704-df3a-44a7-8a8a-0fd3d8f44976",
   "metadata": {},
   "outputs": [
    {
     "name": "stdout",
     "output_type": "stream",
     "text": [
      "hello\n"
     ]
    }
   ],
   "source": [
    "sup='hello'\n",
    "print(sup)"
   ]
  },
  {
   "cell_type": "code",
   "execution_count": 43,
   "id": "4ff0e4d6-1571-4b2c-9dde-15f18fbd7e6c",
   "metadata": {},
   "outputs": [
    {
     "name": "stdout",
     "output_type": "stream",
     "text": [
      "Hello\n",
      "                world \n"
     ]
    }
   ],
   "source": [
    "sup2='''Hello\n",
    "                world ''' \n",
    "print(sup2)"
   ]
  },
  {
   "cell_type": "code",
   "execution_count": 44,
   "id": "fa146c7b-6bc7-4839-af12-068582809c21",
   "metadata": {},
   "outputs": [
    {
     "name": "stdout",
     "output_type": "stream",
     "text": [
      "Happy Monday Everyone\n"
     ]
    }
   ],
   "source": [
    "ano=('Happy '\n",
    "     'Monday '\n",
    "     'Everyone')\n",
    "print(ano)"
   ]
  },
  {
   "cell_type": "code",
   "execution_count": 46,
   "id": "64c59ef5-df22-4a33-96fe-70878482f953",
   "metadata": {},
   "outputs": [
    {
     "name": "stdout",
     "output_type": "stream",
     "text": [
      "woohwooh\n"
     ]
    }
   ],
   "source": [
    "ano2=\"wooh\"\n",
    "print(ano2*2)"
   ]
  },
  {
   "cell_type": "code",
   "execution_count": 52,
   "id": "83961334-fe86-48ce-9c57-9398cb8c7afd",
   "metadata": {},
   "outputs": [
    {
     "name": "stdout",
     "output_type": "stream",
     "text": [
      "woohwoohwooh\n"
     ]
    }
   ],
   "source": [
    "ano2=\"wooh\"\n",
    "ano3=ano2*3\n",
    "print(ano2*3)"
   ]
  },
  {
   "cell_type": "code",
   "execution_count": 53,
   "id": "7a52f71c-b695-45c0-b4f6-368706321026",
   "metadata": {},
   "outputs": [
    {
     "name": "stdout",
     "output_type": "stream",
     "text": [
      "4\n",
      "12\n"
     ]
    }
   ],
   "source": [
    "print(len(ano2))\n",
    "print(len(ano3))"
   ]
  },
  {
   "cell_type": "markdown",
   "id": "50fe073a-9c75-450d-ae0b-cbb621038473",
   "metadata": {},
   "source": [
    "## String Indexing\n"
   ]
  },
  {
   "cell_type": "code",
   "execution_count": 76,
   "id": "39e2c766-a9dd-4f96-8488-90a5112e4176",
   "metadata": {},
   "outputs": [],
   "source": [
    "sup='hello'"
   ]
  },
  {
   "cell_type": "code",
   "execution_count": 77,
   "id": "32dc66c2-10dc-42e0-a663-318c7cb4dd60",
   "metadata": {},
   "outputs": [
    {
     "data": {
      "text/plain": [
       "'h'"
      ]
     },
     "execution_count": 77,
     "metadata": {},
     "output_type": "execute_result"
    }
   ],
   "source": [
    "sup[0]"
   ]
  },
  {
   "cell_type": "code",
   "execution_count": 78,
   "id": "9eca2825-ee19-4263-958f-e196e6192bc3",
   "metadata": {},
   "outputs": [
    {
     "data": {
      "text/plain": [
       "'e'"
      ]
     },
     "execution_count": 78,
     "metadata": {},
     "output_type": "execute_result"
    }
   ],
   "source": [
    "sup[1]"
   ]
  },
  {
   "cell_type": "code",
   "execution_count": 79,
   "id": "9880e88d-07f8-4e92-9387-ef7e0dcea02d",
   "metadata": {},
   "outputs": [
    {
     "data": {
      "text/plain": [
       "'l'"
      ]
     },
     "execution_count": 79,
     "metadata": {},
     "output_type": "execute_result"
    }
   ],
   "source": [
    "sup[3]"
   ]
  },
  {
   "cell_type": "code",
   "execution_count": 80,
   "id": "5f8257df-f8d0-4237-9e3c-dada11efe3bf",
   "metadata": {},
   "outputs": [
    {
     "data": {
      "text/plain": [
       "'o'"
      ]
     },
     "execution_count": 80,
     "metadata": {},
     "output_type": "execute_result"
    }
   ],
   "source": [
    "sup[4]"
   ]
  },
  {
   "cell_type": "code",
   "execution_count": 81,
   "id": "63a025e8-bb80-41e5-877b-d7557f486e43",
   "metadata": {},
   "outputs": [
    {
     "data": {
      "text/plain": [
       "'o'"
      ]
     },
     "execution_count": 81,
     "metadata": {},
     "output_type": "execute_result"
    }
   ],
   "source": [
    "sup[-1]"
   ]
  },
  {
   "cell_type": "markdown",
   "id": "5ffeaf66-bdca-460d-aa96-572f5ea8d297",
   "metadata": {},
   "source": [
    "### strinng slicing"
   ]
  },
  {
   "cell_type": "code",
   "execution_count": 82,
   "id": "33969d0d-da8e-482a-9809-d7d702ff4414",
   "metadata": {},
   "outputs": [
    {
     "data": {
      "text/plain": [
       "'l'"
      ]
     },
     "execution_count": 82,
     "metadata": {},
     "output_type": "execute_result"
    }
   ],
   "source": [
    "sup[-2:-1]"
   ]
  },
  {
   "cell_type": "code",
   "execution_count": 83,
   "id": "85b8b8d5-0d7e-4c9f-b48f-d8e789cff101",
   "metadata": {},
   "outputs": [
    {
     "data": {
      "text/plain": [
       "'l'"
      ]
     },
     "execution_count": 83,
     "metadata": {},
     "output_type": "execute_result"
    }
   ],
   "source": [
    "sup[-3]"
   ]
  },
  {
   "cell_type": "code",
   "execution_count": 84,
   "id": "d5c30e1e-4079-4c05-92e6-fbc5c6cf7fa8",
   "metadata": {},
   "outputs": [
    {
     "data": {
      "text/plain": [
       "'ell'"
      ]
     },
     "execution_count": 84,
     "metadata": {},
     "output_type": "execute_result"
    }
   ],
   "source": [
    "sup[-4:-1]\n"
   ]
  },
  {
   "cell_type": "code",
   "execution_count": 85,
   "id": "ac923b24-78d6-454b-af8d-c63a245b215a",
   "metadata": {},
   "outputs": [
    {
     "data": {
      "text/plain": [
       "'hell'"
      ]
     },
     "execution_count": 85,
     "metadata": {},
     "output_type": "execute_result"
    }
   ],
   "source": [
    "sup[:-1]\n"
   ]
  },
  {
   "cell_type": "code",
   "execution_count": 86,
   "id": "14a64af2-f31b-48a9-9e8d-84ba19fdf003",
   "metadata": {},
   "outputs": [
    {
     "data": {
      "text/plain": [
       "'hello'"
      ]
     },
     "execution_count": 86,
     "metadata": {},
     "output_type": "execute_result"
    }
   ],
   "source": [
    "sup[0:]"
   ]
  },
  {
   "cell_type": "markdown",
   "id": "54f3c11c-b01d-43df-9ef6-054c5f59f8a8",
   "metadata": {},
   "source": [
    "### Update & Delete String"
   ]
  },
  {
   "cell_type": "code",
   "execution_count": 87,
   "id": "fae8c88d-d400-4ee0-b76e-b269b68a4e10",
   "metadata": {},
   "outputs": [
    {
     "data": {
      "text/plain": [
       "'hello'"
      ]
     },
     "execution_count": 87,
     "metadata": {},
     "output_type": "execute_result"
    }
   ],
   "source": [
    "sup\n"
   ]
  },
  {
   "cell_type": "code",
   "execution_count": 88,
   "id": "47206d6a-29f0-4140-a291-d64d1fab6c72",
   "metadata": {},
   "outputs": [
    {
     "ename": "TypeError",
     "evalue": "'str' object does not support item assignment",
     "output_type": "error",
     "traceback": [
      "\u001b[1;31m---------------------------------------------------------------------------\u001b[0m",
      "\u001b[1;31mTypeError\u001b[0m                                 Traceback (most recent call last)",
      "Cell \u001b[1;32mIn[88], line 1\u001b[0m\n\u001b[1;32m----> 1\u001b[0m sup[\u001b[38;5;241m0\u001b[39m:\u001b[38;5;241m4\u001b[39m]\u001b[38;5;241m=\u001b[39m\u001b[38;5;124m'\u001b[39m\u001b[38;5;124mhi\u001b[39m\u001b[38;5;124m'\u001b[39m\n",
      "\u001b[1;31mTypeError\u001b[0m: 'str' object does not support item assignment"
     ]
    }
   ],
   "source": [
    "sup[0:4]='hi'"
   ]
  },
  {
   "cell_type": "code",
   "execution_count": 89,
   "id": "68fbe430-19a6-4c06-be58-2334b1129a29",
   "metadata": {},
   "outputs": [
    {
     "ename": "NameError",
     "evalue": "name 'sup' is not defined",
     "output_type": "error",
     "traceback": [
      "\u001b[1;31m---------------------------------------------------------------------------\u001b[0m",
      "\u001b[1;31mNameError\u001b[0m                                 Traceback (most recent call last)",
      "Cell \u001b[1;32mIn[89], line 2\u001b[0m\n\u001b[0;32m      1\u001b[0m \u001b[38;5;28;01mdel\u001b[39;00m sup \u001b[38;5;66;03m# delete a string\u001b[39;00m\n\u001b[1;32m----> 2\u001b[0m \u001b[38;5;28mprint\u001b[39m(sup)\n",
      "\u001b[1;31mNameError\u001b[0m: name 'sup' is not defined"
     ]
    }
   ],
   "source": [
    "del sup # delete a string\n",
    "print(sup)"
   ]
  },
  {
   "cell_type": "markdown",
   "id": "d4aba0a9-5a96-4f0e-ac45-42061582b12d",
   "metadata": {},
   "source": [
    "### String concatenation\n"
   ]
  },
  {
   "cell_type": "code",
   "execution_count": 91,
   "id": "aa625d97-9745-4290-a7f9-eaa16a4c3b53",
   "metadata": {},
   "outputs": [
    {
     "name": "stdout",
     "output_type": "stream",
     "text": [
      "Supravat Das\n"
     ]
    }
   ],
   "source": [
    "first_name='Supravat'\n",
    "last_name=\" Das\"\n",
    "full_name=first_name+last_name\n",
    "print(full_name)"
   ]
  },
  {
   "cell_type": "code",
   "execution_count": null,
   "id": "ea0a6469-c7db-4226-ac01-83492075848c",
   "metadata": {},
   "outputs": [],
   "source": []
  }
 ],
 "metadata": {
  "kernelspec": {
   "display_name": "Python 3 (ipykernel)",
   "language": "python",
   "name": "python3"
  },
  "language_info": {
   "codemirror_mode": {
    "name": "ipython",
    "version": 3
   },
   "file_extension": ".py",
   "mimetype": "text/x-python",
   "name": "python",
   "nbconvert_exporter": "python",
   "pygments_lexer": "ipython3",
   "version": "3.13.5"
  }
 },
 "nbformat": 4,
 "nbformat_minor": 5
}
