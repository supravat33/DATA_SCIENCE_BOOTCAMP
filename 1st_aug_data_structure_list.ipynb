{
 "cells": [
  {
   "cell_type": "markdown",
   "id": "5e1444b1-0e65-4be9-8fba-721a29050958",
   "metadata": {},
   "source": [
    "# Python Data Structure "
   ]
  },
  {
   "cell_type": "markdown",
   "id": "1b904934-8165-4fa6-b249-e998ccb45f9b",
   "metadata": {},
   "source": [
    "##### in data structure user or developercan assign  more than one value"
   ]
  },
  {
   "cell_type": "markdown",
   "id": "acb796c1-021e-46a1-9195-0773a57d0903",
   "metadata": {},
   "source": [
    "##### data frame is collection of dataa structure(tablee data structure)\n",
    "##### data structure is collection of data types"
   ]
  },
  {
   "cell_type": "markdown",
   "id": "94a3305d-bfad-4d63-ae73-51e9b0a32e15",
   "metadata": {},
   "source": [
    "#### data structure is divided into 2 parts\n",
    "##### 1.inbuild data structure\n",
    "    ###### i.list,tuple,set,dict,range \n",
    "##### 2.user define datastructure\n",
    "     ###### stack,heap,linklist,tree,queue,hashmap"
   ]
  },
  {
   "cell_type": "markdown",
   "id": "fe62af45-0e65-43f1-9b71-f9d3aebc7e38",
   "metadata": {},
   "source": [
    "# inbuild data structure\n",
    "## list\n",
    "### list start with [] breces"
   ]
  },
  {
   "cell_type": "code",
   "execution_count": 1,
   "id": "07d96752-0b57-4308-ad7d-05f736fbc920",
   "metadata": {},
   "outputs": [
    {
     "data": {
      "text/plain": [
       "[]"
      ]
     },
     "execution_count": 1,
     "metadata": {},
     "output_type": "execute_result"
    }
   ],
   "source": [
    "l=[]\n",
    "l"
   ]
  },
  {
   "cell_type": "code",
   "execution_count": 2,
   "id": "5947ca2b-2172-4bfb-958c-4ea19c18aff5",
   "metadata": {},
   "outputs": [
    {
     "data": {
      "text/plain": [
       "list"
      ]
     },
     "execution_count": 2,
     "metadata": {},
     "output_type": "execute_result"
    }
   ],
   "source": [
    "type(l)"
   ]
  },
  {
   "cell_type": "code",
   "execution_count": 3,
   "id": "9ad59827-f5bb-41e3-a927-dd34c1002d88",
   "metadata": {},
   "outputs": [
    {
     "data": {
      "text/plain": [
       "0"
      ]
     },
     "execution_count": 3,
     "metadata": {},
     "output_type": "execute_result"
    }
   ],
   "source": [
    "len(l)"
   ]
  },
  {
   "cell_type": "code",
   "execution_count": 4,
   "id": "1dfb06a8-1346-4613-b5c4-32476a401b38",
   "metadata": {},
   "outputs": [
    {
     "data": {
      "text/plain": [
       "2582253326144"
      ]
     },
     "execution_count": 4,
     "metadata": {},
     "output_type": "execute_result"
    }
   ],
   "source": [
    "id(l)"
   ]
  },
  {
   "cell_type": "code",
   "execution_count": 5,
   "id": "1213046f-c470-42d9-b6f4-d0e700d48f8e",
   "metadata": {},
   "outputs": [
    {
     "data": {
      "text/plain": [
       "<function list.append(object, /)>"
      ]
     },
     "execution_count": 5,
     "metadata": {},
     "output_type": "execute_result"
    }
   ],
   "source": [
    "l.append\n"
   ]
  },
  {
   "cell_type": "code",
   "execution_count": 6,
   "id": "bf11e0a2-e62e-4fe2-ab4d-0642b8398d20",
   "metadata": {},
   "outputs": [
    {
     "ename": "TypeError",
     "evalue": "list.append() takes exactly one argument (0 given)",
     "output_type": "error",
     "traceback": [
      "\u001b[1;31m---------------------------------------------------------------------------\u001b[0m",
      "\u001b[1;31mTypeError\u001b[0m                                 Traceback (most recent call last)",
      "Cell \u001b[1;32mIn[6], line 1\u001b[0m\n\u001b[1;32m----> 1\u001b[0m l\u001b[38;5;241m.\u001b[39mappend()\n",
      "\u001b[1;31mTypeError\u001b[0m: list.append() takes exactly one argument (0 given)"
     ]
    }
   ],
   "source": [
    "l.append()"
   ]
  },
  {
   "cell_type": "code",
   "execution_count": 7,
   "id": "049fe851-d85a-4660-a10c-685cd2082ce6",
   "metadata": {},
   "outputs": [
    {
     "data": {
      "text/plain": [
       "[12]"
      ]
     },
     "execution_count": 7,
     "metadata": {},
     "output_type": "execute_result"
    }
   ],
   "source": [
    "l.append(12)# taakes 1 parameter\n",
    "l"
   ]
  },
  {
   "cell_type": "code",
   "execution_count": 8,
   "id": "b216862c-49e8-4496-8af5-bec8caaa54c3",
   "metadata": {},
   "outputs": [
    {
     "data": {
      "text/plain": [
       "[12, 13, 14, 15, 16]"
      ]
     },
     "execution_count": 8,
     "metadata": {},
     "output_type": "execute_result"
    }
   ],
   "source": [
    "l.append(13)#Append object to the end of the list\n",
    "l.append(14)\n",
    "l.append(15)\n",
    "l.append(16)\n",
    "l"
   ]
  },
  {
   "cell_type": "code",
   "execution_count": 9,
   "id": "c2f85f36-3a83-44c0-927e-c321baebc56e",
   "metadata": {},
   "outputs": [
    {
     "data": {
      "text/plain": [
       "5"
      ]
     },
     "execution_count": 9,
     "metadata": {},
     "output_type": "execute_result"
    }
   ],
   "source": [
    "len(l)"
   ]
  },
  {
   "cell_type": "code",
   "execution_count": 10,
   "id": "90cfc70b-ce11-416b-9699-a63347532631",
   "metadata": {},
   "outputs": [],
   "source": [
    "l1=l.copy()"
   ]
  },
  {
   "cell_type": "code",
   "execution_count": 11,
   "id": "a7b02ae1-3b80-4050-b192-0ec42dbc6692",
   "metadata": {},
   "outputs": [
    {
     "data": {
      "text/plain": [
       "[12, 13, 14, 15, 16]"
      ]
     },
     "execution_count": 11,
     "metadata": {},
     "output_type": "execute_result"
    }
   ],
   "source": [
    "l1"
   ]
  },
  {
   "cell_type": "code",
   "execution_count": 12,
   "id": "929a6de5-34c0-481c-99f8-43d1801008f6",
   "metadata": {},
   "outputs": [
    {
     "data": {
      "text/plain": [
       "True"
      ]
     },
     "execution_count": 12,
     "metadata": {},
     "output_type": "execute_result"
    }
   ],
   "source": [
    "l==l1"
   ]
  },
  {
   "cell_type": "code",
   "execution_count": 13,
   "id": "4e3de95a-3645-462d-a866-850f2a7d9e91",
   "metadata": {},
   "outputs": [
    {
     "data": {
      "text/plain": [
       "[12, 13, 14, 15, 16, 17]"
      ]
     },
     "execution_count": 13,
     "metadata": {},
     "output_type": "execute_result"
    }
   ],
   "source": [
    "l1.append(17)\n",
    "l1"
   ]
  },
  {
   "cell_type": "code",
   "execution_count": 14,
   "id": "0f88c6a1-4fb2-4f2c-9744-59691ff66342",
   "metadata": {},
   "outputs": [
    {
     "data": {
      "text/plain": [
       "False"
      ]
     },
     "execution_count": 14,
     "metadata": {},
     "output_type": "execute_result"
    }
   ],
   "source": [
    "l1==l"
   ]
  },
  {
   "cell_type": "code",
   "execution_count": 15,
   "id": "8bdcae1b-2263-42fc-a654-145292882951",
   "metadata": {},
   "outputs": [
    {
     "name": "stdout",
     "output_type": "stream",
     "text": [
      "[12, 13, 14, 15, 16]\n",
      "[12, 13, 14, 15, 16, 17]\n"
     ]
    }
   ],
   "source": [
    "print(l)\n",
    "print(l1)"
   ]
  },
  {
   "cell_type": "code",
   "execution_count": 16,
   "id": "fbd2e8c3-5b33-46a8-9c32-0792e0218e22",
   "metadata": {},
   "outputs": [
    {
     "data": {
      "text/plain": [
       "2582305920832"
      ]
     },
     "execution_count": 16,
     "metadata": {},
     "output_type": "execute_result"
    }
   ],
   "source": [
    "id(l1)"
   ]
  },
  {
   "cell_type": "code",
   "execution_count": 17,
   "id": "b8897c9c-7c0c-4085-95e4-81a0bc7d16a0",
   "metadata": {},
   "outputs": [],
   "source": [
    "l1.clear()"
   ]
  },
  {
   "cell_type": "code",
   "execution_count": 18,
   "id": "cca0faf3-fe30-4de8-9537-534fdee4fdf9",
   "metadata": {},
   "outputs": [
    {
     "data": {
      "text/plain": [
       "[]"
      ]
     },
     "execution_count": 18,
     "metadata": {},
     "output_type": "execute_result"
    }
   ],
   "source": [
    "l1"
   ]
  },
  {
   "cell_type": "code",
   "execution_count": 19,
   "id": "56017ea4-5949-4406-9116-cf29bf371038",
   "metadata": {},
   "outputs": [
    {
     "data": {
      "text/plain": [
       "2582305920832"
      ]
     },
     "execution_count": 19,
     "metadata": {},
     "output_type": "execute_result"
    }
   ],
   "source": [
    "id(l1)"
   ]
  },
  {
   "cell_type": "code",
   "execution_count": 20,
   "id": "4b2c0c48-2216-4b70-9f76-82de1404547d",
   "metadata": {},
   "outputs": [
    {
     "ename": "TypeError",
     "evalue": "list.append() takes exactly one argument (2 given)",
     "output_type": "error",
     "traceback": [
      "\u001b[1;31m---------------------------------------------------------------------------\u001b[0m",
      "\u001b[1;31mTypeError\u001b[0m                                 Traceback (most recent call last)",
      "Cell \u001b[1;32mIn[20], line 1\u001b[0m\n\u001b[1;32m----> 1\u001b[0m l\u001b[38;5;241m.\u001b[39mappend(\u001b[38;5;241m2.4\u001b[39m,\u001b[38;5;241m34\u001b[39m)\n",
      "\u001b[1;31mTypeError\u001b[0m: list.append() takes exactly one argument (2 given)"
     ]
    }
   ],
   "source": [
    "l.append(2.4,34)"
   ]
  },
  {
   "cell_type": "code",
   "execution_count": 21,
   "id": "d48a4d14-6a7b-4115-95f4-1726f0553644",
   "metadata": {},
   "outputs": [],
   "source": [
    "l.append('nit')#mulultiple data type are  allowed in list\n",
    "l.append(2.3)#list is growablw\n",
    "l.append(1+2j)\n",
    "l.append(True)\n",
    "l.append([1,2,3,4])"
   ]
  },
  {
   "cell_type": "code",
   "execution_count": 22,
   "id": "c59f293e-66f5-41c8-976d-9b1f27c2ed5a",
   "metadata": {},
   "outputs": [
    {
     "data": {
      "text/plain": [
       "[12, 13, 14, 15, 16, 'nit', 2.3, (1+2j), True, [1, 2, 3, 4]]"
      ]
     },
     "execution_count": 22,
     "metadata": {},
     "output_type": "execute_result"
    }
   ],
   "source": [
    "l"
   ]
  },
  {
   "cell_type": "markdown",
   "id": "0431dd91-7539-4163-b913-37f2f485a486",
   "metadata": {},
   "source": [
    "#### append() :add  the data or parmeter into the end of the list\n",
    "#### copy():copy the data or parameter grom one list to another list\n",
    "#### clear():clear all the data from from the list but it doesn't change the location of the list mean id(list) will not change"
   ]
  },
  {
   "cell_type": "code",
   "execution_count": 23,
   "id": "2ce0270b-30b4-4dc6-ab30-96bb4626278a",
   "metadata": {},
   "outputs": [
    {
     "name": "stdout",
     "output_type": "stream",
     "text": [
      "12\n",
      "13\n",
      "14\n",
      "15\n",
      "16\n",
      "nit\n",
      "2.3\n",
      "(1+2j)\n",
      "True\n",
      "[1, 2, 3, 4]\n"
     ]
    }
   ],
   "source": [
    "for i in l :\n",
    "    print(i)"
   ]
  },
  {
   "cell_type": "code",
   "execution_count": 24,
   "id": "341e1fce-2345-409e-8106-739d3668e324",
   "metadata": {},
   "outputs": [
    {
     "data": {
      "text/plain": [
       "[]"
      ]
     },
     "execution_count": 24,
     "metadata": {},
     "output_type": "execute_result"
    }
   ],
   "source": [
    "l1=[]\n",
    "l1"
   ]
  },
  {
   "cell_type": "code",
   "execution_count": 25,
   "id": "03d14977-2ea6-49f2-882c-1f2b1e1426f1",
   "metadata": {},
   "outputs": [
    {
     "data": {
      "text/plain": [
       "[10, 2.4, (2+2j), True, 'hello', [1, 2, 3]]"
      ]
     },
     "execution_count": 25,
     "metadata": {},
     "output_type": "execute_result"
    }
   ],
   "source": [
    "l1=[10,2.4,2+2j,True,'hello',[1,2,3]]\n",
    "l1"
   ]
  },
  {
   "cell_type": "code",
   "execution_count": 26,
   "id": "a6a5986b-d36c-479f-a0ff-b1107f96c328",
   "metadata": {},
   "outputs": [],
   "source": [
    "l1.append(10)"
   ]
  },
  {
   "cell_type": "code",
   "execution_count": 27,
   "id": "6b234a0d-12aa-40aa-8d48-72f7e697abbf",
   "metadata": {},
   "outputs": [
    {
     "data": {
      "text/plain": [
       "[10, 2.4, (2+2j), True, 'hello', [1, 2, 3], 10]"
      ]
     },
     "execution_count": 27,
     "metadata": {},
     "output_type": "execute_result"
    }
   ],
   "source": [
    "l1"
   ]
  },
  {
   "cell_type": "code",
   "execution_count": 29,
   "id": "02809544-532e-4f53-8072-1ee54b21f4da",
   "metadata": {},
   "outputs": [
    {
     "name": "stdout",
     "output_type": "stream",
     "text": [
      "10\n"
     ]
    }
   ],
   "source": [
    "print(l1.pop())"
   ]
  },
  {
   "cell_type": "code",
   "execution_count": 30,
   "id": "29246695-4792-4269-80e5-935f502640da",
   "metadata": {},
   "outputs": [
    {
     "data": {
      "text/plain": [
       "1"
      ]
     },
     "execution_count": 30,
     "metadata": {},
     "output_type": "execute_result"
    }
   ],
   "source": [
    "l1.count(10)"
   ]
  },
  {
   "cell_type": "code",
   "execution_count": 31,
   "id": "98f60b3a-486d-42c8-aa35-c7c1ae710011",
   "metadata": {},
   "outputs": [
    {
     "data": {
      "text/plain": [
       "0"
      ]
     },
     "execution_count": 31,
     "metadata": {},
     "output_type": "execute_result"
    }
   ],
   "source": [
    "l1.count(0)"
   ]
  },
  {
   "cell_type": "code",
   "execution_count": 32,
   "id": "995623e1-ef5a-4b30-b4ea-a6cbbfccdb94",
   "metadata": {},
   "outputs": [],
   "source": [
    "l1.remove(2+2j) # remove funtion remove element by the the element provided no index required"
   ]
  },
  {
   "cell_type": "code",
   "execution_count": 33,
   "id": "2000991b-a279-4873-8e82-8e010f3a331d",
   "metadata": {},
   "outputs": [
    {
     "data": {
      "text/plain": [
       "[10, 2.4, True, 'hello', [1, 2, 3]]"
      ]
     },
     "execution_count": 33,
     "metadata": {},
     "output_type": "execute_result"
    }
   ],
   "source": [
    "l1"
   ]
  },
  {
   "cell_type": "code",
   "execution_count": 34,
   "id": "47bebd8c-98c6-444b-b5c2-dbd7f9639b2d",
   "metadata": {},
   "outputs": [
    {
     "data": {
      "text/plain": [
       "True"
      ]
     },
     "execution_count": 34,
     "metadata": {},
     "output_type": "execute_result"
    }
   ],
   "source": [
    "l1.pop(2) # remove the element from list from the provided index and return the popped value\n",
    "# if no index is provied in the pop it will remove the last index element and return tht element as output"
   ]
  },
  {
   "cell_type": "code",
   "execution_count": 35,
   "id": "15a52ba3-48d7-4a1b-821c-129448944e45",
   "metadata": {},
   "outputs": [
    {
     "data": {
      "text/plain": [
       "[10, 2.4, 'hello', [1, 2, 3]]"
      ]
     },
     "execution_count": 35,
     "metadata": {},
     "output_type": "execute_result"
    }
   ],
   "source": [
    "l1"
   ]
  },
  {
   "cell_type": "code",
   "execution_count": 36,
   "id": "b836be83-a39a-4b11-9bdb-6808535f87ce",
   "metadata": {},
   "outputs": [
    {
     "data": {
      "text/plain": [
       "[1, 2, 3]"
      ]
     },
     "execution_count": 36,
     "metadata": {},
     "output_type": "execute_result"
    }
   ],
   "source": [
    "l1.pop()"
   ]
  },
  {
   "cell_type": "code",
   "execution_count": null,
   "id": "067acba4-3173-48e6-9898-d96360de32b4",
   "metadata": {},
   "outputs": [],
   "source": []
  },
  {
   "cell_type": "code",
   "execution_count": 37,
   "id": "7c40a219-5474-4b26-a851-e4ba03ca5fd8",
   "metadata": {},
   "outputs": [
    {
     "data": {
      "text/plain": [
       "[10, 2.4, 'hello']"
      ]
     },
     "execution_count": 37,
     "metadata": {},
     "output_type": "execute_result"
    }
   ],
   "source": [
    "l1"
   ]
  },
  {
   "cell_type": "code",
   "execution_count": 38,
   "id": "bedc1509-bdc9-4086-9915-9237fc2d81e6",
   "metadata": {},
   "outputs": [
    {
     "name": "stdout",
     "output_type": "stream",
     "text": [
      "5\n",
      "[12, 13, 14, 15, 16, 'nit', 2.3, (1+2j), True, [1, 2, 3, 4]]\n"
     ]
    }
   ],
   "source": [
    "print(l.index('nit'))\n",
    "print(l)"
   ]
  },
  {
   "cell_type": "code",
   "execution_count": 39,
   "id": "6bab9126-a56a-4d2e-8bfb-fc64a41b95b2",
   "metadata": {},
   "outputs": [
    {
     "data": {
      "text/plain": [
       "0"
      ]
     },
     "execution_count": 39,
     "metadata": {},
     "output_type": "execute_result"
    }
   ],
   "source": [
    "l.index(12)"
   ]
  },
  {
   "cell_type": "code",
   "execution_count": 40,
   "id": "85f1726a-342c-48d7-a5ad-71232e401269",
   "metadata": {},
   "outputs": [
    {
     "data": {
      "text/plain": [
       "[12, 13, 14, 15, 16, 'nit', 2.3, (1+2j), 10, True, [1, 2, 3, 4]]"
      ]
     },
     "execution_count": 40,
     "metadata": {},
     "output_type": "execute_result"
    }
   ],
   "source": [
    "l.insert(8,10) # in insert user nee to give 2 argument 1st argument is index position nd 2nd in valoe which need to insert\n",
    "l"
   ]
  },
  {
   "cell_type": "code",
   "execution_count": 41,
   "id": "7ee8d940-4337-4ef7-8f29-eb3e802332ce",
   "metadata": {},
   "outputs": [
    {
     "name": "stdout",
     "output_type": "stream",
     "text": [
      "[10, 2.4, 'hello']\n",
      "[12, 13, 14, 15, 16, 'nit', 2.3, (1+2j), 10, True, [1, 2, 3, 4]]\n"
     ]
    }
   ],
   "source": [
    "print(l1)\n",
    "print(l)"
   ]
  },
  {
   "cell_type": "code",
   "execution_count": 42,
   "id": "e4d6596a-acb2-4186-b8f7-9692b1d8526c",
   "metadata": {},
   "outputs": [],
   "source": [
    "l1.extend(l)"
   ]
  },
  {
   "cell_type": "code",
   "execution_count": 43,
   "id": "44f79bb9-f8e7-40f0-8abe-7e721d95d4a6",
   "metadata": {},
   "outputs": [
    {
     "data": {
      "text/plain": [
       "[10,\n",
       " 2.4,\n",
       " 'hello',\n",
       " 12,\n",
       " 13,\n",
       " 14,\n",
       " 15,\n",
       " 16,\n",
       " 'nit',\n",
       " 2.3,\n",
       " (1+2j),\n",
       " 10,\n",
       " True,\n",
       " [1, 2, 3, 4]]"
      ]
     },
     "execution_count": 43,
     "metadata": {},
     "output_type": "execute_result"
    }
   ],
   "source": [
    "l1"
   ]
  },
  {
   "cell_type": "code",
   "execution_count": 44,
   "id": "c25114e8-7e8f-4cae-9e5f-58df41a6bbce",
   "metadata": {},
   "outputs": [],
   "source": [
    "l0=['rule',40]"
   ]
  },
  {
   "cell_type": "code",
   "execution_count": 45,
   "id": "b6978570-be03-459f-ab17-dc22bd5b9f74",
   "metadata": {},
   "outputs": [
    {
     "data": {
      "text/plain": [
       "['rule', 40, 12, 13, 14, 15, 16, 'nit', 2.3, (1+2j), 10, True, [1, 2, 3, 4]]"
      ]
     },
     "execution_count": 45,
     "metadata": {},
     "output_type": "execute_result"
    }
   ],
   "source": [
    "l0.extend(l)\n",
    "l0"
   ]
  },
  {
   "cell_type": "code",
   "execution_count": 46,
   "id": "1c87894b-53b8-4850-96e0-9e1a6e2790bd",
   "metadata": {},
   "outputs": [],
   "source": [
    "l.reverse()"
   ]
  },
  {
   "cell_type": "code",
   "execution_count": 47,
   "id": "a2a320dc-e3aa-45d6-a75e-a3401dd7aee7",
   "metadata": {},
   "outputs": [
    {
     "data": {
      "text/plain": [
       "[[1, 2, 3, 4], True, 10, (1+2j), 2.3, 'nit', 16, 15, 14, 13, 12]"
      ]
     },
     "execution_count": 47,
     "metadata": {},
     "output_type": "execute_result"
    }
   ],
   "source": [
    "l"
   ]
  },
  {
   "cell_type": "code",
   "execution_count": 48,
   "id": "759dc794-7540-42f2-9cae-e939bf3169cd",
   "metadata": {},
   "outputs": [],
   "source": [
    "l5=[300,4,34,9,100]"
   ]
  },
  {
   "cell_type": "code",
   "execution_count": 49,
   "id": "bbdcf5b5-af2a-41bf-bc8d-5efa30369c90",
   "metadata": {},
   "outputs": [],
   "source": [
    "l5.sort() #accending sort uses reverse=false as default"
   ]
  },
  {
   "cell_type": "code",
   "execution_count": 50,
   "id": "ecd278a4-fe3c-445e-a391-1ff24b30d46d",
   "metadata": {},
   "outputs": [
    {
     "data": {
      "text/plain": [
       "[4, 9, 34, 100, 300]"
      ]
     },
     "execution_count": 50,
     "metadata": {},
     "output_type": "execute_result"
    }
   ],
   "source": [
    "l5"
   ]
  },
  {
   "cell_type": "code",
   "execution_count": 51,
   "id": "9133bfd5-0a2a-498b-801f-ca3b822f4dd1",
   "metadata": {},
   "outputs": [],
   "source": [
    "l5.sort(reverse=True)"
   ]
  },
  {
   "cell_type": "code",
   "execution_count": 52,
   "id": "e41e7ad3-79d4-49da-a537-ca5d90c35810",
   "metadata": {},
   "outputs": [
    {
     "data": {
      "text/plain": [
       "[300, 100, 34, 9, 4]"
      ]
     },
     "execution_count": 52,
     "metadata": {},
     "output_type": "execute_result"
    }
   ],
   "source": [
    "l5"
   ]
  },
  {
   "cell_type": "markdown",
   "id": "7b4bb5a2-b8ad-4f28-9b2d-40986b2d9741",
   "metadata": {},
   "source": [
    "### trunning are 3 types\n",
    "#### parameter tunning --> system given prameter\n",
    "#### hyperparameter tunning --> user changes the system given parameter is called hyperprameter\n",
    "#### fine tunning"
   ]
  },
  {
   "cell_type": "markdown",
   "id": "c5ca2ab8-0a9d-4a1d-a427-08ed348f3d9d",
   "metadata": {},
   "source": [
    "#### list is mutable"
   ]
  },
  {
   "cell_type": "code",
   "execution_count": 53,
   "id": "1e5b0605-4f0f-4ea2-941e-272dd10c103f",
   "metadata": {},
   "outputs": [],
   "source": [
    "l5[0]=3000"
   ]
  },
  {
   "cell_type": "code",
   "execution_count": 54,
   "id": "541c6fb6-65a3-4239-9047-6e9c3943b4f2",
   "metadata": {},
   "outputs": [
    {
     "data": {
      "text/plain": [
       "[3000, 100, 34, 9, 4]"
      ]
     },
     "execution_count": 54,
     "metadata": {},
     "output_type": "execute_result"
    }
   ],
   "source": [
    "l5"
   ]
  },
  {
   "cell_type": "markdown",
   "id": "e97229e7-e511-4fb8-9cdf-d64b27779a0b",
   "metadata": {},
   "source": [
    "# LIST IS COMPLETEED"
   ]
  },
  {
   "cell_type": "code",
   "execution_count": 55,
   "id": "179634b8-f37a-447f-8725-6cb963263e1f",
   "metadata": {},
   "outputs": [],
   "source": [
    "x=[1,2,3]"
   ]
  },
  {
   "cell_type": "code",
   "execution_count": 56,
   "id": "762a1519-38c7-4287-a264-7fe7b195bbce",
   "metadata": {},
   "outputs": [],
   "source": [
    "y=x[:]"
   ]
  },
  {
   "cell_type": "code",
   "execution_count": 57,
   "id": "d0cccb34-d16a-4f2b-a26e-0d24aaf67ff8",
   "metadata": {},
   "outputs": [],
   "source": [
    "x[0]=4"
   ]
  },
  {
   "cell_type": "code",
   "execution_count": 58,
   "id": "018cba7c-4e58-4794-8aa8-09bcfa9de23d",
   "metadata": {},
   "outputs": [
    {
     "name": "stdout",
     "output_type": "stream",
     "text": [
      "[1, 2, 3]\n"
     ]
    }
   ],
   "source": [
    "print(y)"
   ]
  },
  {
   "cell_type": "code",
   "execution_count": 59,
   "id": "acabe406-5f70-47b0-9aa8-e8fa5bbde5a5",
   "metadata": {},
   "outputs": [
    {
     "name": "stdout",
     "output_type": "stream",
     "text": [
      "[4, 2, 3]\n"
     ]
    }
   ],
   "source": [
    "print(x)"
   ]
  },
  {
   "cell_type": "code",
   "execution_count": 60,
   "id": "4897bb3b-040b-4cc5-802d-5d3a47242eff",
   "metadata": {},
   "outputs": [],
   "source": [
    "x.insert(1,5)"
   ]
  },
  {
   "cell_type": "code",
   "execution_count": 61,
   "id": "16d78704-e2ea-45ab-a16d-211ff7a47452",
   "metadata": {},
   "outputs": [
    {
     "name": "stdout",
     "output_type": "stream",
     "text": [
      "[4, 5, 2, 3]\n"
     ]
    }
   ],
   "source": [
    "print(x)"
   ]
  }
 ],
 "metadata": {
  "kernelspec": {
   "display_name": "Python 3 (ipykernel)",
   "language": "python",
   "name": "python3"
  },
  "language_info": {
   "codemirror_mode": {
    "name": "ipython",
    "version": 3
   },
   "file_extension": ".py",
   "mimetype": "text/x-python",
   "name": "python",
   "nbconvert_exporter": "python",
   "pygments_lexer": "ipython3",
   "version": "3.13.5"
  }
 },
 "nbformat": 4,
 "nbformat_minor": 5
}
