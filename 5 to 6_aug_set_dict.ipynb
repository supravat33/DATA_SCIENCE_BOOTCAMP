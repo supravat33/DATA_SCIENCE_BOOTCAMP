{
 "cells": [
  {
   "cell_type": "markdown",
   "id": "0c014e3b-e062-4ab1-8bdf-d9434ea2c1e6",
   "metadata": {},
   "source": [
    "# set and dictionary\n",
    "### set and dict aare both reprented in {} this symbol\n",
    "### s={} it will cosider dict defaultly\n",
    "### to declare set we have to write s=set()"
   ]
  },
  {
   "cell_type": "markdown",
   "id": "d55eb2e1-cfc3-4241-b314-0d798aaec0e7",
   "metadata": {},
   "source": [
    "## SET"
   ]
  },
  {
   "cell_type": "markdown",
   "id": "8f93e2fd-6eaf-4403-ae81-0137bace5eeb",
   "metadata": {},
   "source": [
    "## functions inn set data structure\n",
    "### 1.add()\n",
    "### 2.pop()\n",
    "### 3.remove()\n",
    "### 4.copy()\n",
    "### 5.discard()\n",
    "### 6.differece()\n",
    "### 7.differece_update()\n",
    "### 8.union()\n",
    "### 9.intersecion()\n",
    "### 10.symmetric_difference()\n",
    "### 11.isdisjoint()\n",
    "### 12.issubset()\n",
    "### 13.issuperset()\n",
    "### 14.symmetric_difference_update()\n",
    "### 15.update()\n",
    "### 16.clear()"
   ]
  },
  {
   "cell_type": "code",
   "execution_count": 1,
   "id": "5ad17d12-8d97-41c1-9221-cd1690fb1fc4",
   "metadata": {},
   "outputs": [],
   "source": [
    "s={}"
   ]
  },
  {
   "cell_type": "code",
   "execution_count": 2,
   "id": "6c14a5fb-dbcc-4c18-88db-b82648641bc1",
   "metadata": {},
   "outputs": [
    {
     "data": {
      "text/plain": [
       "dict"
      ]
     },
     "execution_count": 2,
     "metadata": {},
     "output_type": "execute_result"
    }
   ],
   "source": [
    "type(s)"
   ]
  },
  {
   "cell_type": "code",
   "execution_count": 3,
   "id": "d8478d81-db74-416e-a0b3-8fcc02a8d77d",
   "metadata": {},
   "outputs": [
    {
     "data": {
      "text/plain": [
       "set()"
      ]
     },
     "execution_count": 3,
     "metadata": {},
     "output_type": "execute_result"
    }
   ],
   "source": [
    "s1=set()\n",
    "s1\n",
    "s1"
   ]
  },
  {
   "cell_type": "code",
   "execution_count": 4,
   "id": "3919e020-aa59-4126-9452-b085ad5eedba",
   "metadata": {},
   "outputs": [
    {
     "data": {
      "text/plain": [
       "set"
      ]
     },
     "execution_count": 4,
     "metadata": {},
     "output_type": "execute_result"
    }
   ],
   "source": [
    "type(s1)"
   ]
  },
  {
   "cell_type": "code",
   "execution_count": 5,
   "id": "e6fa794e-31b3-45f5-8145-9b6f614d342f",
   "metadata": {},
   "outputs": [
    {
     "data": {
      "text/plain": [
       "{1, 3, 4, 32, 50, 90}"
      ]
     },
     "execution_count": 5,
     "metadata": {},
     "output_type": "execute_result"
    }
   ],
   "source": [
    "s1={90,4,50,32,3,1}\n",
    "s1"
   ]
  },
  {
   "cell_type": "code",
   "execution_count": 6,
   "id": "2aa36978-57dd-4f6a-ab27-1da840cd6d26",
   "metadata": {},
   "outputs": [
    {
     "data": {
      "text/plain": [
       "set"
      ]
     },
     "execution_count": 6,
     "metadata": {},
     "output_type": "execute_result"
    }
   ],
   "source": [
    "type(s1)"
   ]
  },
  {
   "cell_type": "code",
   "execution_count": 7,
   "id": "1c554652-7187-49ce-ade7-158c58225775",
   "metadata": {},
   "outputs": [
    {
     "data": {
      "text/plain": [
       "{'a', 'd', 'm', 'o', 'z'}"
      ]
     },
     "execution_count": 7,
     "metadata": {},
     "output_type": "execute_result"
    }
   ],
   "source": [
    "s2={'z','m','a','o','d'}\n",
    "s2"
   ]
  },
  {
   "cell_type": "code",
   "execution_count": 8,
   "id": "1cae2498-3545-488e-87ce-d37398150a24",
   "metadata": {},
   "outputs": [
    {
     "data": {
      "text/plain": [
       "set"
      ]
     },
     "execution_count": 8,
     "metadata": {},
     "output_type": "execute_result"
    }
   ],
   "source": [
    "type(s2)"
   ]
  },
  {
   "cell_type": "code",
   "execution_count": 9,
   "id": "603d4592-b9bc-45f5-ab2f-ac89bddf1a40",
   "metadata": {},
   "outputs": [
    {
     "name": "stdout",
     "output_type": "stream",
     "text": [
      "{32, 1, 50, 3, 4, 90}\n",
      "{'m', 'z', 'a', 'o', 'd'}\n"
     ]
    }
   ],
   "source": [
    "print(s1)\n",
    "print(s2)"
   ]
  },
  {
   "cell_type": "code",
   "execution_count": 10,
   "id": "c58250aa-3caf-4414-83d9-9f9ce867f45d",
   "metadata": {},
   "outputs": [
    {
     "data": {
      "text/plain": [
       "5"
      ]
     },
     "execution_count": 10,
     "metadata": {},
     "output_type": "execute_result"
    }
   ],
   "source": [
    "len(s2)"
   ]
  },
  {
   "cell_type": "code",
   "execution_count": 11,
   "id": "8d27bb8d-617d-43d7-a149-4b5b6609c6ff",
   "metadata": {},
   "outputs": [],
   "source": [
    "s3={1,2.3,'nit',1+2j,True}"
   ]
  },
  {
   "cell_type": "code",
   "execution_count": 12,
   "id": "61a1dffa-ca4f-4f6f-b5da-24aa05dcb435",
   "metadata": {},
   "outputs": [
    {
     "data": {
      "text/plain": [
       "{(1+2j), 1, 2.3, 'nit'}"
      ]
     },
     "execution_count": 12,
     "metadata": {},
     "output_type": "execute_result"
    }
   ],
   "source": [
    "s3\n"
   ]
  },
  {
   "cell_type": "code",
   "execution_count": 13,
   "id": "231231e3-4372-4ab4-a6b6-2fe6d441fd6f",
   "metadata": {},
   "outputs": [
    {
     "data": {
      "text/plain": [
       "set"
      ]
     },
     "execution_count": 13,
     "metadata": {},
     "output_type": "execute_result"
    }
   ],
   "source": [
    "type(s3)"
   ]
  },
  {
   "cell_type": "code",
   "execution_count": 14,
   "id": "7287ea6f-6f1a-4fe8-ac19-e7a637a43509",
   "metadata": {},
   "outputs": [],
   "source": [
    "s1.add(1) # duplicate is not allowed in set"
   ]
  },
  {
   "cell_type": "code",
   "execution_count": 15,
   "id": "38f358b4-4b13-44c3-9d92-2692242c96ce",
   "metadata": {},
   "outputs": [
    {
     "data": {
      "text/plain": [
       "{1, 3, 4, 32, 50, 90}"
      ]
     },
     "execution_count": 15,
     "metadata": {},
     "output_type": "execute_result"
    }
   ],
   "source": [
    "s1"
   ]
  },
  {
   "cell_type": "markdown",
   "id": "9688bc76-024b-48a5-8108-1fecc287c22b",
   "metadata": {},
   "source": [
    "## ADD()"
   ]
  },
  {
   "cell_type": "code",
   "execution_count": 16,
   "id": "135cad73-a08d-48bc-b03b-196d69c67dc5",
   "metadata": {},
   "outputs": [],
   "source": [
    "s1.add(2)"
   ]
  },
  {
   "cell_type": "code",
   "execution_count": 17,
   "id": "b302df53-2151-4c25-9375-0a48a49a001c",
   "metadata": {},
   "outputs": [],
   "source": [
    "s1.add(100)\n",
    "s1.add(90)\n",
    "s1.add(5)"
   ]
  },
  {
   "cell_type": "code",
   "execution_count": 18,
   "id": "22d93ddb-cb90-4af3-a86b-edf0b89f320b",
   "metadata": {},
   "outputs": [
    {
     "data": {
      "text/plain": [
       "{1, 2, 3, 4, 5, 32, 50, 90, 100}"
      ]
     },
     "execution_count": 18,
     "metadata": {},
     "output_type": "execute_result"
    }
   ],
   "source": [
    "s1"
   ]
  },
  {
   "cell_type": "code",
   "execution_count": 19,
   "id": "24fdda80-ab9f-428a-8b4c-4f2c260f8eac",
   "metadata": {},
   "outputs": [
    {
     "data": {
      "text/plain": [
       "{(1+2j), 1, 2.3, 'nit'}"
      ]
     },
     "execution_count": 19,
     "metadata": {},
     "output_type": "execute_result"
    }
   ],
   "source": [
    "s3"
   ]
  },
  {
   "cell_type": "markdown",
   "id": "621547e9-5cf4-460c-8f7a-d660d4819546",
   "metadata": {},
   "source": [
    "# CLEAR()"
   ]
  },
  {
   "cell_type": "code",
   "execution_count": 20,
   "id": "591441a8-b5f3-4de0-b012-5bf3280ead2b",
   "metadata": {},
   "outputs": [],
   "source": [
    "s3.clear()"
   ]
  },
  {
   "cell_type": "code",
   "execution_count": 21,
   "id": "a8b08848-190f-49d9-a07b-eb14ff9903e0",
   "metadata": {},
   "outputs": [
    {
     "data": {
      "text/plain": [
       "set()"
      ]
     },
     "execution_count": 21,
     "metadata": {},
     "output_type": "execute_result"
    }
   ],
   "source": [
    "s3"
   ]
  },
  {
   "cell_type": "code",
   "execution_count": 22,
   "id": "8d9a82ba-4836-4b2a-9b30-8050171eda33",
   "metadata": {},
   "outputs": [
    {
     "data": {
      "text/plain": [
       "{1, 2, 3, 4, 5, 32, 50, 90, 100}"
      ]
     },
     "execution_count": 22,
     "metadata": {},
     "output_type": "execute_result"
    }
   ],
   "source": [
    "s1"
   ]
  },
  {
   "cell_type": "markdown",
   "id": "8901f9a7-2c60-46a1-9ae6-0a8f662ce799",
   "metadata": {},
   "source": [
    "## COPY()"
   ]
  },
  {
   "cell_type": "code",
   "execution_count": 23,
   "id": "9bc42637-7efa-4e2a-8f4a-c350064ac42f",
   "metadata": {},
   "outputs": [],
   "source": [
    "s4=s1.copy()"
   ]
  },
  {
   "cell_type": "code",
   "execution_count": 24,
   "id": "795eaff1-be31-423e-9227-84e4084a4f9f",
   "metadata": {},
   "outputs": [
    {
     "data": {
      "text/plain": [
       "{1, 2, 3, 4, 5, 32, 50, 90, 100}"
      ]
     },
     "execution_count": 24,
     "metadata": {},
     "output_type": "execute_result"
    }
   ],
   "source": [
    "s4"
   ]
  },
  {
   "cell_type": "code",
   "execution_count": 25,
   "id": "cb36ed4f-f5bb-420c-8b6d-a34c3c3f2591",
   "metadata": {},
   "outputs": [
    {
     "data": {
      "text/plain": [
       "{1, 2, 3, 4, 5, 32, 50, 90, 100}"
      ]
     },
     "execution_count": 25,
     "metadata": {},
     "output_type": "execute_result"
    }
   ],
   "source": [
    "s1"
   ]
  },
  {
   "cell_type": "markdown",
   "id": "f5e2db6c-294d-414f-af9e-ced540205c7b",
   "metadata": {},
   "source": [
    "### indexing and slicing is not allowed  in set"
   ]
  },
  {
   "cell_type": "code",
   "execution_count": 26,
   "id": "9bc7bba8-6eeb-4367-aed3-886cdb4ccfc9",
   "metadata": {},
   "outputs": [
    {
     "ename": "TypeError",
     "evalue": "'set' object is not subscriptable",
     "output_type": "error",
     "traceback": [
      "\u001b[1;31m---------------------------------------------------------------------------\u001b[0m",
      "\u001b[1;31mTypeError\u001b[0m                                 Traceback (most recent call last)",
      "Cell \u001b[1;32mIn[26], line 1\u001b[0m\n\u001b[1;32m----> 1\u001b[0m s1[\u001b[38;5;241m0\u001b[39m]\n",
      "\u001b[1;31mTypeError\u001b[0m: 'set' object is not subscriptable"
     ]
    }
   ],
   "source": [
    "s1[0]"
   ]
  },
  {
   "cell_type": "code",
   "execution_count": 27,
   "id": "26e57e92-2d03-4240-968c-c0ef222aba5c",
   "metadata": {},
   "outputs": [
    {
     "ename": "TypeError",
     "evalue": "'set' object is not subscriptable",
     "output_type": "error",
     "traceback": [
      "\u001b[1;31m---------------------------------------------------------------------------\u001b[0m",
      "\u001b[1;31mTypeError\u001b[0m                                 Traceback (most recent call last)",
      "Cell \u001b[1;32mIn[27], line 1\u001b[0m\n\u001b[1;32m----> 1\u001b[0m s1[\u001b[38;5;241m1\u001b[39m:\u001b[38;5;241m4\u001b[39m]\n",
      "\u001b[1;31mTypeError\u001b[0m: 'set' object is not subscriptable"
     ]
    }
   ],
   "source": [
    "s1[1:4]"
   ]
  },
  {
   "cell_type": "markdown",
   "id": "e8a60910-b863-448a-b40a-a4ca18459420",
   "metadata": {},
   "source": [
    "## POP()\n",
    "### IT REMOVES RANDOM NUMBER FROM THE SET\n",
    "### pop function will give error with argument in set"
   ]
  },
  {
   "cell_type": "code",
   "execution_count": 28,
   "id": "d501150d-895d-4cd3-bb9f-294a2d074802",
   "metadata": {},
   "outputs": [
    {
     "data": {
      "text/plain": [
       "1"
      ]
     },
     "execution_count": 28,
     "metadata": {},
     "output_type": "execute_result"
    }
   ],
   "source": [
    "s1.pop()"
   ]
  },
  {
   "cell_type": "code",
   "execution_count": 29,
   "id": "70f27ffa-766b-4aad-8791-e6a99e348d94",
   "metadata": {},
   "outputs": [
    {
     "data": {
      "text/plain": [
       "2"
      ]
     },
     "execution_count": 29,
     "metadata": {},
     "output_type": "execute_result"
    }
   ],
   "source": [
    "s1.pop()"
   ]
  },
  {
   "cell_type": "code",
   "execution_count": 30,
   "id": "4e8b7d03-942f-49e6-b119-5cad7ca07a5d",
   "metadata": {},
   "outputs": [
    {
     "ename": "TypeError",
     "evalue": "set.pop() takes no arguments (1 given)",
     "output_type": "error",
     "traceback": [
      "\u001b[1;31m---------------------------------------------------------------------------\u001b[0m",
      "\u001b[1;31mTypeError\u001b[0m                                 Traceback (most recent call last)",
      "Cell \u001b[1;32mIn[30], line 1\u001b[0m\n\u001b[1;32m----> 1\u001b[0m s1\u001b[38;5;241m.\u001b[39mpop(\u001b[38;5;241m0\u001b[39m)\n",
      "\u001b[1;31mTypeError\u001b[0m: set.pop() takes no arguments (1 given)"
     ]
    }
   ],
   "source": [
    "s1.pop(0) "
   ]
  },
  {
   "cell_type": "markdown",
   "id": "c539a052-3e9c-4943-b09c-0f21a8054ee3",
   "metadata": {},
   "source": [
    "### REMOVE()\n",
    "### remove() will show error will the element OR parameter is not present in the set"
   ]
  },
  {
   "cell_type": "code",
   "execution_count": 31,
   "id": "7c66bda9-6b93-4bec-a903-dab255a7b203",
   "metadata": {},
   "outputs": [],
   "source": [
    "s1.remove(4)"
   ]
  },
  {
   "cell_type": "code",
   "execution_count": 32,
   "id": "130e210b-957c-4eeb-b2fe-5dabd04a21ca",
   "metadata": {},
   "outputs": [
    {
     "data": {
      "text/plain": [
       "{3, 5, 32, 50, 90, 100}"
      ]
     },
     "execution_count": 32,
     "metadata": {},
     "output_type": "execute_result"
    }
   ],
   "source": [
    "s1 "
   ]
  },
  {
   "cell_type": "code",
   "execution_count": 33,
   "id": "7f5e014f-3954-4285-a22c-c11d92b0fe15",
   "metadata": {},
   "outputs": [
    {
     "ename": "KeyError",
     "evalue": "1000",
     "output_type": "error",
     "traceback": [
      "\u001b[1;31m---------------------------------------------------------------------------\u001b[0m",
      "\u001b[1;31mKeyError\u001b[0m                                  Traceback (most recent call last)",
      "Cell \u001b[1;32mIn[33], line 1\u001b[0m\n\u001b[1;32m----> 1\u001b[0m s1\u001b[38;5;241m.\u001b[39mremove(\u001b[38;5;241m1000\u001b[39m)\n",
      "\u001b[1;31mKeyError\u001b[0m: 1000"
     ]
    }
   ],
   "source": [
    "s1.remove(1000) "
   ]
  },
  {
   "cell_type": "markdown",
   "id": "0067f7cb-3c28-4c77-bcc6-7327c2a016eb",
   "metadata": {},
   "source": [
    "## discard()\n",
    "### discard() will not show any error  in the element is not present in the set"
   ]
  },
  {
   "cell_type": "code",
   "execution_count": 34,
   "id": "d2efd57c-88ba-4a30-b2ba-50607dba9251",
   "metadata": {},
   "outputs": [],
   "source": [
    "s1.discard(1000)"
   ]
  },
  {
   "cell_type": "code",
   "execution_count": 35,
   "id": "e8ed09e2-29ec-40e8-a0ee-d7d8fcbb25a3",
   "metadata": {},
   "outputs": [
    {
     "data": {
      "text/plain": [
       "{3, 5, 32, 50, 90, 100}"
      ]
     },
     "execution_count": 35,
     "metadata": {},
     "output_type": "execute_result"
    }
   ],
   "source": [
    "s1"
   ]
  },
  {
   "cell_type": "code",
   "execution_count": 36,
   "id": "2f2a87c0-217d-4ae5-8b43-2ffe59131a37",
   "metadata": {},
   "outputs": [
    {
     "data": {
      "text/plain": [
       "{5, 32, 50, 90, 100}"
      ]
     },
     "execution_count": 36,
     "metadata": {},
     "output_type": "execute_result"
    }
   ],
   "source": [
    "s1.discard(3)\n",
    "s1"
   ]
  },
  {
   "cell_type": "markdown",
   "id": "f08cbe68-3e97-4078-9a78-b302d847cf03",
   "metadata": {},
   "source": [
    "## SET OPERATION"
   ]
  },
  {
   "cell_type": "markdown",
   "id": "c4861f38-c7af-4d0d-a86d-ad5b9167ca73",
   "metadata": {},
   "source": [
    "### union() or |"
   ]
  },
  {
   "cell_type": "code",
   "execution_count": 37,
   "id": "00e5eb24-32d8-44dd-9203-6cd43b1fb3d4",
   "metadata": {},
   "outputs": [],
   "source": [
    "a={1,2,3,4,5}\n",
    "b={4,5,6,7,8}\n",
    "c={8,9,10}"
   ]
  },
  {
   "cell_type": "code",
   "execution_count": 38,
   "id": "8ea74375-2912-434e-b4d5-e01a4dac8abf",
   "metadata": {},
   "outputs": [
    {
     "data": {
      "text/plain": [
       "{1, 2, 3, 4, 5, 6, 7, 8}"
      ]
     },
     "execution_count": 38,
     "metadata": {},
     "output_type": "execute_result"
    }
   ],
   "source": [
    "a.union(b)"
   ]
  },
  {
   "cell_type": "code",
   "execution_count": 39,
   "id": "1c90703d-e97f-4d94-8c73-a4d1f42a1948",
   "metadata": {},
   "outputs": [
    {
     "data": {
      "text/plain": [
       "{1, 2, 3, 4, 5, 6, 7, 8, 9, 10}"
      ]
     },
     "execution_count": 39,
     "metadata": {},
     "output_type": "execute_result"
    }
   ],
   "source": [
    "a.union(b,c)"
   ]
  },
  {
   "cell_type": "code",
   "execution_count": 40,
   "id": "4ef72f8a-3b94-4d80-8ee4-1078c39251a9",
   "metadata": {},
   "outputs": [
    {
     "data": {
      "text/plain": [
       "{1, 2, 3, 4, 5, 6, 7, 8}"
      ]
     },
     "execution_count": 40,
     "metadata": {},
     "output_type": "execute_result"
    }
   ],
   "source": [
    "a|b"
   ]
  },
  {
   "cell_type": "code",
   "execution_count": 41,
   "id": "18eb1fad-39b7-4838-a64c-da30198b74c0",
   "metadata": {},
   "outputs": [
    {
     "data": {
      "text/plain": [
       "{1, 2, 3, 4, 5, 6, 7, 8, 9, 10}"
      ]
     },
     "execution_count": 41,
     "metadata": {},
     "output_type": "execute_result"
    }
   ],
   "source": [
    "a|b|c"
   ]
  },
  {
   "cell_type": "markdown",
   "id": "bcbaafbd-87bf-4f44-8fd0-69ed01ff0d46",
   "metadata": {},
   "source": [
    "### intersection or &"
   ]
  },
  {
   "cell_type": "code",
   "execution_count": 42,
   "id": "e45f7435-50ec-4369-926e-489e54684fa5",
   "metadata": {},
   "outputs": [
    {
     "data": {
      "text/plain": [
       "{4, 5}"
      ]
     },
     "execution_count": 42,
     "metadata": {},
     "output_type": "execute_result"
    }
   ],
   "source": [
    "a.intersection(b)"
   ]
  },
  {
   "cell_type": "code",
   "execution_count": 43,
   "id": "38215312-557b-419e-bed9-4799c6791f74",
   "metadata": {},
   "outputs": [
    {
     "data": {
      "text/plain": [
       "set()"
      ]
     },
     "execution_count": 43,
     "metadata": {},
     "output_type": "execute_result"
    }
   ],
   "source": [
    "a.intersection(b,c)"
   ]
  },
  {
   "cell_type": "code",
   "execution_count": 44,
   "id": "e47ae0c2-3eb9-4628-9fc9-9058c1addf52",
   "metadata": {},
   "outputs": [
    {
     "data": {
      "text/plain": [
       "set()"
      ]
     },
     "execution_count": 44,
     "metadata": {},
     "output_type": "execute_result"
    }
   ],
   "source": [
    "a.intersection(c)"
   ]
  },
  {
   "cell_type": "code",
   "execution_count": 45,
   "id": "60d346e8-cf9e-4891-aa77-9e0cbbedd255",
   "metadata": {},
   "outputs": [
    {
     "data": {
      "text/plain": [
       "{4, 5}"
      ]
     },
     "execution_count": 45,
     "metadata": {},
     "output_type": "execute_result"
    }
   ],
   "source": [
    "a&b"
   ]
  },
  {
   "cell_type": "code",
   "execution_count": 46,
   "id": "991428c8-3356-4834-b3c6-f8914cf33916",
   "metadata": {},
   "outputs": [
    {
     "name": "stdout",
     "output_type": "stream",
     "text": [
      "{1, 2, 3, 4, 5}\n",
      "{4, 5, 6, 7, 8}\n",
      "{8, 9, 10}\n"
     ]
    }
   ],
   "source": [
    "print(a)\n",
    "print(b)\n",
    "print(c)\n"
   ]
  },
  {
   "cell_type": "markdown",
   "id": "9c838a2d-5883-428d-8957-f1d9889746d5",
   "metadata": {},
   "source": [
    "## difference()\n",
    "### Return a new set with elements in the set that are not in the others"
   ]
  },
  {
   "cell_type": "code",
   "execution_count": 47,
   "id": "aa9839c2-5f92-4899-a774-399719784ced",
   "metadata": {},
   "outputs": [
    {
     "data": {
      "text/plain": [
       "{1, 2, 3}"
      ]
     },
     "execution_count": 47,
     "metadata": {},
     "output_type": "execute_result"
    }
   ],
   "source": [
    "a.difference(b)"
   ]
  },
  {
   "cell_type": "code",
   "execution_count": 48,
   "id": "3b89d913-2609-40f6-a6ca-48171b5844bf",
   "metadata": {},
   "outputs": [
    {
     "data": {
      "text/plain": [
       "{6, 7, 8}"
      ]
     },
     "execution_count": 48,
     "metadata": {},
     "output_type": "execute_result"
    }
   ],
   "source": [
    "b.difference(a)"
   ]
  },
  {
   "cell_type": "code",
   "execution_count": 49,
   "id": "34701a97-195d-4e9d-a147-0b16cad8b202",
   "metadata": {},
   "outputs": [
    {
     "data": {
      "text/plain": [
       "{4, 5, 6, 7}"
      ]
     },
     "execution_count": 49,
     "metadata": {},
     "output_type": "execute_result"
    }
   ],
   "source": [
    "b-c"
   ]
  },
  {
   "cell_type": "code",
   "execution_count": 50,
   "id": "33b8572b-119f-4bcb-9832-af0c6e4515e7",
   "metadata": {},
   "outputs": [
    {
     "data": {
      "text/plain": [
       "{1, 2, 3}"
      ]
     },
     "execution_count": 50,
     "metadata": {},
     "output_type": "execute_result"
    }
   ],
   "source": [
    "a-b"
   ]
  },
  {
   "cell_type": "code",
   "execution_count": 51,
   "id": "5b6980c4-2c10-4cc3-8a5d-8fe6ea9a31db",
   "metadata": {},
   "outputs": [
    {
     "data": {
      "text/plain": [
       "{1, 2, 3, 4, 5}"
      ]
     },
     "execution_count": 51,
     "metadata": {},
     "output_type": "execute_result"
    }
   ],
   "source": [
    "a-c"
   ]
  },
  {
   "cell_type": "code",
   "execution_count": 52,
   "id": "17ad4cb2-75ff-4e3a-a815-c596de7512f7",
   "metadata": {},
   "outputs": [
    {
     "name": "stdout",
     "output_type": "stream",
     "text": [
      "{1, 2, 3, 4, 5}\n",
      "{4, 5, 6, 7, 8}\n",
      "{8, 9, 10}\n"
     ]
    }
   ],
   "source": [
    "print(a)\n",
    "print(b)\n",
    "print(c)\n"
   ]
  },
  {
   "cell_type": "markdown",
   "id": "e696141b-1c96-473f-8c13-7f957f092c0e",
   "metadata": {},
   "source": [
    "## differece_update()\n",
    "### Update the set, removing elements found in others."
   ]
  },
  {
   "cell_type": "code",
   "execution_count": 53,
   "id": "83da34dd-9c95-4ac5-86ca-772ac20777d2",
   "metadata": {},
   "outputs": [],
   "source": [
    "b.difference_update(c)"
   ]
  },
  {
   "cell_type": "code",
   "execution_count": 54,
   "id": "92b2162f-a47d-4449-b7a3-531774b4e12a",
   "metadata": {},
   "outputs": [
    {
     "data": {
      "text/plain": [
       "{4, 5, 6, 7}"
      ]
     },
     "execution_count": 54,
     "metadata": {},
     "output_type": "execute_result"
    }
   ],
   "source": [
    "b"
   ]
  },
  {
   "cell_type": "code",
   "execution_count": 55,
   "id": "2a6ee4cd-b98a-4ae9-a677-ea66cd544711",
   "metadata": {},
   "outputs": [
    {
     "name": "stdout",
     "output_type": "stream",
     "text": [
      "{1, 2, 3, 4, 5}\n",
      "{4, 5, 6, 7}\n",
      "{8, 9, 10}\n"
     ]
    }
   ],
   "source": [
    "print(a)\n",
    "print(b)\n",
    "print(c)"
   ]
  },
  {
   "cell_type": "markdown",
   "id": "75b1a615-e109-4aae-b2df-d246ab6ca745",
   "metadata": {},
   "source": [
    "## symmetric_difference() or ^\n",
    "### Return a new set with elements in either the set or other but not both."
   ]
  },
  {
   "cell_type": "code",
   "execution_count": 56,
   "id": "4d7830a2-748b-41c4-ab8b-563dab19aece",
   "metadata": {},
   "outputs": [
    {
     "data": {
      "text/plain": [
       "{1, 2, 3, 6, 7}"
      ]
     },
     "execution_count": 56,
     "metadata": {},
     "output_type": "execute_result"
    }
   ],
   "source": [
    "a.symmetric_difference(b)\n"
   ]
  },
  {
   "cell_type": "code",
   "execution_count": 57,
   "id": "6daf243b-e3fe-43fa-a61e-64c37ee2fc67",
   "metadata": {},
   "outputs": [
    {
     "data": {
      "text/plain": [
       "{1, 2, 3, 4, 5, 8, 9, 10}"
      ]
     },
     "execution_count": 57,
     "metadata": {},
     "output_type": "execute_result"
    }
   ],
   "source": [
    "a.symmetric_difference(c)"
   ]
  },
  {
   "cell_type": "code",
   "execution_count": 58,
   "id": "cf8f9c2f-79ec-4a23-b532-e533314af978",
   "metadata": {},
   "outputs": [
    {
     "data": {
      "text/plain": [
       "{1, 2, 3, 4, 5, 8, 9, 10}"
      ]
     },
     "execution_count": 58,
     "metadata": {},
     "output_type": "execute_result"
    }
   ],
   "source": [
    "c.symmetric_difference(a)"
   ]
  },
  {
   "cell_type": "code",
   "execution_count": 59,
   "id": "4dadbc3b-605f-4331-aaf0-152f5ae13367",
   "metadata": {},
   "outputs": [
    {
     "data": {
      "text/plain": [
       "{1, 2, 3, 6, 7}"
      ]
     },
     "execution_count": 59,
     "metadata": {},
     "output_type": "execute_result"
    }
   ],
   "source": [
    "a^b"
   ]
  },
  {
   "cell_type": "code",
   "execution_count": 60,
   "id": "88ae07e1-ffca-4ed9-8c71-8840af476fe6",
   "metadata": {},
   "outputs": [
    {
     "data": {
      "text/plain": [
       "{1, 2, 3, 4, 5, 8, 9, 10}"
      ]
     },
     "execution_count": 60,
     "metadata": {},
     "output_type": "execute_result"
    }
   ],
   "source": [
    "a^c"
   ]
  },
  {
   "cell_type": "markdown",
   "id": "39c012b2-9679-452b-9135-1d8f9cccad84",
   "metadata": {},
   "source": [
    "## symmetric_difference_update()\n",
    "### update the set, keeping only elements found in either set, but not in both"
   ]
  },
  {
   "cell_type": "code",
   "execution_count": 61,
   "id": "3c56e788-9247-464c-ab1b-879eabceaae6",
   "metadata": {},
   "outputs": [
    {
     "data": {
      "text/plain": [
       "{1, 2, 3, 6, 7}"
      ]
     },
     "execution_count": 61,
     "metadata": {},
     "output_type": "execute_result"
    }
   ],
   "source": [
    "a.symmetric_difference_update(b)\n",
    "a"
   ]
  },
  {
   "cell_type": "code",
   "execution_count": 62,
   "id": "b8286ff8-639e-4c30-8c52-3734a5a24bf5",
   "metadata": {},
   "outputs": [
    {
     "name": "stdout",
     "output_type": "stream",
     "text": [
      "{1, 2, 3, 6, 7}\n",
      "{4, 5, 6, 7}\n",
      "{8, 9, 10}\n"
     ]
    }
   ],
   "source": [
    "print(a)\n",
    "print(b)\n",
    "print(c)"
   ]
  },
  {
   "cell_type": "markdown",
   "id": "046cd141-bcec-4384-8276-a97ecbac5fb8",
   "metadata": {},
   "source": [
    "## 6th august "
   ]
  },
  {
   "cell_type": "markdown",
   "id": "bd48ba31-ca3b-4162-9b54-3416746e8a05",
   "metadata": {},
   "source": [
    "### superset,subset,disjoint"
   ]
  },
  {
   "cell_type": "code",
   "execution_count": 63,
   "id": "2bb5a7ae-9f49-48a7-95f2-e9896c51e8cb",
   "metadata": {},
   "outputs": [],
   "source": [
    "a1={1,2,3,4,5,6,7,8,9}\n",
    "b1={3,4,5,6,7,8}\n",
    "c1={10,20,30,40}"
   ]
  },
  {
   "cell_type": "code",
   "execution_count": 64,
   "id": "bdd822b2-f416-4c3d-a3be-cefb23cfa0ba",
   "metadata": {},
   "outputs": [
    {
     "data": {
      "text/plain": [
       "True"
      ]
     },
     "execution_count": 64,
     "metadata": {},
     "output_type": "execute_result"
    }
   ],
   "source": [
    "a1.issuperset(b1)"
   ]
  },
  {
   "cell_type": "code",
   "execution_count": 65,
   "id": "835cace8-c5ad-46b8-a949-b13b052e5276",
   "metadata": {},
   "outputs": [
    {
     "data": {
      "text/plain": [
       "True"
      ]
     },
     "execution_count": 65,
     "metadata": {},
     "output_type": "execute_result"
    }
   ],
   "source": [
    "b1.issubset(a1)"
   ]
  },
  {
   "cell_type": "code",
   "execution_count": 66,
   "id": "80b8fd27-100d-4426-a0b0-21ff89881e68",
   "metadata": {},
   "outputs": [
    {
     "data": {
      "text/plain": [
       "True"
      ]
     },
     "execution_count": 66,
     "metadata": {},
     "output_type": "execute_result"
    }
   ],
   "source": [
    "c1.isdisjoint(a1)"
   ]
  },
  {
   "cell_type": "code",
   "execution_count": 67,
   "id": "268706f6-9f86-416c-b414-dee2125a4fd7",
   "metadata": {},
   "outputs": [],
   "source": [
    "a1={1,2,3,4,5,6,7,8,9}\n",
    "b1={3,4,5,6,7,8}\n",
    "c1={10,20,30,40}"
   ]
  },
  {
   "cell_type": "code",
   "execution_count": 68,
   "id": "5248d93d-ee90-4f87-9fb4-9760317bb67b",
   "metadata": {},
   "outputs": [
    {
     "data": {
      "text/plain": [
       "False"
      ]
     },
     "execution_count": 68,
     "metadata": {},
     "output_type": "execute_result"
    }
   ],
   "source": [
    "b1.isdisjoint(a1)"
   ]
  },
  {
   "cell_type": "code",
   "execution_count": 69,
   "id": "19ca9459-8488-4f40-be58-0801b18515fc",
   "metadata": {},
   "outputs": [
    {
     "data": {
      "text/plain": [
       "True"
      ]
     },
     "execution_count": 69,
     "metadata": {},
     "output_type": "execute_result"
    }
   ],
   "source": [
    "b1.isdisjoint(c1)"
   ]
  },
  {
   "cell_type": "code",
   "execution_count": 70,
   "id": "a52e7f26-6bdc-402e-a2b6-8321b596e460",
   "metadata": {},
   "outputs": [],
   "source": [
    "a2={1,2,3,4,5,6,7,8,9}\n",
    "b2={35,44,55,65,75,85}\n",
    "c2={10,20,30,40}"
   ]
  },
  {
   "cell_type": "code",
   "execution_count": 71,
   "id": "225668da-02a4-41b1-858e-938d8268c709",
   "metadata": {},
   "outputs": [
    {
     "data": {
      "text/plain": [
       "True"
      ]
     },
     "execution_count": 71,
     "metadata": {},
     "output_type": "execute_result"
    }
   ],
   "source": [
    "a2.isdisjoint(b2)"
   ]
  },
  {
   "cell_type": "code",
   "execution_count": 72,
   "id": "c2dd2960-82cf-4d4d-a1a7-ed1e62e9ee1b",
   "metadata": {},
   "outputs": [
    {
     "data": {
      "text/plain": [
       "False"
      ]
     },
     "execution_count": 72,
     "metadata": {},
     "output_type": "execute_result"
    }
   ],
   "source": [
    "a2.issubset(b2)"
   ]
  },
  {
   "cell_type": "code",
   "execution_count": 73,
   "id": "06f17f54-ca0a-4f4d-832e-3af93c225945",
   "metadata": {},
   "outputs": [
    {
     "data": {
      "text/plain": [
       "True"
      ]
     },
     "execution_count": 73,
     "metadata": {},
     "output_type": "execute_result"
    }
   ],
   "source": [
    "c2.isdisjoint(a2)"
   ]
  },
  {
   "cell_type": "markdown",
   "id": "96dd43a8-c583-407f-afcb-6c903b299f14",
   "metadata": {},
   "source": [
    "# DICTIONARY\n",
    "## key : value {dictionry format\n",
    "## more priority goes to key\n",
    "### key can't have copy in dictionary but can have the copy in dictionary\n",
    "### it is muatable"
   ]
  },
  {
   "cell_type": "code",
   "execution_count": 74,
   "id": "3c74d584-72d4-436c-ae4f-ca48ad1c32eb",
   "metadata": {},
   "outputs": [],
   "source": [
    "d={}"
   ]
  },
  {
   "cell_type": "code",
   "execution_count": 75,
   "id": "485d3bae-9218-4a84-9700-619345e0e5dc",
   "metadata": {},
   "outputs": [
    {
     "data": {
      "text/plain": [
       "dict"
      ]
     },
     "execution_count": 75,
     "metadata": {},
     "output_type": "execute_result"
    }
   ],
   "source": [
    "type(d)"
   ]
  },
  {
   "cell_type": "code",
   "execution_count": 76,
   "id": "33e8451c-6030-4674-91a4-f403b46104df",
   "metadata": {},
   "outputs": [
    {
     "data": {
      "text/plain": [
       "{1: 'one', 2: 'two', 3: 'three'}"
      ]
     },
     "execution_count": 76,
     "metadata": {},
     "output_type": "execute_result"
    }
   ],
   "source": [
    "d1={1:'one',2:'two',3:'three'}\n",
    "d1"
   ]
  },
  {
   "cell_type": "code",
   "execution_count": 77,
   "id": "3f8f6117-0ad0-442c-9a31-97d96dfb3617",
   "metadata": {},
   "outputs": [
    {
     "data": {
      "text/plain": [
       "dict_keys([1, 2, 3])"
      ]
     },
     "execution_count": 77,
     "metadata": {},
     "output_type": "execute_result"
    }
   ],
   "source": [
    "d1.keys()"
   ]
  },
  {
   "cell_type": "code",
   "execution_count": 78,
   "id": "fd8371d2-c077-4afe-a25e-68ff257250b7",
   "metadata": {},
   "outputs": [
    {
     "data": {
      "text/plain": [
       "dict_items([(1, 'one'), (2, 'two'), (3, 'three')])"
      ]
     },
     "execution_count": 78,
     "metadata": {},
     "output_type": "execute_result"
    }
   ],
   "source": [
    "d1.items()"
   ]
  },
  {
   "cell_type": "code",
   "execution_count": 82,
   "id": "4d871562-1b0e-458b-afd4-929bc23d649b",
   "metadata": {},
   "outputs": [
    {
     "ename": "KeyError",
     "evalue": "0",
     "output_type": "error",
     "traceback": [
      "\u001b[1;31m---------------------------------------------------------------------------\u001b[0m",
      "\u001b[1;31mKeyError\u001b[0m                                  Traceback (most recent call last)",
      "Cell \u001b[1;32mIn[82], line 1\u001b[0m\n\u001b[1;32m----> 1\u001b[0m d1[\u001b[38;5;241m0\u001b[39m]\n",
      "\u001b[1;31mKeyError\u001b[0m: 0"
     ]
    }
   ],
   "source": [
    "d1[0]"
   ]
  },
  {
   "cell_type": "code",
   "execution_count": 83,
   "id": "d2af54d9-0646-46b2-ab09-7ce5709dce1a",
   "metadata": {},
   "outputs": [
    {
     "data": {
      "text/plain": [
       "'one'"
      ]
     },
     "execution_count": 83,
     "metadata": {},
     "output_type": "execute_result"
    }
   ],
   "source": [
    "d1[1]"
   ]
  },
  {
   "cell_type": "code",
   "execution_count": 84,
   "id": "937b03e9-5ccb-4c29-a3c1-f6580f84da2b",
   "metadata": {},
   "outputs": [
    {
     "data": {
      "text/plain": [
       "'one'"
      ]
     },
     "execution_count": 84,
     "metadata": {},
     "output_type": "execute_result"
    }
   ],
   "source": [
    "d1.get(1)"
   ]
  },
  {
   "cell_type": "code",
   "execution_count": 85,
   "id": "8d914603-80b3-4d3b-922e-4289397048c7",
   "metadata": {},
   "outputs": [
    {
     "data": {
      "text/plain": [
       "'two'"
      ]
     },
     "execution_count": 85,
     "metadata": {},
     "output_type": "execute_result"
    }
   ],
   "source": [
    "d1.get(2)"
   ]
  },
  {
   "cell_type": "code",
   "execution_count": 86,
   "id": "5ecc1c78-254d-4d7a-87ef-4e339ee6e75c",
   "metadata": {},
   "outputs": [
    {
     "data": {
      "text/plain": [
       "{1: 'one', 2: 'two', 3: 'three'}"
      ]
     },
     "execution_count": 86,
     "metadata": {},
     "output_type": "execute_result"
    }
   ],
   "source": [
    "d1"
   ]
  },
  {
   "cell_type": "code",
   "execution_count": 88,
   "id": "36e87c7f-696c-4e98-832f-aecd75bc2e18",
   "metadata": {},
   "outputs": [
    {
     "name": "stdout",
     "output_type": "stream",
     "text": [
      "1 2 3 "
     ]
    }
   ],
   "source": [
    "for i in d1:\n",
    "    print(i,end=' ')"
   ]
  },
  {
   "cell_type": "code",
   "execution_count": 92,
   "id": "ae5793ef-3e34-4d0e-bfc4-66e38d23ecae",
   "metadata": {},
   "outputs": [
    {
     "name": "stdout",
     "output_type": "stream",
     "text": [
      "1 : one 2 : two 3 : three "
     ]
    }
   ],
   "source": [
    "for i in d1:\n",
    "    print(i, \":\",d1[i],end=\" \")"
   ]
  },
  {
   "cell_type": "code",
   "execution_count": 93,
   "id": "879118e1-96a6-424a-838e-fe6ab01fdb97",
   "metadata": {},
   "outputs": [
    {
     "name": "stdout",
     "output_type": "stream",
     "text": [
      "nitnit\n"
     ]
    }
   ],
   "source": [
    "print('nit' 'nit')"
   ]
  },
  {
   "cell_type": "code",
   "execution_count": null,
   "id": "fa6d14ad-2c37-4f8a-bfc3-963464dda245",
   "metadata": {},
   "outputs": [],
   "source": []
  },
  {
   "cell_type": "code",
   "execution_count": null,
   "id": "d825eed0-9efd-4dc0-aaaa-ac2ed0f782c4",
   "metadata": {},
   "outputs": [],
   "source": []
  },
  {
   "cell_type": "code",
   "execution_count": null,
   "id": "90f535c8-9914-4b85-948f-17e542cf1bd7",
   "metadata": {},
   "outputs": [],
   "source": []
  },
  {
   "cell_type": "code",
   "execution_count": null,
   "id": "95f44fb9-72e0-4371-b1be-727612212e3d",
   "metadata": {},
   "outputs": [],
   "source": []
  },
  {
   "cell_type": "code",
   "execution_count": null,
   "id": "455c67e3-e7dd-449a-a27e-b2b3de1299fa",
   "metadata": {},
   "outputs": [],
   "source": []
  },
  {
   "cell_type": "code",
   "execution_count": null,
   "id": "192393cb-69ed-4379-a3ed-8475fbef6e8b",
   "metadata": {},
   "outputs": [],
   "source": []
  },
  {
   "cell_type": "code",
   "execution_count": null,
   "id": "79394d90-0e76-4e11-94c6-2bc4fdcdec17",
   "metadata": {},
   "outputs": [],
   "source": []
  },
  {
   "cell_type": "code",
   "execution_count": null,
   "id": "10763c6d-ac89-4d25-b824-a2653cba5926",
   "metadata": {},
   "outputs": [],
   "source": []
  },
  {
   "cell_type": "code",
   "execution_count": null,
   "id": "aa91f2f0-fb81-44fa-81e3-b61db0c511bd",
   "metadata": {},
   "outputs": [],
   "source": []
  }
 ],
 "metadata": {
  "kernelspec": {
   "display_name": "Python 3 (ipykernel)",
   "language": "python",
   "name": "python3"
  },
  "language_info": {
   "codemirror_mode": {
    "name": "ipython",
    "version": 3
   },
   "file_extension": ".py",
   "mimetype": "text/x-python",
   "name": "python",
   "nbconvert_exporter": "python",
   "pygments_lexer": "ipython3",
   "version": "3.13.5"
  }
 },
 "nbformat": 4,
 "nbformat_minor": 5
}
