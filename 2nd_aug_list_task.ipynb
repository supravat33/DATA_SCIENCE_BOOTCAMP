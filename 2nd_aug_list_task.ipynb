{
 "cells": [
  {
   "cell_type": "markdown",
   "id": "e4c7f1af-a86c-47cf-b21f-678f55be1f65",
   "metadata": {},
   "source": [
    "# LIST\n",
    "### List is an ordered sequence of items.\n",
    "### We can have different data types under a list. E.g we can have integer, float and string items in a same list."
   ]
  },
  {
   "cell_type": "markdown",
   "id": "f513fd3c-b60c-45e9-a021-94fd6525b37c",
   "metadata": {},
   "source": [
    "####  list creation"
   ]
  },
  {
   "cell_type": "code",
   "execution_count": 3,
   "id": "e128c863-e1a8-4586-95e6-cdb3edbc1f0b",
   "metadata": {},
   "outputs": [],
   "source": [
    "list1 = [] # Empty List\n"
   ]
  },
  {
   "cell_type": "code",
   "execution_count": 4,
   "id": "e1f71cfd-130b-4320-a962-d378f12e3129",
   "metadata": {},
   "outputs": [
    {
     "name": "stdout",
     "output_type": "stream",
     "text": [
      "<class 'list'>\n"
     ]
    }
   ],
   "source": [
    "print(type(list1))"
   ]
  },
  {
   "cell_type": "code",
   "execution_count": 5,
   "id": "8d07ae4d-43f2-410f-88c4-fcb063991479",
   "metadata": {},
   "outputs": [],
   "source": [
    "l2 = [10,30,60] # List of integers numbers"
   ]
  },
  {
   "cell_type": "code",
   "execution_count": 6,
   "id": "aa42c000-30fe-43c6-9174-eaa95f482a9f",
   "metadata": {},
   "outputs": [],
   "source": [
    "l3= [10.77,30.66,60.89] # List of float numbers"
   ]
  },
  {
   "cell_type": "code",
   "execution_count": 7,
   "id": "48b37979-82bb-439a-a42d-cc2b60031f9c",
   "metadata": {},
   "outputs": [],
   "source": [
    "l4=  ['Supravat','Das' ] # List of strings"
   ]
  },
  {
   "cell_type": "code",
   "execution_count": 8,
   "id": "dc1d6815-0e2d-4f3a-bc6a-dd3e323bbca9",
   "metadata": {},
   "outputs": [],
   "source": [
    "l5=['Asif', 25 ,[50, 100],[150, 90]] # Nested Lists"
   ]
  },
  {
   "cell_type": "code",
   "execution_count": 9,
   "id": "595c6b10-4514-4694-85cc-c7031ae92080",
   "metadata": {},
   "outputs": [],
   "source": [
    "l6=[100, 'Asif', 17.765] # List of mixed data types"
   ]
  },
  {
   "cell_type": "code",
   "execution_count": 10,
   "id": "f748632c-1ec6-43fa-8d33-8f224667a079",
   "metadata": {},
   "outputs": [],
   "source": [
    "l7= ['Asif', 25 ,[50, 100],[150, 90] , {'John' , 'David'}]"
   ]
  },
  {
   "cell_type": "code",
   "execution_count": 11,
   "id": "cd0b8f02-53dc-4f60-8f38-a4f930ffd7a4",
   "metadata": {},
   "outputs": [
    {
     "data": {
      "text/plain": [
       "3"
      ]
     },
     "execution_count": 11,
     "metadata": {},
     "output_type": "execute_result"
    }
   ],
   "source": [
    "len(l6)"
   ]
  },
  {
   "cell_type": "markdown",
   "id": "dd8b5c00-0a79-45f4-a186-c0b3ae211083",
   "metadata": {},
   "source": [
    "### list indexing"
   ]
  },
  {
   "cell_type": "code",
   "execution_count": 12,
   "id": "ce9ab4c4-b7af-4212-afa1-25273671316d",
   "metadata": {},
   "outputs": [
    {
     "data": {
      "text/plain": [
       "60"
      ]
     },
     "execution_count": 12,
     "metadata": {},
     "output_type": "execute_result"
    }
   ],
   "source": [
    "l2[2] # Retreive 3rd element of the list"
   ]
  },
  {
   "cell_type": "code",
   "execution_count": 13,
   "id": "7aeb2fa6-960a-4c1a-9c53-a05f6f3b03a5",
   "metadata": {},
   "outputs": [
    {
     "data": {
      "text/plain": [
       "'Supravat'"
      ]
     },
     "execution_count": 13,
     "metadata": {},
     "output_type": "execute_result"
    }
   ],
   "source": [
    "l4[0] # Retreive first element of the list"
   ]
  },
  {
   "cell_type": "code",
   "execution_count": 14,
   "id": "2559b3dc-5eb4-4aab-a015-bae4350d4fd9",
   "metadata": {},
   "outputs": [
    {
     "data": {
      "text/plain": [
       "'S'"
      ]
     },
     "execution_count": 14,
     "metadata": {},
     "output_type": "execute_result"
    }
   ],
   "source": [
    "l4[0][0] # Nested indexing - Access the first character of the first list element"
   ]
  },
  {
   "cell_type": "code",
   "execution_count": 15,
   "id": "e5b2d4ab-af7d-4aa3-81d4-a2fd74b12b6a",
   "metadata": {},
   "outputs": [
    {
     "data": {
      "text/plain": [
       "'Das'"
      ]
     },
     "execution_count": 15,
     "metadata": {},
     "output_type": "execute_result"
    }
   ],
   "source": [
    "l4[-1] # Last item of the list"
   ]
  },
  {
   "cell_type": "code",
   "execution_count": 16,
   "id": "0ad34a3c-aa17-4b56-8d3a-a82843919fa2",
   "metadata": {},
   "outputs": [
    {
     "data": {
      "text/plain": [
       "[150, 90]"
      ]
     },
     "execution_count": 16,
     "metadata": {},
     "output_type": "execute_result"
    }
   ],
   "source": [
    "l5[-1] # Last item of the list"
   ]
  },
  {
   "cell_type": "code",
   "execution_count": 17,
   "id": "f96ee01c-c300-4c36-86c9-17de83c45b63",
   "metadata": {},
   "outputs": [],
   "source": [
    "mylist=['rudra','ravi','kishaan','suresh','masiure','supravat','takla','rani']"
   ]
  },
  {
   "cell_type": "code",
   "execution_count": 18,
   "id": "4916be16-ca75-4bb2-8e82-78c65f9da4fe",
   "metadata": {},
   "outputs": [
    {
     "data": {
      "text/plain": [
       "['rudra', 'ravi', 'kishaan']"
      ]
     },
     "execution_count": 18,
     "metadata": {},
     "output_type": "execute_result"
    }
   ],
   "source": [
    "mylist[0:3] # Return all items from 0th to 3rd index location excluding the item"
   ]
  },
  {
   "cell_type": "code",
   "execution_count": 19,
   "id": "57219bc7-6fb5-4567-9ee6-d479d674b2a2",
   "metadata": {},
   "outputs": [
    {
     "data": {
      "text/plain": [
       "['kishaan', 'suresh', 'masiure']"
      ]
     },
     "execution_count": 19,
     "metadata": {},
     "output_type": "execute_result"
    }
   ],
   "source": [
    "mylist[2:5]"
   ]
  },
  {
   "cell_type": "code",
   "execution_count": 20,
   "id": "5fbbe2a0-5f64-4ec6-8d8b-3df5621e898a",
   "metadata": {},
   "outputs": [
    {
     "data": {
      "text/plain": [
       "['rudra', 'ravi', 'kishaan']"
      ]
     },
     "execution_count": 20,
     "metadata": {},
     "output_type": "execute_result"
    }
   ],
   "source": [
    "mylist[:3]# Return first three items"
   ]
  },
  {
   "cell_type": "code",
   "execution_count": 21,
   "id": "c439daba-8e23-40cc-8bc5-ec21883c04e7",
   "metadata": {},
   "outputs": [
    {
     "data": {
      "text/plain": [
       "['rudra', 'ravi']"
      ]
     },
     "execution_count": 21,
     "metadata": {},
     "output_type": "execute_result"
    }
   ],
   "source": [
    "mylist[:2] # Return first two items"
   ]
  },
  {
   "cell_type": "code",
   "execution_count": 22,
   "id": "1da40c58-11a0-42d5-910e-7179bca72158",
   "metadata": {},
   "outputs": [
    {
     "data": {
      "text/plain": [
       "['supravat', 'takla', 'rani']"
      ]
     },
     "execution_count": 22,
     "metadata": {},
     "output_type": "execute_result"
    }
   ],
   "source": [
    "mylist[-3:] # Return last three items"
   ]
  },
  {
   "cell_type": "code",
   "execution_count": 23,
   "id": "bd6e7966-c317-47dc-a02d-d55c4a01b12c",
   "metadata": {},
   "outputs": [
    {
     "data": {
      "text/plain": [
       "['takla', 'rani']"
      ]
     },
     "execution_count": 23,
     "metadata": {},
     "output_type": "execute_result"
    }
   ],
   "source": [
    "mylist[-2:] # Return last two items"
   ]
  },
  {
   "cell_type": "code",
   "execution_count": 24,
   "id": "cddeeacb-cade-4688-853d-a6d4857adab7",
   "metadata": {},
   "outputs": [
    {
     "data": {
      "text/plain": [
       "'rani'"
      ]
     },
     "execution_count": 24,
     "metadata": {},
     "output_type": "execute_result"
    }
   ],
   "source": [
    "mylist[-1] # Return last item of the list"
   ]
  },
  {
   "cell_type": "code",
   "execution_count": 25,
   "id": "f906a1cc-0f79-4bca-bc09-4ac5883c748a",
   "metadata": {},
   "outputs": [
    {
     "data": {
      "text/plain": [
       "['rudra', 'ravi', 'kishaan', 'suresh', 'masiure', 'supravat', 'takla', 'rani']"
      ]
     },
     "execution_count": 25,
     "metadata": {},
     "output_type": "execute_result"
    }
   ],
   "source": [
    "mylist[:] # Return whole list"
   ]
  },
  {
   "cell_type": "markdown",
   "id": "ecfe349e-3bad-4328-97fa-fbc7172a3d91",
   "metadata": {},
   "source": [
    "#### ADD,REMOVE AND CHANGE THE ITEMS"
   ]
  },
  {
   "cell_type": "code",
   "execution_count": 26,
   "id": "2a643ebc-ab82-4ac8-9517-c72d53dcf6c2",
   "metadata": {},
   "outputs": [
    {
     "data": {
      "text/plain": [
       "['rudra', 'ravi', 'kishaan', 'suresh', 'masiure', 'supravat', 'takla', 'rani']"
      ]
     },
     "execution_count": 26,
     "metadata": {},
     "output_type": "execute_result"
    }
   ],
   "source": [
    "mylist"
   ]
  },
  {
   "cell_type": "code",
   "execution_count": 27,
   "id": "a96af372-3849-4ece-ba55-85b88ee398b1",
   "metadata": {},
   "outputs": [],
   "source": [
    "mylist.append('teja')"
   ]
  },
  {
   "cell_type": "code",
   "execution_count": 28,
   "id": "5ecdc0ff-3257-44a2-abb4-2c08188f076e",
   "metadata": {},
   "outputs": [
    {
     "data": {
      "text/plain": [
       "['rudra',\n",
       " 'ravi',\n",
       " 'kishaan',\n",
       " 'suresh',\n",
       " 'masiure',\n",
       " 'supravat',\n",
       " 'takla',\n",
       " 'rani',\n",
       " 'teja']"
      ]
     },
     "execution_count": 28,
     "metadata": {},
     "output_type": "execute_result"
    }
   ],
   "source": [
    "mylist"
   ]
  },
  {
   "cell_type": "code",
   "execution_count": 29,
   "id": "c6c0a710-d0ef-47ff-8fba-420c8c131f96",
   "metadata": {},
   "outputs": [
    {
     "data": {
      "text/plain": [
       "['rudra',\n",
       " 'ravi',\n",
       " 'kishaan',\n",
       " 'suresh',\n",
       " 'masiure',\n",
       " 'supravat',\n",
       " 'takla',\n",
       " 'rani',\n",
       " 'teja',\n",
       " 'gopal']"
      ]
     },
     "execution_count": 29,
     "metadata": {},
     "output_type": "execute_result"
    }
   ],
   "source": [
    "mylist.insert(9,'gopal')\n",
    "mylist"
   ]
  },
  {
   "cell_type": "code",
   "execution_count": 30,
   "id": "3e0c67ac-dc6a-49c7-bfae-43e61f89210a",
   "metadata": {},
   "outputs": [
    {
     "data": {
      "text/plain": [
       "['rudra',\n",
       " 'krish',\n",
       " 'ravi',\n",
       " 'kishaan',\n",
       " 'suresh',\n",
       " 'masiure',\n",
       " 'supravat',\n",
       " 'takla',\n",
       " 'rani',\n",
       " 'teja',\n",
       " 'gopal']"
      ]
     },
     "execution_count": 30,
     "metadata": {},
     "output_type": "execute_result"
    }
   ],
   "source": [
    "mylist.insert(1,'krish')\n",
    "mylist"
   ]
  },
  {
   "cell_type": "code",
   "execution_count": 31,
   "id": "dc6b28f3-51ba-4286-97a3-da6f6f9733ef",
   "metadata": {},
   "outputs": [
    {
     "data": {
      "text/plain": [
       "['rudra',\n",
       " 'ravi',\n",
       " 'kishaan',\n",
       " 'suresh',\n",
       " 'masiure',\n",
       " 'supravat',\n",
       " 'takla',\n",
       " 'rani',\n",
       " 'teja',\n",
       " 'gopal']"
      ]
     },
     "execution_count": 31,
     "metadata": {},
     "output_type": "execute_result"
    }
   ],
   "source": [
    "mylist.remove('krish')\n",
    "mylist"
   ]
  },
  {
   "cell_type": "code",
   "execution_count": 32,
   "id": "ed456cfc-4ab5-447b-a16c-9237c410cfd1",
   "metadata": {},
   "outputs": [
    {
     "data": {
      "text/plain": [
       "'gopal'"
      ]
     },
     "execution_count": 32,
     "metadata": {},
     "output_type": "execute_result"
    }
   ],
   "source": [
    "mylist.pop()  # Remove last item of the list"
   ]
  },
  {
   "cell_type": "code",
   "execution_count": 33,
   "id": "34539776-b620-45b3-8ebf-3a5694d602b7",
   "metadata": {},
   "outputs": [
    {
     "data": {
      "text/plain": [
       "'teja'"
      ]
     },
     "execution_count": 33,
     "metadata": {},
     "output_type": "execute_result"
    }
   ],
   "source": [
    "mylist.pop(8)"
   ]
  },
  {
   "cell_type": "code",
   "execution_count": 34,
   "id": "4b5fa8e7-2282-443f-9f92-7912db4e3fc7",
   "metadata": {},
   "outputs": [],
   "source": [
    "del mylist[7]"
   ]
  },
  {
   "cell_type": "code",
   "execution_count": 35,
   "id": "c265438d-f810-4101-91ac-b5e1d98f27fb",
   "metadata": {},
   "outputs": [
    {
     "data": {
      "text/plain": [
       "['rudra', 'ravi', 'kishaan', 'suresh', 'masiure', 'supravat', 'takla']"
      ]
     },
     "execution_count": 35,
     "metadata": {},
     "output_type": "execute_result"
    }
   ],
   "source": [
    "mylist"
   ]
  },
  {
   "cell_type": "code",
   "execution_count": 36,
   "id": "35482c4c-3b80-4fda-976d-848bbf604b8e",
   "metadata": {},
   "outputs": [
    {
     "data": {
      "text/plain": [
       "[1, 2, 3, 'suresh', 'masiure', 'supravat', 'takla']"
      ]
     },
     "execution_count": 36,
     "metadata": {},
     "output_type": "execute_result"
    }
   ],
   "source": [
    "mylist[0] = 1\n",
    "mylist[1] = 2\n",
    "mylist[2] = 3\n",
    "mylist"
   ]
  },
  {
   "cell_type": "code",
   "execution_count": 37,
   "id": "0add4e71-437e-4d36-b74c-3826cb5ad2b1",
   "metadata": {},
   "outputs": [
    {
     "data": {
      "text/plain": [
       "[]"
      ]
     },
     "execution_count": 37,
     "metadata": {},
     "output_type": "execute_result"
    }
   ],
   "source": [
    "mylist.clear() # Empty List / Delete all items in the list\n",
    "mylist"
   ]
  },
  {
   "cell_type": "code",
   "execution_count": 38,
   "id": "52906b2a-1555-4284-b00f-c12e2dcdfe59",
   "metadata": {},
   "outputs": [],
   "source": [
    "del mylist"
   ]
  },
  {
   "cell_type": "code",
   "execution_count": 39,
   "id": "e74a8eef-ef69-43a3-ab11-4b665341541a",
   "metadata": {},
   "outputs": [
    {
     "ename": "NameError",
     "evalue": "name 'mylist' is not defined",
     "output_type": "error",
     "traceback": [
      "\u001b[1;31m---------------------------------------------------------------------------\u001b[0m",
      "\u001b[1;31mNameError\u001b[0m                                 Traceback (most recent call last)",
      "Cell \u001b[1;32mIn[39], line 1\u001b[0m\n\u001b[1;32m----> 1\u001b[0m mylist\n",
      "\u001b[1;31mNameError\u001b[0m: name 'mylist' is not defined"
     ]
    }
   ],
   "source": [
    "mylist"
   ]
  },
  {
   "cell_type": "code",
   "execution_count": 40,
   "id": "2f1af4a3-59e7-4eb6-b6ea-74bb7bd1bfc3",
   "metadata": {},
   "outputs": [],
   "source": [
    "mylist=['rudra','ravi','kishaan','suresh','masiure','supravat','takla','rani']"
   ]
  },
  {
   "cell_type": "code",
   "execution_count": 41,
   "id": "5ee9487c-4adc-4119-8807-96920f344918",
   "metadata": {},
   "outputs": [],
   "source": [
    "mylist1=mylist"
   ]
  },
  {
   "cell_type": "code",
   "execution_count": 43,
   "id": "d7aacdef-d413-497a-81a7-f37dcd5221c7",
   "metadata": {},
   "outputs": [
    {
     "data": {
      "text/plain": [
       "(1884166564288, 1884166564288)"
      ]
     },
     "execution_count": 43,
     "metadata": {},
     "output_type": "execute_result"
    }
   ],
   "source": [
    "id(mylist),id(mylist1)# The address of both mylist & mylist1 will be the same"
   ]
  },
  {
   "cell_type": "code",
   "execution_count": 44,
   "id": "fed524d5-267e-4318-bb45-61ebf86f7f59",
   "metadata": {},
   "outputs": [],
   "source": [
    "mylist2=mylist.copy()"
   ]
  },
  {
   "cell_type": "code",
   "execution_count": 46,
   "id": "f3ef7bee-c58c-4fc2-b4d7-9d5819767176",
   "metadata": {},
   "outputs": [
    {
     "data": {
      "text/plain": [
       "1884149967040"
      ]
     },
     "execution_count": 46,
     "metadata": {},
     "output_type": "execute_result"
    }
   ],
   "source": [
    "id(mylist2) # The address of mylist2 will be different from mylist \n"
   ]
  },
  {
   "cell_type": "code",
   "execution_count": 47,
   "id": "f817f034-d5e3-4035-a491-312fd077ae1a",
   "metadata": {},
   "outputs": [],
   "source": [
    "mylist[0]=1"
   ]
  },
  {
   "cell_type": "code",
   "execution_count": 48,
   "id": "fd4d071d-9709-48a4-8920-f6f03820e451",
   "metadata": {},
   "outputs": [
    {
     "data": {
      "text/plain": [
       "[1, 'ravi', 'kishaan', 'suresh', 'masiure', 'supravat', 'takla', 'rani']"
      ]
     },
     "execution_count": 48,
     "metadata": {},
     "output_type": "execute_result"
    }
   ],
   "source": [
    "mylist"
   ]
  },
  {
   "cell_type": "code",
   "execution_count": 50,
   "id": "3e53793f-2d2d-463e-8917-ea2aedee3ad1",
   "metadata": {},
   "outputs": [
    {
     "data": {
      "text/plain": [
       "[1, 'ravi', 'kishaan', 'suresh', 'masiure', 'supravat', 'takla', 'rani']"
      ]
     },
     "execution_count": 50,
     "metadata": {},
     "output_type": "execute_result"
    }
   ],
   "source": [
    "mylist1  # mylist1 will be also impacted as it is pointing to the same list"
   ]
  },
  {
   "cell_type": "code",
   "execution_count": 52,
   "id": "0a1dd833-017f-4f90-b3f6-63b7dc016166",
   "metadata": {},
   "outputs": [
    {
     "data": {
      "text/plain": [
       "['rudra', 'ravi', 'kishaan', 'suresh', 'masiure', 'supravat', 'takla', 'rani']"
      ]
     },
     "execution_count": 52,
     "metadata": {},
     "output_type": "execute_result"
    }
   ],
   "source": [
    "mylist2 # Copy of list won't be impacted due to changes made on the original lis"
   ]
  },
  {
   "cell_type": "markdown",
   "id": "065843ea-f911-4313-9873-ebf02fabf856",
   "metadata": {},
   "source": [
    "#### join list"
   ]
  },
  {
   "cell_type": "code",
   "execution_count": 53,
   "id": "e67c0806-0724-4c50-b6ea-f7e8d2d11b81",
   "metadata": {},
   "outputs": [],
   "source": [
    "list1 = ['one', 'two', 'three', 'four']\n",
    "list2 = ['five', 'six', 'seven', 'eight']\n"
   ]
  },
  {
   "cell_type": "code",
   "execution_count": 54,
   "id": "ef70bbd6-1477-45ff-92dc-92dea39b7e13",
   "metadata": {},
   "outputs": [
    {
     "data": {
      "text/plain": [
       "['one', 'two', 'three', 'four', 'five', 'six', 'seven', 'eight']"
      ]
     },
     "execution_count": 54,
     "metadata": {},
     "output_type": "execute_result"
    }
   ],
   "source": [
    "list3 = list1 + list2 # Join two lists by '+' operator\n",
    "list3"
   ]
  },
  {
   "cell_type": "code",
   "execution_count": 55,
   "id": "ce2745df-0d66-4f34-81c7-5bb05b828334",
   "metadata": {},
   "outputs": [
    {
     "data": {
      "text/plain": [
       "['one', 'two', 'three', 'four', 'five', 'six', 'seven', 'eight']"
      ]
     },
     "execution_count": 55,
     "metadata": {},
     "output_type": "execute_result"
    }
   ],
   "source": [
    "list1.extend(list2) #Append list2 with list1\n",
    "list1"
   ]
  },
  {
   "cell_type": "markdown",
   "id": "c4ccb0ef-90e8-45c7-9b8e-d06b4590c8ba",
   "metadata": {},
   "source": [
    "#### list membershil"
   ]
  },
  {
   "cell_type": "code",
   "execution_count": 56,
   "id": "aab1bf16-3e6c-429e-9cd3-1b8dcb1bc55a",
   "metadata": {},
   "outputs": [
    {
     "data": {
      "text/plain": [
       "['one', 'two', 'three', 'four', 'five', 'six', 'seven', 'eight']"
      ]
     },
     "execution_count": 56,
     "metadata": {},
     "output_type": "execute_result"
    }
   ],
   "source": [
    "list1"
   ]
  },
  {
   "cell_type": "code",
   "execution_count": 57,
   "id": "2da2455d-0aa7-437e-9bc9-0765cc00dee5",
   "metadata": {},
   "outputs": [
    {
     "data": {
      "text/plain": [
       "True"
      ]
     },
     "execution_count": 57,
     "metadata": {},
     "output_type": "execute_result"
    }
   ],
   "source": [
    "'one'  in list1"
   ]
  },
  {
   "cell_type": "code",
   "execution_count": 58,
   "id": "761a56c6-2751-4a3c-abb1-bca670d974b6",
   "metadata": {},
   "outputs": [
    {
     "data": {
      "text/plain": [
       "False"
      ]
     },
     "execution_count": 58,
     "metadata": {},
     "output_type": "execute_result"
    }
   ],
   "source": [
    "'ten' in list1"
   ]
  },
  {
   "cell_type": "code",
   "execution_count": 59,
   "id": "09ae29e1-4d9e-48f5-81cf-532a1db348eb",
   "metadata": {},
   "outputs": [
    {
     "name": "stdout",
     "output_type": "stream",
     "text": [
      "hello there i am 3\n"
     ]
    }
   ],
   "source": [
    "if 'three' in list1:\n",
    "    print('hello there i am 3')\n",
    "else:\n",
    "    print(\"three is absent from list1\")"
   ]
  },
  {
   "cell_type": "code",
   "execution_count": 61,
   "id": "53a4711c-5582-4d8b-b9e3-1ae52187106d",
   "metadata": {},
   "outputs": [
    {
     "name": "stdout",
     "output_type": "stream",
     "text": [
      "eleven is not present in the list\n"
     ]
    }
   ],
   "source": [
    "if 'eleven' in list1: \n",
    "    print('eleven is present in the list')\n",
    "else:   \n",
    "    print('eleven is not present in the list')"
   ]
  },
  {
   "cell_type": "markdown",
   "id": "8529dca2-fa8b-4118-873a-309ca39cd2c8",
   "metadata": {},
   "source": [
    "#### REVERSE & SORT LIST"
   ]
  },
  {
   "cell_type": "code",
   "execution_count": 62,
   "id": "0b22920b-528d-470e-b9e9-08a552f993ea",
   "metadata": {},
   "outputs": [
    {
     "data": {
      "text/plain": [
       "['one', 'two', 'three', 'four', 'five', 'six', 'seven', 'eight']"
      ]
     },
     "execution_count": 62,
     "metadata": {},
     "output_type": "execute_result"
    }
   ],
   "source": [
    "list1"
   ]
  },
  {
   "cell_type": "code",
   "execution_count": 63,
   "id": "ac076839-688f-4a9e-8337-8feb09210ba8",
   "metadata": {},
   "outputs": [],
   "source": [
    "list1.reverse()"
   ]
  },
  {
   "cell_type": "code",
   "execution_count": 64,
   "id": "4634cd80-6993-43d0-914d-9e4cbd5d4c73",
   "metadata": {},
   "outputs": [
    {
     "data": {
      "text/plain": [
       "['eight', 'seven', 'six', 'five', 'four', 'three', 'two', 'one']"
      ]
     },
     "execution_count": 64,
     "metadata": {},
     "output_type": "execute_result"
    }
   ],
   "source": [
    "list1"
   ]
  },
  {
   "cell_type": "code",
   "execution_count": 66,
   "id": "27038e41-c1a2-43b8-94fc-33795ce09f16",
   "metadata": {},
   "outputs": [
    {
     "data": {
      "text/plain": [
       "['two', 'three', 'four', 'five', 'six', 'seven', 'eight']"
      ]
     },
     "execution_count": 66,
     "metadata": {},
     "output_type": "execute_result"
    }
   ],
   "source": [
    "list1 =  list1[::-1]\n",
    "list1"
   ]
  },
  {
   "cell_type": "code",
   "execution_count": 67,
   "id": "aca918e6-2f11-4e25-ac79-500db26cd9d6",
   "metadata": {},
   "outputs": [
    {
     "data": {
      "text/plain": [
       "[0, 2, 5, 9, 12, 88, 99]"
      ]
     },
     "execution_count": 67,
     "metadata": {},
     "output_type": "execute_result"
    }
   ],
   "source": [
    "mylist3 = [9,5,2,99,12,88,0]\n",
    "mylist3.sort()\n",
    "mylist3"
   ]
  },
  {
   "cell_type": "code",
   "execution_count": 68,
   "id": "882f2772-8d1b-4644-9d00-c43bf73ac468",
   "metadata": {},
   "outputs": [
    {
     "data": {
      "text/plain": [
       "[99, 88, 34, 12, 9, 5, 2]"
      ]
     },
     "execution_count": 68,
     "metadata": {},
     "output_type": "execute_result"
    }
   ],
   "source": [
    "mylist3 = [9,5,2,99,12,88,34]\n",
    "mylist3.sort(reverse=True) # Sort list in descending order\n",
    "mylist3"
   ]
  },
  {
   "cell_type": "code",
   "execution_count": 70,
   "id": "9392aa20-5211-4b82-8410-8f749a3703b5",
   "metadata": {},
   "outputs": [
    {
     "data": {
      "text/plain": [
       "[11, 21, 33, 65, 88, 98]"
      ]
     },
     "execution_count": 70,
     "metadata": {},
     "output_type": "execute_result"
    }
   ],
   "source": [
    "mylist4 = [88,65,33,21,11,98]\n",
    "sorted(mylist4)  #Returns a new sorted list and doesn't change original"
   ]
  },
  {
   "cell_type": "code",
   "execution_count": 71,
   "id": "4709be35-b37d-4fe7-ab0d-6c29930fc4bc",
   "metadata": {},
   "outputs": [
    {
     "data": {
      "text/plain": [
       "[88, 65, 33, 21, 11, 98]"
      ]
     },
     "execution_count": 71,
     "metadata": {},
     "output_type": "execute_result"
    }
   ],
   "source": [
    "mylist4"
   ]
  },
  {
   "cell_type": "markdown",
   "id": "57e51f87-38ad-4e55-aa4e-de89cee55d30",
   "metadata": {},
   "source": [
    "#### loop through a list"
   ]
  },
  {
   "cell_type": "code",
   "execution_count": 72,
   "id": "ea417658-0ec6-44ab-b6a1-76139098fdfa",
   "metadata": {},
   "outputs": [
    {
     "data": {
      "text/plain": [
       "['two', 'three', 'four', 'five', 'six', 'seven', 'eight']"
      ]
     },
     "execution_count": 72,
     "metadata": {},
     "output_type": "execute_result"
    }
   ],
   "source": [
    "list1"
   ]
  },
  {
   "cell_type": "code",
   "execution_count": 73,
   "id": "b62c6ebd-29b7-4965-8ff1-3e66717cfe11",
   "metadata": {},
   "outputs": [
    {
     "name": "stdout",
     "output_type": "stream",
     "text": [
      "two\n",
      "three\n",
      "four\n",
      "five\n",
      "six\n",
      "seven\n",
      "eight\n"
     ]
    }
   ],
   "source": [
    "for i in list1:\n",
    "    print(i)\n"
   ]
  },
  {
   "cell_type": "code",
   "execution_count": 74,
   "id": "24abf5e6-85a3-4c62-90d9-2f1827896483",
   "metadata": {},
   "outputs": [
    {
     "name": "stdout",
     "output_type": "stream",
     "text": [
      "(0, 'two')\n",
      "(1, 'three')\n",
      "(2, 'four')\n",
      "(3, 'five')\n",
      "(4, 'six')\n",
      "(5, 'seven')\n",
      "(6, 'eight')\n"
     ]
    }
   ],
   "source": [
    "for i in enumerate(list1):\n",
    "    print(i)"
   ]
  },
  {
   "cell_type": "markdown",
   "id": "76af12ed-861c-4acb-984e-f8453eea1620",
   "metadata": {},
   "source": [
    "#### count"
   ]
  },
  {
   "cell_type": "code",
   "execution_count": 76,
   "id": "7be1508b-9241-4d05-9f46-083b5ad3cde5",
   "metadata": {},
   "outputs": [],
   "source": [
    "list0 =['one', 'two', 'three', 'four', 'one', 'one', 'two', 'three']"
   ]
  },
  {
   "cell_type": "code",
   "execution_count": 77,
   "id": "633210a7-6d87-42dd-9021-0c36bb604d62",
   "metadata": {},
   "outputs": [
    {
     "data": {
      "text/plain": [
       "3"
      ]
     },
     "execution_count": 77,
     "metadata": {},
     "output_type": "execute_result"
    }
   ],
   "source": [
    "list0.count('one') # Number of times item \"one\" occurred in the list."
   ]
  },
  {
   "cell_type": "code",
   "execution_count": 78,
   "id": "21675bea-8173-4f36-a61f-066f0106b5f0",
   "metadata": {},
   "outputs": [
    {
     "data": {
      "text/plain": [
       "2"
      ]
     },
     "execution_count": 78,
     "metadata": {},
     "output_type": "execute_result"
    }
   ],
   "source": [
    "list0.count('two') # Occurence of item 'two' in the list"
   ]
  },
  {
   "cell_type": "code",
   "execution_count": 79,
   "id": "76e74a02-de0b-46af-917f-93f762fbd8c2",
   "metadata": {},
   "outputs": [
    {
     "data": {
      "text/plain": [
       "1"
      ]
     },
     "execution_count": 79,
     "metadata": {},
     "output_type": "execute_result"
    }
   ],
   "source": [
    "list0.count('four') #Occurence of item 'four' in the list"
   ]
  },
  {
   "cell_type": "markdown",
   "id": "06d0bda2-15fd-44f8-ac08-19ab559d3391",
   "metadata": {},
   "source": [
    "### All / Any\n",
    "#### The all() method returns:\n",
    "##### True - If all elements in a list are true\n",
    "##### False - If any element in a list is false\n",
    "#### The any() function returns True if any element in the list is True. If not, any() returns False.\n"
   ]
  },
  {
   "cell_type": "code",
   "execution_count": 80,
   "id": "6c71a5c3-9aed-4468-bc12-16f2709a9ad9",
   "metadata": {},
   "outputs": [],
   "source": [
    "l01=[10,20,40,0]"
   ]
  },
  {
   "cell_type": "code",
   "execution_count": 81,
   "id": "2b945858-5a48-48f2-aaf2-095435bc9518",
   "metadata": {},
   "outputs": [
    {
     "data": {
      "text/plain": [
       "False"
      ]
     },
     "execution_count": 81,
     "metadata": {},
     "output_type": "execute_result"
    }
   ],
   "source": [
    "all(l01)"
   ]
  },
  {
   "cell_type": "code",
   "execution_count": 83,
   "id": "9fc694bb-0569-4949-a375-07e7b2a20ab5",
   "metadata": {},
   "outputs": [
    {
     "data": {
      "text/plain": [
       "True"
      ]
     },
     "execution_count": 83,
     "metadata": {},
     "output_type": "execute_result"
    }
   ],
   "source": [
    "any(l01)"
   ]
  },
  {
   "cell_type": "code",
   "execution_count": 84,
   "id": "e3406997-5c40-4f6d-a6ee-942e5042ab29",
   "metadata": {},
   "outputs": [],
   "source": [
    "L2 = [1,2,3,4,True,False]"
   ]
  },
  {
   "cell_type": "code",
   "execution_count": 85,
   "id": "286b3144-8ef8-4829-96fd-6ccfeb7463a3",
   "metadata": {},
   "outputs": [
    {
     "data": {
      "text/plain": [
       "False"
      ]
     },
     "execution_count": 85,
     "metadata": {},
     "output_type": "execute_result"
    }
   ],
   "source": [
    "all(L2)"
   ]
  },
  {
   "cell_type": "code",
   "execution_count": 86,
   "id": "fcdb3c0a-d916-4072-b762-91cfd835dd1a",
   "metadata": {},
   "outputs": [
    {
     "data": {
      "text/plain": [
       "True"
      ]
     },
     "execution_count": 86,
     "metadata": {},
     "output_type": "execute_result"
    }
   ],
   "source": [
    "any(L2)"
   ]
  },
  {
   "cell_type": "code",
   "execution_count": 87,
   "id": "da40e10f-d338-46da-9ba1-cffe9f78bb84",
   "metadata": {},
   "outputs": [],
   "source": [
    "L3=['suresh','naresh','10']"
   ]
  },
  {
   "cell_type": "code",
   "execution_count": 88,
   "id": "42f38524-63cb-427b-a0aa-532cc012381e",
   "metadata": {},
   "outputs": [
    {
     "data": {
      "text/plain": [
       "True"
      ]
     },
     "execution_count": 88,
     "metadata": {},
     "output_type": "execute_result"
    }
   ],
   "source": [
    "all(L3)"
   ]
  }
 ],
 "metadata": {
  "kernelspec": {
   "display_name": "Python 3 (ipykernel)",
   "language": "python",
   "name": "python3"
  },
  "language_info": {
   "codemirror_mode": {
    "name": "ipython",
    "version": 3
   },
   "file_extension": ".py",
   "mimetype": "text/x-python",
   "name": "python",
   "nbconvert_exporter": "python",
   "pygments_lexer": "ipython3",
   "version": "3.13.5"
  }
 },
 "nbformat": 4,
 "nbformat_minor": 5
}
