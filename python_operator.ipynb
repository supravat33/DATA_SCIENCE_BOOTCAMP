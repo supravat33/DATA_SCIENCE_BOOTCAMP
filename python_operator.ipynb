{
 "cells": [
  {
   "cell_type": "markdown",
   "id": "58b3a308-f846-4f31-8070-ed332484e4a6",
   "metadata": {},
   "source": [
    "# OPERATORS IN PYTHON\n",
    "## ARITHMATIC OPERATOR\n",
    "### ---> + , - , * , / , // , % , **\n",
    "#### a+b\n",
    "#### a-b\n",
    "#### a*b\n",
    "#### a/b\n",
    "#### a//b\n",
    "#### a%b\n",
    "#### a**b\n",
    "## ASSIGNMENT OPERATOR\n",
    "### ---> = , += , -= , *= , /= , %=\n",
    "#### a=5\n",
    "#### a+=b(a=a+b)\n",
    "#### a-=b(a=a-b)\n",
    "#### a*=b(a=a*b)\n",
    "## UNARY OPERATOR\n",
    "### IF n is an variable then in unary operator m=-(n){- is an unary operator}\n",
    "## RELATIONAL OPERATOR\n",
    "### ---> < , > , => , <= , ==\n",
    "#### a=5,b=7 a<5(false)\n",
    "## LOGICAL OPERATOR\n",
    "### ---> and , or , not\n",
    "## BITWISE OPERATOR\n",
    "### ---> and operator(&) ,or operator(|) , xor(^)(0^0 is 0 and 1^1 is 0 rest of them are 1) , left shift(<<) , right shift(>>) , compliment operator(~)\n"
   ]
  },
  {
   "cell_type": "code",
   "execution_count": 1,
   "id": "2c99dcd2-4598-43ca-b2c5-4700a526346e",
   "metadata": {},
   "outputs": [
    {
     "data": {
      "text/plain": [
       "'0b1010'"
      ]
     },
     "execution_count": 1,
     "metadata": {},
     "output_type": "execute_result"
    }
   ],
   "source": [
    "bin(10)"
   ]
  },
  {
   "cell_type": "code",
   "execution_count": 2,
   "id": "193ff450-1542-4b9b-b320-982f2e1c0605",
   "metadata": {},
   "outputs": [
    {
     "data": {
      "text/plain": [
       "40"
      ]
     },
     "execution_count": 2,
     "metadata": {},
     "output_type": "execute_result"
    }
   ],
   "source": [
    "10<<2"
   ]
  },
  {
   "cell_type": "code",
   "execution_count": 3,
   "id": "233390fc-6eca-4444-984f-d66b61d5607d",
   "metadata": {},
   "outputs": [
    {
     "data": {
      "text/plain": [
       "'0o12'"
      ]
     },
     "execution_count": 3,
     "metadata": {},
     "output_type": "execute_result"
    }
   ],
   "source": [
    "oct(10)"
   ]
  },
  {
   "cell_type": "code",
   "execution_count": 4,
   "id": "101f8032-2da7-45ed-bd48-4e793db62a3f",
   "metadata": {},
   "outputs": [
    {
     "data": {
      "text/plain": [
       "'0xa'"
      ]
     },
     "execution_count": 4,
     "metadata": {},
     "output_type": "execute_result"
    }
   ],
   "source": [
    "hex(10)"
   ]
  },
  {
   "cell_type": "code",
   "execution_count": 6,
   "id": "d714e1ad-07ac-46ff-bfac-0e6ee658cc64",
   "metadata": {},
   "outputs": [
    {
     "data": {
      "text/plain": [
       "'0b1010'"
      ]
     },
     "execution_count": 6,
     "metadata": {},
     "output_type": "execute_result"
    }
   ],
   "source": [
    "bin(10)"
   ]
  },
  {
   "cell_type": "markdown",
   "id": "e80c0534-95f5-4216-82e4-065a7337b6f4",
   "metadata": {},
   "source": [
    "#### in left shift(<<) we gain an bit and in right shift we lose the bit(>>)"
   ]
  },
  {
   "cell_type": "code",
   "execution_count": 7,
   "id": "e9f538d2-65b3-4338-995a-507806d7ab1c",
   "metadata": {},
   "outputs": [
    {
     "data": {
      "text/plain": [
       "1"
      ]
     },
     "execution_count": 7,
     "metadata": {},
     "output_type": "execute_result"
    }
   ],
   "source": [
    "10>>3"
   ]
  },
  {
   "cell_type": "code",
   "execution_count": 8,
   "id": "91efcab7-19db-4b5e-a5df-ec9ee86cf479",
   "metadata": {},
   "outputs": [
    {
     "name": "stdin",
     "output_type": "stream",
     "text": [
      "hello ys\n"
     ]
    },
    {
     "name": "stdout",
     "output_type": "stream",
     "text": [
      "s\n"
     ]
    }
   ],
   "source": [
    "st=input(\"hello\")[1]\n",
    "print(st)"
   ]
  },
  {
   "cell_type": "code",
   "execution_count": 9,
   "id": "bf955174-fb84-43cb-891b-5b4be6ed0ffe",
   "metadata": {},
   "outputs": [
    {
     "name": "stdin",
     "output_type": "stream",
     "text": [
      "give an expressin 20*5-9+8\n"
     ]
    },
    {
     "name": "stdout",
     "output_type": "stream",
     "text": [
      "99\n"
     ]
    }
   ],
   "source": [
    "result=eval(input('give an expressin'))\n",
    "print(result)"
   ]
  },
  {
   "cell_type": "code",
   "execution_count": 12,
   "id": "77a40bb2-2244-41e2-bc02-a0f098849532",
   "metadata": {},
   "outputs": [
    {
     "name": "stdout",
     "output_type": "stream",
     "text": [
      "1.0\n"
     ]
    }
   ],
   "source": [
    "import math as m\n",
    "print(m.sqrt(1))"
   ]
  },
  {
   "cell_type": "code",
   "execution_count": 14,
   "id": "ec6c2d2c-d631-461d-ae7c-ea5c6078f2f6",
   "metadata": {},
   "outputs": [],
   "source": [
    "import matplotlib.pyplot as plt\n",
    "x=[0,1,2,3,4,5]\n",
    "y=[1,3,5,7,9,11]\n",
    "plt.plot\n",
    "plt.show(x,y)"
   ]
  },
  {
   "cell_type": "code",
   "execution_count": null,
   "id": "fa9e738a-6b13-4127-a8a0-901d02f04214",
   "metadata": {},
   "outputs": [],
   "source": []
  }
 ],
 "metadata": {
  "kernelspec": {
   "display_name": "Python 3 (ipykernel)",
   "language": "python",
   "name": "python3"
  },
  "language_info": {
   "codemirror_mode": {
    "name": "ipython",
    "version": 3
   },
   "file_extension": ".py",
   "mimetype": "text/x-python",
   "name": "python",
   "nbconvert_exporter": "python",
   "pygments_lexer": "ipython3",
   "version": "3.13.5"
  }
 },
 "nbformat": 4,
 "nbformat_minor": 5
}
