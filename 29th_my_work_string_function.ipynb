{
 "cells": [
  {
   "cell_type": "markdown",
   "id": "ff8f0aa8-45cc-4a15-bd35-41649d4fe9d2",
   "metadata": {},
   "source": [
    "# complex"
   ]
  },
  {
   "cell_type": "code",
   "execution_count": 2,
   "id": "904a2c95-2a89-4cf6-92db-599fe956c40f",
   "metadata": {},
   "outputs": [],
   "source": [
    "c=1+2j # in 1+2j 1 is called real port and 2 is called imginary part"
   ]
  },
  {
   "cell_type": "code",
   "execution_count": 3,
   "id": "619dfe75-41c6-414f-afb4-150701d88134",
   "metadata": {},
   "outputs": [
    {
     "data": {
      "text/plain": [
       "complex"
      ]
     },
     "execution_count": 3,
     "metadata": {},
     "output_type": "execute_result"
    }
   ],
   "source": [
    "type(c)"
   ]
  },
  {
   "cell_type": "code",
   "execution_count": 4,
   "id": "cf9ec25f-babb-4746-934a-9a7b16d31624",
   "metadata": {},
   "outputs": [
    {
     "data": {
      "text/plain": [
       "1.0"
      ]
     },
     "execution_count": 4,
     "metadata": {},
     "output_type": "execute_result"
    }
   ],
   "source": [
    "c.real"
   ]
  },
  {
   "cell_type": "code",
   "execution_count": 5,
   "id": "df2ee2fe-ba14-437c-aad8-449b8bc37d90",
   "metadata": {},
   "outputs": [
    {
     "data": {
      "text/plain": [
       "2.0"
      ]
     },
     "execution_count": 5,
     "metadata": {},
     "output_type": "execute_result"
    }
   ],
   "source": [
    "c.imag"
   ]
  },
  {
   "cell_type": "code",
   "execution_count": 6,
   "id": "60ed3dc8-04af-480a-acdb-e95211b331e0",
   "metadata": {},
   "outputs": [],
   "source": [
    "c=10+20j\n",
    "d=30+20j"
   ]
  },
  {
   "cell_type": "code",
   "execution_count": 7,
   "id": "b3755286-8518-4e5d-a386-084b9c8bee57",
   "metadata": {},
   "outputs": [
    {
     "data": {
      "text/plain": [
       "(40+40j)"
      ]
     },
     "execution_count": 7,
     "metadata": {},
     "output_type": "execute_result"
    }
   ],
   "source": [
    "e=c+d\n",
    "e"
   ]
  },
  {
   "cell_type": "code",
   "execution_count": 1,
   "id": "db1decde-3b73-4325-9994-469abd95a7cf",
   "metadata": {},
   "outputs": [],
   "source": [
    "a=2+4j\n",
    "b=6+3j"
   ]
  },
  {
   "cell_type": "code",
   "execution_count": 2,
   "id": "39643db5-b2ee-4672-b6dd-2ee8ed1d0b5b",
   "metadata": {},
   "outputs": [
    {
     "name": "stdout",
     "output_type": "stream",
     "text": [
      "(-4+1j)\n"
     ]
    }
   ],
   "source": [
    "print(a-b)"
   ]
  },
  {
   "cell_type": "code",
   "execution_count": 3,
   "id": "4bef0aee-9180-4a22-9b97-f1971e3d502a",
   "metadata": {},
   "outputs": [],
   "source": [
    "a=2+4j\n",
    "b=6+3j"
   ]
  },
  {
   "cell_type": "code",
   "execution_count": 4,
   "id": "60e457ce-0d45-43a4-a7be-8a4740035185",
   "metadata": {},
   "outputs": [
    {
     "name": "stdout",
     "output_type": "stream",
     "text": [
      "30j\n"
     ]
    }
   ],
   "source": [
    "print(a*b)"
   ]
  },
  {
   "cell_type": "code",
   "execution_count": 5,
   "id": "8dc3efe0-d7fa-4ac4-b270-204985059a74",
   "metadata": {},
   "outputs": [],
   "source": [
    "a=2+4j\n",
    "b=6+3j"
   ]
  },
  {
   "cell_type": "code",
   "execution_count": 6,
   "id": "f344afb0-138b-4bf1-80e1-90da8b9b79f8",
   "metadata": {},
   "outputs": [
    {
     "name": "stdout",
     "output_type": "stream",
     "text": [
      "(0.5333333333333333+0.4j)\n"
     ]
    }
   ],
   "source": [
    "print(a/b)"
   ]
  },
  {
   "cell_type": "code",
   "execution_count": 7,
   "id": "b1b7354f-8f0c-4411-aa05-f3e99ec23db5",
   "metadata": {},
   "outputs": [],
   "source": [
    "c=4+6j"
   ]
  },
  {
   "cell_type": "code",
   "execution_count": 8,
   "id": "0ddf0a32-62d5-4a71-9000-e9b9271c240b",
   "metadata": {},
   "outputs": [
    {
     "name": "stdout",
     "output_type": "stream",
     "text": [
      "7.211102550927978\n"
     ]
    }
   ],
   "source": [
    "print(abs(c))"
   ]
  },
  {
   "cell_type": "code",
   "execution_count": 8,
   "id": "fabba43a-4d52-455c-974a-d6a31d089706",
   "metadata": {},
   "outputs": [
    {
     "name": "stdout",
     "output_type": "stream",
     "text": [
      "200.0 <class 'float'>\n"
     ]
    }
   ],
   "source": [
    "f1=2e2\n",
    "print(f1,type(f1))"
   ]
  },
  {
   "cell_type": "code",
   "execution_count": 9,
   "id": "58f858c2-33a7-4f7f-9c5b-99b6fb0b2d30",
   "metadata": {},
   "outputs": [
    {
     "name": "stdout",
     "output_type": "stream",
     "text": [
      "adition of the the num+num1=  40\n"
     ]
    }
   ],
   "source": [
    "#print result with string \n",
    "num=10\n",
    "num1=30\n",
    "print(\"adition of the the num+num1= \",num+num1)"
   ]
  },
  {
   "cell_type": "markdown",
   "id": "ac0982e4-b7ac-4c12-b0aa-971ec2f46f14",
   "metadata": {},
   "source": [
    "# print with format method"
   ]
  },
  {
   "cell_type": "code",
   "execution_count": 10,
   "id": "e8f0dbbb-dcae-4c0c-afe9-73fcee9ee930",
   "metadata": {},
   "outputs": [],
   "source": [
    "# rules for using format method in python\n",
    "#variable should be in curly braces\n",
    "#and write everything inside quots ''\n",
    "#at starting simpaly add f"
   ]
  },
  {
   "cell_type": "code",
   "execution_count": 12,
   "id": "c13aca0d-80a3-4d71-bfee-5b868df9d954",
   "metadata": {},
   "outputs": [
    {
     "name": "stdout",
     "output_type": "stream",
     "text": [
      "the adition of 10 and 30 is =40\n"
     ]
    }
   ],
   "source": [
    "num=10\n",
    "num1=30\n",
    "add=num+num1\n",
    "print('the adition of {} and {} is ={}'.format(num,num1,add))"
   ]
  },
  {
   "cell_type": "code",
   "execution_count": 14,
   "id": "5d20e33e-1736-45f6-a939-8398f3917547",
   "metadata": {},
   "outputs": [
    {
     "name": "stdout",
     "output_type": "stream",
     "text": [
      "print the adition of 10 and 30 is =40\n"
     ]
    }
   ],
   "source": [
    "#another way of using format method\n",
    "num=10\n",
    "num1=30\n",
    "add=num+num1\n",
    "print(f'print the adition of {num} and {num1} is ={num+num1}')"
   ]
  },
  {
   "cell_type": "code",
   "execution_count": 15,
   "id": "bdfbe56d-04f6-4f0b-aa4e-14429ce47a84",
   "metadata": {},
   "outputs": [],
   "source": [
    "name='Python'\n",
    "age=20\n",
    "city='hyd'"
   ]
  },
  {
   "cell_type": "code",
   "execution_count": 16,
   "id": "3c8c6eb5-c3eb-4ba5-a9c9-20790e6330f6",
   "metadata": {},
   "outputs": [
    {
     "name": "stdout",
     "output_type": "stream",
     "text": [
      "hello my name is Python, iam 20 old , fromhyd\n"
     ]
    }
   ],
   "source": [
    "print(f\"hello my name is {name}, iam {age} old , from{city}\")"
   ]
  },
  {
   "cell_type": "code",
   "execution_count": 17,
   "id": "de9943c1-ec15-44ae-94e0-4e1e71f54319",
   "metadata": {},
   "outputs": [],
   "source": [
    "num1=100\n",
    "num2=25\n",
    "num3=333\n",
    "avg=round((num1+num2+num3)/3,2) "
   ]
  },
  {
   "cell_type": "code",
   "execution_count": 18,
   "id": "6ccdd9cf-5bfb-43d9-901b-b0021ae6b889",
   "metadata": {},
   "outputs": [
    {
     "name": "stdout",
     "output_type": "stream",
     "text": [
      "The avrage of 100, 25 and 333 is = 152.67\n"
     ]
    }
   ],
   "source": [
    "print(f'The avrage of {num1}, {num2} and {num3} is = {avg}')\n"
   ]
  },
  {
   "cell_type": "code",
   "execution_count": 20,
   "id": "6f37c9e3-a779-4630-adc2-493724851b19",
   "metadata": {},
   "outputs": [],
   "source": [
    "num1=10\n",
    "numm2=20\n",
    "add=num1+num2\n"
   ]
  },
  {
   "cell_type": "code",
   "execution_count": 21,
   "id": "51f6b1ac-209d-4c9e-8e8c-985c0201511e",
   "metadata": {},
   "outputs": [
    {
     "name": "stdout",
     "output_type": "stream",
     "text": [
      "the addition of 10 num1 25 is= 35\n"
     ]
    }
   ],
   "source": [
    "#first waay of writing the print \n",
    "print('the addition of',num1,'num1',num2,'is=',add)"
   ]
  },
  {
   "cell_type": "code",
   "execution_count": 22,
   "id": "4c50cd47-c6f8-48e1-b0ca-b9be1f31160b",
   "metadata": {},
   "outputs": [
    {
     "name": "stdout",
     "output_type": "stream",
     "text": [
      "the ddition of 10 and 25 is = 35\n"
     ]
    }
   ],
   "source": [
    "#second way of writing the print\n",
    "print('the ddition of {} and {} is = {}'.format(num1,num2,add))"
   ]
  },
  {
   "cell_type": "code",
   "execution_count": 23,
   "id": "82b54f62-3c37-41ba-9df7-b509029dbefd",
   "metadata": {},
   "outputs": [
    {
     "name": "stdout",
     "output_type": "stream",
     "text": [
      "the addition of10 and 25 is = 35\n"
     ]
    }
   ],
   "source": [
    "#third wy of writing the print statement\n",
    "print(f'the addition of{num1} and {num2} is = {add}')"
   ]
  },
  {
   "cell_type": "markdown",
   "id": "48a4e2bb-7caa-46bc-8203-e951154e19d5",
   "metadata": {},
   "source": [
    "# end statement"
   ]
  },
  {
   "cell_type": "code",
   "execution_count": 24,
   "id": "67014f79-b6f6-444d-83d9-a85b88f2628b",
   "metadata": {},
   "outputs": [],
   "source": [
    "#Here we will use end statement that joint line from end of one string to starting of other\n",
    "#string"
   ]
  },
  {
   "cell_type": "code",
   "execution_count": 25,
   "id": "5e409e5b-b1e9-46fa-b9b0-2d486a51031a",
   "metadata": {},
   "outputs": [
    {
     "name": "stdout",
     "output_type": "stream",
     "text": [
      "hello everyone is everything fine?\n"
     ]
    }
   ],
   "source": [
    "print('hello',end=\" \")\n",
    "print(\"everyone\",end=' ')\n",
    "print('is everything fine?')"
   ]
  },
  {
   "cell_type": "markdown",
   "id": "bff14b68-338b-4e7c-a75d-001b204dea7d",
   "metadata": {},
   "source": [
    "# separator\n"
   ]
  },
  {
   "cell_type": "code",
   "execution_count": null,
   "id": "2a2a8e68-4618-46c4-bfcd-d3e6619f5b88",
   "metadata": {},
   "outputs": [],
   "source": [
    "#here one print statement only we use\n",
    "#insisde one print statement we have multipal values\n",
    "#we want to seperate these multipal values with anything\n"
   ]
  },
  {
   "cell_type": "code",
   "execution_count": 26,
   "id": "8821bdbf-9daa-45b1-9bee-97708fce3fe6",
   "metadata": {},
   "outputs": [
    {
     "name": "stdout",
     "output_type": "stream",
     "text": [
      "hello----->hi----->namaste----->pranam\n"
     ]
    }
   ],
   "source": [
    "print('hello','hi','namaste','pranam',sep=\"----->\")"
   ]
  },
  {
   "cell_type": "code",
   "execution_count": 28,
   "id": "8b706963-871b-45ce-bc89-bc7e1ec2820a",
   "metadata": {},
   "outputs": [
    {
     "name": "stdout",
     "output_type": "stream",
     "text": [
      "hello&hai&how are you\n"
     ]
    }
   ],
   "source": [
    "print('hello','hai','how are you',sep='&')\n"
   ]
  },
  {
   "cell_type": "code",
   "execution_count": 27,
   "id": "3a32c49b-2b92-4e4c-9127-9539642b050a",
   "metadata": {},
   "outputs": [
    {
     "name": "stdout",
     "output_type": "stream",
     "text": [
      "1....2....3\n"
     ]
    }
   ],
   "source": [
    "print('1','2','3',sep='....')"
   ]
  },
  {
   "cell_type": "markdown",
   "id": "7a97f6d7-9c73-4f9f-8685-69bfa9bd0b41",
   "metadata": {},
   "source": [
    "# string functions()"
   ]
  },
  {
   "cell_type": "code",
   "execution_count": 31,
   "id": "b12a7bb2-847d-4a0f-ae72-0b49808e8a81",
   "metadata": {},
   "outputs": [],
   "source": [
    "# Single line comment\n",
    "letter='p'"
   ]
  },
  {
   "cell_type": "code",
   "execution_count": 32,
   "id": "10ee68e7-44b1-413e-90b5-ca9fc77c5fb3",
   "metadata": {},
   "outputs": [
    {
     "name": "stdout",
     "output_type": "stream",
     "text": [
      "p\n"
     ]
    }
   ],
   "source": [
    "print(letter)"
   ]
  },
  {
   "cell_type": "code",
   "execution_count": 33,
   "id": "fa8ea6d2-e4fd-4267-b253-2661fe8251c2",
   "metadata": {},
   "outputs": [
    {
     "name": "stdout",
     "output_type": "stream",
     "text": [
      "1\n"
     ]
    }
   ],
   "source": [
    "print(len(letter))"
   ]
  },
  {
   "cell_type": "code",
   "execution_count": 34,
   "id": "c7ad4daf-e6b9-46f7-96b0-07fd63f20d29",
   "metadata": {},
   "outputs": [],
   "source": [
    "greeting='hello world'"
   ]
  },
  {
   "cell_type": "code",
   "execution_count": 35,
   "id": "3d136bd6-427d-45e8-ae7d-ea4594462069",
   "metadata": {},
   "outputs": [
    {
     "name": "stdout",
     "output_type": "stream",
     "text": [
      "hello world\n"
     ]
    }
   ],
   "source": [
    "print(greeting)"
   ]
  },
  {
   "cell_type": "code",
   "execution_count": 36,
   "id": "db8f8b03-3c03-404d-a150-2bdab1dc577f",
   "metadata": {},
   "outputs": [
    {
     "name": "stdout",
     "output_type": "stream",
     "text": [
      "11\n"
     ]
    }
   ],
   "source": [
    "print(len(greeting))"
   ]
  },
  {
   "cell_type": "code",
   "execution_count": 37,
   "id": "89591b7f-6b5f-40b8-baac-d033a6036c72",
   "metadata": {},
   "outputs": [],
   "source": [
    "sentence=\"I hope you are enjoying 30 days of python challenge\""
   ]
  },
  {
   "cell_type": "code",
   "execution_count": 38,
   "id": "690b10f2-c58d-4ba5-bfa4-cf9a8baa9eb3",
   "metadata": {},
   "outputs": [
    {
     "name": "stdout",
     "output_type": "stream",
     "text": [
      "I hope you are enjoying 30 days of python challenge\n"
     ]
    }
   ],
   "source": [
    "print(sentence)"
   ]
  },
  {
   "cell_type": "code",
   "execution_count": 39,
   "id": "be1cbf16-a355-4497-8aae-8288bf5ce87a",
   "metadata": {},
   "outputs": [
    {
     "name": "stdout",
     "output_type": "stream",
     "text": [
      "I am a teacher and enjoy teaching.\n",
      "I didn't find anything as rewarding as empowering people.\n",
      "That is why I created 30 days of python.\n"
     ]
    }
   ],
   "source": [
    "#multiline\n",
    "multiline_string = '''I am a teacher and enjoy teaching.\n",
    "I didn't find anything as rewarding as empowering people.\n",
    "That is why I created 30 days of python.'''\n",
    "print(multiline_string)"
   ]
  },
  {
   "cell_type": "code",
   "execution_count": 40,
   "id": "4c48377c-c2b3-4aaa-97a9-be480e8e4908",
   "metadata": {},
   "outputs": [],
   "source": [
    "# another way of writing the multiline\n",
    "multiline_string=\"\"\"i am student who complete his b.tech journey before few month \n",
    "now i am attendind the data science gen ai and agentic ai bootcamp course in \n",
    "naresh it under the guidanve of mr k prakash sennaptai\"\"\""
   ]
  },
  {
   "cell_type": "code",
   "execution_count": 41,
   "id": "4b34c985-46de-4665-9f85-9b00ec101532",
   "metadata": {},
   "outputs": [
    {
     "name": "stdout",
     "output_type": "stream",
     "text": [
      "i am student who complete his b.tech journey before few month \n",
      "now i am attendind the data science gen ai and agentic ai bootcamp course in \n",
      "naresh it under the guidanve of mr k prakash sennaptai\n"
     ]
    }
   ],
   "source": [
    "print(multiline_string)"
   ]
  },
  {
   "cell_type": "code",
   "execution_count": 42,
   "id": "cc35317c-b4dd-489f-b073-5ba9374812ae",
   "metadata": {},
   "outputs": [
    {
     "name": "stdout",
     "output_type": "stream",
     "text": [
      "SupravatDas\n",
      "11\n",
      "8\n",
      "3\n",
      "True\n"
     ]
    }
   ],
   "source": [
    "# string concatenation\n",
    "first_name='Supravat'\n",
    "last_name=\"Das\"\n",
    "space=''\n",
    "full_name=first_name+space+last_name\n",
    "print(full_name)\n",
    "print(len(full_name))\n",
    "print(len(first_name))\n",
    "print(len(last_name))\n",
    "print(len(first_name)>len(last_name))\n"
   ]
  },
  {
   "cell_type": "code",
   "execution_count": 43,
   "id": "936c6ef9-9c1a-4f19-b765-9ef70e5ca273",
   "metadata": {},
   "outputs": [],
   "source": [
    "#### unpacking character\n",
    "language='python'\n",
    "a,b,c,d,e,f=language"
   ]
  },
  {
   "cell_type": "code",
   "execution_count": 44,
   "id": "16a141d8-6f4d-4d27-bb51-45954b720cc8",
   "metadata": {},
   "outputs": [
    {
     "name": "stdout",
     "output_type": "stream",
     "text": [
      "p\n",
      "y\n",
      "t\n",
      "h\n",
      "o\n",
      "n\n"
     ]
    }
   ],
   "source": [
    "print(a)\n",
    "print(b)\n",
    "print(c)\n",
    "print(d)\n",
    "print(e)\n",
    "print(f)"
   ]
  },
  {
   "cell_type": "code",
   "execution_count": 45,
   "id": "ba132b9f-e0b2-4995-986d-14e0ff95088d",
   "metadata": {},
   "outputs": [
    {
     "name": "stdout",
     "output_type": "stream",
     "text": [
      "p\n"
     ]
    }
   ],
   "source": [
    "# Accessing characters in strings by index\n",
    "language='pyhton'\n",
    "first_letter=language[0]\n",
    "print(first_letter)"
   ]
  },
  {
   "cell_type": "code",
   "execution_count": 46,
   "id": "3629dea8-9c9a-4344-995b-2e1b229dc21e",
   "metadata": {},
   "outputs": [
    {
     "name": "stdout",
     "output_type": "stream",
     "text": [
      "y\n"
     ]
    }
   ],
   "source": [
    "second_letter=language[1]\n",
    "print(second_letter)"
   ]
  },
  {
   "cell_type": "code",
   "execution_count": 47,
   "id": "b36a6384-76a0-49cf-b92d-b5bdc62210f8",
   "metadata": {},
   "outputs": [
    {
     "name": "stdout",
     "output_type": "stream",
     "text": [
      "5\n",
      "n\n"
     ]
    }
   ],
   "source": [
    "last_index=len(language)-1\n",
    "last_letter=language[last_index]\n",
    "print(last_index)\n",
    "print(last_letter)"
   ]
  },
  {
   "cell_type": "code",
   "execution_count": 48,
   "id": "2964de80-a076-4b9a-9fd9-64c24c751a7a",
   "metadata": {},
   "outputs": [
    {
     "name": "stdout",
     "output_type": "stream",
     "text": [
      "n\n",
      "o\n"
     ]
    }
   ],
   "source": [
    "# If we want to start from right end we can use negative indexing. -1 is the last index\n",
    "language='pyhton'\n",
    "last_letter=language[-1]\n",
    "print(last_letter)\n",
    "second_last=language[-2]\n",
    "print(second_last)"
   ]
  },
  {
   "cell_type": "code",
   "execution_count": 49,
   "id": "6623061f-9bf6-4a67-97e8-7585f2199d80",
   "metadata": {},
   "outputs": [
    {
     "name": "stdout",
     "output_type": "stream",
     "text": [
      "ton\n"
     ]
    }
   ],
   "source": [
    "#slicing\n",
    "language='pyhton'\n",
    "first_3=language[0:3]\n",
    "last_3=language[3:6]\n",
    "print(last_3)"
   ]
  },
  {
   "cell_type": "code",
   "execution_count": 51,
   "id": "e6cf4891-4234-4a1b-82f0-681c3d5475dc",
   "metadata": {},
   "outputs": [
    {
     "name": "stdout",
     "output_type": "stream",
     "text": [
      "ton\n",
      "ton\n"
     ]
    }
   ],
   "source": [
    "#another waay of sclicing\n",
    "last_3=language[-3:]\n",
    "print(last_3)\n",
    "last_3=language[3:]\n",
    "print(last_3)"
   ]
  },
  {
   "cell_type": "code",
   "execution_count": 52,
   "id": "f100fa4c-4b61-47af-ae9b-40f4f4699a7d",
   "metadata": {},
   "outputs": [
    {
     "name": "stdout",
     "output_type": "stream",
     "text": [
      "pho\n"
     ]
    }
   ],
   "source": [
    "# Skipping character while splitting Python strings\n",
    "language='pyhton'\n",
    "pto=language[0:6:2]\n",
    "print(pto)"
   ]
  },
  {
   "cell_type": "code",
   "execution_count": 53,
   "id": "4323da71-bc5d-47a3-ab2a-bde47ca36958",
   "metadata": {},
   "outputs": [
    {
     "name": "stdout",
     "output_type": "stream",
     "text": [
      "I hope every one enjoying the python challenge.\n",
      "Do you ?\n"
     ]
    }
   ],
   "source": [
    "# Escape sequence\n",
    "print('I hope every one enjoying the python challenge.\\nDo you ?') # line break"
   ]
  },
  {
   "cell_type": "code",
   "execution_count": 54,
   "id": "1d89826a-3436-4da9-9cf9-418f6e2c3adc",
   "metadata": {},
   "outputs": [
    {
     "name": "stdout",
     "output_type": "stream",
     "text": [
      "Days\tTopics\tExercises\n"
     ]
    }
   ],
   "source": [
    "print('Days\\tTopics\\tExercises')"
   ]
  },
  {
   "cell_type": "code",
   "execution_count": 55,
   "id": "13f393c1-dbb7-4cf8-88ff-64ce12a3868b",
   "metadata": {},
   "outputs": [
    {
     "name": "stdout",
     "output_type": "stream",
     "text": [
      "Day 1\t3\t5\n",
      "Day 2\t3\t5\n",
      "Day 3\t3\t5\n",
      "Day 4\t3\t5\n"
     ]
    }
   ],
   "source": [
    "print('Day 1\\t3\\t5')\n",
    "print('Day 2\\t3\\t5')\n",
    "print('Day 3\\t3\\t5')\n",
    "print('Day 4\\t3\\t5')"
   ]
  },
  {
   "cell_type": "code",
   "execution_count": 56,
   "id": "43b99553-446a-490e-a8d7-0dd40766d4f6",
   "metadata": {},
   "outputs": [
    {
     "name": "stdout",
     "output_type": "stream",
     "text": [
      "This is a back slash  symbol (\\)\n"
     ]
    }
   ],
   "source": [
    "print('This is a back slash  symbol (\\\\)') # To write a back slash"
   ]
  },
  {
   "cell_type": "code",
   "execution_count": 59,
   "id": "b5cfa3cf-0dd6-4ff4-ba20-5d31a681af4e",
   "metadata": {},
   "outputs": [
    {
     "name": "stdout",
     "output_type": "stream",
     "text": [
      "in every programming language start with\"hello,world!\"\n"
     ]
    }
   ],
   "source": [
    "print('in every programming language start with\\\"hello,world!\\\"')"
   ]
  },
  {
   "cell_type": "markdown",
   "id": "3196c9e4-606b-48b5-a312-cb9b0fbddd95",
   "metadata": {},
   "source": [
    "# String Methods\n",
    "## capitalize(): Converts the first character the string to Capital Letter"
   ]
  },
  {
   "cell_type": "code",
   "execution_count": 60,
   "id": "94aedc21-20da-45c5-81aa-e5c5d7ec3939",
   "metadata": {},
   "outputs": [
    {
     "name": "stdout",
     "output_type": "stream",
     "text": [
      "I am goona overcome this\n"
     ]
    }
   ],
   "source": [
    "challange=\"i am gonna overcome this\"\n",
    "print((challange.capitalize()))"
   ]
  },
  {
   "cell_type": "markdown",
   "id": "5db1b7d3-2f3f-44ec-b824-cad5f7e1bb7c",
   "metadata": {},
   "source": [
    "### count(): returns occurrences of substring in string, count(substring, start=.., end=..)"
   ]
  },
  {
   "cell_type": "code",
   "execution_count": 62,
   "id": "f3cebe25-71ff-41ec-a874-6252ff541fd7",
   "metadata": {},
   "outputs": [
    {
     "name": "stdout",
     "output_type": "stream",
     "text": [
      "2\n",
      "2\n",
      "1\n"
     ]
    }
   ],
   "source": [
    "challange=\"i am gonna overcome this\"\n",
    "print(challange.count('n'))\n",
    "print(challange.count('o',5,12))\n",
    "print(challange.count('on'))"
   ]
  },
  {
   "cell_type": "markdown",
   "id": "6d3c7704-3012-40f2-9619-359e9903d508",
   "metadata": {},
   "source": [
    "### endswith(): Checks if a string ends with a specified ending"
   ]
  },
  {
   "cell_type": "code",
   "execution_count": 64,
   "id": "8f756f18-b24a-4e0b-939a-63fc936a8a7d",
   "metadata": {},
   "outputs": [
    {
     "name": "stdout",
     "output_type": "stream",
     "text": [
      "True\n",
      "False\n"
     ]
    }
   ],
   "source": [
    "challenge = 'thirty days of python'\n",
    "print(challenge.endswith('on'))\n",
    "print(challenge.endswith('yes'))"
   ]
  },
  {
   "cell_type": "markdown",
   "id": "7f3a13cd-f268-4b90-8c25-1b561937edb2",
   "metadata": {},
   "source": [
    "### expandtabs(): Replaces tab character with spaces, default tab size is 8. It takes tab size argument"
   ]
  },
  {
   "cell_type": "code",
   "execution_count": 65,
   "id": "eed35ca8-2929-4e6a-a54b-cf640a156fe0",
   "metadata": {},
   "outputs": [
    {
     "name": "stdout",
     "output_type": "stream",
     "text": [
      "thirty  days    of      python\n",
      "thirty    days      of        python\n"
     ]
    }
   ],
   "source": [
    "challenge = 'thirty\\tdays\\tof\\tpython'\n",
    "print(challenge.expandtabs())   \n",
    "print(challenge.expandtabs(10))"
   ]
  },
  {
   "cell_type": "markdown",
   "id": "c68b48da-4c89-403a-922c-e94930917c02",
   "metadata": {},
   "source": [
    "### find(): Returns the index of first occurrence of substring"
   ]
  },
  {
   "cell_type": "code",
   "execution_count": 66,
   "id": "a614273b-3410-4975-99a4-16d76a21ff21",
   "metadata": {},
   "outputs": [
    {
     "name": "stdout",
     "output_type": "stream",
     "text": [
      "5\n",
      "0\n"
     ]
    }
   ],
   "source": [
    "challenge = 'thirty days of python'\n",
    "print(challenge.find('y'))  \n",
    "print(challenge.find('th')) "
   ]
  },
  {
   "cell_type": "markdown",
   "id": "e9246fdf-6488-47e4-9978-19a3d7850093",
   "metadata": {},
   "source": [
    "### format()\tformats string into nicer output "
   ]
  },
  {
   "cell_type": "code",
   "execution_count": 70,
   "id": "112b1d08-6203-4701-9ef8-c48eaf1f6a00",
   "metadata": {},
   "outputs": [
    {
     "name": "stdout",
     "output_type": "stream",
     "text": [
      "i am supravt das.i am a none. i live in india.\n"
     ]
    }
   ],
   "source": [
    "first_name='supravt'\n",
    "last_name='das'\n",
    "job='none'\n",
    "country='india'\n",
    "print('i am {} {}.i am a {}. i live in {}.'.format(first_name,last_name,job,country))\n"
   ]
  },
  {
   "cell_type": "code",
   "execution_count": 71,
   "id": "96bf7a6f-08da-4998-8e44-0c1163051c27",
   "metadata": {},
   "outputs": [
    {
     "name": "stdout",
     "output_type": "stream",
     "text": [
      "The area of circle with 10 is 3.14\n"
     ]
    }
   ],
   "source": [
    "radius = 10\n",
    "pi = 3.14\n",
    "area = pi \n",
    "result = 'The area of circle with {} is {}'.format(str(radius), str(area))\n",
    "print(result)"
   ]
  },
  {
   "cell_type": "markdown",
   "id": "c4558985-c3ea-47fa-b153-25738e54eb6a",
   "metadata": {},
   "source": [
    "### index(): Returns the index of substring"
   ]
  },
  {
   "cell_type": "code",
   "execution_count": 72,
   "id": "7674e00d-b4ab-4751-876a-9ad298922889",
   "metadata": {},
   "outputs": [
    {
     "name": "stdout",
     "output_type": "stream",
     "text": [
      "5\n",
      "0\n"
     ]
    }
   ],
   "source": [
    "challenge = 'thirty days of python'\n",
    "print(challenge.index('y'))  \n",
    "print(challenge.index('th')) "
   ]
  },
  {
   "cell_type": "markdown",
   "id": "54097877-cccc-4449-b076-d34104ae3ceb",
   "metadata": {},
   "source": [
    "### isalnum(): Checks alphanumeric character"
   ]
  },
  {
   "cell_type": "markdown",
   "id": "d196cfae-c507-4fa1-9d06-9fbb3b96a3d6",
   "metadata": {},
   "source": [
    "##### The isalnum() method is used to check whether a string consists only of alphanumeric characters, i.e., letters (A–Z, a–z) and digits (0–9) — no spaces, symbols, or special characters."
   ]
  },
  {
   "cell_type": "code",
   "execution_count": 73,
   "id": "ce15ba5b-ffe2-425f-bb62-3f1ec4867062",
   "metadata": {},
   "outputs": [
    {
     "name": "stdout",
     "output_type": "stream",
     "text": [
      "True\n"
     ]
    }
   ],
   "source": [
    "challenge = 'ThirtyDaysPython'#\n",
    "print(challenge.isalnum())"
   ]
  },
  {
   "cell_type": "code",
   "execution_count": 74,
   "id": "31aa369d-93a2-4046-a4ba-16e434a78d23",
   "metadata": {},
   "outputs": [
    {
     "name": "stdout",
     "output_type": "stream",
     "text": [
      "False\n"
     ]
    }
   ],
   "source": [
    "challenge = 'thirty days of python'\n",
    "print(challenge.isalnum()) "
   ]
  },
  {
   "cell_type": "markdown",
   "id": "e03e1407-54d7-42d3-a4fb-78d70ad645e2",
   "metadata": {},
   "source": [
    "### isdecimal(): Checks Decimal Characters"
   ]
  },
  {
   "cell_type": "code",
   "execution_count": 78,
   "id": "0aad8ebe-4f1d-40a3-ab5f-b77d89e518cf",
   "metadata": {},
   "outputs": [
    {
     "name": "stdout",
     "output_type": "stream",
     "text": [
      "False\n",
      "True\n"
     ]
    }
   ],
   "source": [
    "challenge = 'thirty days of python'\n",
    "word='4'\n",
    "print(challenge.isdecimal()) \n",
    "print(word.isdecimal())"
   ]
  },
  {
   "cell_type": "markdown",
   "id": "ace38d03-11b9-49cd-9c9e-a4a9dbe47424",
   "metadata": {},
   "source": [
    "### isdigit(): Checks Digit Characters"
   ]
  },
  {
   "cell_type": "code",
   "execution_count": 80,
   "id": "976d7633-18da-4551-81a8-b3b14581a46c",
   "metadata": {},
   "outputs": [
    {
     "name": "stdout",
     "output_type": "stream",
     "text": [
      "False\n",
      "True\n"
     ]
    }
   ],
   "source": [
    "challenge = 'Thirty'\n",
    "print(challenge.isdigit()) \n",
    "challenge = '30'\n",
    "print(challenge.isdigit()) "
   ]
  },
  {
   "cell_type": "markdown",
   "id": "e2189cee-4dc7-4a69-8a09-6c5d4a327174",
   "metadata": {},
   "source": [
    "### isidentifier():Checks for valid identifier means it check if a string is a valid variable name"
   ]
  },
  {
   "cell_type": "code",
   "execution_count": 81,
   "id": "f2663b95-bedf-433c-a28a-eb0639690154",
   "metadata": {},
   "outputs": [
    {
     "name": "stdout",
     "output_type": "stream",
     "text": [
      "False\n",
      "True\n"
     ]
    }
   ],
   "source": [
    "challenge = '30dayrule'\n",
    "print(challenge.isidentifier()) \n",
    "challenge = 'thirty_days_of_python'\n",
    "print(challenge.isidentifier())"
   ]
  },
  {
   "cell_type": "markdown",
   "id": "270042f3-b03b-452c-9496-6eb23c8937ec",
   "metadata": {},
   "source": [
    "### islower():Checks if all alphabets in a string are lowercase"
   ]
  },
  {
   "cell_type": "code",
   "execution_count": 82,
   "id": "2a337431-2065-46cc-b297-7dc203b6430c",
   "metadata": {},
   "outputs": [
    {
     "name": "stdout",
     "output_type": "stream",
     "text": [
      "True\n",
      "False\n"
     ]
    }
   ],
   "source": [
    "\n",
    "challenge = 'thirty days of python'\n",
    "print(challenge.islower()) \n",
    "challenge = 'Thirty days of python'\n",
    "print(challenge.islower()) "
   ]
  },
  {
   "cell_type": "markdown",
   "id": "b510283e-66fe-41e9-90e1-76306cfea735",
   "metadata": {},
   "source": [
    "### isupper(): returns if all characters are uppercase characters"
   ]
  },
  {
   "cell_type": "code",
   "execution_count": 83,
   "id": "f7cfeef4-9c9e-4691-be2d-5659152cedcb",
   "metadata": {},
   "outputs": [
    {
     "name": "stdout",
     "output_type": "stream",
     "text": [
      "False\n",
      "True\n"
     ]
    }
   ],
   "source": [
    "\n",
    "challenge = 'thirty days of python'\n",
    "print(challenge.isupper()) \n",
    "challenge = 'THIRTY DAYS OF PYTHON'\n",
    "print(challenge.isupper())"
   ]
  },
  {
   "cell_type": "markdown",
   "id": "d621ffef-e29b-4c14-9644-751854bc6660",
   "metadata": {},
   "source": [
    "### isnumeric():Checks numeric characters"
   ]
  },
  {
   "cell_type": "code",
   "execution_count": 84,
   "id": "c14c0329-4338-4a9f-bab8-8c4385b31776",
   "metadata": {},
   "outputs": [
    {
     "name": "stdout",
     "output_type": "stream",
     "text": [
      "True\n",
      "False\n"
     ]
    }
   ],
   "source": [
    "num = '10'\n",
    "print(num.isnumeric())      \n",
    "print('ten'.isnumeric())"
   ]
  },
  {
   "cell_type": "markdown",
   "id": "270890ab-8091-45fc-84e8-dfdf742cf6ab",
   "metadata": {},
   "source": [
    "### join(): Returns a concatenated string"
   ]
  },
  {
   "cell_type": "code",
   "execution_count": 85,
   "id": "e1177923-4e55-4d96-a139-88580bf45bdf",
   "metadata": {},
   "outputs": [
    {
     "name": "stdout",
     "output_type": "stream",
     "text": [
      "rude#,kind#,genuine\n"
     ]
    }
   ],
   "source": [
    "names=['rude','kind','genuine']\n",
    "result='#,'.join(names)\n",
    "print(result)"
   ]
  },
  {
   "cell_type": "markdown",
   "id": "4f0fb8a6-eb40-4940-9cd5-5a6d6c8dcdcf",
   "metadata": {},
   "source": [
    "### strip(): Removes both leading and trailing characters"
   ]
  },
  {
   "cell_type": "code",
   "execution_count": 94,
   "id": "a05dafb6-5597-407f-aef7-3163dfa4fce7",
   "metadata": {},
   "outputs": [
    {
     "name": "stdout",
     "output_type": "stream",
     "text": [
      "thirty days of python\n"
     ]
    }
   ],
   "source": [
    "challenge = ' thirty days of python '\n",
    "\n",
    "x=challenge.strip(' ')\n",
    "print(x)\n"
   ]
  },
  {
   "cell_type": "markdown",
   "id": "8e534be2-b3f1-4dd5-89e4-96d6259c893c",
   "metadata": {},
   "source": [
    "### replace(): Replaces substring inside"
   ]
  },
  {
   "cell_type": "code",
   "execution_count": 95,
   "id": "37331c0c-baa6-48c5-8b14-5fe8ec6024a2",
   "metadata": {},
   "outputs": [
    {
     "name": "stdout",
     "output_type": "stream",
     "text": [
      "thirty days of coding\n"
     ]
    }
   ],
   "source": [
    "challenge = 'thirty days of python'\n",
    "print(challenge.replace('python', 'coding'))"
   ]
  },
  {
   "cell_type": "markdown",
   "id": "426c6109-f45e-4564-9292-e4c48601a9da",
   "metadata": {},
   "source": [
    "### split():Splits String from Left\n"
   ]
  },
  {
   "cell_type": "code",
   "execution_count": 96,
   "id": "6a5185bf-a122-4c6c-a4ab-b240f02006da",
   "metadata": {},
   "outputs": [
    {
     "name": "stdout",
     "output_type": "stream",
     "text": [
      "['thirty', 'days', 'of', 'python']\n"
     ]
    }
   ],
   "source": [
    "challenge = 'thirty days of python'\n",
    "print(challenge.split()) "
   ]
  },
  {
   "cell_type": "markdown",
   "id": "4f9cf170-640b-42c4-8ff1-d9636443e25d",
   "metadata": {},
   "source": [
    "### title(): Returns a Title Cased String"
   ]
  },
  {
   "cell_type": "code",
   "execution_count": 97,
   "id": "2bedf80d-ecad-4cbb-9a9e-66cda2bb3e6a",
   "metadata": {},
   "outputs": [
    {
     "name": "stdout",
     "output_type": "stream",
     "text": [
      "Thirty Days Of Python\n"
     ]
    }
   ],
   "source": [
    "challenge = 'thirty days of python'\n",
    "print(challenge.title())"
   ]
  },
  {
   "cell_type": "markdown",
   "id": "fad88c7c-a94a-4ab4-b5fe-52b71a2c4f41",
   "metadata": {},
   "source": [
    "### swapcase(): Checks if String Starts with the Specified String"
   ]
  },
  {
   "cell_type": "code",
   "execution_count": 98,
   "id": "39f997ee-4055-4295-b7a5-121a92433f73",
   "metadata": {},
   "outputs": [
    {
     "name": "stdout",
     "output_type": "stream",
     "text": [
      "THIRTY DAYS OF PYTHON\n",
      "tHIRTY dAYS oF pYTHON\n"
     ]
    }
   ],
   "source": [
    "challenge = 'thirty days of python'\n",
    "print(challenge.swapcase())   \n",
    "challenge = 'Thirty Days Of Python'\n",
    "print(challenge.swapcase())"
   ]
  },
  {
   "cell_type": "markdown",
   "id": "06ad2a8b-d9a1-4a99-b7cb-649ba18400ef",
   "metadata": {},
   "source": [
    "### startswith(): Checks if String Starts with the Specified String"
   ]
  },
  {
   "cell_type": "code",
   "execution_count": 99,
   "id": "95ef72a9-68bd-4a3a-94a4-20b23d935907",
   "metadata": {},
   "outputs": [
    {
     "name": "stdout",
     "output_type": "stream",
     "text": [
      "True\n",
      "False\n"
     ]
    }
   ],
   "source": [
    "challenge = 'thirty days of python'\n",
    "print(challenge.startswith('thirty')) \n",
    "challenge = '30 days of python'\n",
    "print(challenge.startswith('thirty'))"
   ]
  },
  {
   "cell_type": "code",
   "execution_count": null,
   "id": "792b4c4c-3b76-4782-a147-9c151e34429a",
   "metadata": {},
   "outputs": [],
   "source": []
  },
  {
   "cell_type": "code",
   "execution_count": null,
   "id": "105e1583-4dab-400c-ba0e-4f04f3d38ccf",
   "metadata": {},
   "outputs": [],
   "source": []
  }
 ],
 "metadata": {
  "kernelspec": {
   "display_name": "Python 3 (ipykernel)",
   "language": "python",
   "name": "python3"
  },
  "language_info": {
   "codemirror_mode": {
    "name": "ipython",
    "version": 3
   },
   "file_extension": ".py",
   "mimetype": "text/x-python",
   "name": "python",
   "nbconvert_exporter": "python",
   "pygments_lexer": "ipython3",
   "version": "3.13.5"
  }
 },
 "nbformat": 4,
 "nbformat_minor": 5
}
