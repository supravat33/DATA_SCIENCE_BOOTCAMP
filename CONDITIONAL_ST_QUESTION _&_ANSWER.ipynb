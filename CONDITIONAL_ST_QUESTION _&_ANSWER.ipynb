{
 "cells": [
  {
   "cell_type": "markdown",
   "id": "ee38c9fa-c340-4f70-819c-a8d8d4b5eab4",
   "metadata": {},
   "source": [
    "# EASY LEVEL (1-20)"
   ]
  },
  {
   "cell_type": "markdown",
   "id": "68314cee-893d-46cb-8599-3105dc81897f",
   "metadata": {},
   "source": [
    "##  1. Check if a number is even or odd"
   ]
  },
  {
   "cell_type": "code",
   "execution_count": 1,
   "id": "8de4a6d5-c7c5-4395-8258-e40a049809af",
   "metadata": {},
   "outputs": [
    {
     "name": "stdin",
     "output_type": "stream",
     "text": [
      "enter the number 10\n"
     ]
    },
    {
     "name": "stdout",
     "output_type": "stream",
     "text": [
      "the given number 10 is an even number\n"
     ]
    }
   ],
   "source": [
    "n=int(input(\"enter the number\"))\n",
    "if(n%2==0):\n",
    "    print(f'the given number {n} is an even number')\n",
    "else:\n",
    "    print(f'the given number {n} is an odd number')"
   ]
  },
  {
   "cell_type": "markdown",
   "id": "04f4c189-427b-4e71-baf5-eaa7508c1148",
   "metadata": {},
   "source": [
    "## 2. Check if a person is eligible to vote (age 18 or above)\n"
   ]
  },
  {
   "cell_type": "code",
   "execution_count": 2,
   "id": "0e1a2bb3-8bd4-48d7-80ba-1628400cdb1c",
   "metadata": {},
   "outputs": [
    {
     "name": "stdin",
     "output_type": "stream",
     "text": [
      "enter your age 12\n"
     ]
    },
    {
     "name": "stdout",
     "output_type": "stream",
     "text": [
      "not elegible for vote\n"
     ]
    }
   ],
   "source": [
    "age=int(input('enter your age'))\n",
    "if(age<18):\n",
    "    print('not elegible for vote')\n",
    "else:\n",
    "    print('eligible for the votinng')"
   ]
  },
  {
   "cell_type": "markdown",
   "id": "db7aad9b-e65b-4048-bdd2-55460e1f33d0",
   "metadata": {},
   "source": [
    "## 3. Determine if a given year is a leap year or not"
   ]
  },
  {
   "cell_type": "code",
   "execution_count": 3,
   "id": "aa0df931-629f-4e05-bdc8-66c366e11a37",
   "metadata": {},
   "outputs": [
    {
     "name": "stdin",
     "output_type": "stream",
     "text": [
      "enter the year 2004\n"
     ]
    },
    {
     "name": "stdout",
     "output_type": "stream",
     "text": [
      "2004 is an leap year\n"
     ]
    }
   ],
   "source": [
    "year=int(input('enter the year'))\n",
    "if year%4==0:\n",
    "    print(f'{year} is an leap year')\n",
    "else:\n",
    "     print(f'{year} is not a leap year')"
   ]
  },
  {
   "cell_type": "markdown",
   "id": "42c09c8b-d80f-4c71-9944-31ed1579d781",
   "metadata": {},
   "source": [
    "## 4. Check if a number is positive, negative, or zero"
   ]
  },
  {
   "cell_type": "code",
   "execution_count": 4,
   "id": "3d087b86-5f7c-44a3-87f7-85b80859985e",
   "metadata": {},
   "outputs": [
    {
     "name": "stdin",
     "output_type": "stream",
     "text": [
      "enter the number -10\n"
     ]
    },
    {
     "name": "stdout",
     "output_type": "stream",
     "text": [
      "-10 is an negative number\n"
     ]
    }
   ],
   "source": [
    "num=int(input('enter the number'))\n",
    "if num<0:\n",
    "    print(f\"{num} is an negative number\")\n",
    "elif (num>0):\n",
    "    print(f\"{num} is an positive number\")\n",
    "else:\n",
    "    print(f\"{num} is zero\")"
   ]
  },
  {
   "cell_type": "markdown",
   "id": "4349af8e-aa06-4f65-bb92-7c2e433041bb",
   "metadata": {},
   "source": [
    "## 5. Write a program to find the greatest of two numbers"
   ]
  },
  {
   "cell_type": "code",
   "execution_count": 5,
   "id": "f3e59249-90e9-456a-9b9e-8cac7c7cc32f",
   "metadata": {},
   "outputs": [
    {
     "name": "stdin",
     "output_type": "stream",
     "text": [
      "enter 1st number 2\n",
      "enter 2nt number 4\n"
     ]
    },
    {
     "name": "stdout",
     "output_type": "stream",
     "text": [
      "4 is greater than 2\n"
     ]
    }
   ],
   "source": [
    "a=int(input('enter 1st number'))\n",
    "b=int(input('enter 2nt number'))\n",
    "if a>b:\n",
    "    print(f\"{a} is greater than {b}\")\n",
    "elif b>a:\n",
    "    print(f\"{b} is greater than {a}\")\n",
    "else:\n",
    "    print(f\"{a} and {b} are equal\")\n",
    "    "
   ]
  },
  {
   "cell_type": "markdown",
   "id": "ec605927-048d-4593-81cc-4e9c087d2765",
   "metadata": {},
   "source": [
    "## 6. Determine if a number is a multiple of 5"
   ]
  },
  {
   "cell_type": "code",
   "execution_count": 6,
   "id": "d338c315-e696-40d7-ba10-5b6390701397",
   "metadata": {},
   "outputs": [
    {
     "name": "stdin",
     "output_type": "stream",
     "text": [
      "enter the number 5\n"
     ]
    },
    {
     "name": "stdout",
     "output_type": "stream",
     "text": [
      "5 is an multiple of 5\n"
     ]
    }
   ],
   "source": [
    "num=int(input('enter the number'))\n",
    "if num%5==0:\n",
    "    print(f'{num} is an multiple of 5')\n",
    "else:\n",
    "    print(f'{num} is not multiple of 5')"
   ]
  },
  {
   "cell_type": "markdown",
   "id": "06db8d55-3179-4ac9-b670-ec0a88df05a1",
   "metadata": {},
   "source": [
    "## 7. Check if a character is a vowel or consonant"
   ]
  },
  {
   "cell_type": "code",
   "execution_count": 7,
   "id": "d1646a2b-4bb2-4e77-9822-8ce0602c7349",
   "metadata": {},
   "outputs": [
    {
     "name": "stdin",
     "output_type": "stream",
     "text": [
      "enter a charcter r\n"
     ]
    },
    {
     "name": "stdout",
     "output_type": "stream",
     "text": [
      "r is not an vowel\n"
     ]
    }
   ],
   "source": [
    "char=input('enter a charcter').lower()\n",
    "for char in char:\n",
    "    if char in 'aeiou':\n",
    "         print(f'{char} is an vowel')\n",
    "    else:\n",
    "     print(f'{char} is not an vowel')\n",
    "     "
   ]
  },
  {
   "cell_type": "markdown",
   "id": "7385e7fb-0dcc-4b9c-9462-2872ecef33dd",
   "metadata": {},
   "source": [
    "## 8. Determine if a person is eligible for a senior citizen discount (age 60+)\n"
   ]
  },
  {
   "cell_type": "code",
   "execution_count": 8,
   "id": "0a20a617-f186-45a9-b151-8b6d899a8e72",
   "metadata": {},
   "outputs": [
    {
     "name": "stdin",
     "output_type": "stream",
     "text": [
      "enter the age 78\n"
     ]
    },
    {
     "name": "stdout",
     "output_type": "stream",
     "text": [
      "you are eligible for citizen discount\n"
     ]
    }
   ],
   "source": [
    "citizen_age=int(input('enter the age'))\n",
    "if citizen_age>=60:\n",
    "    print('you are eligible for citizen discount')\n",
    "else:\n",
    "    print('you are not eligible for citizen discount')"
   ]
  },
  {
   "cell_type": "markdown",
   "id": "a6f44955-e689-4476-9451-22a1e272e263",
   "metadata": {},
   "source": [
    "## 9. Check if a number is a single-digit number"
   ]
  },
  {
   "cell_type": "code",
   "execution_count": 9,
   "id": "0c4df89d-3848-4e5f-a040-3ac7c3d22184",
   "metadata": {},
   "outputs": [
    {
     "name": "stdin",
     "output_type": "stream",
     "text": [
      "ente a digit 0\n"
     ]
    },
    {
     "name": "stdout",
     "output_type": "stream",
     "text": [
      "it is an single digit\n"
     ]
    }
   ],
   "source": [
    "sinle_dig=int(input('ente a digit'))\n",
    "if 10>sinle_dig>-10:\n",
    "    print('it is an single digit')\n",
    "else:\n",
    "    print('it is not n single digit')"
   ]
  },
  {
   "cell_type": "markdown",
   "id": "46f52f8d-1a7a-4bd1-adad-d615e4f2aac1",
   "metadata": {},
   "source": [
    "## 10. Print \"Good Morning\" if the time is before 12 PM, otherwise print \"Good Afternoon\""
   ]
  },
  {
   "cell_type": "code",
   "execution_count": 10,
   "id": "6c119fc0-9751-423d-b8e1-f00ca7a507f3",
   "metadata": {},
   "outputs": [
    {
     "name": "stdin",
     "output_type": "stream",
     "text": [
      "enter the time 11\n"
     ]
    },
    {
     "name": "stdout",
     "output_type": "stream",
     "text": [
      "Good Morning\n"
     ]
    }
   ],
   "source": [
    "time=float(input('enter the time'))\n",
    "if time<12:\n",
    "    print('Good Morning')\n",
    "else:\n",
    "    print('good afternoon')\n",
    "    "
   ]
  },
  {
   "cell_type": "markdown",
   "id": "b6a64715-4080-49cc-907a-b5cea9346e7d",
   "metadata": {},
   "source": [
    "## 11. Check if a string is empty or not"
   ]
  },
  {
   "cell_type": "code",
   "execution_count": 11,
   "id": "03efe574-d4d8-4a2a-a440-91f409252f74",
   "metadata": {},
   "outputs": [
    {
     "name": "stdin",
     "output_type": "stream",
     "text": [
      "Enter a string:  \n"
     ]
    },
    {
     "name": "stdout",
     "output_type": "stream",
     "text": [
      "String is empty\n"
     ]
    }
   ],
   "source": [
    "s = input(\"Enter a string: \")\n",
    "if not s:\n",
    " print(\"String is empty\")\n",
    "else:\n",
    " print(\"String is not empty\")"
   ]
  },
  {
   "cell_type": "markdown",
   "id": "a7bae15f-3df7-498a-8e2e-af0fd4a555d9",
   "metadata": {},
   "source": [
    "## 12. Verify if a number is a perfect square\n"
   ]
  },
  {
   "cell_type": "code",
   "execution_count": 12,
   "id": "eeb8d92a-a300-4a73-ab44-6aa237725eda",
   "metadata": {},
   "outputs": [
    {
     "name": "stdin",
     "output_type": "stream",
     "text": [
      "enter a number 16\n"
     ]
    },
    {
     "name": "stdout",
     "output_type": "stream",
     "text": [
      "16 is  perfect square\n"
     ]
    }
   ],
   "source": [
    "num=int(input('enter a number'))\n",
    "from math import sqrt\n",
    "if sqrt(num)**2==num:\n",
    "    print(f'{num} is  perfect square')\n",
    "else:\n",
    "    print(f'{num} is not aperfect square')\n"
   ]
  },
  {
   "cell_type": "markdown",
   "id": "49562f05-364d-4a2d-b676-324a91b2dd91",
   "metadata": {},
   "source": [
    "## 13. Determine if a number is between 1 and 100\n"
   ]
  },
  {
   "cell_type": "code",
   "execution_count": 13,
   "id": "04a1d7f2-8c83-47bd-8615-0dadf7a5e4f1",
   "metadata": {},
   "outputs": [
    {
     "name": "stdin",
     "output_type": "stream",
     "text": [
      "enter the number 77\n"
     ]
    },
    {
     "name": "stdout",
     "output_type": "stream",
     "text": [
      "77 is between 1-100\n"
     ]
    }
   ],
   "source": [
    "one_nund=int(input('enter the number'))\n",
    "if 1<=one_nund<=100:\n",
    "    print(f'{one_nund} is between 1-100')\n",
    "else:\n",
    "    print(f'{one_nund} is not between 1-100')"
   ]
  },
  {
   "cell_type": "markdown",
   "id": "e9f5bdd7-f4d6-480f-81af-2b567f43d868",
   "metadata": {},
   "source": [
    "##  14. Print \"Weekend\" if the day is Saturday or Sunday; otherwise, print \"Weekday\""
   ]
  },
  {
   "cell_type": "code",
   "execution_count": 14,
   "id": "99e8a99e-b7b8-4644-aefa-903dc51a5dff",
   "metadata": {},
   "outputs": [
    {
     "name": "stdin",
     "output_type": "stream",
     "text": [
      "enter a day sunday\n"
     ]
    },
    {
     "name": "stdout",
     "output_type": "stream",
     "text": [
      "sunday is weeekend\n"
     ]
    }
   ],
   "source": [
    "day=input('enter a day').lower()\n",
    "if day=='sunday' or day=='saturday':\n",
    "    print(f'{day} is weeekend')\n",
    "else:\n",
    "    print(f'{day} is weeekday')"
   ]
  },
  {
   "cell_type": "markdown",
   "id": "41253b8b-8c0b-4f01-824f-8a261d31ba6a",
   "metadata": {},
   "source": [
    "## 15. Find if a given number is exactly divisible by both 3 and 7"
   ]
  },
  {
   "cell_type": "code",
   "execution_count": 15,
   "id": "3394557d-d871-4e7a-9048-08260436f58e",
   "metadata": {},
   "outputs": [
    {
     "name": "stdin",
     "output_type": "stream",
     "text": [
      "enter  number 21\n"
     ]
    },
    {
     "name": "stdout",
     "output_type": "stream",
     "text": [
      "21 is divisible by both 3 nd 7\n"
     ]
    }
   ],
   "source": [
    "num=int(input('enter  number'))\n",
    "if num%3==0 and num%7==0:\n",
    "    print(f'{num} is divisible by both 3 nd 7')\n",
    "else:\n",
    "    print(f'{num} is not divisible by both 3 nd 7')"
   ]
  },
  {
   "cell_type": "markdown",
   "id": "944ad40a-b5cc-4aca-89d4-d5142b95fd9e",
   "metadata": {},
   "source": [
    "## 16. Check if the sum of two numbers is greater than 100"
   ]
  },
  {
   "cell_type": "code",
   "execution_count": 16,
   "id": "654155f0-ce65-4bb0-86d9-d5078cee99c6",
   "metadata": {},
   "outputs": [
    {
     "name": "stdin",
     "output_type": "stream",
     "text": [
      "Enter first number:  2\n",
      "Enter second number:  3\n"
     ]
    },
    {
     "name": "stdout",
     "output_type": "stream",
     "text": [
      "Sum is 100 or less\n"
     ]
    }
   ],
   "source": [
    "a,b= int(input(\"Enter first number: \")),int(input(\"Enter second number: \"))\n",
    "if (a + b) > 100:\n",
    " print(\"Sum is greater than 100\")\n",
    "else:\n",
    " print(\"Sum is 100 or less\") "
   ]
  },
  {
   "cell_type": "markdown",
   "id": "6be85c44-d736-433b-adf8-0cf1fc0230f9",
   "metadata": {},
   "source": [
    "## 17. Write a program to find the minimum of two numbers"
   ]
  },
  {
   "cell_type": "code",
   "execution_count": 17,
   "id": "98995f5e-284d-410c-a4e9-2c6f1c1d52e7",
   "metadata": {},
   "outputs": [
    {
     "name": "stdin",
     "output_type": "stream",
     "text": [
      "Enter first number:  2\n",
      "Enter second number:  6\n"
     ]
    },
    {
     "name": "stdout",
     "output_type": "stream",
     "text": [
      "Minimum: 2\n"
     ]
    }
   ],
   "source": [
    "a = int(input(\"Enter first number: \"))\n",
    "b = int(input(\"Enter second number: \"))\n",
    "if a < b:\n",
    " print(\"Minimum:\", a)\n",
    "else:\n",
    " print(\"Minimum:\", b) "
   ]
  },
  {
   "cell_type": "markdown",
   "id": "6e0761bb-bd71-4270-8003-62e5b60c6831",
   "metadata": {},
   "source": [
    "## 18. Check if a number is divisible by 2 but not by 3\n"
   ]
  },
  {
   "cell_type": "code",
   "execution_count": 18,
   "id": "935dc9ad-a452-4555-9b9e-86eafbf707d8",
   "metadata": {},
   "outputs": [
    {
     "name": "stdin",
     "output_type": "stream",
     "text": [
      "Enter a number:  21\n"
     ]
    },
    {
     "name": "stdout",
     "output_type": "stream",
     "text": [
      "Does not meet criteria\n"
     ]
    }
   ],
   "source": [
    "num = int(input(\"Enter a number: \"))\n",
    "if num % 2 == 0 and num % 3 != 0:\n",
    " print(\"Divisible by 2 but not by 3\")\n",
    "else:\n",
    " print(\"Does not meet criteria\")"
   ]
  },
  {
   "cell_type": "markdown",
   "id": "d1869779-fabe-4e85-b72a-09a4167453ab",
   "metadata": {},
   "source": [
    "## 19. Determine if a given alphabet is uppercase or lowercase"
   ]
  },
  {
   "cell_type": "code",
   "execution_count": 19,
   "id": "a01000f5-9ee1-4f00-af17-2dfc55d6fc10",
   "metadata": {},
   "outputs": [
    {
     "name": "stdin",
     "output_type": "stream",
     "text": [
      "entet the alphbet :  supr\n"
     ]
    },
    {
     "name": "stdout",
     "output_type": "stream",
     "text": [
      "supr it is aan lower case\n"
     ]
    }
   ],
   "source": [
    "alph=input('entet the alphbet : ')\n",
    "if alph.isupper():\n",
    "    print(f'{alph} it is an upper case')\n",
    "else:\n",
    "    print(f'{alph} it is aan lower case')"
   ]
  },
  {
   "cell_type": "markdown",
   "id": "a38c3f4f-3fe3-4766-a518-87a78544d548",
   "metadata": {},
   "source": [
    "## 20. Check if a triangle is valid given three side lengths"
   ]
  },
  {
   "cell_type": "code",
   "execution_count": 20,
   "id": "30f9a360-e6a0-4f40-a884-acd1795225de",
   "metadata": {},
   "outputs": [
    {
     "name": "stdin",
     "output_type": "stream",
     "text": [
      "Enter first side:  1\n",
      "Enter second side:  2\n",
      "Enter third side:  3\n"
     ]
    },
    {
     "name": "stdout",
     "output_type": "stream",
     "text": [
      "invalid triangle\n"
     ]
    }
   ],
   "source": [
    "a = int(input(\"Enter first side: \"))\n",
    "b = int(input(\"Enter second side: \"))\n",
    "c = int(input(\"Enter third side: \"))\n",
    "if a + b > c and a + c > b and b + c > a:\n",
    " print(\"Valid Triangle\")\n",
    "else: \n",
    "    print('invalid triangle')"
   ]
  },
  {
   "cell_type": "markdown",
   "id": "1cc48057-483b-40dc-b52c-4181619083a9",
   "metadata": {},
   "source": [
    "# MEDIUM LEVEL ->"
   ]
  },
  {
   "cell_type": "markdown",
   "id": "8c2c9b37-3d94-48aa-ae33-7a02e3abd4eb",
   "metadata": {},
   "source": [
    "## 21. Find the largest of three numbers"
   ]
  },
  {
   "cell_type": "code",
   "execution_count": 21,
   "id": "dc26d767-de4f-4fdc-a6bb-5e9716d61ba3",
   "metadata": {
    "scrolled": true
   },
   "outputs": [
    {
     "name": "stdin",
     "output_type": "stream",
     "text": [
      "Enter first number:  2\n",
      "Enter second number:  4\n",
      "Enter third number:  6\n"
     ]
    },
    {
     "name": "stdout",
     "output_type": "stream",
     "text": [
      "6\n"
     ]
    }
   ],
   "source": [
    "a = int(input(\"Enter first number: \"))\n",
    "b = int(input(\"Enter second number: \"))\n",
    "c = int(input(\"Enter third number: \")) \n",
    "print(max(a,b,c))"
   ]
  },
  {
   "cell_type": "markdown",
   "id": "b5ffbc52-6197-487a-815b-51b93ee5ce69",
   "metadata": {},
   "source": [
    "## 22. Determine if a number is a prime number"
   ]
  },
  {
   "cell_type": "code",
   "execution_count": 22,
   "id": "2df484f1-9855-4ed6-ac11-6f9c1eed0064",
   "metadata": {},
   "outputs": [
    {
     "name": "stdin",
     "output_type": "stream",
     "text": [
      "enter a number 7\n"
     ]
    },
    {
     "name": "stdout",
     "output_type": "stream",
     "text": [
      "7 it is a prime number\n"
     ]
    }
   ],
   "source": [
    "prime=int(input('enter a number'))\n",
    "if prime>1:\n",
    "    for i in range(2,int(prime**0.5)+1):\n",
    "        if prime%i==0:\n",
    "            print(f\"{prime} it is not a prime number\")\n",
    "        else:\n",
    "            print(f\"{prime} it is a prime number\")\n",
    "else:\n",
    "    print(f\"{prime} it is not a prime number\")"
   ]
  },
  {
   "cell_type": "markdown",
   "id": "dd07021c-5825-4851-bfae-2002846cef1c",
   "metadata": {},
   "source": [
    "## 23. Check if a person is eligible for a driving license"
   ]
  },
  {
   "cell_type": "code",
   "execution_count": 23,
   "id": "f9a6bf7c-ce03-493e-bd49-69f9054cd0c5",
   "metadata": {},
   "outputs": [
    {
     "name": "stdin",
     "output_type": "stream",
     "text": [
      "Enter age:  21\n",
      "Did you pass the driving test? (yes/no):  yes\n"
     ]
    },
    {
     "name": "stdout",
     "output_type": "stream",
     "text": [
      "Eligible for a driving license\n"
     ]
    }
   ],
   "source": [
    "age = int(input(\"Enter age: \"))\n",
    "passed_test = input(\"Did you pass the driving test? (yes/no): \").lower()\n",
    "if age >= 18 and passed_test == \"yes\":\n",
    " print(\"Eligible for a driving license\")\n",
    "else:\n",
    " print(\"Not eligible\") "
   ]
  },
  {
   "cell_type": "markdown",
   "id": "d87774e1-1f9b-4352-ad04-caec1f4d448b",
   "metadata": {},
   "source": [
    "## 24. Determine if a triangle is equilateral, isosceles, or scalene"
   ]
  },
  {
   "cell_type": "code",
   "execution_count": 24,
   "id": "20cf8687-a079-4140-9339-37340393fb5b",
   "metadata": {},
   "outputs": [
    {
     "name": "stdin",
     "output_type": "stream",
     "text": [
      "Enter first side:  1\n",
      "Enter second side:  1\n",
      "Enter third side:  1\n"
     ]
    },
    {
     "name": "stdout",
     "output_type": "stream",
     "text": [
      "Equilateral Triangle\n"
     ]
    }
   ],
   "source": [
    "a = int(input(\"Enter first side: \"))\n",
    "b = int(input(\"Enter second side: \"))\n",
    "c = int(input(\"Enter third side: \"))\n",
    "if a == b == c:\n",
    " print(\"Equilateral Triangle\")\n",
    "elif a == b or b == c or a == c:\n",
    " print(\"Isosceles Triangle\")\n",
    "else:\n",
    " print(\"Scalene Triangle\") "
   ]
  },
  {
   "cell_type": "markdown",
   "id": "33808b0c-f579-44f7-bef5-b21a5bed1f96",
   "metadata": {},
   "source": [
    "## 25. Determine if a student passes or fails"
   ]
  },
  {
   "cell_type": "code",
   "execution_count": 25,
   "id": "eb72faea-92e7-4dbd-a80a-7baf9dacc3e3",
   "metadata": {},
   "outputs": [
    {
     "name": "stdin",
     "output_type": "stream",
     "text": [
      "Enter marks:  67\n"
     ]
    },
    {
     "name": "stdout",
     "output_type": "stream",
     "text": [
      "Pass\n"
     ]
    }
   ],
   "source": [
    "marks = int(input(\"Enter marks: \"))\n",
    "if marks >= 40:\n",
    " print(\"Pass\")\n",
    "else:\n",
    " print(\"Fail\") "
   ]
  },
  {
   "cell_type": "markdown",
   "id": "322ecb9e-6939-4c5c-95b9-8fbe149aa018",
   "metadata": {},
   "source": [
    "## 26. Check if a number is a palindrome\n"
   ]
  },
  {
   "cell_type": "code",
   "execution_count": 26,
   "id": "f3a39c72-c17c-4a79-a923-e20637fb2f2f",
   "metadata": {},
   "outputs": [
    {
     "name": "stdin",
     "output_type": "stream",
     "text": [
      "Enter a number:  121\n"
     ]
    },
    {
     "name": "stdout",
     "output_type": "stream",
     "text": [
      "Palindrome\n"
     ]
    }
   ],
   "source": [
    "num = input(\"Enter a number: \")\n",
    "if num == num[::-1]:\n",
    " print(\"Palindrome\")\n",
    "else:\n",
    " print(\"Not a Palindrome\") "
   ]
  },
  {
   "cell_type": "markdown",
   "id": "6e5ce62b-7538-44d5-9987-c05c4bc584e6",
   "metadata": {},
   "source": [
    "### 27. Calculate electricity bill"
   ]
  },
  {
   "cell_type": "code",
   "execution_count": 27,
   "id": "c16da655-31f6-48b4-9674-f55434a49d13",
   "metadata": {},
   "outputs": [
    {
     "name": "stdin",
     "output_type": "stream",
     "text": [
      "enter the electricity unit consume :  56\n"
     ]
    },
    {
     "name": "stdout",
     "output_type": "stream",
     "text": [
      "tital bill : 280\n"
     ]
    }
   ],
   "source": [
    "unit=int(input('enter the electricity unit consume : '))\n",
    "if unit<=100:\n",
    "    bill=  unit*5\n",
    "elif unit<=300:\n",
    "    bill=(100*5)+(unit-100)*10\n",
    "else:\n",
    "    bill =(100*5)+(unit-100)*10+(unit-300)*15\n",
    "print(f'tital bill : {bill}')"
   ]
  },
  {
   "cell_type": "markdown",
   "id": "d8b8a77b-74c0-4c36-9509-1498289de68d",
   "metadata": {},
   "source": [
    "### 28. Find the grade of a student"
   ]
  },
  {
   "cell_type": "code",
   "execution_count": 28,
   "id": "ffd68a71-8561-4ed2-9813-e8158cd85450",
   "metadata": {},
   "outputs": [
    {
     "name": "stdin",
     "output_type": "stream",
     "text": [
      "Enter marks:  67\n"
     ]
    },
    {
     "name": "stdout",
     "output_type": "stream",
     "text": [
      "Grade: D\n"
     ]
    }
   ],
   "source": [
    "marks = int(input(\"Enter marks: \"))\n",
    "if marks >= 90:\n",
    " print(\"Grade: A\")\n",
    "elif marks >= 80:\n",
    " print(\"Grade: B\")\n",
    "elif marks >= 70:\n",
    " print(\"Grade: C\")\n",
    "elif marks >= 60:\n",
    " print(\"Grade: D\")\n",
    "elif marks >= 40:\n",
    " print(\"Grade: E\")\n",
    "else:\n",
    " print(\"Grade: F \") "
   ]
  },
  {
   "cell_type": "markdown",
   "id": "0a9dadef-e664-4b11-a8f4-449987e1a78f",
   "metadata": {},
   "source": [
    "### 29. Determine if a given date is valid"
   ]
  },
  {
   "cell_type": "code",
   "execution_count": 29,
   "id": "3379aba6-2f29-47db-91c4-dfca06f30843",
   "metadata": {},
   "outputs": [
    {
     "name": "stdin",
     "output_type": "stream",
     "text": [
      "enter the date 21\n",
      "enter the month 12\n"
     ]
    },
    {
     "name": "stdout",
     "output_type": "stream",
     "text": [
      "valid date\n"
     ]
    }
   ],
   "source": [
    "import calendar\n",
    "day=int(input('enter the date'))\n",
    "month=int(input('enter the month'))\n",
    "if 1<=month<=12 and 1<=day<=calendar.monthrange(year,month)[1]:\n",
    "    print('valid date')\n",
    "else:\n",
    "    print('invalid daate')"
   ]
  },
  {
   "cell_type": "markdown",
   "id": "77c335e7-c1f1-44e8-a540-4cf0433ff5d9",
   "metadata": {},
   "source": [
    "### 30. Check if a given time is AM or PM"
   ]
  },
  {
   "cell_type": "code",
   "execution_count": 30,
   "id": "e00eb537-c75c-413a-9378-30606a954eb5",
   "metadata": {},
   "outputs": [
    {
     "name": "stdin",
     "output_type": "stream",
     "text": [
      "enter the time 1\n"
     ]
    },
    {
     "name": "stdout",
     "output_type": "stream",
     "text": [
      "AM\n"
     ]
    }
   ],
   "source": [
    "time=float(input('enter the time'))\n",
    "if time<12:\n",
    "    print('AM')\n",
    "else:\n",
    "    print('PM')"
   ]
  },
  {
   "cell_type": "markdown",
   "id": "8ca4ab2b-f013-49c4-8a70-55c59075d382",
   "metadata": {},
   "source": [
    "### 31. Check if a number is an Armstrong number"
   ]
  },
  {
   "cell_type": "code",
   "execution_count": 35,
   "id": "e75370f9-8a5c-4fa7-8442-8bb38594b050",
   "metadata": {},
   "outputs": [
    {
     "name": "stdin",
     "output_type": "stream",
     "text": [
      "Enter a number:  151\n"
     ]
    },
    {
     "name": "stdout",
     "output_type": "stream",
     "text": [
      "Not an Armstrong Number\n"
     ]
    }
   ],
   "source": [
    "num = input(\"Enter a number: \")\n",
    "power = len(num)\n",
    "if sum(int(digit) ** power for digit in num) == int(num):\n",
    " print(\"Armstrong Number\")\n",
    "else:\n",
    " print(\"Not an Armstrong Number\")"
   ]
  },
  {
   "cell_type": "markdown",
   "id": "dcfa1019-76cd-4241-adb2-e06c2903dacd",
   "metadata": {},
   "source": [
    "### 32. Determine the type of quadrilateral\n"
   ]
  },
  {
   "cell_type": "code",
   "execution_count": 36,
   "id": "7886e098-f3b8-4814-9a61-98ed724437c1",
   "metadata": {},
   "outputs": [
    {
     "name": "stdin",
     "output_type": "stream",
     "text": [
      "Enter first side:  2\n",
      "Enter second side:  2\n",
      "Enter third side:  2\n",
      "Enter fourth side:  2\n"
     ]
    },
    {
     "name": "stdout",
     "output_type": "stream",
     "text": [
      "Square\n"
     ]
    }
   ],
   "source": [
    "a = int(input(\"Enter first side: \"))\n",
    "b = int(input(\"Enter second side: \"))\n",
    "c = int(input(\"Enter third side: \"))\n",
    "d = int(input(\"Enter fourth side: \"))\n",
    "if a == b == c == d:\n",
    " print(\"Square\")\n",
    "elif a == c and b == d:\n",
    " print(\"Rectangle\")\n",
    "else:\n",
    " print(\"Other Quadrilateral\") "
   ]
  },
  {
   "cell_type": "markdown",
   "id": "1519ee61-4fc1-48cf-accb-987f17f2edcd",
   "metadata": {},
   "source": [
    "### 33. Implement a basic calculator"
   ]
  },
  {
   "cell_type": "code",
   "execution_count": 37,
   "id": "b476ae0b-6736-42e7-96c6-ee350ce9ef3a",
   "metadata": {},
   "outputs": [
    {
     "name": "stdin",
     "output_type": "stream",
     "text": [
      "Enter first number:  200\n",
      "Enter second number:  45\n",
      "Enter operation (+, -, *, /):  +\n"
     ]
    },
    {
     "name": "stdout",
     "output_type": "stream",
     "text": [
      "Result: 245.0\n"
     ]
    }
   ],
   "source": [
    "a = float(input(\"Enter first number: \"))\n",
    "b = float(input(\"Enter second number: \"))\n",
    "op = input(\"Enter operation (+, -, *, /): \")\n",
    "if op == \"+\":\n",
    " print(\"Result:\", a + b)\n",
    "elif op == \"-\":\n",
    " print(\"Result:\", a - b)\n",
    "elif op == \"*\":\n",
    " print(\"Result:\", a * b)\n",
    "elif op == \"/\":\n",
    " print(\"Result:\", a / b)\n",
    "else:\n",
    " print(\"Invalid operation\") "
   ]
  },
  {
   "cell_type": "markdown",
   "id": "c6a7b049-4c79-43b8-b734-aef5f77c96f1",
   "metadata": {},
   "source": [
    "### 34. Check if a bank account balance is sufficient for withdrawal\n"
   ]
  },
  {
   "cell_type": "code",
   "execution_count": 38,
   "id": "d1ed597a-cc64-4fc0-ad45-7f92f032b930",
   "metadata": {},
   "outputs": [
    {
     "name": "stdin",
     "output_type": "stream",
     "text": [
      "Enter account balance:  30000\n",
      "Enter withdrawal amount:  35000\n"
     ]
    },
    {
     "name": "stdout",
     "output_type": "stream",
     "text": [
      "Insufficient funds\n"
     ]
    }
   ],
   "source": [
    "balance = float(input(\"Enter account balance: \"))\n",
    "withdraw = float(input(\"Enter withdrawal amount: \"))\n",
    "if balance >= withdraw:\n",
    " print(\"Withdrawal successful\")\n",
    "else:\n",
    " print(\"Insufficient funds\") "
   ]
  },
  {
   "cell_type": "markdown",
   "id": "132e4cf3-f1ee-4b0a-8728-3770324968fa",
   "metadata": {},
   "source": [
    "### 35. Implement a temperature converter"
   ]
  },
  {
   "cell_type": "code",
   "execution_count": 39,
   "id": "69fe71f6-786e-48a8-a666-29eb65cae800",
   "metadata": {},
   "outputs": [
    {
     "name": "stdin",
     "output_type": "stream",
     "text": [
      "Enter temperature:  36\n",
      "Enter unit (C/F):  f\n"
     ]
    },
    {
     "name": "stdout",
     "output_type": "stream",
     "text": [
      "Celsius: 2.2222222222222223\n"
     ]
    }
   ],
   "source": [
    "temp = float(input(\"Enter temperature: \"))\n",
    "unit = input(\"Enter unit (C/F): \").upper()\n",
    "if unit == \"C\":\n",
    " print(\"Fahrenheit:\", (temp * 9/5) + 32)\n",
    "elif unit == \"F\":\n",
    " print(\"Celsius:\", (temp - 32) * 5/9)\n",
    "else:\n",
    " print(\"Invalid unit\") "
   ]
  },
  {
   "cell_type": "markdown",
   "id": "0875ae0d-898d-4ff9-aa67-62fe44305319",
   "metadata": {},
   "source": [
    "### 36. Check if a number lies within a range (50-100)"
   ]
  },
  {
   "cell_type": "code",
   "execution_count": 2,
   "id": "644d3079-7380-43b5-b5fc-f9cd324fe702",
   "metadata": {},
   "outputs": [
    {
     "name": "stdin",
     "output_type": "stream",
     "text": [
      "Enter a number:  45\n"
     ]
    },
    {
     "name": "stdout",
     "output_type": "stream",
     "text": [
      "not inside 50-100\n"
     ]
    }
   ],
   "source": [
    "num = int(input(\"Enter a number: \"))\n",
    "if 50 <= num <= 100:\n",
    " print(\"Within range\")\n",
    "else:\n",
    " print(\"not inside 50-100\") "
   ]
  },
  {
   "cell_type": "markdown",
   "id": "d4624ce9-263b-43d3-9b09-629d2fc3e0d0",
   "metadata": {},
   "source": [
    "### 37. Determine if a year is a century year"
   ]
  },
  {
   "cell_type": "code",
   "execution_count": 3,
   "id": "c9c2bb7f-c881-459c-8dcb-8ed7a7349413",
   "metadata": {},
   "outputs": [
    {
     "name": "stdin",
     "output_type": "stream",
     "text": [
      "Enter a year:  2004\n"
     ]
    },
    {
     "name": "stdout",
     "output_type": "stream",
     "text": [
      "Not a Century Year\n"
     ]
    }
   ],
   "source": [
    "year = int(input(\"Enter a year: \"))\n",
    "if year % 100 == 0:\n",
    " print(\"Century Year\")\n",
    "else:\n",
    " print(\"Not a Century Year\") "
   ]
  },
  {
   "cell_type": "markdown",
   "id": "dccc0075-f6a0-4e40-87d6-a048cf7bd1c3",
   "metadata": {},
   "source": [
    "### 38. Check if a number is a power of 2\n"
   ]
  },
  {
   "cell_type": "code",
   "execution_count": 4,
   "id": "0bfbf81c-2ccb-45a0-b2f0-1d318a11a619",
   "metadata": {},
   "outputs": [
    {
     "name": "stdin",
     "output_type": "stream",
     "text": [
      "Enter a number:  10\n"
     ]
    },
    {
     "name": "stdout",
     "output_type": "stream",
     "text": [
      "Not a Power of 2\n"
     ]
    }
   ],
   "source": [
    "num = int(input(\"Enter a number: \"))\n",
    "if num > 0 and (num & (num - 1)) == 0:\n",
    " print(\"Power of 2\")\n",
    "else:\n",
    " print(\"Not a Power of 2\") "
   ]
  },
  {
   "cell_type": "markdown",
   "id": "7025f158-0d95-41da-92d9-67623b8397eb",
   "metadata": {},
   "source": [
    "### 39. Determine how many days a month has\n"
   ]
  },
  {
   "cell_type": "code",
   "execution_count": 5,
   "id": "61a3c418-14cc-4f70-9833-b316ba2ccac3",
   "metadata": {},
   "outputs": [
    {
     "name": "stdin",
     "output_type": "stream",
     "text": [
      "Enter month (1-12):  1\n",
      "Enter year:  2004\n"
     ]
    },
    {
     "name": "stdout",
     "output_type": "stream",
     "text": [
      "Days: 31\n"
     ]
    }
   ],
   "source": [
    "month = int(input(\"Enter month (1-12): \"))\n",
    "year = int(input(\"Enter year: \"))\n",
    "days = [31, 28 + (1 if (year % 4 == 0 and year % 100 != 0) or (year % 400 == 0) else 0), 31,\n",
    "30, 31, 30, 31, 31, 30, 31, 30, 31]\n",
    "print(\"Days:\", days[month - 1]) \n",
    "\n"
   ]
  },
  {
   "cell_type": "markdown",
   "id": "11869e94-dcd6-4d57-9d97-a8949bce9331",
   "metadata": {},
   "source": [
    "### 40. Validate a password"
   ]
  },
  {
   "cell_type": "code",
   "execution_count": 7,
   "id": "2e66c6d9-2b5a-403f-b23a-8a7c164c2867",
   "metadata": {},
   "outputs": [
    {
     "name": "stdin",
     "output_type": "stream",
     "text": [
      "Enter password:  Supravat\n"
     ]
    },
    {
     "name": "stdout",
     "output_type": "stream",
     "text": [
      "Invalid Password\n"
     ]
    }
   ],
   "source": [
    "import re\n",
    "password = input(\"Enter password: \")\n",
    "if len(password) >= 8 and re.search(r\"[A-Za-z]\", password) and re.search(r\"\\d\", password):\n",
    " print(\"Valid Password\")\n",
    "else:\n",
    " print(\"Invalid Password\")"
   ]
  },
  {
   "cell_type": "markdown",
   "id": "04273f76-3746-4327-9313-07818b48205f",
   "metadata": {},
   "source": [
    "## HARD LEVEL -->"
   ]
  },
  {
   "cell_type": "markdown",
   "id": "ba6ccc34-c03b-466d-952f-3b31f6baf96a",
   "metadata": {},
   "source": [
    "### 41. Implement a ticket pricing system\n"
   ]
  },
  {
   "cell_type": "code",
   "execution_count": 9,
   "id": "ea76668f-d5f7-4732-836a-9ec47cee3c3c",
   "metadata": {},
   "outputs": [
    {
     "name": "stdin",
     "output_type": "stream",
     "text": [
      "Enter age:  5\n"
     ]
    },
    {
     "name": "stdout",
     "output_type": "stream",
     "text": [
      "Ticket Price: ₹100\n"
     ]
    }
   ],
   "source": [
    "age = int(input(\"Enter age: \"))\n",
    "if age < 5:\n",
    " print(\"Ticket Price: Free\")\n",
    "elif age >= 60:\n",
    " print(\"Ticket Price: ₹50\")\n",
    "else:\n",
    " print(\"Ticket Price: ₹100\")"
   ]
  },
  {
   "cell_type": "code",
   "execution_count": null,
   "id": "54e1b7a4-c746-47c4-93ab-3c72b222d23f",
   "metadata": {},
   "outputs": [],
   "source": []
  }
 ],
 "metadata": {
  "kernelspec": {
   "display_name": "Python 3 (ipykernel)",
   "language": "python",
   "name": "python3"
  },
  "language_info": {
   "codemirror_mode": {
    "name": "ipython",
    "version": 3
   },
   "file_extension": ".py",
   "mimetype": "text/x-python",
   "name": "python",
   "nbconvert_exporter": "python",
   "pygments_lexer": "ipython3",
   "version": "3.13.5"
  }
 },
 "nbformat": 4,
 "nbformat_minor": 5
}
