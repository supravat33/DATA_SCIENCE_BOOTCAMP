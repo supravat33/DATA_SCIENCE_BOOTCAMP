{
 "cells": [
  {
   "cell_type": "markdown",
   "id": "c76e58e3-3e27-4411-82a0-d25be3cb3707",
   "metadata": {},
   "source": [
    "# Arithmetic Operations in Python\n",
    "# Integers"
   ]
  },
  {
   "cell_type": "code",
   "execution_count": 2,
   "id": "c6012a42-d12f-4d2c-b53c-f1a616da2601",
   "metadata": {},
   "outputs": [
    {
     "name": "stdout",
     "output_type": "stream",
     "text": [
      "Addition:  12\n"
     ]
    }
   ],
   "source": [
    "print('Addition: ', 10+ 2)"
   ]
  },
  {
   "cell_type": "code",
   "execution_count": 3,
   "id": "72906c8d-7942-4019-a80b-933d376df701",
   "metadata": {},
   "outputs": [
    {
     "name": "stdout",
     "output_type": "stream",
     "text": [
      "Subtraction:  1999\n"
     ]
    }
   ],
   "source": [
    "print('Subtraction: ', 2000- 1)"
   ]
  },
  {
   "cell_type": "code",
   "execution_count": 4,
   "id": "62f4b748-cc4e-42b1-9acd-e961148e0995",
   "metadata": {},
   "outputs": [
    {
     "name": "stdout",
     "output_type": "stream",
     "text": [
      "multipication:  1120\n"
     ]
    }
   ],
   "source": [
    "print('multipication: ',56*20)"
   ]
  },
  {
   "cell_type": "code",
   "execution_count": 5,
   "id": "1d3bd5fa-a135-4ebe-9c8a-6b502bdf99ca",
   "metadata": {},
   "outputs": [
    {
     "name": "stdout",
     "output_type": "stream",
     "text": [
      "division:  2.0\n"
     ]
    }
   ],
   "source": [
    "print('division: ',44/22)"
   ]
  },
  {
   "cell_type": "code",
   "execution_count": 6,
   "id": "100e0d0e-d641-43e4-a8b1-4b3295c4b91a",
   "metadata": {},
   "outputs": [
    {
     "name": "stdout",
     "output_type": "stream",
     "text": [
      "division:  2.0\n"
     ]
    }
   ],
   "source": [
    "print('division: ',8/4)"
   ]
  },
  {
   "cell_type": "code",
   "execution_count": 7,
   "id": "af30dcc4-69bf-4dc9-894b-b5633d417727",
   "metadata": {},
   "outputs": [
    {
     "name": "stdout",
     "output_type": "stream",
     "text": [
      "division:  1.1666666666666667\n"
     ]
    }
   ],
   "source": [
    "print('division: ',77/66)"
   ]
  },
  {
   "cell_type": "code",
   "execution_count": 8,
   "id": "ba3208d3-1e62-4f5c-8970-84203fdc244b",
   "metadata": {},
   "outputs": [
    {
     "name": "stdout",
     "output_type": "stream",
     "text": [
      "division without remainder:  3\n"
     ]
    }
   ],
   "source": [
    "print('division without remainder: ',77//22)"
   ]
  },
  {
   "cell_type": "code",
   "execution_count": 9,
   "id": "f963bd3e-43d0-431f-b1d2-973aad6bf7dc",
   "metadata": {},
   "outputs": [
    {
     "name": "stdout",
     "output_type": "stream",
     "text": [
      "modulus:  1\n"
     ]
    }
   ],
   "source": [
    "print('modulus: ',33%2)"
   ]
  },
  {
   "cell_type": "code",
   "execution_count": 10,
   "id": "c218ef51-b15a-4d4e-afa7-0720a2f3126c",
   "metadata": {},
   "outputs": [
    {
     "name": "stdout",
     "output_type": "stream",
     "text": [
      "devision without remainder:  2\n"
     ]
    }
   ],
   "source": [
    "print('devision without remainder: ',77//33)"
   ]
  },
  {
   "cell_type": "code",
   "execution_count": 11,
   "id": "a63b0949-2521-470d-867a-69b74417ccd2",
   "metadata": {},
   "outputs": [
    {
     "name": "stdout",
     "output_type": "stream",
     "text": [
      "expnential:  3125\n"
     ]
    }
   ],
   "source": [
    "print('expnential: ',5**5)"
   ]
  },
  {
   "cell_type": "markdown",
   "id": "f4648168-2446-47bf-861b-aea6ec8fc86c",
   "metadata": {},
   "source": [
    "# floating number"
   ]
  },
  {
   "cell_type": "code",
   "execution_count": 12,
   "id": "ae1c2416-9ca9-46f7-ba9d-72ff823a106f",
   "metadata": {},
   "outputs": [
    {
     "name": "stdout",
     "output_type": "stream",
     "text": [
      "floating number,pi 3 14\n"
     ]
    }
   ],
   "source": [
    "print('floating number,pi',3,14)"
   ]
  },
  {
   "cell_type": "code",
   "execution_count": 13,
   "id": "68fdb1b4-295e-40bb-a0c8-d32b6c910f5d",
   "metadata": {},
   "outputs": [
    {
     "name": "stdout",
     "output_type": "stream",
     "text": [
      "floatig number,gravity 9.81\n"
     ]
    }
   ],
   "source": [
    "print('floatig number,gravity',9.81)"
   ]
  },
  {
   "cell_type": "markdown",
   "id": "3f21368c-016f-48d0-937c-d9f26da8d829",
   "metadata": {},
   "source": [
    "# complex number"
   ]
  },
  {
   "cell_type": "code",
   "execution_count": 14,
   "id": "14b4de8d-956a-4403-9e2e-309dbb78c195",
   "metadata": {},
   "outputs": [
    {
     "name": "stdout",
     "output_type": "stream",
     "text": [
      "complex number:  (20+20j)\n"
     ]
    }
   ],
   "source": [
    "print('complex number: ',20+20j)"
   ]
  },
  {
   "cell_type": "code",
   "execution_count": 15,
   "id": "cb10e06e-d1de-4e70-b81c-21da0487552c",
   "metadata": {},
   "outputs": [
    {
     "name": "stdout",
     "output_type": "stream",
     "text": [
      "multiplying two complex number:  400j\n"
     ]
    }
   ],
   "source": [
    "print('multiplying two complex number: ',(20+20j)*(10+10j))"
   ]
  },
  {
   "cell_type": "markdown",
   "id": "48f55d59-dad2-4d11-88e6-88e19657bf77",
   "metadata": {},
   "source": [
    "# declaring the variable at the top first"
   ]
  },
  {
   "cell_type": "code",
   "execution_count": 16,
   "id": "2d826329-bd60-4453-b7b2-a00c3d352277",
   "metadata": {},
   "outputs": [
    {
     "name": "stdout",
     "output_type": "stream",
     "text": [
      "45\n"
     ]
    }
   ],
   "source": [
    "first_variable=45\n",
    "print(first_variable)"
   ]
  },
  {
   "cell_type": "code",
   "execution_count": 17,
   "id": "8800d149-8e1d-4a81-949d-ab6f7bcec1fa",
   "metadata": {},
   "outputs": [
    {
     "name": "stdout",
     "output_type": "stream",
     "text": [
      "90\n"
     ]
    }
   ],
   "source": [
    "second_variable=90\n",
    "print(second_variable)"
   ]
  },
  {
   "cell_type": "markdown",
   "id": "7df89800-2bea-4e38-9714-07043fb09fb9",
   "metadata": {},
   "source": [
    "# arithmatic operation nd assigning the the value to the variable"
   ]
  },
  {
   "cell_type": "code",
   "execution_count": 28,
   "id": "8fc8a112-c860-4f45-a5dc-1fa861f121cd",
   "metadata": {},
   "outputs": [
    {
     "name": "stdout",
     "output_type": "stream",
     "text": [
      "a + b =  50\n"
     ]
    }
   ],
   "source": [
    "a=20\n",
    "b=30\n",
    "total=a+b\n",
    "print('a + b = ',total)\n",
    " #  there is an built in funcation name sum() try to avoid it because you can't create the vaarible of the built in funcatin"
   ]
  },
  {
   "cell_type": "code",
   "execution_count": 29,
   "id": "91084045-2966-4cb1-98f0-4ac3e888346f",
   "metadata": {},
   "outputs": [
    {
     "name": "stdout",
     "output_type": "stream",
     "text": [
      " - b =  10\n"
     ]
    }
   ],
   "source": [
    "a=40\n",
    "b=30\n",
    "diff = a - b\n",
    "print(' - b = ',diff)"
   ]
  },
  {
   "cell_type": "code",
   "execution_count": 30,
   "id": "6ef5887c-e46c-495f-876b-09cb9f424d88",
   "metadata": {},
   "outputs": [
    {
     "name": "stdout",
     "output_type": "stream",
     "text": [
      "a * b =  600\n"
     ]
    }
   ],
   "source": [
    "a=20\n",
    "b=30\n",
    "product = a * b\n",
    "print('a * b = ',product)"
   ]
  },
  {
   "cell_type": "code",
   "execution_count": 31,
   "id": "46b6aae2-6b8e-48dd-a80c-cc36319fd183",
   "metadata": {},
   "outputs": [
    {
     "name": "stdout",
     "output_type": "stream",
     "text": [
      "a / b =  0.6666666666666666\n"
     ]
    }
   ],
   "source": [
    "a=20\n",
    "b=30\n",
    "division = a / b\n",
    "print('a / b = ',division)"
   ]
  },
  {
   "cell_type": "code",
   "execution_count": 32,
   "id": "51891c37-a598-4012-a0e4-5d4ae090be41",
   "metadata": {},
   "outputs": [
    {
     "name": "stdout",
     "output_type": "stream",
     "text": [
      "a % b =  20\n"
     ]
    }
   ],
   "source": [
    "a=20\n",
    "b=30\n",
    "remainder = a % b\n",
    "print('a % b = ', remainder)"
   ]
  },
  {
   "cell_type": "code",
   "execution_count": 34,
   "id": "96fb66af-2097-44e7-a04d-990c0d858ef2",
   "metadata": {},
   "outputs": [
    {
     "name": "stdout",
     "output_type": "stream",
     "text": [
      "a // b =  1\n"
     ]
    }
   ],
   "source": [
    "a=30\n",
    "b=30\n",
    "floor_division = a // b\n",
    "print('a // b = ',floor_division)"
   ]
  },
  {
   "cell_type": "code",
   "execution_count": 36,
   "id": "6e605d30-fd56-4548-b234-961829f27b51",
   "metadata": {},
   "outputs": [
    {
     "name": "stdout",
     "output_type": "stream",
     "text": [
      "a ** b =  8000\n"
     ]
    }
   ],
   "source": [
    "a=20\n",
    "b=3\n",
    "exponential = a ** b\n",
    "print('a ** b = ',exponential)"
   ]
  },
  {
   "cell_type": "code",
   "execution_count": 38,
   "id": "627c8961-b030-42c8-bf02-91e989bed452",
   "metadata": {},
   "outputs": [],
   "source": [
    "num_one=24\n",
    "num_two=12"
   ]
  },
  {
   "cell_type": "code",
   "execution_count": 39,
   "id": "695c9a5e-136a-41de-9653-c563365e92cf",
   "metadata": {},
   "outputs": [
    {
     "name": "stdout",
     "output_type": "stream",
     "text": [
      "total: 36\n"
     ]
    }
   ],
   "source": [
    "total=num_one+num_two\n",
    "print('total:',total)"
   ]
  },
  {
   "cell_type": "code",
   "execution_count": 40,
   "id": "8cc5530e-95a0-4a45-8c36-41ee6473f64d",
   "metadata": {},
   "outputs": [
    {
     "name": "stdout",
     "output_type": "stream",
     "text": [
      "diff:  12\n"
     ]
    }
   ],
   "source": [
    "diff=num_one-num_two\n",
    "print('diff: ',diff)"
   ]
  },
  {
   "cell_type": "code",
   "execution_count": 41,
   "id": "097cd688-7f9e-41b1-a6bf-0ab0eae86948",
   "metadata": {},
   "outputs": [
    {
     "name": "stdout",
     "output_type": "stream",
     "text": [
      "product:  288\n"
     ]
    }
   ],
   "source": [
    "product=num_one*num_two\n",
    "print('product: ',product)"
   ]
  },
  {
   "cell_type": "code",
   "execution_count": 42,
   "id": "68c54a6c-f12b-4cdb-9abe-be39eaca58d6",
   "metadata": {},
   "outputs": [
    {
     "name": "stdout",
     "output_type": "stream",
     "text": [
      "div:  2.0\n"
     ]
    }
   ],
   "source": [
    "div=num_one/num_two\n",
    "print('div: ',div)"
   ]
  },
  {
   "cell_type": "code",
   "execution_count": 43,
   "id": "a81fa855-3b39-42dc-8a9c-5601fa5851db",
   "metadata": {},
   "outputs": [
    {
     "name": "stdout",
     "output_type": "stream",
     "text": [
      "remainder:  0\n"
     ]
    }
   ],
   "source": [
    "remainder=num_one%num_two\n",
    "print('remainder: ',remainder)"
   ]
  },
  {
   "cell_type": "markdown",
   "id": "936d275d-bee1-49b6-afbf-c493c5bcc526",
   "metadata": {},
   "source": [
    "# calculating area of  rectangle"
   ]
  },
  {
   "cell_type": "code",
   "execution_count": 46,
   "id": "df3a97ef-1d95-4a3d-aa33-102a8f14e478",
   "metadata": {},
   "outputs": [
    {
     "name": "stdout",
     "output_type": "stream",
     "text": [
      "are of the rectangle:  200\n"
     ]
    }
   ],
   "source": [
    "length=10\n",
    "width=20\n",
    "area_of_rectangle=length*width\n",
    "print('are of the rectangle: ',area_of_rectangle)"
   ]
  },
  {
   "cell_type": "markdown",
   "id": "33192114-ce59-42c8-9c60-9f049e5b99d4",
   "metadata": {},
   "source": [
    "# calculating area of the circle"
   ]
  },
  {
   "cell_type": "code",
   "execution_count": 47,
   "id": "615bd3f0-7cec-4350-97a2-f37ebc4931ab",
   "metadata": {},
   "outputs": [
    {
     "name": "stdout",
     "output_type": "stream",
     "text": [
      "area of the circle:  78.5\n"
     ]
    }
   ],
   "source": [
    "radius=5\n",
    "area_of_circle=3.14*radius**2\n",
    "print('area of the circle: ',area_of_circle)"
   ]
  },
  {
   "cell_type": "markdown",
   "id": "1b976890-7262-4a1c-9c62-95c602d17813",
   "metadata": {},
   "source": [
    "# calculating weight of an object"
   ]
  },
  {
   "cell_type": "code",
   "execution_count": 48,
   "id": "c712a6a2-3f7a-4a82-847d-0c75264d967f",
   "metadata": {},
   "outputs": [
    {
     "name": "stdout",
     "output_type": "stream",
     "text": [
      "637.65 N\n"
     ]
    }
   ],
   "source": [
    "mass=65\n",
    "gravity=9.81\n",
    "weight=mass*gravity\n",
    "print(weight,'N')"
   ]
  },
  {
   "cell_type": "code",
   "execution_count": 49,
   "id": "93307c94-b67e-49a5-b3d4-2b1dfa4292f8",
   "metadata": {},
   "outputs": [
    {
     "name": "stdout",
     "output_type": "stream",
     "text": [
      "True\n"
     ]
    }
   ],
   "source": [
    "print(3 > 2)     # True, because 3 is greater than 2"
   ]
  },
  {
   "cell_type": "code",
   "execution_count": 50,
   "id": "b439edeb-aa24-45a4-863f-f9a4df77edbb",
   "metadata": {},
   "outputs": [
    {
     "name": "stdout",
     "output_type": "stream",
     "text": [
      "False\n"
     ]
    }
   ],
   "source": [
    "print(40>=56)"
   ]
  },
  {
   "cell_type": "code",
   "execution_count": 51,
   "id": "2c242474-a877-4d2a-9886-766e261d9965",
   "metadata": {},
   "outputs": [
    {
     "name": "stdout",
     "output_type": "stream",
     "text": [
      "True\n"
     ]
    }
   ],
   "source": [
    "print(3<4)"
   ]
  },
  {
   "cell_type": "code",
   "execution_count": 52,
   "id": "df37e703-5c69-4b4e-a6a9-eb9557b524e9",
   "metadata": {},
   "outputs": [
    {
     "name": "stdout",
     "output_type": "stream",
     "text": [
      "True\n"
     ]
    }
   ],
   "source": [
    "print(5<88)"
   ]
  },
  {
   "cell_type": "code",
   "execution_count": 53,
   "id": "e7444482-3895-4d05-a94e-cc214a118b83",
   "metadata": {},
   "outputs": [
    {
     "name": "stdout",
     "output_type": "stream",
     "text": [
      "True\n"
     ]
    }
   ],
   "source": [
    "print(2 <= 3)"
   ]
  },
  {
   "cell_type": "code",
   "execution_count": 54,
   "id": "4c8b334e-00b2-447a-8ff0-f06549d73190",
   "metadata": {},
   "outputs": [
    {
     "name": "stdout",
     "output_type": "stream",
     "text": [
      "False\n"
     ]
    }
   ],
   "source": [
    "print(3 == 2) "
   ]
  },
  {
   "cell_type": "code",
   "execution_count": 55,
   "id": "81f4fb34-ba0e-4792-8dbc-0356db973ff2",
   "metadata": {},
   "outputs": [
    {
     "name": "stdout",
     "output_type": "stream",
     "text": [
      "True\n"
     ]
    }
   ],
   "source": [
    "print(3 != 2)"
   ]
  },
  {
   "cell_type": "code",
   "execution_count": 56,
   "id": "78eddc1c-6207-49da-9765-db2e80ba8707",
   "metadata": {},
   "outputs": [
    {
     "name": "stdout",
     "output_type": "stream",
     "text": [
      "True\n"
     ]
    }
   ],
   "source": [
    "print(len('mango')==len('apple'))"
   ]
  },
  {
   "cell_type": "code",
   "execution_count": 57,
   "id": "e8bcd809-068d-4312-816c-e30f5f9bb28b",
   "metadata": {},
   "outputs": [
    {
     "name": "stdout",
     "output_type": "stream",
     "text": [
      "False\n"
     ]
    }
   ],
   "source": [
    "print(len('mango')!=len('apple'))"
   ]
  },
  {
   "cell_type": "code",
   "execution_count": 58,
   "id": "08e0234c-8e3b-4a8c-a8de-0bd4c54c80dc",
   "metadata": {},
   "outputs": [
    {
     "name": "stdout",
     "output_type": "stream",
     "text": [
      "True\n"
     ]
    }
   ],
   "source": [
    "print(len('mango') < len('avocado'))"
   ]
  },
  {
   "cell_type": "code",
   "execution_count": 59,
   "id": "5c520b46-0203-4ad9-a6c8-f6dbe40c92f0",
   "metadata": {},
   "outputs": [
    {
     "name": "stdout",
     "output_type": "stream",
     "text": [
      "False\n"
     ]
    }
   ],
   "source": [
    "print(len('milk') != len('meat'))  "
   ]
  },
  {
   "cell_type": "code",
   "execution_count": 60,
   "id": "ef182e39-4f8b-474e-a2f6-49a80a35c509",
   "metadata": {},
   "outputs": [
    {
     "name": "stdout",
     "output_type": "stream",
     "text": [
      "True\n"
     ]
    }
   ],
   "source": [
    "print(len('milk') == len('meat'))"
   ]
  },
  {
   "cell_type": "code",
   "execution_count": 61,
   "id": "ff6f6150-f0c4-47a3-993f-3e18d1b15fe8",
   "metadata": {},
   "outputs": [
    {
     "name": "stdout",
     "output_type": "stream",
     "text": [
      "True\n"
     ]
    }
   ],
   "source": [
    "print(len('tomato') == len('potato'))"
   ]
  },
  {
   "cell_type": "code",
   "execution_count": 62,
   "id": "b583b091-b0bb-4972-91d7-38af2a9b2816",
   "metadata": {},
   "outputs": [
    {
     "name": "stdout",
     "output_type": "stream",
     "text": [
      "False\n"
     ]
    }
   ],
   "source": [
    "print(len('python') > len('dragon'))"
   ]
  },
  {
   "cell_type": "markdown",
   "id": "0d6272dd-f853-4e46-b5c1-635325446bcb",
   "metadata": {},
   "source": [
    "# boolean comparion"
   ]
  },
  {
   "cell_type": "code",
   "execution_count": 63,
   "id": "90d7e46e-d529-468a-9161-a1cdb96f37ad",
   "metadata": {},
   "outputs": [
    {
     "name": "stdout",
     "output_type": "stream",
     "text": [
      "True == True:  True\n"
     ]
    }
   ],
   "source": [
    "print('True == True: ', True == True)"
   ]
  },
  {
   "cell_type": "code",
   "execution_count": 64,
   "id": "0809cad4-6bd7-430b-9651-c80e9e2bebb3",
   "metadata": {},
   "outputs": [
    {
     "name": "stdout",
     "output_type": "stream",
     "text": [
      "True == False:  False\n"
     ]
    }
   ],
   "source": [
    "print('True == False: ', True == False)"
   ]
  },
  {
   "cell_type": "code",
   "execution_count": 65,
   "id": "2e3cd760-084d-4cee-9617-b9af7ce4b8a0",
   "metadata": {},
   "outputs": [
    {
     "name": "stdout",
     "output_type": "stream",
     "text": [
      "False == False: True\n"
     ]
    }
   ],
   "source": [
    "print('False == False:', False == False)"
   ]
  },
  {
   "cell_type": "code",
   "execution_count": 66,
   "id": "845a02e2-d230-475b-8995-f72a66e601cc",
   "metadata": {},
   "outputs": [
    {
     "name": "stdout",
     "output_type": "stream",
     "text": [
      "True and True:  True\n"
     ]
    }
   ],
   "source": [
    "print('True and True: ', True and True)"
   ]
  },
  {
   "cell_type": "code",
   "execution_count": 67,
   "id": "150303b5-848e-460c-bb81-0e68bf9385c2",
   "metadata": {},
   "outputs": [
    {
     "name": "stdout",
     "output_type": "stream",
     "text": [
      "True or False: True\n"
     ]
    }
   ],
   "source": [
    "print('True or False:', True or False)"
   ]
  },
  {
   "cell_type": "markdown",
   "id": "6c6409f2-771a-4d26-92fd-579898be08e0",
   "metadata": {},
   "source": [
    "# another way for comparsion"
   ]
  },
  {
   "cell_type": "code",
   "execution_count": 68,
   "id": "a05eaec2-b4bd-41c4-a8e6-3706e0c4c8c1",
   "metadata": {},
   "outputs": [
    {
     "name": "stdout",
     "output_type": "stream",
     "text": [
      "1 is 1 True\n"
     ]
    },
    {
     "name": "stderr",
     "output_type": "stream",
     "text": [
      "<>:1: SyntaxWarning: \"is\" with 'int' literal. Did you mean \"==\"?\n",
      "C:\\Users\\Supravata\\AppData\\Local\\Temp\\ipykernel_8860\\186316889.py:1: SyntaxWarning: \"is\" with 'int' literal. Did you mean \"==\"?\n",
      "  print('1 is 1',1 is 1)\n"
     ]
    }
   ],
   "source": [
    "print('1 is 1',1 is 1)"
   ]
  },
  {
   "cell_type": "code",
   "execution_count": 69,
   "id": "04117dbf-b12a-4deb-85ac-e6861cd09ff2",
   "metadata": {},
   "outputs": [
    {
     "name": "stdout",
     "output_type": "stream",
     "text": [
      "2 is not 2 False\n"
     ]
    },
    {
     "name": "stderr",
     "output_type": "stream",
     "text": [
      "<>:1: SyntaxWarning: \"is not\" with 'int' literal. Did you mean \"!=\"?\n",
      "C:\\Users\\Supravata\\AppData\\Local\\Temp\\ipykernel_8860\\3637610264.py:1: SyntaxWarning: \"is not\" with 'int' literal. Did you mean \"!=\"?\n",
      "  print('2 is not 2',2 is not 2)\n"
     ]
    }
   ],
   "source": [
    "print('2 is not 2',2 is not 2)"
   ]
  },
  {
   "cell_type": "code",
   "execution_count": 70,
   "id": "92a2085b-07be-479b-882a-27149821b97f",
   "metadata": {},
   "outputs": [
    {
     "name": "stdout",
     "output_type": "stream",
     "text": [
      "s in supravat True\n"
     ]
    }
   ],
   "source": [
    "print('s in supravat', 's' in 'supravat')"
   ]
  },
  {
   "cell_type": "code",
   "execution_count": 72,
   "id": "ccfb204c-6c6d-4976-b3d2-fd14b6357259",
   "metadata": {},
   "outputs": [
    {
     "name": "stdout",
     "output_type": "stream",
     "text": [
      "s in supravat False\n"
     ]
    }
   ],
   "source": [
    "print('s in supravat', 'S' in 'supravat')#we know python is case  sensitive"
   ]
  },
  {
   "cell_type": "code",
   "execution_count": 73,
   "id": "11ac14dd-e04a-41ee-989c-daa3d902da60",
   "metadata": {},
   "outputs": [
    {
     "name": "stdout",
     "output_type": "stream",
     "text": [
      "True\n"
     ]
    }
   ],
   "source": [
    "print('coding' in 'coding for all')"
   ]
  },
  {
   "cell_type": "code",
   "execution_count": 74,
   "id": "1502189a-9de0-4c49-9307-c64e3ae6f545",
   "metadata": {},
   "outputs": [
    {
     "name": "stdout",
     "output_type": "stream",
     "text": [
      "a in an: True\n"
     ]
    }
   ],
   "source": [
    "print('a in an:', 'a' in 'an')  "
   ]
  },
  {
   "cell_type": "code",
   "execution_count": 76,
   "id": "e6c7279e-5b55-4feb-b034-80416a817a8a",
   "metadata": {},
   "outputs": [
    {
     "name": "stdout",
     "output_type": "stream",
     "text": [
      "4 is 2 ** 2: False\n"
     ]
    }
   ],
   "source": [
    "print('4 is 2 ** 2:', 4 is 2 ** 4) "
   ]
  },
  {
   "cell_type": "code",
   "execution_count": 77,
   "id": "03bf45eb-96e8-41b6-83be-f9bf01dc1910",
   "metadata": {},
   "outputs": [
    {
     "name": "stdout",
     "output_type": "stream",
     "text": [
      "True\n"
     ]
    }
   ],
   "source": [
    "print(3 > 2 and 4 > 3)"
   ]
  },
  {
   "cell_type": "code",
   "execution_count": 78,
   "id": "3ace1527-aed2-4c3e-9cb0-34ed1cba5742",
   "metadata": {},
   "outputs": [
    {
     "name": "stdout",
     "output_type": "stream",
     "text": [
      "False\n"
     ]
    }
   ],
   "source": [
    "print(3 > 2 and 4 < 3)"
   ]
  },
  {
   "cell_type": "code",
   "execution_count": 79,
   "id": "6d5610e9-da4f-4379-b3c6-326155d69544",
   "metadata": {},
   "outputs": [
    {
     "name": "stdout",
     "output_type": "stream",
     "text": [
      "False\n"
     ]
    }
   ],
   "source": [
    "print(3 < 2 and 4 < 3)"
   ]
  },
  {
   "cell_type": "code",
   "execution_count": 80,
   "id": "598fdc91-01d1-419c-b48e-6fc3856c6de1",
   "metadata": {},
   "outputs": [
    {
     "name": "stdout",
     "output_type": "stream",
     "text": [
      "True\n"
     ]
    }
   ],
   "source": [
    "print(3 > 2 or 4 > 3)"
   ]
  },
  {
   "cell_type": "code",
   "execution_count": 81,
   "id": "c437baf8-793b-48e1-ac98-904e8b5c39d4",
   "metadata": {},
   "outputs": [
    {
     "name": "stdout",
     "output_type": "stream",
     "text": [
      "True\n"
     ]
    }
   ],
   "source": [
    "print(3 > 2 or 4 < 3) "
   ]
  },
  {
   "cell_type": "code",
   "execution_count": 82,
   "id": "2ab1c141-ece8-44ae-a7a6-eff9e59445f0",
   "metadata": {},
   "outputs": [
    {
     "name": "stdout",
     "output_type": "stream",
     "text": [
      "False\n"
     ]
    }
   ],
   "source": [
    "print(3 < 2 or 4 < 3)"
   ]
  },
  {
   "cell_type": "code",
   "execution_count": 83,
   "id": "5ec569d5-6c79-4d24-8a4d-9b6b14a21c77",
   "metadata": {},
   "outputs": [
    {
     "name": "stdout",
     "output_type": "stream",
     "text": [
      "False\n"
     ]
    }
   ],
   "source": [
    "print(not 3 > 2)"
   ]
  },
  {
   "cell_type": "code",
   "execution_count": 84,
   "id": "1bd7a8de-6753-4423-bdfd-5edad0d50274",
   "metadata": {},
   "outputs": [
    {
     "name": "stdout",
     "output_type": "stream",
     "text": [
      "False\n"
     ]
    }
   ],
   "source": [
    "print(not True)  "
   ]
  },
  {
   "cell_type": "code",
   "execution_count": 85,
   "id": "56f4bab6-6417-4c0d-93e7-dd907131b0fc",
   "metadata": {},
   "outputs": [
    {
     "name": "stdout",
     "output_type": "stream",
     "text": [
      "True\n"
     ]
    }
   ],
   "source": [
    "print(not False)  "
   ]
  },
  {
   "cell_type": "code",
   "execution_count": 86,
   "id": "49f30a33-9c08-4576-9948-e775b36dd1c8",
   "metadata": {},
   "outputs": [
    {
     "name": "stdout",
     "output_type": "stream",
     "text": [
      "True\n"
     ]
    }
   ],
   "source": [
    "print(not not True) "
   ]
  },
  {
   "cell_type": "code",
   "execution_count": 87,
   "id": "8f21e140-5d35-4a13-812c-16cb677cdbfd",
   "metadata": {},
   "outputs": [
    {
     "name": "stdout",
     "output_type": "stream",
     "text": [
      "False\n"
     ]
    }
   ],
   "source": [
    "print(not not False) "
   ]
  },
  {
   "cell_type": "markdown",
   "id": "ab75f2a1-acb2-4ee4-8bf1-0c012a1a74df",
   "metadata": {},
   "source": [
    "# BASIC_CODE_TASK\n",
    "# checking data_type"
   ]
  },
  {
   "cell_type": "code",
   "execution_count": 88,
   "id": "ce4ac2a7-2ca0-412b-8157-bd3a8b69165b",
   "metadata": {},
   "outputs": [
    {
     "name": "stdout",
     "output_type": "stream",
     "text": [
      "<class 'int'>\n"
     ]
    }
   ],
   "source": [
    "print(type(75))"
   ]
  },
  {
   "cell_type": "code",
   "execution_count": 89,
   "id": "94d4d114-2ea2-4b0c-af13-be9fe4cd5841",
   "metadata": {},
   "outputs": [
    {
     "name": "stdout",
     "output_type": "stream",
     "text": [
      "<class 'float'>\n"
     ]
    }
   ],
   "source": [
    "print(type(3.14))"
   ]
  },
  {
   "cell_type": "code",
   "execution_count": 90,
   "id": "d9fc4c50-525a-46c2-9352-4f5e34974878",
   "metadata": {},
   "outputs": [
    {
     "name": "stdout",
     "output_type": "stream",
     "text": [
      "<class 'complex'>\n"
     ]
    }
   ],
   "source": [
    "print(type(1+3j))"
   ]
  },
  {
   "cell_type": "code",
   "execution_count": 91,
   "id": "ce3b964c-ae4f-49a6-b1ae-b9a457c401f8",
   "metadata": {},
   "outputs": [
    {
     "name": "stdout",
     "output_type": "stream",
     "text": [
      "<class 'str'>\n"
     ]
    }
   ],
   "source": [
    "print(type('suprvat'))"
   ]
  },
  {
   "cell_type": "code",
   "execution_count": 92,
   "id": "7a000942-6d68-4548-ac27-8ec9efd878e9",
   "metadata": {},
   "outputs": [
    {
     "name": "stdout",
     "output_type": "stream",
     "text": [
      "<class 'list'>\n"
     ]
    }
   ],
   "source": [
    "print(type([1,2,4]))"
   ]
  },
  {
   "cell_type": "code",
   "execution_count": 93,
   "id": "21df3c9e-a749-4b24-9b02-4bae262277c0",
   "metadata": {},
   "outputs": [
    {
     "name": "stdout",
     "output_type": "stream",
     "text": [
      "<class 'dict'>\n"
     ]
    }
   ],
   "source": [
    "print(type({'name':'asbench'}))"
   ]
  },
  {
   "cell_type": "code",
   "execution_count": 94,
   "id": "25affb39-cb0d-4903-bacc-d009e3111f2c",
   "metadata": {},
   "outputs": [
    {
     "name": "stdout",
     "output_type": "stream",
     "text": [
      "<class 'set'>\n"
     ]
    }
   ],
   "source": [
    "print(type({9.8,9.8,10}))"
   ]
  },
  {
   "cell_type": "code",
   "execution_count": 95,
   "id": "61dd59ed-fd33-424a-8417-26b95d473fae",
   "metadata": {},
   "outputs": [
    {
     "name": "stdout",
     "output_type": "stream",
     "text": [
      "<class 'tuple'>\n"
     ]
    }
   ],
   "source": [
    "print(type((9.8,9.8,10)))"
   ]
  },
  {
   "cell_type": "code",
   "execution_count": 96,
   "id": "b31e6910-fc2c-4b2f-9d96-bd2ddeda551e",
   "metadata": {},
   "outputs": [
    {
     "name": "stdout",
     "output_type": "stream",
     "text": [
      "<class 'bool'>\n"
     ]
    }
   ],
   "source": [
    "print(type(3==3))"
   ]
  },
  {
   "cell_type": "code",
   "execution_count": 97,
   "id": "55ac83ae-e67c-435e-b51c-dceb7796d1d9",
   "metadata": {},
   "outputs": [
    {
     "name": "stdout",
     "output_type": "stream",
     "text": [
      "<class 'bool'>\n"
     ]
    }
   ],
   "source": [
    "print(type(3>=3))"
   ]
  },
  {
   "cell_type": "markdown",
   "id": "4b1938f4-cf40-4c8c-9a49-c08473fd6e59",
   "metadata": {},
   "source": [
    "# variable in python task"
   ]
  },
  {
   "cell_type": "code",
   "execution_count": 98,
   "id": "ef65f437-004b-488b-8f8a-a6442f3778c1",
   "metadata": {},
   "outputs": [],
   "source": [
    "first_name='Suprvat'"
   ]
  },
  {
   "cell_type": "code",
   "execution_count": 99,
   "id": "0a50f3af-16a8-4746-a6ea-f2d288fe25f0",
   "metadata": {},
   "outputs": [],
   "source": [
    "last_name='Das'"
   ]
  },
  {
   "cell_type": "code",
   "execution_count": 106,
   "id": "30a4b92e-8520-4f44-8a47-96c1fd08ac52",
   "metadata": {},
   "outputs": [],
   "source": [
    "state='ODISHA'"
   ]
  },
  {
   "cell_type": "code",
   "execution_count": 107,
   "id": "7a2ca633-357b-4faf-bdc9-9eb4d45b7cda",
   "metadata": {},
   "outputs": [],
   "source": [
    "city='bhubaneswer'"
   ]
  },
  {
   "cell_type": "code",
   "execution_count": 101,
   "id": "ad720a9d-ae01-4d82-98ac-80b00b08bda2",
   "metadata": {},
   "outputs": [],
   "source": [
    "age=21"
   ]
  },
  {
   "cell_type": "code",
   "execution_count": 102,
   "id": "ac1ab527-afde-4d98-8952-fa5bf8622a7d",
   "metadata": {},
   "outputs": [],
   "source": [
    "is_married=False"
   ]
  },
  {
   "cell_type": "code",
   "execution_count": 103,
   "id": "9b5ce868-6b32-4ade-abcc-7f5bcaf02595",
   "metadata": {},
   "outputs": [],
   "source": [
    "skills=['html','css','c','java']"
   ]
  },
  {
   "cell_type": "code",
   "execution_count": 104,
   "id": "5a233cf6-02f4-43a6-b3dc-3ee63f0683ae",
   "metadata": {},
   "outputs": [],
   "source": [
    "person_info={\n",
    "    'firstname':'Rudra',\n",
    "    'lastname' :'Nayak',\n",
    "    'state':\"Odisha\",\n",
    "    'city':'bhubaneswer'\n",
    "}"
   ]
  },
  {
   "cell_type": "code",
   "execution_count": 108,
   "id": "694efd2c-fafe-46a7-a9e6-f06426f694c8",
   "metadata": {},
   "outputs": [
    {
     "name": "stdout",
     "output_type": "stream",
     "text": [
      "First name: Suprvat\n",
      "First name length: 7\n",
      "Last name:  Das\n",
      "Last name length:  3\n",
      "Country:  ODISHA\n",
      "City:  bhubaneswer\n",
      "Age:  21\n",
      "Married:  False\n",
      "Skills:  ['html', 'css', 'c', 'java']\n",
      "Person information:  {'firstname': 'Rudra', 'lastname': 'Nayak', 'state': 'Odisha', 'city': 'bhubaneswer'}\n"
     ]
    }
   ],
   "source": [
    "# Printing the values stored in the variables\n",
    "print('First name:', first_name)\n",
    "print('First name length:', len(first_name))\n",
    "print('Last name: ', last_name)\n",
    "print('Last name length: ', len(last_name))\n",
    "print('Country: ', state)\n",
    "print('City: ', city)\n",
    "print('Age: ', age)\n",
    "print('Married: ', is_married)\n",
    "print('Skills: ', skills)\n",
    "print('Person information: ', person_info)"
   ]
  },
  {
   "cell_type": "code",
   "execution_count": 109,
   "id": "7d081be3-9811-4cf0-bc02-c3dd8fe36afb",
   "metadata": {},
   "outputs": [],
   "source": [
    "# Declaring multiple variables in one line\n",
    "first_name, last_name, country, age, is_married = 'supravat', 'das', 'india', 21, False"
   ]
  },
  {
   "cell_type": "code",
   "execution_count": 110,
   "id": "3e456060-1170-472a-a63c-50d565597d0b",
   "metadata": {},
   "outputs": [
    {
     "name": "stdout",
     "output_type": "stream",
     "text": [
      "supravat das india 21 False\n",
      "First name: supravat\n",
      "Last name:  das\n",
      "Country:  india\n",
      "Age:  21\n",
      "Married:  False\n"
     ]
    }
   ],
   "source": [
    "\n",
    "print(first_name, last_name, country, age, is_married)\n",
    "print('First name:', first_name)\n",
    "print('Last name: ', last_name)\n",
    "print('Country: ', country)\n",
    "print('Age: ', age)\n",
    "print('Married: ', is_married)"
   ]
  },
  {
   "cell_type": "code",
   "execution_count": null,
   "id": "d33ae9be-4fde-4623-b7b7-1f3b60c0a5e2",
   "metadata": {},
   "outputs": [],
   "source": []
  }
 ],
 "metadata": {
  "kernelspec": {
   "display_name": "Python 3 (ipykernel)",
   "language": "python",
   "name": "python3"
  },
  "language_info": {
   "codemirror_mode": {
    "name": "ipython",
    "version": 3
   },
   "file_extension": ".py",
   "mimetype": "text/x-python",
   "name": "python",
   "nbconvert_exporter": "python",
   "pygments_lexer": "ipython3",
   "version": "3.13.5"
  }
 },
 "nbformat": 4,
 "nbformat_minor": 5
}
