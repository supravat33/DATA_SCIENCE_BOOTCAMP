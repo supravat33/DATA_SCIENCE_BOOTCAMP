{
 "cells": [
  {
   "cell_type": "markdown",
   "id": "ca3d9c0c-04bb-4b14-b3a6-aee36517ab20",
   "metadata": {},
   "source": [
    "# NUMPY CRASH COURSE TASKS"
   ]
  },
  {
   "cell_type": "code",
   "execution_count": 1,
   "id": "f0b64bee-3464-4723-827e-85ef13a7e982",
   "metadata": {},
   "outputs": [],
   "source": [
    "import numpy as np"
   ]
  },
  {
   "cell_type": "code",
   "execution_count": 2,
   "id": "5a952722-652d-4c50-a108-578feac886fe",
   "metadata": {},
   "outputs": [
    {
     "data": {
      "text/plain": [
       "'2.1.3'"
      ]
     },
     "execution_count": 2,
     "metadata": {},
     "output_type": "execute_result"
    }
   ],
   "source": [
    "np.__version__"
   ]
  },
  {
   "cell_type": "code",
   "execution_count": 3,
   "id": "4fc604ea-fa49-454a-b4f6-b1f91b7c8c58",
   "metadata": {},
   "outputs": [
    {
     "data": {
      "text/plain": [
       "'3.13.5 | packaged by Anaconda, Inc. | (main, Jun 12 2025, 16:37:03) [MSC v.1929 64 bit (AMD64)]'"
      ]
     },
     "execution_count": 3,
     "metadata": {},
     "output_type": "execute_result"
    }
   ],
   "source": [
    "import sys\n",
    "sys.version"
   ]
  },
  {
   "cell_type": "markdown",
   "id": "846dcf02-5a8c-48a6-bad7-dcebbdb95f00",
   "metadata": {},
   "source": [
    "## creating array\n",
    "* creating arraay using array()"
   ]
  },
  {
   "cell_type": "code",
   "execution_count": 4,
   "id": "600415b0-0295-4954-8034-da89490257a0",
   "metadata": {},
   "outputs": [
    {
     "data": {
      "text/plain": [
       "[0, 1, 2, 3, 4, 5]"
      ]
     },
     "execution_count": 4,
     "metadata": {},
     "output_type": "execute_result"
    }
   ],
   "source": [
    "li=[0,1,2,3,4,5]\n",
    "li"
   ]
  },
  {
   "cell_type": "code",
   "execution_count": 5,
   "id": "0f2e2e37-55ef-4a54-972b-eb87830c3f8f",
   "metadata": {},
   "outputs": [
    {
     "data": {
      "text/plain": [
       "array([0, 1, 2, 3, 4, 5])"
      ]
     },
     "execution_count": 5,
     "metadata": {},
     "output_type": "execute_result"
    }
   ],
   "source": [
    "arr=np.array(li)\n",
    "arr"
   ]
  },
  {
   "cell_type": "code",
   "execution_count": 8,
   "id": "c6335492-22bb-40da-814b-796d5c25a334",
   "metadata": {},
   "outputs": [
    {
     "data": {
      "text/plain": [
       "(list, numpy.ndarray)"
      ]
     },
     "execution_count": 8,
     "metadata": {},
     "output_type": "execute_result"
    }
   ],
   "source": [
    "type(li),type(arr) # ndarray means n dimenssion array"
   ]
  },
  {
   "cell_type": "markdown",
   "id": "5aaa1a9f-8dfc-4b19-9fe0-f6b58eedac29",
   "metadata": {},
   "source": [
    "## arange()\n",
    "* Return evenly spaced values within a given interval."
   ]
  },
  {
   "cell_type": "code",
   "execution_count": 9,
   "id": "3ca46a02-c4fa-4dcf-8781-e3aea47c438d",
   "metadata": {},
   "outputs": [
    {
     "data": {
      "text/plain": [
       "array([ 0,  1,  2,  3,  4,  5,  6,  7,  8,  9, 10, 11, 12, 13, 14])"
      ]
     },
     "execution_count": 9,
     "metadata": {},
     "output_type": "execute_result"
    }
   ],
   "source": [
    "np.arange(15)"
   ]
  },
  {
   "cell_type": "code",
   "execution_count": 10,
   "id": "b7836164-f9ac-4d5e-8a83-6078eccc90f7",
   "metadata": {},
   "outputs": [
    {
     "data": {
      "text/plain": [
       "array([0, 2, 4, 6])"
      ]
     },
     "execution_count": 10,
     "metadata": {},
     "output_type": "execute_result"
    }
   ],
   "source": [
    "np.arange(0,7,2)"
   ]
  },
  {
   "cell_type": "code",
   "execution_count": 11,
   "id": "4e699b89-126e-41c8-a064-ab1eb3d49b0b",
   "metadata": {},
   "outputs": [
    {
     "data": {
      "text/plain": [
       "array([-5, -4, -3, -2, -1,  0,  1,  2,  3,  4])"
      ]
     },
     "execution_count": 11,
     "metadata": {},
     "output_type": "execute_result"
    }
   ],
   "source": [
    "np.arange(-5,5)"
   ]
  },
  {
   "cell_type": "code",
   "execution_count": 13,
   "id": "124ae4e1-088b-4233-9b02-085bd5ca5683",
   "metadata": {},
   "outputs": [
    {
     "data": {
      "text/plain": [
       "array([], dtype=int64)"
      ]
     },
     "execution_count": 13,
     "metadata": {},
     "output_type": "execute_result"
    }
   ],
   "source": [
    "np.arange(20,10) # 1st parameter must be smaller than the 2nd parameter"
   ]
  },
  {
   "cell_type": "markdown",
   "id": "562e4624-8dc1-401e-bf1f-7cc3360894e0",
   "metadata": {},
   "source": [
    "## zeros()\n",
    "* returns zeros as the element of the matrix"
   ]
  },
  {
   "cell_type": "code",
   "execution_count": 14,
   "id": "2307fcb2-38f8-4880-8c94-dc01ffe1ccb0",
   "metadata": {},
   "outputs": [
    {
     "data": {
      "text/plain": [
       "array([0., 0., 0., 0., 0.])"
      ]
     },
     "execution_count": 14,
     "metadata": {},
     "output_type": "execute_result"
    }
   ],
   "source": [
    "np.zeros(5)"
   ]
  },
  {
   "cell_type": "code",
   "execution_count": 16,
   "id": "7463f2f6-cf79-42da-ad24-28035f6d1b66",
   "metadata": {},
   "outputs": [
    {
     "data": {
      "text/plain": [
       "array([[0., 0., 0., 0., 0.],\n",
       "       [0., 0., 0., 0., 0.],\n",
       "       [0., 0., 0., 0., 0.],\n",
       "       [0., 0., 0., 0., 0.],\n",
       "       [0., 0., 0., 0., 0.]])"
      ]
     },
     "execution_count": 16,
     "metadata": {},
     "output_type": "execute_result"
    }
   ],
   "source": [
    "np.zeros((5,5))"
   ]
  },
  {
   "cell_type": "code",
   "execution_count": 17,
   "id": "8ce903ed-0864-4bea-a131-9f4e6b832339",
   "metadata": {},
   "outputs": [
    {
     "data": {
      "text/plain": [
       "array([[0, 0, 0, 0, 0],\n",
       "       [0, 0, 0, 0, 0],\n",
       "       [0, 0, 0, 0, 0],\n",
       "       [0, 0, 0, 0, 0]])"
      ]
     },
     "execution_count": 17,
     "metadata": {},
     "output_type": "execute_result"
    }
   ],
   "source": [
    "np.zeros((4,5),dtype=int)"
   ]
  },
  {
   "cell_type": "code",
   "execution_count": 19,
   "id": "e7e8f0ad-aa31-4ba9-84ef-59ea19e6c1a4",
   "metadata": {},
   "outputs": [
    {
     "data": {
      "text/plain": [
       "array([[0, 0, 0, 0, 0, 0, 0, 0, 0, 0, 0, 0, 0, 0, 0, 0, 0, 0, 0, 0]])"
      ]
     },
     "execution_count": 19,
     "metadata": {},
     "output_type": "execute_result"
    }
   ],
   "source": [
    "np.zeros([1,20],dtype=int)"
   ]
  },
  {
   "cell_type": "code",
   "execution_count": 20,
   "id": "012561a0-f9a1-46db-a6ce-9d1103238cff",
   "metadata": {},
   "outputs": [
    {
     "data": {
      "text/plain": [
       "array([[0, 0, 0, 0, 0, 0, 0, 0, 0, 0, 0, 0, 0, 0, 0, 0, 0, 0, 0, 0],\n",
       "       [0, 0, 0, 0, 0, 0, 0, 0, 0, 0, 0, 0, 0, 0, 0, 0, 0, 0, 0, 0],\n",
       "       [0, 0, 0, 0, 0, 0, 0, 0, 0, 0, 0, 0, 0, 0, 0, 0, 0, 0, 0, 0],\n",
       "       [0, 0, 0, 0, 0, 0, 0, 0, 0, 0, 0, 0, 0, 0, 0, 0, 0, 0, 0, 0],\n",
       "       [0, 0, 0, 0, 0, 0, 0, 0, 0, 0, 0, 0, 0, 0, 0, 0, 0, 0, 0, 0],\n",
       "       [0, 0, 0, 0, 0, 0, 0, 0, 0, 0, 0, 0, 0, 0, 0, 0, 0, 0, 0, 0],\n",
       "       [0, 0, 0, 0, 0, 0, 0, 0, 0, 0, 0, 0, 0, 0, 0, 0, 0, 0, 0, 0],\n",
       "       [0, 0, 0, 0, 0, 0, 0, 0, 0, 0, 0, 0, 0, 0, 0, 0, 0, 0, 0, 0],\n",
       "       [0, 0, 0, 0, 0, 0, 0, 0, 0, 0, 0, 0, 0, 0, 0, 0, 0, 0, 0, 0],\n",
       "       [0, 0, 0, 0, 0, 0, 0, 0, 0, 0, 0, 0, 0, 0, 0, 0, 0, 0, 0, 0],\n",
       "       [0, 0, 0, 0, 0, 0, 0, 0, 0, 0, 0, 0, 0, 0, 0, 0, 0, 0, 0, 0],\n",
       "       [0, 0, 0, 0, 0, 0, 0, 0, 0, 0, 0, 0, 0, 0, 0, 0, 0, 0, 0, 0],\n",
       "       [0, 0, 0, 0, 0, 0, 0, 0, 0, 0, 0, 0, 0, 0, 0, 0, 0, 0, 0, 0],\n",
       "       [0, 0, 0, 0, 0, 0, 0, 0, 0, 0, 0, 0, 0, 0, 0, 0, 0, 0, 0, 0],\n",
       "       [0, 0, 0, 0, 0, 0, 0, 0, 0, 0, 0, 0, 0, 0, 0, 0, 0, 0, 0, 0],\n",
       "       [0, 0, 0, 0, 0, 0, 0, 0, 0, 0, 0, 0, 0, 0, 0, 0, 0, 0, 0, 0],\n",
       "       [0, 0, 0, 0, 0, 0, 0, 0, 0, 0, 0, 0, 0, 0, 0, 0, 0, 0, 0, 0],\n",
       "       [0, 0, 0, 0, 0, 0, 0, 0, 0, 0, 0, 0, 0, 0, 0, 0, 0, 0, 0, 0],\n",
       "       [0, 0, 0, 0, 0, 0, 0, 0, 0, 0, 0, 0, 0, 0, 0, 0, 0, 0, 0, 0],\n",
       "       [0, 0, 0, 0, 0, 0, 0, 0, 0, 0, 0, 0, 0, 0, 0, 0, 0, 0, 0, 0]])"
      ]
     },
     "execution_count": 20,
     "metadata": {},
     "output_type": "execute_result"
    }
   ],
   "source": [
    "np.zeros([20,20],dtype=int)"
   ]
  },
  {
   "cell_type": "code",
   "execution_count": 21,
   "id": "243b056c-968b-4ae3-8693-b6be2eba600b",
   "metadata": {},
   "outputs": [
    {
     "name": "stdout",
     "output_type": "stream",
     "text": [
      "[[0. 0. 0. 0. 0.]\n",
      " [0. 0. 0. 0. 0.]\n",
      " [0. 0. 0. 0. 0.]\n",
      " [0. 0. 0. 0. 0.]]\n"
     ]
    }
   ],
   "source": [
    "n=(7,8)\n",
    "n1=(4,5)\n",
    "print(np.zeros(n1))"
   ]
  },
  {
   "cell_type": "code",
   "execution_count": 22,
   "id": "c7233f08-d5dd-46ef-b70f-2f763dc20875",
   "metadata": {},
   "outputs": [
    {
     "name": "stdout",
     "output_type": "stream",
     "text": [
      "[[0 0 0 0 0 0 0 0]\n",
      " [0 0 0 0 0 0 0 0]\n",
      " [0 0 0 0 0 0 0 0]\n",
      " [0 0 0 0 0 0 0 0]\n",
      " [0 0 0 0 0 0 0 0]\n",
      " [0 0 0 0 0 0 0 0]\n",
      " [0 0 0 0 0 0 0 0]]\n"
     ]
    }
   ],
   "source": [
    "n=(7,8)\n",
    "n1=(4,5)\n",
    "print(np.zeros(n,dtype=int))"
   ]
  },
  {
   "cell_type": "markdown",
   "id": "ce638a0d-1791-4399-9dba-89f2a938dc05",
   "metadata": {},
   "source": [
    "## ones()\n",
    "* it returns 1 as the element of the matrix"
   ]
  },
  {
   "cell_type": "code",
   "execution_count": 23,
   "id": "494385a9-806b-4d04-9405-8dc139dc480d",
   "metadata": {},
   "outputs": [
    {
     "data": {
      "text/plain": [
       "array([1., 1., 1., 1., 1., 1., 1., 1., 1., 1., 1., 1.])"
      ]
     },
     "execution_count": 23,
     "metadata": {},
     "output_type": "execute_result"
    }
   ],
   "source": [
    "np.ones(12)"
   ]
  },
  {
   "cell_type": "code",
   "execution_count": 24,
   "id": "eb3f6337-776e-4a5c-a74b-56f5ec01f771",
   "metadata": {},
   "outputs": [
    {
     "data": {
      "text/plain": [
       "array([1, 1, 1, 1, 1, 1, 1, 1, 1, 1, 1, 1])"
      ]
     },
     "execution_count": 24,
     "metadata": {},
     "output_type": "execute_result"
    }
   ],
   "source": [
    "np.ones(12,dtype=int)"
   ]
  },
  {
   "cell_type": "code",
   "execution_count": 25,
   "id": "5f64719a-f77f-45d0-bdd5-42c5da59f915",
   "metadata": {},
   "outputs": [],
   "source": [
    "x=np.ones([3,4],dtype=int)"
   ]
  },
  {
   "cell_type": "code",
   "execution_count": 26,
   "id": "57c41316-d29a-458f-b8b1-9e960da6797d",
   "metadata": {},
   "outputs": [
    {
     "data": {
      "text/plain": [
       "array([[1, 1, 1, 1],\n",
       "       [1, 1, 1, 1],\n",
       "       [1, 1, 1, 1]])"
      ]
     },
     "execution_count": 26,
     "metadata": {},
     "output_type": "execute_result"
    }
   ],
   "source": [
    "x"
   ]
  },
  {
   "cell_type": "code",
   "execution_count": 28,
   "id": "cf851a78-3911-4bdb-a460-cbc52a777441",
   "metadata": {},
   "outputs": [
    {
     "name": "stdout",
     "output_type": "stream",
     "text": [
      "[[1 1 1 1 1]\n",
      " [1 1 1 1 1]\n",
      " [1 1 1 1 1]\n",
      " [1 1 1 1 1]]\n"
     ]
    }
   ],
   "source": [
    "x1=(4,5)\n",
    "print(np.ones(x1,dtype=int))#hyper prameter tunning"
   ]
  },
  {
   "cell_type": "code",
   "execution_count": 29,
   "id": "eaa7e806-bd9e-4ef7-82e7-93d23d791590",
   "metadata": {},
   "outputs": [
    {
     "ename": "AttributeError",
     "evalue": "module 'numpy' has no attribute 'twos'",
     "output_type": "error",
     "traceback": [
      "\u001b[1;31m---------------------------------------------------------------------------\u001b[0m",
      "\u001b[1;31mAttributeError\u001b[0m                            Traceback (most recent call last)",
      "Cell \u001b[1;32mIn[29], line 1\u001b[0m\n\u001b[1;32m----> 1\u001b[0m np\u001b[38;5;241m.\u001b[39mtwos(\u001b[38;5;241m3\u001b[39m)\n",
      "File \u001b[1;32m~\\anaconda3\\Lib\\site-packages\\numpy\\__init__.py:414\u001b[0m, in \u001b[0;36m__getattr__\u001b[1;34m(attr)\u001b[0m\n\u001b[0;32m    411\u001b[0m     \u001b[38;5;28;01mimport\u001b[39;00m\u001b[38;5;250m \u001b[39m\u001b[38;5;21;01mnumpy\u001b[39;00m\u001b[38;5;21;01m.\u001b[39;00m\u001b[38;5;21;01mchar\u001b[39;00m\u001b[38;5;250m \u001b[39m\u001b[38;5;28;01mas\u001b[39;00m\u001b[38;5;250m \u001b[39m\u001b[38;5;21;01mchar\u001b[39;00m\n\u001b[0;32m    412\u001b[0m     \u001b[38;5;28;01mreturn\u001b[39;00m char\u001b[38;5;241m.\u001b[39mchararray\n\u001b[1;32m--> 414\u001b[0m \u001b[38;5;28;01mraise\u001b[39;00m \u001b[38;5;167;01mAttributeError\u001b[39;00m(\u001b[38;5;124m\"\u001b[39m\u001b[38;5;124mmodule \u001b[39m\u001b[38;5;132;01m{!r}\u001b[39;00m\u001b[38;5;124m has no attribute \u001b[39m\u001b[38;5;124m\"\u001b[39m\n\u001b[0;32m    415\u001b[0m                      \u001b[38;5;124m\"\u001b[39m\u001b[38;5;132;01m{!r}\u001b[39;00m\u001b[38;5;124m\"\u001b[39m\u001b[38;5;241m.\u001b[39mformat(\u001b[38;5;18m__name__\u001b[39m, attr))\n",
      "\u001b[1;31mAttributeError\u001b[0m: module 'numpy' has no attribute 'twos'"
     ]
    }
   ],
   "source": [
    "np.twos(3)"
   ]
  },
  {
   "cell_type": "markdown",
   "id": "8673b9ac-aa08-43d9-8482-b6fd88fcf28b",
   "metadata": {},
   "source": [
    "## random.rand()\n",
    "* it returns random values in float"
   ]
  },
  {
   "cell_type": "code",
   "execution_count": 30,
   "id": "25ee8909-4b80-45ed-9f16-d25578b37bf3",
   "metadata": {},
   "outputs": [
    {
     "ename": "AttributeError",
     "evalue": "module 'numpy' has no attribute 'rand'",
     "output_type": "error",
     "traceback": [
      "\u001b[1;31m---------------------------------------------------------------------------\u001b[0m",
      "\u001b[1;31mAttributeError\u001b[0m                            Traceback (most recent call last)",
      "Cell \u001b[1;32mIn[30], line 1\u001b[0m\n\u001b[1;32m----> 1\u001b[0m np\u001b[38;5;241m.\u001b[39mrand(\u001b[38;5;241m1\u001b[39m,\u001b[38;5;241m5\u001b[39m)\n",
      "File \u001b[1;32m~\\anaconda3\\Lib\\site-packages\\numpy\\__init__.py:414\u001b[0m, in \u001b[0;36m__getattr__\u001b[1;34m(attr)\u001b[0m\n\u001b[0;32m    411\u001b[0m     \u001b[38;5;28;01mimport\u001b[39;00m\u001b[38;5;250m \u001b[39m\u001b[38;5;21;01mnumpy\u001b[39;00m\u001b[38;5;21;01m.\u001b[39;00m\u001b[38;5;21;01mchar\u001b[39;00m\u001b[38;5;250m \u001b[39m\u001b[38;5;28;01mas\u001b[39;00m\u001b[38;5;250m \u001b[39m\u001b[38;5;21;01mchar\u001b[39;00m\n\u001b[0;32m    412\u001b[0m     \u001b[38;5;28;01mreturn\u001b[39;00m char\u001b[38;5;241m.\u001b[39mchararray\n\u001b[1;32m--> 414\u001b[0m \u001b[38;5;28;01mraise\u001b[39;00m \u001b[38;5;167;01mAttributeError\u001b[39;00m(\u001b[38;5;124m\"\u001b[39m\u001b[38;5;124mmodule \u001b[39m\u001b[38;5;132;01m{!r}\u001b[39;00m\u001b[38;5;124m has no attribute \u001b[39m\u001b[38;5;124m\"\u001b[39m\n\u001b[0;32m    415\u001b[0m                      \u001b[38;5;124m\"\u001b[39m\u001b[38;5;132;01m{!r}\u001b[39;00m\u001b[38;5;124m\"\u001b[39m\u001b[38;5;241m.\u001b[39mformat(\u001b[38;5;18m__name__\u001b[39m, attr))\n",
      "\u001b[1;31mAttributeError\u001b[0m: module 'numpy' has no attribute 'rand'"
     ]
    }
   ],
   "source": [
    "np.rand(1,5)"
   ]
  },
  {
   "cell_type": "code",
   "execution_count": 31,
   "id": "432fca1e-6198-409a-b9cd-9ea707c8eed9",
   "metadata": {},
   "outputs": [],
   "source": [
    "import random"
   ]
  },
  {
   "cell_type": "code",
   "execution_count": 34,
   "id": "91940594-8032-4f4b-bc84-2553fd7e7516",
   "metadata": {},
   "outputs": [
    {
     "data": {
      "text/plain": [
       "array([[0.84717228, 0.57949553, 0.8262056 , 0.02940568, 0.56082775]])"
      ]
     },
     "execution_count": 34,
     "metadata": {},
     "output_type": "execute_result"
    }
   ],
   "source": [
    "np.random.rand(1,5)"
   ]
  },
  {
   "cell_type": "code",
   "execution_count": 35,
   "id": "4f7bb398-1e1b-473a-8074-881f89791e66",
   "metadata": {},
   "outputs": [
    {
     "data": {
      "text/plain": [
       "array([[0.61495637, 0.98230506, 0.69761811, 0.38128577, 0.25833503],\n",
       "       [0.54663793, 0.09902834, 0.62499972, 0.31413916, 0.84090295]])"
      ]
     },
     "execution_count": 35,
     "metadata": {},
     "output_type": "execute_result"
    }
   ],
   "source": [
    "np.random.rand(2,5)"
   ]
  },
  {
   "cell_type": "code",
   "execution_count": 38,
   "id": "8386f78d-3c21-4abd-bcf2-506f9e107fe0",
   "metadata": {},
   "outputs": [
    {
     "data": {
      "text/plain": [
       "array([[[0.13398312, 0.77991965, 0.0371115 , 0.2045586 ],\n",
       "        [0.84292124, 0.2138099 , 0.52594798, 0.90550006],\n",
       "        [0.00437016, 0.67291464, 0.66504837, 0.09107986],\n",
       "        [0.56350705, 0.96214363, 0.27755186, 0.1966194 ],\n",
       "        [0.73556598, 0.68742808, 0.04795249, 0.75290375]],\n",
       "\n",
       "       [[0.21672452, 0.89069777, 0.71809461, 0.93415211],\n",
       "        [0.2358974 , 0.11953094, 0.73687169, 0.80963837],\n",
       "        [0.60156872, 0.40635489, 0.42507276, 0.68668245],\n",
       "        [0.81798085, 0.04202184, 0.28037757, 0.69152097],\n",
       "        [0.03968375, 0.03385464, 0.00966124, 0.98887756]]])"
      ]
     },
     "execution_count": 38,
     "metadata": {},
     "output_type": "execute_result"
    }
   ],
   "source": [
    "np.random.rand(2,5,4)"
   ]
  },
  {
   "cell_type": "code",
   "execution_count": 39,
   "id": "f2e1ac64-82be-4ad4-8ade-b8b87ac5163c",
   "metadata": {},
   "outputs": [
    {
     "data": {
      "text/plain": [
       "2"
      ]
     },
     "execution_count": 39,
     "metadata": {},
     "output_type": "execute_result"
    }
   ],
   "source": [
    "len(np.random.rand(2,5,4))"
   ]
  },
  {
   "cell_type": "markdown",
   "id": "501d16dc-a2e6-4718-b21f-93c7cabb2a23",
   "metadata": {},
   "source": [
    "## random.randint()\n",
    "* it return an random value between give parmeter in int form"
   ]
  },
  {
   "cell_type": "code",
   "execution_count": 40,
   "id": "ccb03289-0f64-45cf-a861-f9a026a34407",
   "metadata": {},
   "outputs": [
    {
     "data": {
      "text/plain": [
       "2"
      ]
     },
     "execution_count": 40,
     "metadata": {},
     "output_type": "execute_result"
    }
   ],
   "source": [
    "np.random.randint(1,4)"
   ]
  },
  {
   "cell_type": "code",
   "execution_count": 42,
   "id": "ccce79a5-1413-4af0-be96-60dfd164d2d9",
   "metadata": {},
   "outputs": [
    {
     "data": {
      "text/plain": [
       "array([2, 3, 1, 3], dtype=int32)"
      ]
     },
     "execution_count": 42,
     "metadata": {},
     "output_type": "execute_result"
    }
   ],
   "source": [
    "np.random.randint(0,4,4)\n"
   ]
  },
  {
   "cell_type": "code",
   "execution_count": 44,
   "id": "873bdb78-e153-47ce-8150-cee4db55473d",
   "metadata": {},
   "outputs": [
    {
     "data": {
      "text/plain": [
       "array([[ 4,  1, 14, 12],\n",
       "       [13, 14,  4,  4],\n",
       "       [12, 10, 10,  9],\n",
       "       [ 6,  6,  4,  9]], dtype=int32)"
      ]
     },
     "execution_count": 44,
     "metadata": {},
     "output_type": "execute_result"
    }
   ],
   "source": [
    "np.random.randint(1,16,(4,4))"
   ]
  },
  {
   "cell_type": "code",
   "execution_count": 47,
   "id": "89ef0b5b-74d7-4126-85f4-ad2c71decafd",
   "metadata": {},
   "outputs": [
    {
     "data": {
      "text/plain": [
       "array([[3, 3, 1, 4, 5, 3, 4, 1, 1, 2],\n",
       "       [1, 2, 4, 4, 5, 6, 3, 5, 2, 4],\n",
       "       [2, 1, 1, 4, 4, 3, 5, 1, 3, 6],\n",
       "       [2, 3, 4, 3, 2, 1, 4, 2, 3, 5],\n",
       "       [1, 2, 4, 1, 1, 4, 6, 3, 1, 2],\n",
       "       [6, 4, 1, 1, 6, 5, 5, 2, 1, 6],\n",
       "       [4, 2, 1, 6, 4, 2, 4, 5, 6, 1],\n",
       "       [1, 6, 4, 5, 6, 3, 2, 3, 2, 3],\n",
       "       [1, 5, 5, 5, 6, 2, 1, 2, 6, 2],\n",
       "       [4, 5, 2, 3, 2, 4, 6, 6, 2, 3]], dtype=int32)"
      ]
     },
     "execution_count": 47,
     "metadata": {},
     "output_type": "execute_result"
    }
   ],
   "source": [
    "np.random.randint(1,7,(10,10))"
   ]
  },
  {
   "cell_type": "code",
   "execution_count": 48,
   "id": "27b51df7-9ebe-41aa-b5de-dc6c69a351bf",
   "metadata": {},
   "outputs": [
    {
     "data": {
      "text/plain": [
       "array([[98, 49, 51, 59, 67, 81, 75, 49, 59, 92, 70, 70],\n",
       "       [45, 48, 97, 69, 97, 85, 34, 78, 55, 62, 64, 73],\n",
       "       [ 5, 65, 62, 83, 88, 71, 90, 91, 87, 21, 14, 70],\n",
       "       [97, 15, 86, 27, 76, 82,  4, 16, 60, 68, 40, 18],\n",
       "       [89, 96, 13, 93, 59, 25, 50,  2, 29, 12,  6,  8],\n",
       "       [15, 44,  9, 25, 12, 30, 21, 36, 53, 44, 92, 52],\n",
       "       [28, 92, 72, 20, 58,  9, 84, 97, 72, 16, 71, 98],\n",
       "       [63, 83, 65, 19, 66, 83, 71, 44,  8, 22, 87, 31],\n",
       "       [55, 36, 64, 41, 82, 98, 46,  4, 85, 64, 43, 88],\n",
       "       [11, 95, 51, 16, 26, 96, 63,  8, 66, 99, 25, 41],\n",
       "       [59,  6, 35, 53,  2, 45,  5,  2, 39, 18, 67, 71],\n",
       "       [95,  3, 33, 68, 97, 62,  6,  3, 71, 58, 31, 39]], dtype=int32)"
      ]
     },
     "execution_count": 48,
     "metadata": {},
     "output_type": "execute_result"
    }
   ],
   "source": [
    "np.random.randint(1,100,(12,12))"
   ]
  },
  {
   "cell_type": "markdown",
   "id": "a512fcd1-e0e2-44f2-a8c3-16aa70cd5da8",
   "metadata": {},
   "source": [
    "## reshape()\n",
    "* it reshaape the shape of the matrix"
   ]
  },
  {
   "cell_type": "code",
   "execution_count": 49,
   "id": "80e6887d-57dd-4598-97d3-dd37d1a2f6f3",
   "metadata": {},
   "outputs": [
    {
     "data": {
      "text/plain": [
       "array([[ 1,  2,  3,  4,  5],\n",
       "       [ 6,  7,  8,  9, 10],\n",
       "       [11, 12, 13, 14, 15],\n",
       "       [16, 17, 18, 19, 20]])"
      ]
     },
     "execution_count": 49,
     "metadata": {},
     "output_type": "execute_result"
    }
   ],
   "source": [
    "np.arange(1,21).reshape(4,5)"
   ]
  },
  {
   "cell_type": "code",
   "execution_count": 57,
   "id": "5fc1ab3e-7cb7-435b-bf2a-2b1db3082f51",
   "metadata": {},
   "outputs": [
    {
     "data": {
      "text/plain": [
       "array([[ 1,  2,  3,  4,  5,  6],\n",
       "       [ 7,  8,  9, 10, 11, 12],\n",
       "       [13, 14, 15, 16, 17, 18],\n",
       "       [19, 20, 21, 22, 23, 24],\n",
       "       [25, 26, 27, 28, 29, 30],\n",
       "       [31, 32, 33, 34, 35, 36],\n",
       "       [37, 38, 39, 40, 41, 42],\n",
       "       [43, 44, 45, 46, 47, 48],\n",
       "       [49, 50, 51, 52, 53, 54]])"
      ]
     },
     "execution_count": 57,
     "metadata": {},
     "output_type": "execute_result"
    }
   ],
   "source": [
    "np.arange(1,55).reshape(9,6)"
   ]
  },
  {
   "cell_type": "markdown",
   "id": "dc816d10-899d-4079-9f1f-f8fbb5883a4f",
   "metadata": {},
   "source": [
    "## slicing of the array"
   ]
  },
  {
   "cell_type": "code",
   "execution_count": 58,
   "id": "4cb31eee-91d8-4b34-ada3-39df437da64c",
   "metadata": {},
   "outputs": [],
   "source": [
    "r=np.random.randint(1,21,(5,5))"
   ]
  },
  {
   "cell_type": "code",
   "execution_count": 59,
   "id": "aa26b40e-775e-4ba9-b7ef-9888aa8a0254",
   "metadata": {},
   "outputs": [
    {
     "data": {
      "text/plain": [
       "array([[ 8,  3, 13, 10,  2],\n",
       "       [11, 15,  4,  6,  8],\n",
       "       [ 8, 14, 16, 15, 11],\n",
       "       [17,  7, 14,  4,  7],\n",
       "       [14, 15, 16,  8,  4]], dtype=int32)"
      ]
     },
     "execution_count": 59,
     "metadata": {},
     "output_type": "execute_result"
    }
   ],
   "source": [
    "r"
   ]
  },
  {
   "cell_type": "code",
   "execution_count": 61,
   "id": "cd194830-965f-4531-8f8b-a7d522c90044",
   "metadata": {},
   "outputs": [
    {
     "data": {
      "text/plain": [
       "array([[11, 15,  4,  6,  8],\n",
       "       [ 8, 14, 16, 15, 11]], dtype=int32)"
      ]
     },
     "execution_count": 61,
     "metadata": {},
     "output_type": "execute_result"
    }
   ],
   "source": [
    "r[1:3]"
   ]
  },
  {
   "cell_type": "code",
   "execution_count": 63,
   "id": "a934c9a1-ff10-4c4a-afa5-d5e1d2b3ae53",
   "metadata": {},
   "outputs": [
    {
     "data": {
      "text/plain": [
       "np.int32(6)"
      ]
     },
     "execution_count": 63,
     "metadata": {},
     "output_type": "execute_result"
    }
   ],
   "source": [
    "r[1,3] # this is how we can find element in a matrix"
   ]
  },
  {
   "cell_type": "code",
   "execution_count": 64,
   "id": "26a2dd1b-b381-49f5-8bc6-efd4183def05",
   "metadata": {},
   "outputs": [
    {
     "data": {
      "text/plain": [
       "np.int32(2)"
      ]
     },
     "execution_count": 64,
     "metadata": {},
     "output_type": "execute_result"
    }
   ],
   "source": [
    "r[0,-1]"
   ]
  },
  {
   "cell_type": "code",
   "execution_count": 65,
   "id": "a4c37576-fc21-462c-a929-e7b74762957d",
   "metadata": {},
   "outputs": [
    {
     "data": {
      "text/plain": [
       "array([[ 8,  3, 13, 10,  2],\n",
       "       [11, 15,  4,  6,  8],\n",
       "       [ 8, 14, 16, 15, 11],\n",
       "       [17,  7, 14,  4,  7],\n",
       "       [14, 15, 16,  8,  4]], dtype=int32)"
      ]
     },
     "execution_count": 65,
     "metadata": {},
     "output_type": "execute_result"
    }
   ],
   "source": [
    "r"
   ]
  },
  {
   "cell_type": "code",
   "execution_count": 66,
   "id": "75ac6143-8f69-4e04-8e6c-e8918bd8b509",
   "metadata": {},
   "outputs": [
    {
     "data": {
      "text/plain": [
       "array([[ 8, 14, 16, 15, 11],\n",
       "       [17,  7, 14,  4,  7],\n",
       "       [14, 15, 16,  8,  4]], dtype=int32)"
      ]
     },
     "execution_count": 66,
     "metadata": {},
     "output_type": "execute_result"
    }
   ],
   "source": [
    "r[2:5]"
   ]
  },
  {
   "cell_type": "code",
   "execution_count": 67,
   "id": "b78d6460-0700-469a-8bee-06ab3870ded4",
   "metadata": {},
   "outputs": [
    {
     "data": {
      "text/plain": [
       "array([[ 8,  3, 13, 10,  2],\n",
       "       [11, 15,  4,  6,  8],\n",
       "       [ 8, 14, 16, 15, 11]], dtype=int32)"
      ]
     },
     "execution_count": 67,
     "metadata": {},
     "output_type": "execute_result"
    }
   ],
   "source": [
    "r[0:-2]"
   ]
  },
  {
   "cell_type": "code",
   "execution_count": 68,
   "id": "4f75422c-0cb1-472a-8e52-84b140f10468",
   "metadata": {},
   "outputs": [
    {
     "data": {
      "text/plain": [
       "array([[ 8,  3, 13, 10,  2],\n",
       "       [11, 15,  4,  6,  8],\n",
       "       [ 8, 14, 16, 15, 11],\n",
       "       [17,  7, 14,  4,  7],\n",
       "       [14, 15, 16,  8,  4]], dtype=int32)"
      ]
     },
     "execution_count": 68,
     "metadata": {},
     "output_type": "execute_result"
    }
   ],
   "source": [
    "r"
   ]
  },
  {
   "cell_type": "code",
   "execution_count": 69,
   "id": "177db065-ab05-4e6a-9901-7b0e10024808",
   "metadata": {},
   "outputs": [
    {
     "data": {
      "text/plain": [
       "np.int32(15)"
      ]
     },
     "execution_count": 69,
     "metadata": {},
     "output_type": "execute_result"
    }
   ],
   "source": [
    "r[-4,-4]"
   ]
  },
  {
   "cell_type": "code",
   "execution_count": 71,
   "id": "6a7d1cb3-6dd7-4e04-93c7-3a63962dfae0",
   "metadata": {},
   "outputs": [
    {
     "data": {
      "text/plain": [
       "array([[ 8,  3, 13, 10,  2],\n",
       "       [11, 15,  4,  6,  8],\n",
       "       [ 8, 14, 16, 15, 11],\n",
       "       [17,  7, 14,  4,  7],\n",
       "       [14, 15, 16,  8,  4]], dtype=int32)"
      ]
     },
     "execution_count": 71,
     "metadata": {},
     "output_type": "execute_result"
    }
   ],
   "source": [
    "r[:]"
   ]
  },
  {
   "cell_type": "markdown",
   "id": "bdfd46cc-3561-48eb-8fff-c5a53c6a33f8",
   "metadata": {},
   "source": [
    "## operations"
   ]
  },
  {
   "cell_type": "code",
   "execution_count": 72,
   "id": "b42f5b14-7553-45eb-9682-ff851821f7b8",
   "metadata": {},
   "outputs": [
    {
     "data": {
      "text/plain": [
       "array([16, 14, 15, 10, 12, 19, 15, 16, 11, 15], dtype=int32)"
      ]
     },
     "execution_count": 72,
     "metadata": {},
     "output_type": "execute_result"
    }
   ],
   "source": [
    "s=np.random.randint(10,20,10)\n",
    "s"
   ]
  },
  {
   "cell_type": "code",
   "execution_count": 73,
   "id": "cd489727-5a10-4170-aee8-7d1c3c4de85b",
   "metadata": {},
   "outputs": [
    {
     "data": {
      "text/plain": [
       "True"
      ]
     },
     "execution_count": 73,
     "metadata": {},
     "output_type": "execute_result"
    }
   ],
   "source": [
    "16 in s"
   ]
  },
  {
   "cell_type": "code",
   "execution_count": 74,
   "id": "2a4645da-c36f-422f-bfd3-fdbe66cd93f3",
   "metadata": {},
   "outputs": [
    {
     "data": {
      "text/plain": [
       "False"
      ]
     },
     "execution_count": 74,
     "metadata": {},
     "output_type": "execute_result"
    }
   ],
   "source": [
    "17 in s"
   ]
  },
  {
   "cell_type": "code",
   "execution_count": 75,
   "id": "9a3f10f9-2eb2-4ec5-b524-815b4dd651f6",
   "metadata": {},
   "outputs": [
    {
     "data": {
      "text/plain": [
       "1904367287632"
      ]
     },
     "execution_count": 75,
     "metadata": {},
     "output_type": "execute_result"
    }
   ],
   "source": [
    "id(s)"
   ]
  },
  {
   "cell_type": "code",
   "execution_count": 76,
   "id": "bd7c749a-99f6-42e9-b2ed-5194e5590fc6",
   "metadata": {},
   "outputs": [],
   "source": [
    "arr1=np.random.randint(1,101,(10,10))"
   ]
  },
  {
   "cell_type": "code",
   "execution_count": 77,
   "id": "468cf1e3-3a7c-48c0-a1c3-041490db4f66",
   "metadata": {},
   "outputs": [
    {
     "data": {
      "text/plain": [
       "array([[67, 42, 57, 39, 89, 94, 92, 46, 48, 49],\n",
       "       [71, 43, 36, 89, 92, 30, 75, 14, 77, 70],\n",
       "       [68, 29, 90, 35, 28, 40, 58, 56, 45, 39],\n",
       "       [ 1, 15, 63, 81,  9, 72, 96, 37, 86, 21],\n",
       "       [60,  8, 26, 66, 95, 38, 92, 99, 67, 69],\n",
       "       [62,  7, 71, 25, 70, 45, 89, 41, 17, 72],\n",
       "       [52, 53, 51, 11, 16,  6, 56, 73, 89,  6],\n",
       "       [71, 43, 31, 64, 77, 28, 81, 60, 57, 57],\n",
       "       [37, 96, 61, 31, 10, 56, 41, 12, 66, 62],\n",
       "       [92, 47, 66, 87, 35, 90, 76, 27,  9, 63]], dtype=int32)"
      ]
     },
     "execution_count": 77,
     "metadata": {},
     "output_type": "execute_result"
    }
   ],
   "source": [
    "arr1"
   ]
  },
  {
   "cell_type": "code",
   "execution_count": 79,
   "id": "4a57de34-dab4-405d-a710-18b9e7a58a35",
   "metadata": {},
   "outputs": [
    {
     "data": {
      "text/plain": [
       "array([[67, 42, 57, 39, 89, 94, 92, 46, 48, 49],\n",
       "       [71, 43, 36, 89, 92, 30, 75, 14, 77, 70],\n",
       "       [68, 29, 90, 35, 28, 40, 58, 56, 45, 39],\n",
       "       [ 1, 15, 63, 81,  9, 72, 96, 37, 86, 21],\n",
       "       [60,  8, 26, 66, 95, 38, 92, 99, 67, 69],\n",
       "       [62,  7, 71, 25, 70, 45, 89, 41, 17, 72]], dtype=int32)"
      ]
     },
     "execution_count": 79,
     "metadata": {},
     "output_type": "execute_result"
    }
   ],
   "source": [
    "arr1[0:6]"
   ]
  },
  {
   "cell_type": "code",
   "execution_count": 81,
   "id": "2201a64c-d290-4576-946c-f7fae8a9ebe3",
   "metadata": {},
   "outputs": [
    {
     "data": {
      "text/plain": [
       "np.int32(75)"
      ]
     },
     "execution_count": 81,
     "metadata": {},
     "output_type": "execute_result"
    }
   ],
   "source": [
    "arr1[1,6]"
   ]
  },
  {
   "cell_type": "code",
   "execution_count": 82,
   "id": "e7c2f5dd-ff61-4e1d-937f-842e24319457",
   "metadata": {},
   "outputs": [
    {
     "data": {
      "text/plain": [
       "np.int32(95)"
      ]
     },
     "execution_count": 82,
     "metadata": {},
     "output_type": "execute_result"
    }
   ],
   "source": [
    "arr1[-6,-6]"
   ]
  },
  {
   "cell_type": "code",
   "execution_count": 83,
   "id": "f8dcc925-8d19-479c-b307-1e2449276816",
   "metadata": {},
   "outputs": [
    {
     "data": {
      "text/plain": [
       "array([[67, 42, 57, 39, 89, 94, 92, 46, 48, 49],\n",
       "       [71, 43, 36, 89, 92, 30, 75, 14, 77, 70],\n",
       "       [68, 29, 90, 35, 28, 40, 58, 56, 45, 39],\n",
       "       [ 1, 15, 63, 81,  9, 72, 96, 37, 86, 21],\n",
       "       [60,  8, 26, 66, 95, 38, 92, 99, 67, 69],\n",
       "       [62,  7, 71, 25, 70, 45, 89, 41, 17, 72],\n",
       "       [52, 53, 51, 11, 16,  6, 56, 73, 89,  6],\n",
       "       [71, 43, 31, 64, 77, 28, 81, 60, 57, 57],\n",
       "       [37, 96, 61, 31, 10, 56, 41, 12, 66, 62],\n",
       "       [92, 47, 66, 87, 35, 90, 76, 27,  9, 63]], dtype=int32)"
      ]
     },
     "execution_count": 83,
     "metadata": {},
     "output_type": "execute_result"
    }
   ],
   "source": [
    "arr1"
   ]
  },
  {
   "cell_type": "code",
   "execution_count": 84,
   "id": "f2989032-b300-4163-8fad-ca5e0e62396b",
   "metadata": {},
   "outputs": [
    {
     "data": {
      "text/plain": [
       "array([[92, 47, 66, 87, 35, 90, 76, 27,  9, 63],\n",
       "       [37, 96, 61, 31, 10, 56, 41, 12, 66, 62],\n",
       "       [71, 43, 31, 64, 77, 28, 81, 60, 57, 57],\n",
       "       [52, 53, 51, 11, 16,  6, 56, 73, 89,  6],\n",
       "       [62,  7, 71, 25, 70, 45, 89, 41, 17, 72],\n",
       "       [60,  8, 26, 66, 95, 38, 92, 99, 67, 69],\n",
       "       [ 1, 15, 63, 81,  9, 72, 96, 37, 86, 21],\n",
       "       [68, 29, 90, 35, 28, 40, 58, 56, 45, 39],\n",
       "       [71, 43, 36, 89, 92, 30, 75, 14, 77, 70],\n",
       "       [67, 42, 57, 39, 89, 94, 92, 46, 48, 49]], dtype=int32)"
      ]
     },
     "execution_count": 84,
     "metadata": {},
     "output_type": "execute_result"
    }
   ],
   "source": [
    "arr1[::-1]"
   ]
  },
  {
   "cell_type": "code",
   "execution_count": 85,
   "id": "1cd6953a-4a32-497c-978e-0dd463b20b5d",
   "metadata": {},
   "outputs": [
    {
     "data": {
      "text/plain": [
       "array([[92, 47, 66, 87, 35, 90, 76, 27,  9, 63],\n",
       "       [71, 43, 31, 64, 77, 28, 81, 60, 57, 57],\n",
       "       [62,  7, 71, 25, 70, 45, 89, 41, 17, 72],\n",
       "       [ 1, 15, 63, 81,  9, 72, 96, 37, 86, 21],\n",
       "       [71, 43, 36, 89, 92, 30, 75, 14, 77, 70]], dtype=int32)"
      ]
     },
     "execution_count": 85,
     "metadata": {},
     "output_type": "execute_result"
    }
   ],
   "source": [
    "arr1[::-2]"
   ]
  },
  {
   "cell_type": "code",
   "execution_count": 86,
   "id": "574a2758-3827-4391-bc42-5c2bc9cf9e20",
   "metadata": {},
   "outputs": [
    {
     "data": {
      "text/plain": [
       "array([[92, 47, 66, 87, 35, 90, 76, 27,  9, 63],\n",
       "       [62,  7, 71, 25, 70, 45, 89, 41, 17, 72],\n",
       "       [71, 43, 36, 89, 92, 30, 75, 14, 77, 70]], dtype=int32)"
      ]
     },
     "execution_count": 86,
     "metadata": {},
     "output_type": "execute_result"
    }
   ],
   "source": [
    "arr1[::-4]"
   ]
  },
  {
   "cell_type": "markdown",
   "id": "ee282415-641a-459d-bcf7-9c4a703ee1a2",
   "metadata": {},
   "source": [
    "## max()\n",
    "* it returns the largest value in the matrix\n",
    "## min()\n",
    "* it returns the minimum value in the matrix"
   ]
  },
  {
   "cell_type": "code",
   "execution_count": 87,
   "id": "f6348283-8fc5-4b78-9174-70ea95555950",
   "metadata": {},
   "outputs": [
    {
     "data": {
      "text/plain": [
       "np.int32(99)"
      ]
     },
     "execution_count": 87,
     "metadata": {},
     "output_type": "execute_result"
    }
   ],
   "source": [
    "arr1.max()"
   ]
  },
  {
   "cell_type": "code",
   "execution_count": 88,
   "id": "f6b83827-7467-443f-9ded-2e49e801d5f9",
   "metadata": {},
   "outputs": [
    {
     "data": {
      "text/plain": [
       "np.int32(1)"
      ]
     },
     "execution_count": 88,
     "metadata": {},
     "output_type": "execute_result"
    }
   ],
   "source": [
    "arr1.min()"
   ]
  },
  {
   "cell_type": "code",
   "execution_count": 89,
   "id": "219f05ef-bbd2-4582-92ca-1ae116ce84fc",
   "metadata": {},
   "outputs": [
    {
     "data": {
      "text/plain": [
       "array([0, 1, 2, 3, 4, 5])"
      ]
     },
     "execution_count": 89,
     "metadata": {},
     "output_type": "execute_result"
    }
   ],
   "source": [
    "arr"
   ]
  },
  {
   "cell_type": "markdown",
   "id": "5bd9933e-b288-478c-a726-89007b0caf9b",
   "metadata": {},
   "source": [
    "## median()\n",
    "* it gives the middile value in a matrix if the matrix is in odd no\n",
    "* if the matrix is even then it will add  the 2 middle no the divide it by 2\n",
    "## mean()\n",
    "* it gives the average no in the matrix"
   ]
  },
  {
   "cell_type": "code",
   "execution_count": 90,
   "id": "0a21ebc3-09f2-42b2-b140-dcd694fe5634",
   "metadata": {},
   "outputs": [
    {
     "ename": "AttributeError",
     "evalue": "'numpy.ndarray' object has no attribute 'median'",
     "output_type": "error",
     "traceback": [
      "\u001b[1;31m---------------------------------------------------------------------------\u001b[0m",
      "\u001b[1;31mAttributeError\u001b[0m                            Traceback (most recent call last)",
      "Cell \u001b[1;32mIn[90], line 1\u001b[0m\n\u001b[1;32m----> 1\u001b[0m arr\u001b[38;5;241m.\u001b[39mmedian()\n",
      "\u001b[1;31mAttributeError\u001b[0m: 'numpy.ndarray' object has no attribute 'median'"
     ]
    }
   ],
   "source": [
    "arr.median()"
   ]
  },
  {
   "cell_type": "code",
   "execution_count": 94,
   "id": "6578724b-7811-40da-a76f-68f39c0b9a87",
   "metadata": {},
   "outputs": [
    {
     "data": {
      "text/plain": [
       "np.float64(2.5)"
      ]
     },
     "execution_count": 94,
     "metadata": {},
     "output_type": "execute_result"
    }
   ],
   "source": [
    "from numpy import *\n",
    "a=arr\n",
    "median(a)"
   ]
  },
  {
   "cell_type": "code",
   "execution_count": 95,
   "id": "57dc5cb0-a087-448d-a7fa-f387df60cfba",
   "metadata": {},
   "outputs": [
    {
     "data": {
      "text/plain": [
       "np.float64(53.54)"
      ]
     },
     "execution_count": 95,
     "metadata": {},
     "output_type": "execute_result"
    }
   ],
   "source": [
    "arr1.mean()"
   ]
  },
  {
   "cell_type": "code",
   "execution_count": 96,
   "id": "4118634b-3fe9-4d73-9524-a5d6675731ae",
   "metadata": {},
   "outputs": [
    {
     "data": {
      "text/plain": [
       "np.float64(56.5)"
      ]
     },
     "execution_count": 96,
     "metadata": {},
     "output_type": "execute_result"
    }
   ],
   "source": [
    "median(arr1)"
   ]
  },
  {
   "cell_type": "code",
   "execution_count": 97,
   "id": "19f366bf-058b-4c23-a729-3686a53244e0",
   "metadata": {},
   "outputs": [
    {
     "data": {
      "text/plain": [
       "array([0, 1, 2, 3, 4, 5])"
      ]
     },
     "execution_count": 97,
     "metadata": {},
     "output_type": "execute_result"
    }
   ],
   "source": [
    "arr"
   ]
  },
  {
   "cell_type": "code",
   "execution_count": 98,
   "id": "a6d5b0a7-6410-4ca5-9d88-337957d820c6",
   "metadata": {},
   "outputs": [
    {
     "data": {
      "text/plain": [
       "array([[0, 1],\n",
       "       [2, 3],\n",
       "       [4, 5]])"
      ]
     },
     "execution_count": 98,
     "metadata": {},
     "output_type": "execute_result"
    }
   ],
   "source": [
    "arr.reshape(3,2)"
   ]
  },
  {
   "cell_type": "code",
   "execution_count": 99,
   "id": "fea55eab-1b7f-4aaa-83b7-6a17431feb63",
   "metadata": {},
   "outputs": [
    {
     "data": {
      "text/plain": [
       "array([[0, 1, 2],\n",
       "       [3, 4, 5]])"
      ]
     },
     "execution_count": 99,
     "metadata": {},
     "output_type": "execute_result"
    }
   ],
   "source": [
    "arr.reshape(2,3,order='c') # hy"
   ]
  },
  {
   "cell_type": "code",
   "execution_count": 101,
   "id": "e4751264-c2ec-4d72-9e1f-b10499c672bc",
   "metadata": {},
   "outputs": [
    {
     "data": {
      "text/plain": [
       "array([[0, 2, 4],\n",
       "       [1, 3, 5]])"
      ]
     },
     "execution_count": 101,
     "metadata": {},
     "output_type": "execute_result"
    }
   ],
   "source": [
    "arr.reshape(2,3,order='F')# print element with fortran "
   ]
  },
  {
   "cell_type": "code",
   "execution_count": 102,
   "id": "6df9f04f-3dae-4832-b4e8-9562f9870103",
   "metadata": {},
   "outputs": [
    {
     "data": {
      "text/plain": [
       "array([[0, 1, 2],\n",
       "       [3, 4, 5]])"
      ]
     },
     "execution_count": 102,
     "metadata": {},
     "output_type": "execute_result"
    }
   ],
   "source": [
    "arr.reshape(2,3,order='A') # A almost give you c type output "
   ]
  },
  {
   "cell_type": "markdown",
   "id": "f026c8f3-6f8d-48d5-a51e-f3432b55ea90",
   "metadata": {},
   "source": [
    "## indexing"
   ]
  },
  {
   "cell_type": "code",
   "execution_count": 103,
   "id": "e6b0703f-111b-4785-8b76-438e4ff55407",
   "metadata": {},
   "outputs": [],
   "source": [
    "mat = np.arange(0,100).reshape(10,10)"
   ]
  },
  {
   "cell_type": "code",
   "execution_count": 104,
   "id": "9fffd599-e8d9-4e61-b741-80815e89c2d7",
   "metadata": {},
   "outputs": [
    {
     "data": {
      "text/plain": [
       "array([[ 0,  1,  2,  3,  4,  5,  6,  7,  8,  9],\n",
       "       [10, 11, 12, 13, 14, 15, 16, 17, 18, 19],\n",
       "       [20, 21, 22, 23, 24, 25, 26, 27, 28, 29],\n",
       "       [30, 31, 32, 33, 34, 35, 36, 37, 38, 39],\n",
       "       [40, 41, 42, 43, 44, 45, 46, 47, 48, 49],\n",
       "       [50, 51, 52, 53, 54, 55, 56, 57, 58, 59],\n",
       "       [60, 61, 62, 63, 64, 65, 66, 67, 68, 69],\n",
       "       [70, 71, 72, 73, 74, 75, 76, 77, 78, 79],\n",
       "       [80, 81, 82, 83, 84, 85, 86, 87, 88, 89],\n",
       "       [90, 91, 92, 93, 94, 95, 96, 97, 98, 99]])"
      ]
     },
     "execution_count": 104,
     "metadata": {},
     "output_type": "execute_result"
    }
   ],
   "source": [
    "mat\n"
   ]
  },
  {
   "cell_type": "code",
   "execution_count": 105,
   "id": "781354c6-3291-4c2e-aa4f-9e356f90b6e7",
   "metadata": {},
   "outputs": [],
   "source": [
    "row=4\n",
    "col=7"
   ]
  },
  {
   "cell_type": "code",
   "execution_count": 106,
   "id": "2a563640-7d33-4d0f-b89d-77eedf8ce119",
   "metadata": {},
   "outputs": [
    {
     "data": {
      "text/plain": [
       "np.int64(47)"
      ]
     },
     "execution_count": 106,
     "metadata": {},
     "output_type": "execute_result"
    }
   ],
   "source": [
    "mat[row,col]"
   ]
  },
  {
   "cell_type": "code",
   "execution_count": 107,
   "id": "4d429d18-2ff4-4178-b5af-c7000800e5ea",
   "metadata": {},
   "outputs": [
    {
     "data": {
      "text/plain": [
       "array([[ 0,  1,  2,  3,  4,  5,  6,  7,  8,  9],\n",
       "       [10, 11, 12, 13, 14, 15, 16, 17, 18, 19],\n",
       "       [20, 21, 22, 23, 24, 25, 26, 27, 28, 29],\n",
       "       [30, 31, 32, 33, 34, 35, 36, 37, 38, 39],\n",
       "       [40, 41, 42, 43, 44, 45, 46, 47, 48, 49],\n",
       "       [50, 51, 52, 53, 54, 55, 56, 57, 58, 59],\n",
       "       [60, 61, 62, 63, 64, 65, 66, 67, 68, 69],\n",
       "       [70, 71, 72, 73, 74, 75, 76, 77, 78, 79],\n",
       "       [80, 81, 82, 83, 84, 85, 86, 87, 88, 89],\n",
       "       [90, 91, 92, 93, 94, 95, 96, 97, 98, 99]])"
      ]
     },
     "execution_count": 107,
     "metadata": {},
     "output_type": "execute_result"
    }
   ],
   "source": [
    "mat[:]"
   ]
  },
  {
   "cell_type": "code",
   "execution_count": 108,
   "id": "770c15cf-a085-4df2-917f-7edb3ee941d5",
   "metadata": {},
   "outputs": [
    {
     "data": {
      "text/plain": [
       "array([60, 61, 62, 63, 64, 65, 66, 67, 68, 69])"
      ]
     },
     "execution_count": 108,
     "metadata": {},
     "output_type": "execute_result"
    }
   ],
   "source": [
    "mat[6]"
   ]
  },
  {
   "cell_type": "code",
   "execution_count": 110,
   "id": "c65d7c3e-f3eb-4d37-9f7e-007795c521da",
   "metadata": {},
   "outputs": [
    {
     "data": {
      "text/plain": [
       "array([ 7, 17, 27, 37, 47, 57, 67, 77, 87, 97])"
      ]
     },
     "execution_count": 110,
     "metadata": {},
     "output_type": "execute_result"
    }
   ],
   "source": [
    "mat[:,col]"
   ]
  },
  {
   "cell_type": "code",
   "execution_count": 111,
   "id": "82d3bca9-3103-449f-b1fd-4e17dba176c8",
   "metadata": {},
   "outputs": [
    {
     "data": {
      "text/plain": [
       "array([40, 41, 42, 43, 44, 45, 46, 47, 48, 49])"
      ]
     },
     "execution_count": 111,
     "metadata": {},
     "output_type": "execute_result"
    }
   ],
   "source": [
    "mat[row,:]"
   ]
  },
  {
   "cell_type": "code",
   "execution_count": 112,
   "id": "2f33b256-dc14-4b7d-9307-b876d39622ba",
   "metadata": {},
   "outputs": [
    {
     "data": {
      "text/plain": [
       "array([ 7, 17, 27, 37, 47, 57, 67, 77, 87, 97])"
      ]
     },
     "execution_count": 112,
     "metadata": {},
     "output_type": "execute_result"
    }
   ],
   "source": [
    "mat[:,7]"
   ]
  },
  {
   "cell_type": "code",
   "execution_count": 113,
   "id": "d8ce0c9b-5b61-401d-82b2-e63aed10a4fb",
   "metadata": {},
   "outputs": [
    {
     "data": {
      "text/plain": [
       "array([[ 0,  1,  2,  3,  4,  5,  6,  7,  8,  9],\n",
       "       [10, 11, 12, 13, 14, 15, 16, 17, 18, 19],\n",
       "       [20, 21, 22, 23, 24, 25, 26, 27, 28, 29],\n",
       "       [30, 31, 32, 33, 34, 35, 36, 37, 38, 39],\n",
       "       [40, 41, 42, 43, 44, 45, 46, 47, 48, 49],\n",
       "       [50, 51, 52, 53, 54, 55, 56, 57, 58, 59],\n",
       "       [60, 61, 62, 63, 64, 65, 66, 67, 68, 69]])"
      ]
     },
     "execution_count": 113,
     "metadata": {},
     "output_type": "execute_result"
    }
   ],
   "source": [
    "mat[:col]"
   ]
  },
  {
   "cell_type": "code",
   "execution_count": 114,
   "id": "582e8778-38fa-4b2d-bf6a-2fde1b48ca47",
   "metadata": {},
   "outputs": [
    {
     "data": {
      "text/plain": [
       "array([ 9, 19, 29, 39, 49, 59, 69, 79, 89, 99])"
      ]
     },
     "execution_count": 114,
     "metadata": {},
     "output_type": "execute_result"
    }
   ],
   "source": [
    "mat[:,-1]"
   ]
  },
  {
   "cell_type": "code",
   "execution_count": 115,
   "id": "b16a0197-a0dc-4bfe-9442-2529173f5d2d",
   "metadata": {},
   "outputs": [
    {
     "data": {
      "text/plain": [
       "np.int64(37)"
      ]
     },
     "execution_count": 115,
     "metadata": {},
     "output_type": "execute_result"
    }
   ],
   "source": [
    "mat[3,-3]"
   ]
  },
  {
   "cell_type": "code",
   "execution_count": 116,
   "id": "aeb36b7a-b86b-4e60-9234-f1b1e57b921d",
   "metadata": {},
   "outputs": [
    {
     "data": {
      "text/plain": [
       "array([[30, 31, 32, 33, 34, 35, 36, 37, 38, 39],\n",
       "       [40, 41, 42, 43, 44, 45, 46, 47, 48, 49],\n",
       "       [50, 51, 52, 53, 54, 55, 56, 57, 58, 59],\n",
       "       [60, 61, 62, 63, 64, 65, 66, 67, 68, 69]])"
      ]
     },
     "execution_count": 116,
     "metadata": {},
     "output_type": "execute_result"
    }
   ],
   "source": [
    "mat[3:-3]"
   ]
  },
  {
   "cell_type": "code",
   "execution_count": 117,
   "id": "ee805ac4-ae77-4667-8eb3-5bc310b74c36",
   "metadata": {},
   "outputs": [
    {
     "data": {
      "text/plain": [
       "array([[ 0,  1,  2,  3,  4,  5,  6,  7,  8,  9],\n",
       "       [10, 11, 12, 13, 14, 15, 16, 17, 18, 19],\n",
       "       [20, 21, 22, 23, 24, 25, 26, 27, 28, 29],\n",
       "       [30, 31, 32, 33, 34, 35, 36, 37, 38, 39],\n",
       "       [40, 41, 42, 43, 44, 45, 46, 47, 48, 49],\n",
       "       [50, 51, 52, 53, 54, 55, 56, 57, 58, 59],\n",
       "       [60, 61, 62, 63, 64, 65, 66, 67, 68, 69],\n",
       "       [70, 71, 72, 73, 74, 75, 76, 77, 78, 79],\n",
       "       [80, 81, 82, 83, 84, 85, 86, 87, 88, 89],\n",
       "       [90, 91, 92, 93, 94, 95, 96, 97, 98, 99]])"
      ]
     },
     "execution_count": 117,
     "metadata": {},
     "output_type": "execute_result"
    }
   ],
   "source": [
    "mat\n"
   ]
  },
  {
   "cell_type": "code",
   "execution_count": 118,
   "id": "92a01897-5a95-4dd7-b96d-846083ee5eeb",
   "metadata": {},
   "outputs": [
    {
     "data": {
      "text/plain": [
       "array([50, 51, 52, 53, 54, 55, 56, 57, 58, 59])"
      ]
     },
     "execution_count": 118,
     "metadata": {},
     "output_type": "execute_result"
    }
   ],
   "source": [
    "mat[5]"
   ]
  },
  {
   "cell_type": "code",
   "execution_count": 119,
   "id": "8e508787-3dfa-42b5-8262-224a571354cb",
   "metadata": {},
   "outputs": [
    {
     "data": {
      "text/plain": [
       "array([[50, 51, 52, 53, 54, 55, 56, 57, 58, 59],\n",
       "       [60, 61, 62, 63, 64, 65, 66, 67, 68, 69],\n",
       "       [70, 71, 72, 73, 74, 75, 76, 77, 78, 79],\n",
       "       [80, 81, 82, 83, 84, 85, 86, 87, 88, 89],\n",
       "       [90, 91, 92, 93, 94, 95, 96, 97, 98, 99]])"
      ]
     },
     "execution_count": 119,
     "metadata": {},
     "output_type": "execute_result"
    }
   ],
   "source": [
    "mat[5:]"
   ]
  },
  {
   "cell_type": "code",
   "execution_count": 120,
   "id": "b5e8285d-3af9-41b4-8371-2b4ff543d7f3",
   "metadata": {},
   "outputs": [
    {
     "data": {
      "text/plain": [
       "array([[ 0,  1,  2,  3,  4,  5,  6,  7,  8,  9],\n",
       "       [10, 11, 12, 13, 14, 15, 16, 17, 18, 19],\n",
       "       [20, 21, 22, 23, 24, 25, 26, 27, 28, 29],\n",
       "       [30, 31, 32, 33, 34, 35, 36, 37, 38, 39],\n",
       "       [40, 41, 42, 43, 44, 45, 46, 47, 48, 49]])"
      ]
     },
     "execution_count": 120,
     "metadata": {},
     "output_type": "execute_result"
    }
   ],
   "source": [
    "mat[:5]"
   ]
  },
  {
   "cell_type": "code",
   "execution_count": 121,
   "id": "ba0f81c9-cfb3-4d17-85bb-d1da9a117132",
   "metadata": {},
   "outputs": [
    {
     "data": {
      "text/plain": [
       "array([[ 0,  1,  2,  3,  4,  5,  6,  7,  8,  9],\n",
       "       [30, 31, 32, 33, 34, 35, 36, 37, 38, 39],\n",
       "       [60, 61, 62, 63, 64, 65, 66, 67, 68, 69],\n",
       "       [90, 91, 92, 93, 94, 95, 96, 97, 98, 99]])"
      ]
     },
     "execution_count": 121,
     "metadata": {},
     "output_type": "execute_result"
    }
   ],
   "source": [
    "mat[0: :3]"
   ]
  },
  {
   "cell_type": "code",
   "execution_count": 122,
   "id": "04d28e3c-04b4-474c-a2c2-bc67fb5b4a2a",
   "metadata": {},
   "outputs": [
    {
     "data": {
      "text/plain": [
       "array([[90, 91, 92, 93, 94, 95, 96, 97, 98, 99],\n",
       "       [40, 41, 42, 43, 44, 45, 46, 47, 48, 49]])"
      ]
     },
     "execution_count": 122,
     "metadata": {},
     "output_type": "execute_result"
    }
   ],
   "source": [
    "mat[::-5]"
   ]
  },
  {
   "cell_type": "code",
   "execution_count": 123,
   "id": "91dd4c97-705a-497b-9190-234befebe696",
   "metadata": {},
   "outputs": [
    {
     "data": {
      "text/plain": [
       "array([[25, 26],\n",
       "       [35, 36],\n",
       "       [45, 46],\n",
       "       [55, 56]])"
      ]
     },
     "execution_count": 123,
     "metadata": {},
     "output_type": "execute_result"
    }
   ],
   "source": [
    "mat[2:6,5:7]#2:6 is only row part and 5:7 is only column part"
   ]
  },
  {
   "cell_type": "code",
   "execution_count": 124,
   "id": "33d57b7a-e07c-45b9-83c5-ab3ed476aace",
   "metadata": {},
   "outputs": [
    {
     "data": {
      "text/plain": [
       "array([[22]])"
      ]
     },
     "execution_count": 124,
     "metadata": {},
     "output_type": "execute_result"
    }
   ],
   "source": [
    "mat[2:3,2:3] "
   ]
  },
  {
   "cell_type": "markdown",
   "id": "3113d753-4208-483f-b010-544ee456f09e",
   "metadata": {},
   "source": [
    "## masking"
   ]
  },
  {
   "cell_type": "code",
   "execution_count": 125,
   "id": "71225e09-cd8f-4efb-8ca5-d1429f0d701f",
   "metadata": {},
   "outputs": [
    {
     "data": {
      "text/plain": [
       "array([[ 0,  1,  2,  3,  4,  5,  6,  7,  8,  9],\n",
       "       [10, 11, 12, 13, 14, 15, 16, 17, 18, 19],\n",
       "       [20, 21, 22, 23, 24, 25, 26, 27, 28, 29],\n",
       "       [30, 31, 32, 33, 34, 35, 36, 37, 38, 39],\n",
       "       [40, 41, 42, 43, 44, 45, 46, 47, 48, 49],\n",
       "       [50, 51, 52, 53, 54, 55, 56, 57, 58, 59],\n",
       "       [60, 61, 62, 63, 64, 65, 66, 67, 68, 69],\n",
       "       [70, 71, 72, 73, 74, 75, 76, 77, 78, 79],\n",
       "       [80, 81, 82, 83, 84, 85, 86, 87, 88, 89],\n",
       "       [90, 91, 92, 93, 94, 95, 96, 97, 98, 99]])"
      ]
     },
     "execution_count": 125,
     "metadata": {},
     "output_type": "execute_result"
    }
   ],
   "source": [
    "mat"
   ]
  },
  {
   "cell_type": "code",
   "execution_count": 126,
   "id": "5cb97636-db0d-4348-bbf3-370903a7ff2a",
   "metadata": {},
   "outputs": [
    {
     "data": {
      "text/plain": [
       "array([[ True,  True,  True,  True,  True,  True,  True,  True,  True,\n",
       "         True],\n",
       "       [ True,  True,  True,  True,  True,  True,  True,  True,  True,\n",
       "         True],\n",
       "       [ True,  True,  True,  True,  True,  True,  True,  True,  True,\n",
       "         True],\n",
       "       [ True,  True,  True,  True,  True,  True,  True,  True,  True,\n",
       "         True],\n",
       "       [ True,  True,  True,  True,  True,  True,  True,  True,  True,\n",
       "         True],\n",
       "       [False, False, False, False, False, False, False, False, False,\n",
       "        False],\n",
       "       [False, False, False, False, False, False, False, False, False,\n",
       "        False],\n",
       "       [False, False, False, False, False, False, False, False, False,\n",
       "        False],\n",
       "       [False, False, False, False, False, False, False, False, False,\n",
       "        False],\n",
       "       [False, False, False, False, False, False, False, False, False,\n",
       "        False]])"
      ]
     },
     "execution_count": 126,
     "metadata": {},
     "output_type": "execute_result"
    }
   ],
   "source": [
    "mat< 50"
   ]
  },
  {
   "cell_type": "code",
   "execution_count": 128,
   "id": "cf0c278a-cbeb-4a5e-8856-a4eedd3627e3",
   "metadata": {},
   "outputs": [
    {
     "data": {
      "text/plain": [
       "array([ 0,  1,  2,  3,  4,  5,  6,  7,  8,  9, 10, 11, 12, 13, 14, 15, 16,\n",
       "       17, 18, 19, 20, 21, 22, 23, 24, 25, 26, 27, 28, 29, 30, 31, 32, 33,\n",
       "       34, 35, 36, 37, 38, 39, 40, 41, 42, 43, 44, 45, 46, 47, 48, 49])"
      ]
     },
     "execution_count": 128,
     "metadata": {},
     "output_type": "execute_result"
    }
   ],
   "source": [
    "mat[mat<50]"
   ]
  },
  {
   "cell_type": "code",
   "execution_count": 129,
   "id": "33a102db-4c5d-40e6-a845-6db0ca0ae421",
   "metadata": {},
   "outputs": [
    {
     "data": {
      "text/plain": [
       "array([51, 52, 53, 54, 55, 56, 57, 58, 59, 60, 61, 62, 63, 64, 65, 66, 67,\n",
       "       68, 69, 70, 71, 72, 73, 74, 75, 76, 77, 78, 79, 80, 81, 82, 83, 84,\n",
       "       85, 86, 87, 88, 89, 90, 91, 92, 93, 94, 95, 96, 97, 98, 99])"
      ]
     },
     "execution_count": 129,
     "metadata": {},
     "output_type": "execute_result"
    }
   ],
   "source": [
    "mat[mat>50]"
   ]
  },
  {
   "cell_type": "code",
   "execution_count": 130,
   "id": "12f4cbba-393c-4640-8d34-8e75ce70d88c",
   "metadata": {},
   "outputs": [
    {
     "data": {
      "text/plain": [
       "array([50])"
      ]
     },
     "execution_count": 130,
     "metadata": {},
     "output_type": "execute_result"
    }
   ],
   "source": [
    "mat[mat==50]"
   ]
  },
  {
   "cell_type": "code",
   "execution_count": 131,
   "id": "dcfaef52-b052-43cd-a57e-b40031d84643",
   "metadata": {},
   "outputs": [
    {
     "data": {
      "text/plain": [
       "array([ 0,  1,  2,  3,  4,  5,  6,  7,  8,  9, 10, 11, 12, 13, 14, 15, 16,\n",
       "       17, 18, 19, 20, 21, 22, 23, 24, 25, 26, 27, 28, 29, 30, 31, 32, 33,\n",
       "       34, 35, 36, 37, 38, 39, 40, 41, 42, 43, 44, 45, 46, 47, 48, 49, 51,\n",
       "       52, 53, 54, 55, 56, 57, 58, 59, 60, 61, 62, 63, 64, 65, 66, 67, 68,\n",
       "       69, 70, 71, 72, 73, 74, 75, 76, 77, 78, 79, 80, 81, 82, 83, 84, 85,\n",
       "       86, 87, 88, 89, 90, 91, 92, 93, 94, 95, 96, 97, 98, 99])"
      ]
     },
     "execution_count": 131,
     "metadata": {},
     "output_type": "execute_result"
    }
   ],
   "source": [
    "mat[mat!=50]"
   ]
  },
  {
   "cell_type": "markdown",
   "id": "338a8274-b9b5-48ac-bf1a-f4c31605d8f5",
   "metadata": {},
   "source": [
    "# TASK2"
   ]
  },
  {
   "cell_type": "markdown",
   "id": "87a3ba94-5524-4c9a-9f89-57c01f98af7c",
   "metadata": {},
   "source": [
    "## 1. Array Creation Functions"
   ]
  },
  {
   "cell_type": "code",
   "execution_count": 133,
   "id": "e65b7257-59f1-4111-b97f-9f9942cd0b85",
   "metadata": {},
   "outputs": [],
   "source": [
    "import numpy as np"
   ]
  },
  {
   "cell_type": "code",
   "execution_count": 134,
   "id": "010047f6-aa48-4340-8956-5e52ec4628aa",
   "metadata": {},
   "outputs": [
    {
     "name": "stdout",
     "output_type": "stream",
     "text": [
      "[1 2 3]\n"
     ]
    }
   ],
   "source": [
    "b=np.array([1,2,3])\n",
    "print(b)"
   ]
  },
  {
   "cell_type": "code",
   "execution_count": 136,
   "id": "507178a9-8f90-4211-a210-43c04a765c3c",
   "metadata": {},
   "outputs": [
    {
     "name": "stdout",
     "output_type": "stream",
     "text": [
      "Array b: [0 2 4 6 8]\n"
     ]
    }
   ],
   "source": [
    "c = np.arange(0, 10, 2)  # Values from 0 to 10 with step 2\n",
    "print(\"Array b:\", c)"
   ]
  },
  {
   "cell_type": "markdown",
   "id": "d7704369-c1e9-4a93-a178-daee0a455b1f",
   "metadata": {},
   "source": [
    "### linespace()\n",
    "* Return evenly spaced numbers over a specified interval\n"
   ]
  },
  {
   "cell_type": "code",
   "execution_count": 137,
   "id": "f9cb6c32-6850-4925-a988-c992af261f93",
   "metadata": {},
   "outputs": [
    {
     "name": "stdout",
     "output_type": "stream",
     "text": [
      "[0.   0.25 0.5  0.75 1.  ]\n"
     ]
    }
   ],
   "source": [
    "n=np.linspace(0,1,5)\n",
    "print(n)"
   ]
  },
  {
   "cell_type": "code",
   "execution_count": 140,
   "id": "7391e74a-6c70-4a8f-98ea-798a6f5a74a3",
   "metadata": {},
   "outputs": [
    {
     "data": {
      "text/plain": [
       "array([1., 1., 1., 1., 1., 1., 1., 1., 1., 1., 1.])"
      ]
     },
     "execution_count": 140,
     "metadata": {},
     "output_type": "execute_result"
    }
   ],
   "source": [
    "o=np.ones(11)\n",
    "o"
   ]
  },
  {
   "cell_type": "code",
   "execution_count": 141,
   "id": "c5e2c78b-9d30-4509-aa46-d3731ed7a3bc",
   "metadata": {
    "scrolled": true
   },
   "outputs": [
    {
     "data": {
      "text/plain": [
       "array([[1., 1., 1., 1., 1., 1., 1., 1., 1., 1.],\n",
       "       [1., 1., 1., 1., 1., 1., 1., 1., 1., 1.],\n",
       "       [1., 1., 1., 1., 1., 1., 1., 1., 1., 1.],\n",
       "       [1., 1., 1., 1., 1., 1., 1., 1., 1., 1.],\n",
       "       [1., 1., 1., 1., 1., 1., 1., 1., 1., 1.],\n",
       "       [1., 1., 1., 1., 1., 1., 1., 1., 1., 1.],\n",
       "       [1., 1., 1., 1., 1., 1., 1., 1., 1., 1.],\n",
       "       [1., 1., 1., 1., 1., 1., 1., 1., 1., 1.],\n",
       "       [1., 1., 1., 1., 1., 1., 1., 1., 1., 1.],\n",
       "       [1., 1., 1., 1., 1., 1., 1., 1., 1., 1.],\n",
       "       [1., 1., 1., 1., 1., 1., 1., 1., 1., 1.]])"
      ]
     },
     "execution_count": 141,
     "metadata": {},
     "output_type": "execute_result"
    }
   ],
   "source": [
    "o_=np.ones([11,10])\n",
    "o_"
   ]
  },
  {
   "cell_type": "markdown",
   "id": "d2e75ec8-b34d-4fb6-8483-f225b7ebaab6",
   "metadata": {},
   "source": [
    "### ones()\n",
    "*Return a 2-D array with ones on the diagonal and zeros elsewhere."
   ]
  },
  {
   "cell_type": "code",
   "execution_count": 145,
   "id": "c51b92fa-180c-4881-8045-ff7e3e48eaed",
   "metadata": {},
   "outputs": [
    {
     "data": {
      "text/plain": [
       "array([[1., 0., 0., 0.],\n",
       "       [0., 1., 0., 0.],\n",
       "       [0., 0., 1., 0.],\n",
       "       [0., 0., 0., 1.]])"
      ]
     },
     "execution_count": 145,
     "metadata": {},
     "output_type": "execute_result"
    }
   ],
   "source": [
    "e=np.eye(4)\n",
    "e"
   ]
  },
  {
   "cell_type": "markdown",
   "id": "cc3c17b2-1e04-44af-b28d-f38feaffde18",
   "metadata": {},
   "source": [
    "## 2. Array Manipulation Functions"
   ]
  },
  {
   "cell_type": "code",
   "execution_count": 149,
   "id": "c233fd6f-7c99-45e2-9b5e-13b7550d17b2",
   "metadata": {},
   "outputs": [
    {
     "name": "stdout",
     "output_type": "stream",
     "text": [
      "[1 2 3 4 5 6]\n",
      "[[1 2 3]\n",
      " [4 5 6]]\n"
     ]
    }
   ],
   "source": [
    "# Reshape an array\n",
    "a1=np.arange(1,7)\n",
    "print(a1)\n",
    "a2=np.reshape(a1,(2,3))\n",
    "print(a2)"
   ]
  },
  {
   "cell_type": "markdown",
   "id": "5b36acf5-ff3d-4ee6-8be3-cdb970e4e70f",
   "metadata": {},
   "source": [
    "### ravel()\n",
    "* a 1-D array, containing the elements of the input, is returned.  A copy is\n",
    "made only if needed."
   ]
  },
  {
   "cell_type": "code",
   "execution_count": 148,
   "id": "563687cf-5f4f-4ee5-a120-1a01e1e01935",
   "metadata": {},
   "outputs": [
    {
     "name": "stdout",
     "output_type": "stream",
     "text": [
      "[1 2 3 4]\n"
     ]
    }
   ],
   "source": [
    "# Flatten an array\n",
    "f1=np.array([[1,2],[3,4]])\n",
    "flattenend=np.ravel(f1)# Flatten to 1D array\n",
    "print(flattenend)"
   ]
  },
  {
   "cell_type": "markdown",
   "id": "6c52f5d2-36de-4d11-a4df-9cb8edab6b88",
   "metadata": {},
   "source": [
    "### transpose()\n",
    "* Returns an array with axes transposed."
   ]
  },
  {
   "cell_type": "code",
   "execution_count": 152,
   "id": "d0b7f30b-dfea-43fe-bb33-213e100147fe",
   "metadata": {},
   "outputs": [
    {
     "name": "stdout",
     "output_type": "stream",
     "text": [
      "[[ 0  1  2  3]\n",
      " [ 4  5  6  7]\n",
      " [ 8  9 10 11]]\n",
      "[[ 0  4  8]\n",
      " [ 1  5  9]\n",
      " [ 2  6 10]\n",
      " [ 3  7 11]]\n"
     ]
    }
   ],
   "source": [
    "t=np.arange(0,12).reshape(3,4)\n",
    "print(t)\n",
    "t1=np.transpose(t)\n",
    "print(t1)"
   ]
  },
  {
   "cell_type": "markdown",
   "id": "19f3cd5b-b564-4c8f-9896-f71bbe3bff66",
   "metadata": {},
   "source": [
    "### vstack()\n",
    "* Stack arrays in sequence vertically (row wise)."
   ]
  },
  {
   "cell_type": "code",
   "execution_count": 153,
   "id": "b1ffe332-c811-4fa1-9758-fef7d6027611",
   "metadata": {},
   "outputs": [
    {
     "name": "stdout",
     "output_type": "stream",
     "text": [
      "Stacked arrays:\n",
      " [[1 2]\n",
      " [3 4]]\n"
     ]
    }
   ],
   "source": [
    " #Stack arrays vertically\n",
    "a2 = np.array([1, 2])\n",
    "b2 = np.array([3, 4])\n",
    "stacked = np.vstack([a2, b2])  # Stack a and b vertically\n",
    "print(\"Stacked arrays:\\n\", stacked)"
   ]
  },
  {
   "cell_type": "markdown",
   "id": "2d82c604-d627-4f12-8ea9-e751daf5f509",
   "metadata": {},
   "source": [
    "## 3. Mathematical Functions"
   ]
  },
  {
   "cell_type": "markdown",
   "id": "4773f1f3-4cf7-4364-bcf6-1f250e2f62ce",
   "metadata": {},
   "source": [
    "### add()\n",
    "* used to add 2 different array\n",
    "### power()\n",
    "* used to fing square of an array\n",
    "### sqrt()\n",
    "* used to find squre root of an array\n",
    "### dot()\n",
    "* Dot product of two arrays. Specifically,"
   ]
  },
  {
   "cell_type": "code",
   "execution_count": 154,
   "id": "4b84bf8d-c96e-4bcb-9240-34a77d3723de",
   "metadata": {},
   "outputs": [
    {
     "name": "stdout",
     "output_type": "stream",
     "text": [
      "[3 4 5 6]\n"
     ]
    }
   ],
   "source": [
    "g=np.array([1,2,3,4])\n",
    "result=np.add(g,2)\n",
    "print(result)"
   ]
  },
  {
   "cell_type": "code",
   "execution_count": 157,
   "id": "be09afe0-4536-481e-b87e-0da31b6a6753",
   "metadata": {},
   "outputs": [
    {
     "data": {
      "text/plain": [
       "array([ 1,  4,  9, 16])"
      ]
     },
     "execution_count": 157,
     "metadata": {},
     "output_type": "execute_result"
    }
   ],
   "source": [
    "sqr=np.power(g,2)\n",
    "sqr"
   ]
  },
  {
   "cell_type": "code",
   "execution_count": 161,
   "id": "4c8ec2f1-1bc6-4c50-921c-2b480051ef41",
   "metadata": {},
   "outputs": [
    {
     "name": "stdout",
     "output_type": "stream",
     "text": [
      "[ 1  4  9 16]\n",
      "[1. 2. 3. 4.]\n"
     ]
    }
   ],
   "source": [
    "root=np.array([ 1,  4,  9, 16])\n",
    "print(root)\n",
    "root2=np.sqrt(root)\n",
    "print(root2)"
   ]
  },
  {
   "cell_type": "code",
   "execution_count": 163,
   "id": "1f5ea263-d721-427f-920a-c58921967b80",
   "metadata": {},
   "outputs": [
    {
     "data": {
      "text/plain": [
       "array([1, 2])"
      ]
     },
     "execution_count": 163,
     "metadata": {},
     "output_type": "execute_result"
    }
   ],
   "source": [
    "a\n",
    "a2"
   ]
  },
  {
   "cell_type": "code",
   "execution_count": 169,
   "id": "b0bd02ce-1310-48df-8897-b72054c5593b",
   "metadata": {},
   "outputs": [
    {
     "name": "stdout",
     "output_type": "stream",
     "text": [
      "5\n"
     ]
    }
   ],
   "source": [
    "a3=np.array([1,2])\n",
    "ans=np.dot(a2,a3)\n",
    "print(ans)"
   ]
  },
  {
   "cell_type": "markdown",
   "id": "c0967359-f7fa-49f2-a479-80350d5df03c",
   "metadata": {},
   "source": [
    "## 4. Statistical Functions"
   ]
  },
  {
   "cell_type": "code",
   "execution_count": 170,
   "id": "d8a42472-65a8-4772-9b76-26287769fb75",
   "metadata": {},
   "outputs": [
    {
     "name": "stdout",
     "output_type": "stream",
     "text": [
      "2.5\n"
     ]
    }
   ],
   "source": [
    "s=np.array([1,2,3,4])\n",
    "meann=np.mean(s)\n",
    "print(meann)"
   ]
  },
  {
   "cell_type": "code",
   "execution_count": 172,
   "id": "ac6d8f4b-085d-41fa-929a-8145ff93ddd8",
   "metadata": {},
   "outputs": [
    {
     "name": "stdout",
     "output_type": "stream",
     "text": [
      "1.118033988749895\n"
     ]
    }
   ],
   "source": [
    "# standard deviation of array\n",
    "st_dev=np.std(s)\n",
    "print(st_dev)"
   ]
  },
  {
   "cell_type": "code",
   "execution_count": 173,
   "id": "0a9aa01f-4a9a-4dcb-bf41-dbc80e59ad26",
   "metadata": {},
   "outputs": [
    {
     "name": "stdout",
     "output_type": "stream",
     "text": [
      "1\n"
     ]
    }
   ],
   "source": [
    "minimum=s.min()\n",
    "print(minimum)"
   ]
  },
  {
   "cell_type": "code",
   "execution_count": 175,
   "id": "6152ce5c-8afd-4697-bc95-d06eb5081d9c",
   "metadata": {},
   "outputs": [
    {
     "name": "stdout",
     "output_type": "stream",
     "text": [
      "4\n"
     ]
    }
   ],
   "source": [
    "maaximum=max(s)\n",
    "print(maaximum)"
   ]
  },
  {
   "cell_type": "markdown",
   "id": "3a881f61-991f-48bf-8911-ebe5c13aa5f3",
   "metadata": {},
   "source": [
    "## 5. Linear Algebra Functions\n",
    "### linalg.det()\n",
    "* Compute the determinant of an array.\n",
    "### linalg.inv() \n",
    "+ Compute the inverse of a matrix."
   ]
  },
  {
   "cell_type": "code",
   "execution_count": 176,
   "id": "6fd0f1d4-2f98-4226-ab88-2202a39abb7f",
   "metadata": {},
   "outputs": [],
   "source": [
    "matrix= np.array([[1, 2], [3, 4]])"
   ]
  },
  {
   "cell_type": "code",
   "execution_count": 177,
   "id": "7d3401d3-88f8-461b-9984-f1d0387c624f",
   "metadata": {},
   "outputs": [
    {
     "name": "stdout",
     "output_type": "stream",
     "text": [
      "Determinant of matrix: -2.0000000000000004\n"
     ]
    }
   ],
   "source": [
    "determinant = np.linalg.det(matrix)\n",
    "print(\"Determinant of matrix:\", determinant)"
   ]
  },
  {
   "cell_type": "code",
   "execution_count": 178,
   "id": "eacb1b5d-850b-42c5-b3a9-cb3d53c2ab61",
   "metadata": {},
   "outputs": [
    {
     "name": "stdout",
     "output_type": "stream",
     "text": [
      "Inverse of matrix:\n",
      " [[-2.   1. ]\n",
      " [ 1.5 -0.5]]\n"
     ]
    }
   ],
   "source": [
    "inverse = np.linalg.inv(matrix)\n",
    "print(\"Inverse of matrix:\\n\", inverse)# Inverse of a matrix"
   ]
  },
  {
   "cell_type": "markdown",
   "id": "b17e08ed-6d15-49df-af20-dc1287eb79e0",
   "metadata": {},
   "source": [
    "## 6. Random Sampling Functions"
   ]
  },
  {
   "cell_type": "code",
   "execution_count": 180,
   "id": "4f415aa8-a090-4d35-a324-e45f68ff93a1",
   "metadata": {},
   "outputs": [
    {
     "name": "stdout",
     "output_type": "stream",
     "text": [
      "[0.34723531 0.55977532 0.95865647]\n"
     ]
    }
   ],
   "source": [
    "rval=np.random.rand(3)\n",
    "print(rval)"
   ]
  },
  {
   "cell_type": "code",
   "execution_count": 185,
   "id": "820a33cf-0f7a-4fef-aacb-f28fe43d6852",
   "metadata": {},
   "outputs": [
    {
     "name": "stdout",
     "output_type": "stream",
     "text": [
      "[4.17022005e-01 7.20324493e-01 1.14374817e-04]\n"
     ]
    }
   ],
   "source": [
    "np.random.seed(1)\n",
    "rval=np.random.rand(3)\n",
    "print(rval)"
   ]
  },
  {
   "cell_type": "code",
   "execution_count": 187,
   "id": "ad9d774e-d1b0-405b-9e8e-242b091d11ab",
   "metadata": {},
   "outputs": [
    {
     "name": "stdout",
     "output_type": "stream",
     "text": [
      "[3 5 0 0 1]\n"
     ]
    }
   ],
   "source": [
    "rval_int=np.random.randint(0,6,5)\n",
    "print(rval_int)"
   ]
  },
  {
   "cell_type": "code",
   "execution_count": 188,
   "id": "785d2101-387a-4b9b-bacd-4653990831e0",
   "metadata": {},
   "outputs": [
    {
     "name": "stdout",
     "output_type": "stream",
     "text": [
      "Random integers: [5 0 3 3 7]\n"
     ]
    }
   ],
   "source": [
    "# Set seed for reproducibility\n",
    "np.random.seed(0)\n",
    "\n",
    "# Generate random integers\n",
    "rand_ints = np.random.randint(0, 10, size=5)  # Random integers between 0 and 10\n",
    "print(\"Random integers:\", rand_ints)"
   ]
  },
  {
   "cell_type": "markdown",
   "id": "bde3fb6b-7ec4-4930-bf89-56c32bd49cbd",
   "metadata": {},
   "source": [
    "## 7. Boolean & Logical Functions"
   ]
  },
  {
   "cell_type": "code",
   "execution_count": 190,
   "id": "49bfd536-4f3d-4156-ad5f-1098915f7eb6",
   "metadata": {},
   "outputs": [],
   "source": [
    "logi = np.array([True, False, True])"
   ]
  },
  {
   "cell_type": "code",
   "execution_count": 193,
   "id": "889c8375-71c4-425f-892d-723fc9ed305a",
   "metadata": {},
   "outputs": [
    {
     "name": "stdout",
     "output_type": "stream",
     "text": [
      "False\n"
     ]
    }
   ],
   "source": [
    "all_true=np.all(logi)\n",
    "print(all_true)"
   ]
  },
  {
   "cell_type": "code",
   "execution_count": 194,
   "id": "c0bf0e3b-fd2c-436b-a45e-bed54a35e544",
   "metadata": {},
   "outputs": [],
   "source": [
    "logi2=np.array([True, True, True])"
   ]
  },
  {
   "cell_type": "code",
   "execution_count": 195,
   "id": "c31f895f-f54a-44d3-9957-b2b99a741132",
   "metadata": {},
   "outputs": [
    {
     "name": "stdout",
     "output_type": "stream",
     "text": [
      "True\n"
     ]
    }
   ],
   "source": [
    "all_true2=np.all(logi2)\n",
    "print(all_true2)"
   ]
  },
  {
   "cell_type": "code",
   "execution_count": 196,
   "id": "db08cb66-9b0a-4a69-874d-0de6451c519b",
   "metadata": {},
   "outputs": [
    {
     "name": "stdout",
     "output_type": "stream",
     "text": [
      "True\n"
     ]
    }
   ],
   "source": [
    "any_true=np.any(logi)\n",
    "print(any_true)"
   ]
  },
  {
   "cell_type": "code",
   "execution_count": 197,
   "id": "6eb528a5-bcc2-4b06-b0be-0e9f106be399",
   "metadata": {},
   "outputs": [
    {
     "name": "stdout",
     "output_type": "stream",
     "text": [
      "True\n"
     ]
    }
   ],
   "source": [
    "any_true2=np.any(logi2)\n",
    "print(any_true)"
   ]
  },
  {
   "cell_type": "markdown",
   "id": "85cbb3b1-a6e0-4c5b-b5a9-75af1ba0358a",
   "metadata": {},
   "source": [
    "## 8. Set Operations"
   ]
  },
  {
   "cell_type": "code",
   "execution_count": 198,
   "id": "75d29776-8923-4922-8c7c-635aef21d4bb",
   "metadata": {},
   "outputs": [
    {
     "name": "stdout",
     "output_type": "stream",
     "text": [
      "Intersection of a and b: [3]\n"
     ]
    }
   ],
   "source": [
    "# Intersection of two arrays\n",
    "set1 = np.array([1, 2, 3, 4])\n",
    "set2 = np.array([3, 7, 5, 6])\n",
    "intersection = np.intersect1d(set1, set2)\n",
    "print(\"Intersection of a and b:\", intersection)"
   ]
  },
  {
   "cell_type": "code",
   "execution_count": 200,
   "id": "74e64612-5e1f-4616-b57a-ca60f9c531e8",
   "metadata": {},
   "outputs": [
    {
     "name": "stdout",
     "output_type": "stream",
     "text": [
      "union of a and b: [1 2 3 4 5 6 7]\n"
     ]
    }
   ],
   "source": [
    "set1 = np.array([1, 2, 3, 4])\n",
    "set2 = np.array([3, 7, 5, 6])\n",
    "unionid = np.union1d(set1, set2)\n",
    "print(\"union of a and b:\", unionid)"
   ]
  },
  {
   "cell_type": "markdown",
   "id": "c7351793-417c-4815-bc85-46bc6230ef1d",
   "metadata": {},
   "source": [
    "## 9. Array Attribute Functions"
   ]
  },
  {
   "cell_type": "code",
   "execution_count": 201,
   "id": "c4710e1b-fe62-427c-950f-91f0cc554f05",
   "metadata": {},
   "outputs": [
    {
     "data": {
      "text/plain": [
       "array([0, 1, 2, 3, 4, 5])"
      ]
     },
     "execution_count": 201,
     "metadata": {},
     "output_type": "execute_result"
    }
   ],
   "source": [
    "a"
   ]
  },
  {
   "cell_type": "code",
   "execution_count": 204,
   "id": "c36f59e1-1e2e-4b02-9dc5-6543accaf928",
   "metadata": {},
   "outputs": [
    {
     "name": "stdout",
     "output_type": "stream",
     "text": [
      "(6,)\n",
      "6\n",
      "1\n",
      "int64\n"
     ]
    }
   ],
   "source": [
    "shp=a.shape\n",
    "print(shp)\n",
    "size=a.size\n",
    "print(size)\n",
    "dimension=a.ndim\n",
    "print(dimension)\n",
    "dtype=a.dtype\n",
    "print(dtype)"
   ]
  },
  {
   "cell_type": "markdown",
   "id": "f5f5b885-470d-49f5-993c-5858c3264e64",
   "metadata": {},
   "source": [
    "## 10. Other Functions"
   ]
  },
  {
   "cell_type": "code",
   "execution_count": 205,
   "id": "e0d17ca2-f27c-4aca-89ef-1cd010ffa228",
   "metadata": {},
   "outputs": [
    {
     "data": {
      "text/plain": [
       "array([0, 1, 2, 3, 4, 5])"
      ]
     },
     "execution_count": 205,
     "metadata": {},
     "output_type": "execute_result"
    }
   ],
   "source": [
    "a"
   ]
  },
  {
   "cell_type": "code",
   "execution_count": 206,
   "id": "f636d9f0-c68d-418a-b1ec-5fc4b7e8940d",
   "metadata": {},
   "outputs": [
    {
     "name": "stdout",
     "output_type": "stream",
     "text": [
      "[0 1 2 3 4 5]\n"
     ]
    }
   ],
   "source": [
    "copy_of_a=np.copy(a)\n",
    "print(copy_of_a)"
   ]
  },
  {
   "cell_type": "code",
   "execution_count": 207,
   "id": "b464f14b-8544-4553-ae86-496d5547c41e",
   "metadata": {},
   "outputs": [
    {
     "name": "stdout",
     "output_type": "stream",
     "text": [
      "Size of a in bytes: 48\n"
     ]
    }
   ],
   "source": [
    "# Size in bytes of an array\n",
    "array_size_in_bytes = a.nbytes  # Size in bytes\n",
    "print(\"Size of a in bytes:\", array_size_in_bytes)"
   ]
  },
  {
   "cell_type": "code",
   "execution_count": 208,
   "id": "4f5ed42a-04a0-4099-a3ea-e5a257186729",
   "metadata": {},
   "outputs": [
    {
     "name": "stdout",
     "output_type": "stream",
     "text": [
      "Do a and copied_array share memory? False\n"
     ]
    }
   ],
   "source": [
    "# Check if two arrays share memory\n",
    "shared = np.shares_memory(a, copy_of_a)  # Check if arrays share memory\n",
    "print(\"Do a and copied_array share memory?\", shared)"
   ]
  },
  {
   "cell_type": "code",
   "execution_count": null,
   "id": "1fb2fd17-f3e0-497e-b067-cd2792f5fe84",
   "metadata": {},
   "outputs": [],
   "source": []
  }
 ],
 "metadata": {
  "kernelspec": {
   "display_name": "Python 3 (ipykernel)",
   "language": "python",
   "name": "python3"
  },
  "language_info": {
   "codemirror_mode": {
    "name": "ipython",
    "version": 3
   },
   "file_extension": ".py",
   "mimetype": "text/x-python",
   "name": "python",
   "nbconvert_exporter": "python",
   "pygments_lexer": "ipython3",
   "version": "3.13.5"
  }
 },
 "nbformat": 4,
 "nbformat_minor": 5
}
