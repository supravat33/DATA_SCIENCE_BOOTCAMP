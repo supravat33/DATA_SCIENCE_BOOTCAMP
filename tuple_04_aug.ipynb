{
 "cells": [
  {
   "cell_type": "markdown",
   "id": "fb878f69-a3d9-4a51-9347-460d2b2e53dd",
   "metadata": {},
   "source": [
    "### tuple creation\n",
    "#### T1"
   ]
  },
  {
   "cell_type": "code",
   "execution_count": 1,
   "id": "cae8c4a8-1e6a-4b1d-96cc-e673e5a35ca8",
   "metadata": {},
   "outputs": [],
   "source": [
    "t=()# empty tuple"
   ]
  },
  {
   "cell_type": "code",
   "execution_count": 2,
   "id": "99db3a6e-779a-4e50-8a95-a41813998fa6",
   "metadata": {},
   "outputs": [],
   "source": [
    "t1=(10,20,40)# tuple with int"
   ]
  },
  {
   "cell_type": "code",
   "execution_count": 3,
   "id": "61cfb9ef-2db8-475f-b932-92da28cc9885",
   "metadata": {},
   "outputs": [],
   "source": [
    "t2=(10.7,30.6,60.89) # tuple with float"
   ]
  },
  {
   "cell_type": "code",
   "execution_count": 4,
   "id": "142ac2db-db46-4c17-8a54-aeb6ec6a1d28",
   "metadata": {},
   "outputs": [],
   "source": [
    "t3=('o','n','e') # tuple with string"
   ]
  },
  {
   "cell_type": "code",
   "execution_count": 5,
   "id": "e0ecae50-707f-4fcd-881b-cacc5b3a1227",
   "metadata": {},
   "outputs": [],
   "source": [
    "t4=('sup',34,(56,78)) # nested tuple"
   ]
  },
  {
   "cell_type": "code",
   "execution_count": 6,
   "id": "06c54a9f-2a0d-4b8e-aa5c-d450479d6f4f",
   "metadata": {},
   "outputs": [],
   "source": [
    "t5=(100,'rud',12,89)# tuple of mix data"
   ]
  },
  {
   "cell_type": "code",
   "execution_count": 7,
   "id": "c49458fb-97dd-47a7-91fc-6121596d113b",
   "metadata": {},
   "outputs": [],
   "source": [
    "t6=('rud',23,[50,67],{45,78},{'rahul','ravi'})"
   ]
  },
  {
   "cell_type": "code",
   "execution_count": 8,
   "id": "5f08932e-5453-482e-986d-604aa3f5226e",
   "metadata": {},
   "outputs": [
    {
     "data": {
      "text/plain": [
       "3"
      ]
     },
     "execution_count": 8,
     "metadata": {},
     "output_type": "execute_result"
    }
   ],
   "source": [
    "len(t3)"
   ]
  },
  {
   "cell_type": "markdown",
   "id": "2712d584-10a1-4968-b94b-0f1b24202ade",
   "metadata": {},
   "source": [
    "### tuple indexing"
   ]
  },
  {
   "cell_type": "code",
   "execution_count": 9,
   "id": "fed2019e-e0ca-41a5-b4ca-fddc80524fd0",
   "metadata": {},
   "outputs": [
    {
     "data": {
      "text/plain": [
       "10"
      ]
     },
     "execution_count": 9,
     "metadata": {},
     "output_type": "execute_result"
    }
   ],
   "source": [
    "t1[0] # retreive 1st elememt of the tuple"
   ]
  },
  {
   "cell_type": "code",
   "execution_count": 10,
   "id": "1c38e872-0347-4a85-afab-b4532531213b",
   "metadata": {},
   "outputs": [
    {
     "data": {
      "text/plain": [
       "'o'"
      ]
     },
     "execution_count": 10,
     "metadata": {},
     "output_type": "execute_result"
    }
   ],
   "source": [
    "t3[0]# get he 1st element of the the tuple"
   ]
  },
  {
   "cell_type": "code",
   "execution_count": 11,
   "id": "21a787fa-dacb-4d12-93a1-d5b8c0ef539e",
   "metadata": {},
   "outputs": [
    {
     "data": {
      "text/plain": [
       "'s'"
      ]
     },
     "execution_count": 11,
     "metadata": {},
     "output_type": "execute_result"
    }
   ],
   "source": [
    "t4[0][0]# nested inndexing access the first chaecter of the 1st element"
   ]
  },
  {
   "cell_type": "code",
   "execution_count": 12,
   "id": "75d04681-4636-4782-9f8e-5a5e6ee83518",
   "metadata": {},
   "outputs": [
    {
     "data": {
      "text/plain": [
       "{'rahul', 'ravi'}"
      ]
     },
     "execution_count": 12,
     "metadata": {},
     "output_type": "execute_result"
    }
   ],
   "source": [
    "t6[-1]#last element of the tuple"
   ]
  },
  {
   "cell_type": "code",
   "execution_count": 13,
   "id": "9faa9fbc-4705-4d93-acac-96ee0d492320",
   "metadata": {},
   "outputs": [
    {
     "data": {
      "text/plain": [
       "(56, 78)"
      ]
     },
     "execution_count": 13,
     "metadata": {},
     "output_type": "execute_result"
    }
   ],
   "source": [
    "t4[-1] # return the lst element of the tuple"
   ]
  },
  {
   "cell_type": "markdown",
   "id": "f777f900-da89-42ee-bf36-6c9010e617ca",
   "metadata": {},
   "source": [
    "### tuple slicing\n",
    "#### T2"
   ]
  },
  {
   "cell_type": "code",
   "execution_count": 14,
   "id": "eecb72ff-dd42-4fd9-97ee-97078ade143f",
   "metadata": {},
   "outputs": [],
   "source": [
    "myt=(1,2,3,4,5,6,7,8)"
   ]
  },
  {
   "cell_type": "code",
   "execution_count": 15,
   "id": "77e71fac-e709-405f-8278-20fe94d36a27",
   "metadata": {},
   "outputs": [
    {
     "data": {
      "text/plain": [
       "(1, 2, 3)"
      ]
     },
     "execution_count": 15,
     "metadata": {},
     "output_type": "execute_result"
    }
   ],
   "source": [
    "myt[0:3]"
   ]
  },
  {
   "cell_type": "code",
   "execution_count": 16,
   "id": "1d43d9b1-61c5-4ce9-89fe-585de431670d",
   "metadata": {},
   "outputs": [
    {
     "data": {
      "text/plain": [
       "(3, 4, 5)"
      ]
     },
     "execution_count": 16,
     "metadata": {},
     "output_type": "execute_result"
    }
   ],
   "source": [
    "myt[2:5]"
   ]
  },
  {
   "cell_type": "code",
   "execution_count": 17,
   "id": "74c91bfb-0655-4265-afa9-488d9a652d98",
   "metadata": {},
   "outputs": [
    {
     "data": {
      "text/plain": [
       "(1, 2, 3, 4, 5, 6)"
      ]
     },
     "execution_count": 17,
     "metadata": {},
     "output_type": "execute_result"
    }
   ],
   "source": [
    "myt[:6]"
   ]
  },
  {
   "cell_type": "code",
   "execution_count": 18,
   "id": "4145dd4a-d7e1-4406-b251-5e74d06a465a",
   "metadata": {},
   "outputs": [
    {
     "data": {
      "text/plain": [
       "(1,)"
      ]
     },
     "execution_count": 18,
     "metadata": {},
     "output_type": "execute_result"
    }
   ],
   "source": [
    "myt[:1]"
   ]
  },
  {
   "cell_type": "code",
   "execution_count": 19,
   "id": "798e9b49-5ad4-48ab-bb18-166556c5b5e1",
   "metadata": {},
   "outputs": [
    {
     "data": {
      "text/plain": [
       "(6, 7, 8)"
      ]
     },
     "execution_count": 19,
     "metadata": {},
     "output_type": "execute_result"
    }
   ],
   "source": [
    "myt[-3:]"
   ]
  },
  {
   "cell_type": "code",
   "execution_count": 20,
   "id": "2ba1ac15-c8d2-4891-8c48-7d63fc2c09f6",
   "metadata": {},
   "outputs": [
    {
     "data": {
      "text/plain": [
       "(7, 8)"
      ]
     },
     "execution_count": 20,
     "metadata": {},
     "output_type": "execute_result"
    }
   ],
   "source": [
    "myt[-2:]"
   ]
  },
  {
   "cell_type": "code",
   "execution_count": 21,
   "id": "f9a48cd7-61cc-493c-86c2-104b33e68393",
   "metadata": {},
   "outputs": [
    {
     "data": {
      "text/plain": [
       "8"
      ]
     },
     "execution_count": 21,
     "metadata": {},
     "output_type": "execute_result"
    }
   ],
   "source": [
    "myt[-1]"
   ]
  },
  {
   "cell_type": "code",
   "execution_count": 22,
   "id": "ba420c9c-d380-4e92-b275-dd5d6e8fcc08",
   "metadata": {},
   "outputs": [
    {
     "data": {
      "text/plain": [
       "(1, 2, 3, 4, 5, 6, 7, 8)"
      ]
     },
     "execution_count": 22,
     "metadata": {},
     "output_type": "execute_result"
    }
   ],
   "source": [
    "myt[:]"
   ]
  },
  {
   "cell_type": "code",
   "execution_count": 23,
   "id": "7ac0d1ce-1018-4334-ac25-739f72be608b",
   "metadata": {},
   "outputs": [
    {
     "data": {
      "text/plain": [
       "(1, 3, 5, 7)"
      ]
     },
     "execution_count": 23,
     "metadata": {},
     "output_type": "execute_result"
    }
   ],
   "source": [
    "myt[: :2]"
   ]
  },
  {
   "cell_type": "code",
   "execution_count": 24,
   "id": "e3b9be9b-d2a4-4e27-a1d8-2cc1454c434e",
   "metadata": {},
   "outputs": [
    {
     "data": {
      "text/plain": [
       "(5, 2)"
      ]
     },
     "execution_count": 24,
     "metadata": {},
     "output_type": "execute_result"
    }
   ],
   "source": [
    "myt[-4::-3]"
   ]
  },
  {
   "cell_type": "code",
   "execution_count": 26,
   "id": "fd1acf35-3060-44c6-a834-f822c834c2df",
   "metadata": {},
   "outputs": [
    {
     "data": {
      "text/plain": [
       "(5, 8)"
      ]
     },
     "execution_count": 26,
     "metadata": {},
     "output_type": "execute_result"
    }
   ],
   "source": [
    "myt[-4: :3]"
   ]
  },
  {
   "cell_type": "markdown",
   "id": "79006ff6-5a0d-48ea-b1dc-f7e89e653bb7",
   "metadata": {},
   "source": [
    "### REMOVE & CHANGE ITEM"
   ]
  },
  {
   "cell_type": "code",
   "execution_count": 27,
   "id": "dbd80992-cbc2-4378-9872-bfedbf4dbce5",
   "metadata": {},
   "outputs": [
    {
     "data": {
      "text/plain": [
       "(1, 2, 3, 4, 5, 6, 7, 8)"
      ]
     },
     "execution_count": 27,
     "metadata": {},
     "output_type": "execute_result"
    }
   ],
   "source": [
    "myt"
   ]
  },
  {
   "cell_type": "markdown",
   "id": "ceab696e-677f-4e91-a580-25b002efccfa",
   "metadata": {},
   "source": [
    "### T3"
   ]
  },
  {
   "cell_type": "code",
   "execution_count": 28,
   "id": "fa745b2b-70eb-4964-b9e9-4219daff2e56",
   "metadata": {},
   "outputs": [
    {
     "ename": "TypeError",
     "evalue": "'tuple' object doesn't support item deletion",
     "output_type": "error",
     "traceback": [
      "\u001b[1;31m---------------------------------------------------------------------------\u001b[0m",
      "\u001b[1;31mTypeError\u001b[0m                                 Traceback (most recent call last)",
      "Cell \u001b[1;32mIn[28], line 1\u001b[0m\n\u001b[1;32m----> 1\u001b[0m \u001b[38;5;28;01mdel\u001b[39;00m myt[\u001b[38;5;241m0\u001b[39m]\n",
      "\u001b[1;31mTypeError\u001b[0m: 'tuple' object doesn't support item deletion"
     ]
    }
   ],
   "source": [
    "del myt[0]"
   ]
  },
  {
   "cell_type": "code",
   "execution_count": 29,
   "id": "4e24c6b1-9486-448a-a4f2-b0655ece8fb3",
   "metadata": {},
   "outputs": [
    {
     "ename": "TypeError",
     "evalue": "'tuple' object does not support item assignment",
     "output_type": "error",
     "traceback": [
      "\u001b[1;31m---------------------------------------------------------------------------\u001b[0m",
      "\u001b[1;31mTypeError\u001b[0m                                 Traceback (most recent call last)",
      "Cell \u001b[1;32mIn[29], line 1\u001b[0m\n\u001b[1;32m----> 1\u001b[0m myt[\u001b[38;5;241m1\u001b[39m]\u001b[38;5;241m=\u001b[39m\u001b[38;5;241m90\u001b[39m\n",
      "\u001b[1;31mTypeError\u001b[0m: 'tuple' object does not support item assignment"
     ]
    }
   ],
   "source": [
    "myt[1]=90"
   ]
  },
  {
   "cell_type": "code",
   "execution_count": 30,
   "id": "e150abc9-971a-45b9-b971-6a593cc63bf0",
   "metadata": {},
   "outputs": [],
   "source": [
    "del myt"
   ]
  },
  {
   "cell_type": "markdown",
   "id": "0b62a211-357f-4ee4-8b0c-aed312653ca2",
   "metadata": {},
   "source": [
    "### loop through a tuple"
   ]
  },
  {
   "cell_type": "code",
   "execution_count": 31,
   "id": "c487299f-8beb-439b-b6cb-03ecbd7bc400",
   "metadata": {},
   "outputs": [],
   "source": [
    "myt=(1,2,3,4,5,6,7,8)"
   ]
  },
  {
   "cell_type": "code",
   "execution_count": 32,
   "id": "90075866-e886-4f70-9185-9a8c65818017",
   "metadata": {},
   "outputs": [
    {
     "name": "stdout",
     "output_type": "stream",
     "text": [
      "1\n",
      "2\n",
      "3\n",
      "4\n",
      "5\n",
      "6\n",
      "7\n",
      "8\n"
     ]
    }
   ],
   "source": [
    "for i in myt:\n",
    "    print(i)"
   ]
  },
  {
   "cell_type": "code",
   "execution_count": 33,
   "id": "f8586dcc-44b7-49f7-b6b5-80181be99434",
   "metadata": {},
   "outputs": [
    {
     "name": "stdout",
     "output_type": "stream",
     "text": [
      "(0, 1)\n",
      "(1, 2)\n",
      "(2, 3)\n",
      "(3, 4)\n",
      "(4, 5)\n",
      "(5, 6)\n",
      "(6, 7)\n",
      "(7, 8)\n"
     ]
    }
   ],
   "source": [
    "for i  in enumerate(myt):\n",
    "    print(i)"
   ]
  },
  {
   "cell_type": "markdown",
   "id": "cbb387a8-1d81-42c8-9274-6594c278aab2",
   "metadata": {},
   "source": [
    "### T4"
   ]
  },
  {
   "cell_type": "code",
   "execution_count": 34,
   "id": "f9303877-4dab-4a20-aa7c-9c0a8e5a1933",
   "metadata": {},
   "outputs": [
    {
     "data": {
      "text/plain": [
       "True"
      ]
     },
     "execution_count": 34,
     "metadata": {},
     "output_type": "execute_result"
    }
   ],
   "source": [
    "1 in myt"
   ]
  },
  {
   "cell_type": "code",
   "execution_count": 35,
   "id": "d2bd1323-50fc-4682-948a-3832a6e214e5",
   "metadata": {},
   "outputs": [
    {
     "data": {
      "text/plain": [
       "False"
      ]
     },
     "execution_count": 35,
     "metadata": {},
     "output_type": "execute_result"
    }
   ],
   "source": [
    "10 in myt"
   ]
  },
  {
   "cell_type": "code",
   "execution_count": 36,
   "id": "05d2ceb0-e157-47ad-8865-6d0a0a2c2921",
   "metadata": {},
   "outputs": [
    {
     "name": "stdout",
     "output_type": "stream",
     "text": [
      "hello there i am 1\n"
     ]
    }
   ],
   "source": [
    "if 3 in myt:\n",
    "    print('hello there i am 1')\n",
    "else:\n",
    "    print('oops! 3 is not preesent in the tuple')"
   ]
  },
  {
   "cell_type": "code",
   "execution_count": 37,
   "id": "1c373998-f5ec-48b6-96a5-d834a999867d",
   "metadata": {},
   "outputs": [
    {
     "name": "stdout",
     "output_type": "stream",
     "text": [
      "oops! 11th is not present inthe myt tuple\n"
     ]
    }
   ],
   "source": [
    "if 11 in myt:\n",
    "    print('hello i am the 11th')\n",
    "else:\n",
    "    print('oops! 11th is not present inthe myt tuple')"
   ]
  },
  {
   "cell_type": "markdown",
   "id": "6f5b9d02-ea70-46e9-af01-865fad8991f8",
   "metadata": {},
   "source": [
    "### index position"
   ]
  },
  {
   "cell_type": "code",
   "execution_count": 38,
   "id": "d8c6d01a-6eff-4866-9243-1093e93f1d64",
   "metadata": {},
   "outputs": [
    {
     "data": {
      "text/plain": [
       "0"
      ]
     },
     "execution_count": 38,
     "metadata": {},
     "output_type": "execute_result"
    }
   ],
   "source": [
    "myt.index(1)"
   ]
  },
  {
   "cell_type": "code",
   "execution_count": 39,
   "id": "787daad8-4843-496a-b151-ac4bad3b25e9",
   "metadata": {},
   "outputs": [
    {
     "data": {
      "text/plain": [
       "7"
      ]
     },
     "execution_count": 39,
     "metadata": {},
     "output_type": "execute_result"
    }
   ],
   "source": [
    "myt.index(8)"
   ]
  },
  {
   "cell_type": "code",
   "execution_count": 40,
   "id": "74d00bd3-0575-48e6-bbbb-ddd71fa8b787",
   "metadata": {},
   "outputs": [],
   "source": [
    "myt1=myt"
   ]
  },
  {
   "cell_type": "code",
   "execution_count": 41,
   "id": "00c8e24d-47db-42f9-8787-c636450e8fbc",
   "metadata": {},
   "outputs": [
    {
     "data": {
      "text/plain": [
       "(1751010467264, 1751010467264)"
      ]
     },
     "execution_count": 41,
     "metadata": {},
     "output_type": "execute_result"
    }
   ],
   "source": [
    "id(myt1),id(myt)"
   ]
  },
  {
   "cell_type": "markdown",
   "id": "d1eef141-7c89-48ef-9337-13b006f51b0b",
   "metadata": {},
   "source": [
    "### sorting"
   ]
  },
  {
   "cell_type": "code",
   "execution_count": 42,
   "id": "f7fe4735-f424-4c5b-9ce0-1b7d0ebd70c6",
   "metadata": {},
   "outputs": [],
   "source": [
    "myt2=(88,90,78,56,4,3,2)"
   ]
  },
  {
   "cell_type": "code",
   "execution_count": 43,
   "id": "02cf0114-026b-4a98-9c7a-e587268bd715",
   "metadata": {},
   "outputs": [
    {
     "data": {
      "text/plain": [
       "[2, 3, 4, 56, 78, 88, 90]"
      ]
     },
     "execution_count": 43,
     "metadata": {},
     "output_type": "execute_result"
    }
   ],
   "source": [
    "sorted(myt2)"
   ]
  },
  {
   "cell_type": "code",
   "execution_count": 44,
   "id": "0b41f4f6-7faa-46e3-901a-fa32826c288d",
   "metadata": {},
   "outputs": [
    {
     "data": {
      "text/plain": [
       "[90, 88, 78, 56, 4, 3, 2]"
      ]
     },
     "execution_count": 44,
     "metadata": {},
     "output_type": "execute_result"
    }
   ],
   "source": [
    "sorted(myt2,reverse=True)"
   ]
  }
 ],
 "metadata": {
  "kernelspec": {
   "display_name": "Python 3 (ipykernel)",
   "language": "python",
   "name": "python3"
  },
  "language_info": {
   "codemirror_mode": {
    "name": "ipython",
    "version": 3
   },
   "file_extension": ".py",
   "mimetype": "text/x-python",
   "name": "python",
   "nbconvert_exporter": "python",
   "pygments_lexer": "ipython3",
   "version": "3.13.5"
  }
 },
 "nbformat": 4,
 "nbformat_minor": 5
}
