{
 "cells": [
  {
   "cell_type": "markdown",
   "id": "d1e7dee3-5b05-4de5-b7bd-7573c6ace41c",
   "metadata": {},
   "source": [
    "##  CONDITIONAL STATEMENT(if,elif,if else,nestedif,multi if)"
   ]
  },
  {
   "cell_type": "code",
   "execution_count": 1,
   "id": "4cacd541-4750-45cb-a82c-8bc8ac57d5fb",
   "metadata": {},
   "outputs": [
    {
     "name": "stdout",
     "output_type": "stream",
     "text": [
      "suprevat\n"
     ]
    }
   ],
   "source": [
    "if True:\n",
    "    print('suprevat')"
   ]
  },
  {
   "cell_type": "code",
   "execution_count": 2,
   "id": "da0865d3-c6f9-4948-83a1-8054b5a5b184",
   "metadata": {},
   "outputs": [],
   "source": [
    "if False:\n",
    "    print('false')"
   ]
  },
  {
   "cell_type": "code",
   "execution_count": 3,
   "id": "db9341df-ea56-47a9-a72b-7c1477a365b8",
   "metadata": {},
   "outputs": [
    {
     "ename": "IndentationError",
     "evalue": "expected an indented block after 'if' statement on line 1 (3835776734.py, line 2)",
     "output_type": "error",
     "traceback": [
      "\u001b[1;36m  Cell \u001b[1;32mIn[3], line 2\u001b[1;36m\u001b[0m\n\u001b[1;33m    print('hi')\u001b[0m\n\u001b[1;37m    ^\u001b[0m\n\u001b[1;31mIndentationError\u001b[0m\u001b[1;31m:\u001b[0m expected an indented block after 'if' statement on line 1\n"
     ]
    }
   ],
   "source": [
    "if True:\n",
    "print('hi')"
   ]
  },
  {
   "cell_type": "code",
   "execution_count": 4,
   "id": "6debb746-3ea3-441e-94db-140e89c6f232",
   "metadata": {},
   "outputs": [
    {
     "name": "stdout",
     "output_type": "stream",
     "text": [
      "das\n"
     ]
    }
   ],
   "source": [
    "if False:\n",
    "    print('supravat')\n",
    "print('das')"
   ]
  },
  {
   "cell_type": "code",
   "execution_count": 5,
   "id": "5bf64bae-c246-424d-8318-ecd8ebd85356",
   "metadata": {},
   "outputs": [
    {
     "name": "stdout",
     "output_type": "stream",
     "text": [
      "Data Science\n",
      "bye for now\n"
     ]
    }
   ],
   "source": [
    "if True:\n",
    "    print('Data Science')\n",
    "print('bye for now')"
   ]
  },
  {
   "cell_type": "code",
   "execution_count": 6,
   "id": "6a3bb596-862a-4133-a712-a974c22a3e02",
   "metadata": {},
   "outputs": [
    {
     "name": "stdout",
     "output_type": "stream",
     "text": [
      "supravat\n"
     ]
    }
   ],
   "source": [
    "if True:\n",
    "    print('supravat')\n",
    "else:\n",
    "    print('happy')"
   ]
  },
  {
   "cell_type": "code",
   "execution_count": 7,
   "id": "29d9feee-d468-4002-a8ba-273658cf50b6",
   "metadata": {},
   "outputs": [
    {
     "name": "stdout",
     "output_type": "stream",
     "text": [
      "haappy\n"
     ]
    }
   ],
   "source": [
    "if False:\n",
    "    print('supravat')\n",
    "else:\n",
    "    print('haappy')"
   ]
  },
  {
   "cell_type": "code",
   "execution_count": 8,
   "id": "976f4b1d-2f2c-4927-aa71-7d2421729f96",
   "metadata": {},
   "outputs": [
    {
     "name": "stdout",
     "output_type": "stream",
     "text": [
      "the given no 23 is an odd number\n"
     ]
    }
   ],
   "source": [
    "x=23\n",
    "r=x%2\n",
    "if r!=0:\n",
    "    print(f\"the given no {x} is an odd number\")\n",
    "else:\n",
    "    print(f\"the given no{x} is an even number\")"
   ]
  },
  {
   "cell_type": "code",
   "execution_count": 9,
   "id": "813bf3f5-4d9c-44de-95ab-9c376dfebdaa",
   "metadata": {},
   "outputs": [
    {
     "name": "stdout",
     "output_type": "stream",
     "text": [
      "the given no 23 is an odd number\n",
      "the given no24 is an even number\n"
     ]
    }
   ],
   "source": [
    "x=23\n",
    "y=24\n",
    "if x%2!=0:\n",
    "    print(f\"the given no {x} is an odd number\")\n",
    "if y&2==0:\n",
    "    print(f\"the given no{y} is an even number\")"
   ]
  },
  {
   "cell_type": "code",
   "execution_count": 10,
   "id": "c4d54b35-8ebe-4b11-bf72-8cbef3e1e2e3",
   "metadata": {},
   "outputs": [
    {
     "name": "stdout",
     "output_type": "stream",
     "text": [
      "one\n"
     ]
    }
   ],
   "source": [
    "x = 1\n",
    "\n",
    "if x == 1:\n",
    "    print('one')\n",
    "if x == 2:\n",
    "    print('Two')\n",
    "if x == 3:\n",
    "    print('Three')\n",
    "if x == 4:\n",
    "    print('four')"
   ]
  },
  {
   "cell_type": "code",
   "execution_count": 11,
   "id": "3a6b0df6-91a8-4e69-91c1-c3753e01f677",
   "metadata": {},
   "outputs": [
    {
     "name": "stdout",
     "output_type": "stream",
     "text": [
      "odd number\n"
     ]
    }
   ],
   "source": [
    "x=7\n",
    "re=x%2\n",
    "if re==0:\n",
    "    print('even number')\n",
    "else:\n",
    "    print('odd number')"
   ]
  },
  {
   "cell_type": "code",
   "execution_count": 12,
   "id": "80b1b545-3407-46d0-820d-a6309b9fda47",
   "metadata": {},
   "outputs": [
    {
     "name": "stdout",
     "output_type": "stream",
     "text": [
      "it is an odd number\n"
     ]
    }
   ],
   "source": [
    "x = 7\n",
    "r = x % 2\n",
    "if r==0:\n",
    "    print('it is an even no')\n",
    "    if x<10:\n",
    "        print(f\"{x} is lesser than 10\")\n",
    "else:\n",
    "    print('it is an odd number')"
   ]
  },
  {
   "cell_type": "code",
   "execution_count": 13,
   "id": "f76870f7-39ba-43d1-9e36-eb5e8e7a953a",
   "metadata": {},
   "outputs": [
    {
     "name": "stdout",
     "output_type": "stream",
     "text": [
      "it is an even no\n",
      "6 is lesser than 10\n"
     ]
    }
   ],
   "source": [
    "x = 6\n",
    "r = x % 2\n",
    "if r==0:\n",
    "    print('it is an even no')\n",
    "    if x<10:\n",
    "        print(f\"{x} is lesser than 10\")\n",
    "else:\n",
    "    print('it is an odd number')"
   ]
  },
  {
   "cell_type": "code",
   "execution_count": 14,
   "id": "def055c2-8d1e-44e4-a425-fcc8b12d6106",
   "metadata": {},
   "outputs": [
    {
     "name": "stdout",
     "output_type": "stream",
     "text": [
      "it is an even no\n"
     ]
    }
   ],
   "source": [
    "x = 12\n",
    "r = x % 2\n",
    "if r==0:\n",
    "    print('it is an even no')\n",
    "    if x<10:\n",
    "        print(f\"{x} is lesser than 10\")\n",
    "else:\n",
    "    print('it is an odd number')"
   ]
  },
  {
   "cell_type": "code",
   "execution_count": 15,
   "id": "6ffd09e5-13e4-4d42-96b0-2c281b7aff77",
   "metadata": {},
   "outputs": [
    {
     "name": "stdout",
     "output_type": "stream",
     "text": [
      "it is an even no\n",
      "12 is greter than 10\n"
     ]
    }
   ],
   "source": [
    "x = 12\n",
    "r = x % 2\n",
    "if r==0:\n",
    "    print('it is an even no')\n",
    "    if x<10:\n",
    "        print(f\"{x} is lesser than 10\")\n",
    "    else:\n",
    "        print(f\"{x} is greter than 10\")\n",
    "else:\n",
    "    print('it is an odd number')"
   ]
  },
  {
   "cell_type": "code",
   "execution_count": 16,
   "id": "7ce73916-94cd-49d1-a242-465af84a8cac",
   "metadata": {},
   "outputs": [
    {
     "name": "stdout",
     "output_type": "stream",
     "text": [
      "four\n"
     ]
    }
   ],
   "source": [
    "# elif it wont check till the block once you find the output it won't go to next line\n",
    "# you can try with multiple parameter 1, 2 & 3 value in x \n",
    "xn=4\n",
    "if(xn == 1):\n",
    "    print('one')\n",
    "elif(xn == 2):\n",
    "    print('Two')\n",
    "elif(xn == 3):\n",
    "    print('Three')\n",
    "elif(xn == 4):\n",
    "    print('four')"
   ]
  },
  {
   "cell_type": "code",
   "execution_count": 17,
   "id": "3498cb34-a9c6-48bc-a2f9-638d29df851b",
   "metadata": {},
   "outputs": [
    {
     "name": "stdout",
     "output_type": "stream",
     "text": [
      "one\n"
     ]
    }
   ],
   "source": [
    "xn=1\n",
    "if(xn == 1):\n",
    "    print('one')\n",
    "elif(xn == 2):\n",
    "    print('Two')\n",
    "elif(xn == 3):\n",
    "    print('Three')\n",
    "elif(xn == 4):\n",
    "    print('four')"
   ]
  },
  {
   "cell_type": "code",
   "execution_count": 18,
   "id": "f9e6dc8e-5673-4de6-bc6d-889c7da9b194",
   "metadata": {},
   "outputs": [
    {
     "name": "stdout",
     "output_type": "stream",
     "text": [
      "number not found\n"
     ]
    }
   ],
   "source": [
    "\n",
    "x = 7\n",
    "\n",
    "if(x == 1):\n",
    "    print('one')\n",
    "    \n",
    "elif(x == 2):\n",
    "    print('Two')\n",
    "elif(x == 3):\n",
    "    print('Three')\n",
    "elif(x == 4):\n",
    "    print('four')\n",
    "\n",
    "else:\n",
    "    print('number not found')"
   ]
  },
  {
   "cell_type": "markdown",
   "id": "95682a8e-1fb0-4e76-bf0c-c9b0b6ff9af0",
   "metadata": {},
   "source": [
    "## LOOPS(while,for)"
   ]
  },
  {
   "cell_type": "code",
   "execution_count": 19,
   "id": "514439c5-6825-4fa3-bb92-761c6c21b609",
   "metadata": {},
   "outputs": [
    {
     "name": "stdout",
     "output_type": "stream",
     "text": [
      "suprvat\n",
      "das\n",
      "das\n",
      "das\n",
      "das\n",
      "\n",
      "suprvat\n",
      "das\n",
      "das\n",
      "das\n",
      "das\n",
      "\n",
      "suprvat\n",
      "das\n",
      "das\n",
      "das\n",
      "das\n",
      "\n",
      "suprvat\n",
      "das\n",
      "das\n",
      "das\n",
      "das\n",
      "\n",
      "suprvat\n",
      "das\n",
      "das\n",
      "das\n",
      "das\n",
      "\n"
     ]
    }
   ],
   "source": [
    "i = 1\n",
    "\n",
    "while i<=5:\n",
    "    print('suprvat') # when we mention end then new line will not create\n",
    "    j = 1\n",
    "    while j<=4:\n",
    "        print('das')\n",
    "        j = j + 1\n",
    "        \n",
    "    i = i + 1\n",
    "    print()\n",
    "    \n",
    "    # the output which we got is very lengty but how to make them one line lets refer to below code"
   ]
  },
  {
   "cell_type": "code",
   "execution_count": 20,
   "id": "333b1d78-3bcd-4891-aeb1-6b0aada292b6",
   "metadata": {},
   "outputs": [
    {
     "name": "stdout",
     "output_type": "stream",
     "text": [
      "supravat das das das das \n",
      "supravat das das das das \n",
      "supravat das das das das \n",
      "supravat das das das das \n",
      "supravat das das das das \n"
     ]
    }
   ],
   "source": [
    "i = 1\n",
    "\n",
    "while i<=5:\n",
    "    print('supravat',end=' ') # when we mention end then new line will not create\n",
    "    j = 1\n",
    "    while j<=4:\n",
    "        print('das',end=' ')\n",
    "        j = j + 1\n",
    "        \n",
    "    i = i + 1\n",
    "    print()\n",
    "    \n",
    "    # the output which we got is very lengty but how to make them one line lets refer to below code"
   ]
  },
  {
   "cell_type": "code",
   "execution_count": 21,
   "id": "275549d3-0591-4c03-94cf-5599d1483c63",
   "metadata": {},
   "outputs": [
    {
     "name": "stdout",
     "output_type": "stream",
     "text": [
      "supravat das das das das supravat das das das das supravat das das das das supravat das das das das supravat das das das das "
     ]
    }
   ],
   "source": [
    "i = 1\n",
    "\n",
    "while i<=5:\n",
    "    print('supravat',end=' ')\n",
    "    j = 1\n",
    "    while j<=4:\n",
    "        print('das',end=' ')\n",
    "        j = j + 1\n",
    "        \n",
    "    i = i + 1\n",
    "    \n",
    "    \n",
    "    "
   ]
  },
  {
   "cell_type": "code",
   "execution_count": 22,
   "id": "5f869fcd-b00a-456d-b3df-cce916537325",
   "metadata": {},
   "outputs": [
    {
     "name": "stdout",
     "output_type": "stream",
     "text": [
      "0 1 2 3 \n",
      "0 2 4 6 \n",
      "0 3 6 9 \n",
      "0 4 8 12 \n"
     ]
    }
   ],
   "source": [
    "i= 1\n",
    "while i<=4:\n",
    "    j=0\n",
    "    while j<=3:\n",
    "        print(i*j,end=' ')\n",
    "        j=j+1\n",
    "    print()\n",
    "    i+=1"
   ]
  },
  {
   "cell_type": "code",
   "execution_count": 23,
   "id": "027ab38a-1860-40a1-9db3-6ce905396ea1",
   "metadata": {},
   "outputs": [
    {
     "name": "stdout",
     "output_type": "stream",
     "text": [
      "0 1 2 3 \n",
      "0 2 4 6 \n",
      "0 3 6 9 \n",
      "0 4 8 12 \n"
     ]
    }
   ],
   "source": [
    "i= 1\n",
    "while i<=4:\n",
    "    j=0\n",
    "    while j<=3:\n",
    "        print(i*j,end=' ')\n",
    "        j=j+1\n",
    "    i+=1\n",
    "    print()"
   ]
  },
  {
   "cell_type": "code",
   "execution_count": 24,
   "id": "694cabb4-f01a-4ca1-b68d-b45ff8e615f3",
   "metadata": {},
   "outputs": [
    {
     "name": "stdout",
     "output_type": "stream",
     "text": [
      "(0, 's')\n",
      "(1, 'u')\n",
      "(2, 'p')\n",
      "(3, 'r')\n",
      "(4, 'a')\n",
      "(5, 'v')\n",
      "(6, 'a')\n",
      "(7, 't')\n"
     ]
    }
   ],
   "source": [
    "name='supravat'\n",
    "for i in enumerate(name):\n",
    "    print(i)"
   ]
  },
  {
   "cell_type": "code",
   "execution_count": 25,
   "id": "accecf7d-0956-4afc-aab4-de7cb087e43b",
   "metadata": {},
   "outputs": [
    {
     "name": "stdout",
     "output_type": "stream",
     "text": [
      "0\n",
      "1\n",
      "2\n",
      "3\n",
      "4\n"
     ]
    }
   ],
   "source": [
    "for i in range(5):\n",
    "    print(i)"
   ]
  },
  {
   "cell_type": "code",
   "execution_count": 26,
   "id": "faa068c2-c68a-4724-bf0d-9ce5e31dd586",
   "metadata": {},
   "outputs": [
    {
     "name": "stdout",
     "output_type": "stream",
     "text": [
      "0\n",
      "1\n",
      "2\n",
      "3\n",
      "4\n"
     ]
    }
   ],
   "source": [
    "for i  in range (0,5):\n",
    "    print(i)"
   ]
  },
  {
   "cell_type": "code",
   "execution_count": 27,
   "id": "fc9fb55a-61fc-4512-9205-09ae07679602",
   "metadata": {},
   "outputs": [
    {
     "name": "stdout",
     "output_type": "stream",
     "text": [
      "1\n",
      "10\n",
      "20\n",
      "30\n",
      "40\n",
      "50\n",
      "60\n",
      "70\n",
      "80\n",
      "90\n",
      "100\n"
     ]
    }
   ],
   "source": [
    "for i in range(0,101,10):\n",
    "    if(i==0):\n",
    "         print(1)\n",
    "    else:\n",
    "        print(i)\n",
    "        "
   ]
  },
  {
   "cell_type": "code",
   "execution_count": 28,
   "id": "e44ee9a9-c656-4d3d-9345-fab980860a4f",
   "metadata": {},
   "outputs": [
    {
     "name": "stdout",
     "output_type": "stream",
     "text": [
      "5\n",
      "10\n",
      "15\n",
      "20\n",
      "25\n",
      "30\n",
      "35\n",
      "40\n",
      "45\n",
      "50\n"
     ]
    }
   ],
   "source": [
    "# print the value which is divisible by 5 \n",
    "\n",
    "for i in range(1,51):\n",
    "    \n",
    "    if i%5==0 :\n",
    "        print(i)"
   ]
  },
  {
   "cell_type": "code",
   "execution_count": 30,
   "id": "7e70e8ec-80bf-4b59-b52a-4aede218c085",
   "metadata": {},
   "outputs": [
    {
     "name": "stdout",
     "output_type": "stream",
     "text": [
      "1 2 3 4 6 7 8 9 11 12 13 14 16 17 18 19 21 22 23 24 26 27 28 29 31 32 33 34 36 37 38 39 41 42 43 44 46 47 48 49 "
     ]
    }
   ],
   "source": [
    "# print the value which is divisible by 5 i dont want that value \n",
    "for i in range(1,51):\n",
    "    \n",
    "    if i%5!=0 :\n",
    "        print(i,end=' ')"
   ]
  },
  {
   "cell_type": "markdown",
   "id": "e8fa2e44-ca1c-4fc7-8855-7ff87d34104f",
   "metadata": {},
   "source": [
    "# LETS DISCUSS ABOUT 3 KEYWORDS -- BREAK || CONTINUE || PASS\n",
    "* BREAK STATEMNT - if you apply break statment in a loop then it will end the loop\n",
    "# Pass = skips block of code( function, class etc)\n",
    "# Continue= skips 1 step/iteration during loop \n",
    "# Break= jumps out of the function/loop"
   ]
  },
  {
   "cell_type": "code",
   "execution_count": 31,
   "id": "91242c41-07dc-40fb-9657-7cf76a56fbac",
   "metadata": {},
   "outputs": [
    {
     "name": "stdin",
     "output_type": "stream",
     "text": [
      "my many chocolet do you want ? 5\n"
     ]
    },
    {
     "name": "stdout",
     "output_type": "stream",
     "text": [
      "chocolet\n",
      "chocolet\n",
      "chocolet\n",
      "chocolet\n",
      "chocolet\n"
     ]
    }
   ],
   "source": [
    "# write the code user ask chocklet from vendor machne write the basic code \n",
    "cho=int( input('my many chocolet do you want ?'))\n",
    "i=1\n",
    "while i<=cho:\n",
    "    print('chocolet')\n",
    "    i+=1"
   ]
  },
  {
   "cell_type": "markdown",
   "id": "320970ef-73f2-4d7e-8915-fee1d80eb257",
   "metadata": {},
   "source": [
    "- If the user says i need 10 choclet but vending machine dont have 10 choclate & machine has only 5    choclate so what you do on those scenario\n",
    "- We have 3 choice now  (eiter stop the transaction by you or you can give only 5 choclate) & may be\n",
    "   vendor machine display the result as we are out of the stock\n",
    "- Now lets try in the code "
   ]
  },
  {
   "cell_type": "code",
   "execution_count": 33,
   "id": "e7cb0694-f77d-4150-88ce-719caaa35b74",
   "metadata": {},
   "outputs": [
    {
     "name": "stdin",
     "output_type": "stream",
     "text": [
      "how many chocolet do you want ? 7\n"
     ]
    },
    {
     "name": "stdout",
     "output_type": "stream",
     "text": [
      "here is your chocolet\n",
      "here is your chocolet\n",
      "here is your chocolet\n",
      "here is your chocolet\n",
      "here is your chocolet\n",
      "bye for now\n"
     ]
    }
   ],
   "source": [
    "# the machine has only 5 choclet \n",
    "machine=5\n",
    "customer=int(input('how many chocolet do you want ?'))\n",
    "i=1\n",
    "while i<=customer:\n",
    "    if i>machine:\n",
    "        break\n",
    "    print('here is your chocolet')\n",
    "    i=i+1\n",
    "print('bye for now')"
   ]
  },
  {
   "cell_type": "code",
   "execution_count": 34,
   "id": "bb0b772d-4c36-4e1c-aa2e-722830ea51f4",
   "metadata": {},
   "outputs": [
    {
     "name": "stdin",
     "output_type": "stream",
     "text": [
      "how many chocolet do you want ? 7\n"
     ]
    },
    {
     "name": "stdout",
     "output_type": "stream",
     "text": [
      "here is your chocolet\n",
      "here is your chocolet\n",
      "here is your chocolet\n",
      "here is your chocolet\n",
      "here is your chocolet\n",
      "out os stock\n",
      "bye for now\n"
     ]
    }
   ],
   "source": [
    "machine=5\n",
    "customer=int(input('how many chocolet do you want ?'))\n",
    "i=1\n",
    "while i<=customer:\n",
    "    if i>machine:\n",
    "        print('out os stock')\n",
    "        break\n",
    "    print('here is your chocolet')\n",
    "    i=i+1\n",
    "print('bye for now')"
   ]
  },
  {
   "cell_type": "code",
   "execution_count": 36,
   "id": "9e006069-bdb1-4212-8176-715dcbf41440",
   "metadata": {},
   "outputs": [
    {
     "name": "stdout",
     "output_type": "stream",
     "text": [
      "1 2 4 7 8 11 13 14 16 17 19 22 23 26 28 29 31 32 34 37 38 41 43 44 46 47 49 end\n"
     ]
    }
   ],
   "source": [
    "for i in range(1,51):\n",
    "    \n",
    "    if i%3 == 0 or i%5 == 0:\n",
    "        continue\n",
    "    print(i ,end=' ')\n",
    "print('end')    "
   ]
  },
  {
   "cell_type": "code",
   "execution_count": 37,
   "id": "cf724d87-8958-449c-953b-efa20304764b",
   "metadata": {},
   "outputs": [
    {
     "name": "stdout",
     "output_type": "stream",
     "text": [
      "1 3 5 7 9 11 13 15 17 19 21 23 25 27 29 31 33 35 37 39 41 43 45 47 49 51 53 55 57 59 61 63 65 67 69 71 the end\n"
     ]
    }
   ],
   "source": [
    "# i dont want to print the values which are even numbers that means print only odd numbers\n",
    "for i in range(1,72):\n",
    "    if i%2==0:\n",
    "        continue\n",
    "    else:\n",
    "        print(i,end=' ')\n",
    "print('the end')"
   ]
  },
  {
   "cell_type": "markdown",
   "id": "776b4596-f4b0-4533-a127-99def5254505",
   "metadata": {},
   "source": [
    "### break statement"
   ]
  },
  {
   "cell_type": "code",
   "execution_count": 38,
   "id": "a0100aae-4cb0-40ff-8005-bcf1566d95a1",
   "metadata": {},
   "outputs": [
    {
     "name": "stdout",
     "output_type": "stream",
     "text": [
      "1\n",
      "2\n",
      "3\n",
      "4\n",
      "5\n",
      "6\n",
      "7\n"
     ]
    }
   ],
   "source": [
    "for i in range(1,11):\n",
    "    if  i==8:\n",
    "        break\n",
    "    print(i)\n",
    "        "
   ]
  },
  {
   "cell_type": "markdown",
   "id": "cf654886-2bf4-4b3a-821c-7e63198dbb7a",
   "metadata": {},
   "source": [
    "### continue statement\n",
    "* in continue the loop don't break but it exclude the mention nunber in the condition"
   ]
  },
  {
   "cell_type": "code",
   "execution_count": 39,
   "id": "31bf3521-bc00-44e3-9d6b-affb038993a1",
   "metadata": {},
   "outputs": [
    {
     "name": "stdout",
     "output_type": "stream",
     "text": [
      "1\n",
      "2\n",
      "3\n",
      "4\n",
      "5\n",
      "6\n",
      "7\n",
      "9\n",
      "10\n"
     ]
    }
   ],
   "source": [
    "for i in range(1,11):\n",
    "    if  i==8:\n",
    "        continue\n",
    "    print(i)"
   ]
  },
  {
   "cell_type": "code",
   "execution_count": 40,
   "id": "73244462-471f-4848-87f1-4ceb775851a3",
   "metadata": {},
   "outputs": [
    {
     "ename": "_IncompleteInputError",
     "evalue": "incomplete input (1334445784.py, line 1)",
     "output_type": "error",
     "traceback": [
      "\u001b[1;36m  Cell \u001b[1;32mIn[40], line 1\u001b[1;36m\u001b[0m\n\u001b[1;33m    for i in range(1,11):\u001b[0m\n\u001b[1;37m                         ^\u001b[0m\n\u001b[1;31m_IncompleteInputError\u001b[0m\u001b[1;31m:\u001b[0m incomplete input\n"
     ]
    }
   ],
   "source": [
    "for i in range(1,11):"
   ]
  },
  {
   "cell_type": "markdown",
   "id": "8489457d-3e00-4f3c-bbcb-9b99c9dad2f7",
   "metadata": {},
   "source": [
    "### pass statement"
   ]
  },
  {
   "cell_type": "code",
   "execution_count": 41,
   "id": "ee42fe4e-1314-4cd8-b08f-d425e8ac5413",
   "metadata": {},
   "outputs": [],
   "source": [
    "for i in range(1,11):\n",
    "    pass"
   ]
  },
  {
   "cell_type": "markdown",
   "id": "de5d5098-3eb4-44f1-920d-a2023764aad6",
   "metadata": {},
   "source": [
    "# for else\n",
    "- For|Else in python\n",
    "- In other language for else not supportable but in python it is supportable\n",
    "\n",
    "eg- lets print the number from 1- 20 & we dont want print number which is divisible by 5"
   ]
  },
  {
   "cell_type": "code",
   "execution_count": 42,
   "id": "972437f5-818b-4655-b895-0e7ed0eed35b",
   "metadata": {},
   "outputs": [],
   "source": [
    "nums = [7,14,18,21,23,27] #hear there is no number which is divisible by 5 we got output as blank\n",
    "\n",
    "for num in nums:\n",
    "    if num % 5 == 0:\n",
    "        print(num)  \n",
    "        break"
   ]
  },
  {
   "cell_type": "code",
   "execution_count": 43,
   "id": "c2e984d2-1375-4642-8b44-e00cd4f8be6d",
   "metadata": {},
   "outputs": [
    {
     "name": "stdout",
     "output_type": "stream",
     "text": [
      "20\n"
     ]
    }
   ],
   "source": [
    "nums = [12,14,18,21,20,25]\n",
    "\n",
    "for num in nums:\n",
    "    if num % 5 == 0:\n",
    "        print(num)  \n",
    "        break"
   ]
  },
  {
   "cell_type": "code",
   "execution_count": 44,
   "id": "7633ff10-0e34-40e0-8f35-65b0ee38a586",
   "metadata": {},
   "outputs": [
    {
     "name": "stdout",
     "output_type": "stream",
     "text": [
      "Number Not Found\n"
     ]
    }
   ],
   "source": [
    "nums = [7,14,18,21,23,27,29] #hear there is no number which is divisible by 5 we got output as blank\n",
    "\n",
    "for num in nums:\n",
    "    if num % 5 == 0:\n",
    "        print(num)  \n",
    "        break\n",
    "else:\n",
    "   print('Number Not Found') #every iteration it cheking condition "
   ]
  },
  {
   "cell_type": "code",
   "execution_count": 45,
   "id": "e756e140-4473-4dce-b067-538304d0175a",
   "metadata": {},
   "outputs": [
    {
     "name": "stdout",
     "output_type": "stream",
     "text": [
      "Number Not Found\n"
     ]
    }
   ],
   "source": [
    "nums = [7,14,18,21,23,27] #hear there is no number which is divisible by 5 we got output as blank\n",
    "\n",
    "for num in nums:\n",
    "    if num % 5 == 0:\n",
    "        print(num)  \n",
    "        break\n",
    "else:\n",
    "        print('Number Not Found')"
   ]
  },
  {
   "cell_type": "code",
   "execution_count": 52,
   "id": "d36194f4-d995-4358-b484-666a98c919ee",
   "metadata": {},
   "outputs": [],
   "source": [
    "import tkinter as tk\n",
    "from tkinter import messagebox\n",
    "\n",
    "# Function to be called when the button is clicked\n",
    "def on_button_click():\n",
    "    user_input = entry.get()\n",
    "    messagebox.showinfo(\"Information\", f\"You entered: {user_input}\")\n",
    "\n",
    "# Create the main application window\n",
    "root = tk.Tk()\n",
    "root.title(\"Simple Tkinter App\")\n",
    "\n",
    "# Create a label widget\n",
    "label = tk.Label(root, text=\"Enter something:\")\n",
    "label.pack(pady=10)\n",
    "\n",
    "# Create a text entry widget\n",
    "entry = tk.Entry(root, width=20)\n",
    "entry.pack(pady=10)\n",
    "\n",
    "# Create a button widget\n",
    "button = tk.Button(root, text=\"Submit\", command=on_button_click)\n",
    "button.pack(pady=10)\n",
    "\n",
    "# Run the application\n",
    "root.mainloop()\n"
   ]
  },
  {
   "cell_type": "code",
   "execution_count": null,
   "id": "f969ea5a-dc79-4adb-bd40-b0f5b5282edb",
   "metadata": {},
   "outputs": [],
   "source": []
  }
 ],
 "metadata": {
  "kernelspec": {
   "display_name": "Python 3 (ipykernel)",
   "language": "python",
   "name": "python3"
  },
  "language_info": {
   "codemirror_mode": {
    "name": "ipython",
    "version": 3
   },
   "file_extension": ".py",
   "mimetype": "text/x-python",
   "name": "python",
   "nbconvert_exporter": "python",
   "pygments_lexer": "ipython3",
   "version": "3.13.5"
  }
 },
 "nbformat": 4,
 "nbformat_minor": 5
}
